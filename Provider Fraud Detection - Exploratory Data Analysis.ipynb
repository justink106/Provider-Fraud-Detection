{
 "cells": [
  {
   "cell_type": "markdown",
   "id": "35f70994",
   "metadata": {},
   "source": [
    "## Provider Fraud Detection - Exploratory Data Analysis"
   ]
  },
  {
   "cell_type": "markdown",
   "id": "04c0464d",
   "metadata": {},
   "source": [
    "## The goal of this EDA portion will be to understand the data I produced in the Wrangling work, find issues, and decide on modeling & preprocessing choices."
   ]
  },
  {
   "cell_type": "code",
   "execution_count": null,
   "id": "05c9c6c4",
   "metadata": {},
   "outputs": [],
   "source": [
    "# importing needed modules\n",
    "\n",
    "import numpy as np\n",
    "import pandas as pd\n",
    "import matplotlib.pyplot as plt\n",
    "import seaborn as sns\n",
    "import scipy.stats as stats\n",
    "import statsmodels.api as sm\n",
    "from sklearn.metrics import roc_auc_score, average_precision_score\n",
    "from sklearn.feature_selection import mutual_info_classif\n",
    "from scipy.stats import ks_2samp\n",
    "\n",
    "\n",
    "\n",
    "from pathlib import Path\n",
    "import os\n",
    "from IPython.display import display\n",
    "\n",
    "# show plots inline\n",
    "%matplotlib inline"
   ]
  },
  {
   "cell_type": "code",
   "execution_count": null,
   "id": "df99e9fd",
   "metadata": {},
   "outputs": [
    {
     "name": "stdout",
     "output_type": "stream",
     "text": [
      "(191700, 29)\n"
     ]
    },
    {
     "data": {
      "application/vnd.microsoft.datawrangler.viewer.v0+json": {
       "columns": [
        {
         "name": "index",
         "rawType": "int64",
         "type": "integer"
        },
        {
         "name": "npi",
         "rawType": "object",
         "type": "string"
        },
        {
         "name": "state_abbr",
         "rawType": "object",
         "type": "string"
        },
        {
         "name": "zip5",
         "rawType": "object",
         "type": "string"
        },
        {
         "name": "entity_type_code",
         "rawType": "float64",
         "type": "float"
        },
        {
         "name": "primary_taxonomy",
         "rawType": "object",
         "type": "string"
        },
        {
         "name": "npi_age_days",
         "rawType": "float64",
         "type": "float"
        },
        {
         "name": "is_active",
         "rawType": "int32",
         "type": "integer"
        },
        {
         "name": "is_organization_subpart",
         "rawType": "float64",
         "type": "float"
        },
        {
         "name": "is_sole_proprietor",
         "rawType": "float64",
         "type": "float"
        },
        {
         "name": "total_services",
         "rawType": "float64",
         "type": "float"
        },
        {
         "name": "total_beneficiaries",
         "rawType": "float64",
         "type": "float"
        },
        {
         "name": "total_bene_day_services",
         "rawType": "float64",
         "type": "float"
        },
        {
         "name": "num_unique_procedures",
         "rawType": "float64",
         "type": "float"
        },
        {
         "name": "frac_drug_services",
         "rawType": "float64",
         "type": "float"
        },
        {
         "name": "frac_missing_zip",
         "rawType": "float64",
         "type": "float"
        },
        {
         "name": "w_avg_submitted_charge",
         "rawType": "float64",
         "type": "float"
        },
        {
         "name": "w_avg_allowed",
         "rawType": "float64",
         "type": "float"
        },
        {
         "name": "w_avg_payment",
         "rawType": "float64",
         "type": "float"
        },
        {
         "name": "w_var_submitted_charge",
         "rawType": "float64",
         "type": "float"
        },
        {
         "name": "w_stddev_submitted_charge",
         "rawType": "float64",
         "type": "float"
        },
        {
         "name": "charge_allowed_ratio",
         "rawType": "float64",
         "type": "float"
        },
        {
         "name": "payment_allowed_ratio",
         "rawType": "float64",
         "type": "float"
        },
        {
         "name": "services_per_bene",
         "rawType": "float64",
         "type": "float"
        },
        {
         "name": "bene_days_per_bene",
         "rawType": "float64",
         "type": "float"
        },
        {
         "name": "has_puf",
         "rawType": "int32",
         "type": "integer"
        },
        {
         "name": "ever_excluded_asof",
         "rawType": "float64",
         "type": "float"
        },
        {
         "name": "excluded_asof",
         "rawType": "float64",
         "type": "float"
        },
        {
         "name": "is_fraud",
         "rawType": "int32",
         "type": "integer"
        },
        {
         "name": "is_excluded_asof",
         "rawType": "int32",
         "type": "integer"
        }
       ],
       "ref": "ad081e63-6faf-4c4c-8f04-8cc3fe2f9164",
       "rows": [
        [
         "0",
         "1003003179",
         "NJ",
         "08823",
         "2.0",
         "332B00000X",
         "5934.0",
         "1",
         "0.0",
         null,
         "0.0",
         "0.0",
         "0.0",
         "0.0",
         "0.0",
         "0.0",
         "0.0",
         "0.0",
         "0.0",
         null,
         "0.0",
         "0.0",
         "0.0",
         "0.0",
         "0.0",
         "0",
         null,
         null,
         "0",
         "0"
        ],
        [
         "1",
         "1003019233",
         "IA",
         "52240",
         "2.0",
         "310400000X",
         "6052.0",
         "1",
         "0.0",
         null,
         "0.0",
         "0.0",
         "0.0",
         "0.0",
         "0.0",
         "0.0",
         "0.0",
         "0.0",
         "0.0",
         null,
         "0.0",
         "0.0",
         "0.0",
         "0.0",
         "0.0",
         "0",
         null,
         null,
         "0",
         "0"
        ],
        [
         "2",
         "1003019639",
         "NY",
         "12180",
         "1.0",
         "133V00000X",
         "6048.0",
         "1",
         null,
         "0.0",
         "0.0",
         "0.0",
         "0.0",
         "0.0",
         "0.0",
         "0.0",
         "0.0",
         "0.0",
         "0.0",
         null,
         "0.0",
         "0.0",
         "0.0",
         "0.0",
         "0.0",
         "0",
         null,
         null,
         "0",
         "0"
        ],
        [
         "3",
         "1003031550",
         "WI",
         "53154",
         "2.0",
         "251300000X",
         "6102.0",
         "1",
         "0.0",
         null,
         "0.0",
         "0.0",
         "0.0",
         "0.0",
         "0.0",
         "0.0",
         "0.0",
         "0.0",
         "0.0",
         null,
         "0.0",
         "0.0",
         "0.0",
         "0.0",
         "0.0",
         "0",
         null,
         null,
         "0",
         "0"
        ],
        [
         "4",
         "1003033556",
         "CA",
         "90061",
         "2.0",
         "1223G0001X",
         "6100.0",
         "1",
         "0.0",
         null,
         "0.0",
         "0.0",
         "0.0",
         "0.0",
         "0.0",
         "0.0",
         "0.0",
         "0.0",
         "0.0",
         null,
         "0.0",
         "0.0",
         "0.0",
         "0.0",
         "0.0",
         "0",
         null,
         null,
         "0",
         "0"
        ]
       ],
       "shape": {
        "columns": 29,
        "rows": 5
       }
      },
      "text/html": [
       "<div>\n",
       "<style scoped>\n",
       "    .dataframe tbody tr th:only-of-type {\n",
       "        vertical-align: middle;\n",
       "    }\n",
       "\n",
       "    .dataframe tbody tr th {\n",
       "        vertical-align: top;\n",
       "    }\n",
       "\n",
       "    .dataframe thead th {\n",
       "        text-align: right;\n",
       "    }\n",
       "</style>\n",
       "<table border=\"1\" class=\"dataframe\">\n",
       "  <thead>\n",
       "    <tr style=\"text-align: right;\">\n",
       "      <th></th>\n",
       "      <th>npi</th>\n",
       "      <th>state_abbr</th>\n",
       "      <th>zip5</th>\n",
       "      <th>entity_type_code</th>\n",
       "      <th>primary_taxonomy</th>\n",
       "      <th>npi_age_days</th>\n",
       "      <th>is_active</th>\n",
       "      <th>is_organization_subpart</th>\n",
       "      <th>is_sole_proprietor</th>\n",
       "      <th>total_services</th>\n",
       "      <th>...</th>\n",
       "      <th>w_stddev_submitted_charge</th>\n",
       "      <th>charge_allowed_ratio</th>\n",
       "      <th>payment_allowed_ratio</th>\n",
       "      <th>services_per_bene</th>\n",
       "      <th>bene_days_per_bene</th>\n",
       "      <th>has_puf</th>\n",
       "      <th>ever_excluded_asof</th>\n",
       "      <th>excluded_asof</th>\n",
       "      <th>is_fraud</th>\n",
       "      <th>is_excluded_asof</th>\n",
       "    </tr>\n",
       "  </thead>\n",
       "  <tbody>\n",
       "    <tr>\n",
       "      <th>0</th>\n",
       "      <td>1003003179</td>\n",
       "      <td>NJ</td>\n",
       "      <td>08823</td>\n",
       "      <td>2.0</td>\n",
       "      <td>332B00000X</td>\n",
       "      <td>5934.0</td>\n",
       "      <td>1</td>\n",
       "      <td>0.0</td>\n",
       "      <td>NaN</td>\n",
       "      <td>0.0</td>\n",
       "      <td>...</td>\n",
       "      <td>0.0</td>\n",
       "      <td>0.0</td>\n",
       "      <td>0.0</td>\n",
       "      <td>0.0</td>\n",
       "      <td>0.0</td>\n",
       "      <td>0</td>\n",
       "      <td>NaN</td>\n",
       "      <td>NaN</td>\n",
       "      <td>0</td>\n",
       "      <td>0</td>\n",
       "    </tr>\n",
       "    <tr>\n",
       "      <th>1</th>\n",
       "      <td>1003019233</td>\n",
       "      <td>IA</td>\n",
       "      <td>52240</td>\n",
       "      <td>2.0</td>\n",
       "      <td>310400000X</td>\n",
       "      <td>6052.0</td>\n",
       "      <td>1</td>\n",
       "      <td>0.0</td>\n",
       "      <td>NaN</td>\n",
       "      <td>0.0</td>\n",
       "      <td>...</td>\n",
       "      <td>0.0</td>\n",
       "      <td>0.0</td>\n",
       "      <td>0.0</td>\n",
       "      <td>0.0</td>\n",
       "      <td>0.0</td>\n",
       "      <td>0</td>\n",
       "      <td>NaN</td>\n",
       "      <td>NaN</td>\n",
       "      <td>0</td>\n",
       "      <td>0</td>\n",
       "    </tr>\n",
       "    <tr>\n",
       "      <th>2</th>\n",
       "      <td>1003019639</td>\n",
       "      <td>NY</td>\n",
       "      <td>12180</td>\n",
       "      <td>1.0</td>\n",
       "      <td>133V00000X</td>\n",
       "      <td>6048.0</td>\n",
       "      <td>1</td>\n",
       "      <td>NaN</td>\n",
       "      <td>0.0</td>\n",
       "      <td>0.0</td>\n",
       "      <td>...</td>\n",
       "      <td>0.0</td>\n",
       "      <td>0.0</td>\n",
       "      <td>0.0</td>\n",
       "      <td>0.0</td>\n",
       "      <td>0.0</td>\n",
       "      <td>0</td>\n",
       "      <td>NaN</td>\n",
       "      <td>NaN</td>\n",
       "      <td>0</td>\n",
       "      <td>0</td>\n",
       "    </tr>\n",
       "    <tr>\n",
       "      <th>3</th>\n",
       "      <td>1003031550</td>\n",
       "      <td>WI</td>\n",
       "      <td>53154</td>\n",
       "      <td>2.0</td>\n",
       "      <td>251300000X</td>\n",
       "      <td>6102.0</td>\n",
       "      <td>1</td>\n",
       "      <td>0.0</td>\n",
       "      <td>NaN</td>\n",
       "      <td>0.0</td>\n",
       "      <td>...</td>\n",
       "      <td>0.0</td>\n",
       "      <td>0.0</td>\n",
       "      <td>0.0</td>\n",
       "      <td>0.0</td>\n",
       "      <td>0.0</td>\n",
       "      <td>0</td>\n",
       "      <td>NaN</td>\n",
       "      <td>NaN</td>\n",
       "      <td>0</td>\n",
       "      <td>0</td>\n",
       "    </tr>\n",
       "    <tr>\n",
       "      <th>4</th>\n",
       "      <td>1003033556</td>\n",
       "      <td>CA</td>\n",
       "      <td>90061</td>\n",
       "      <td>2.0</td>\n",
       "      <td>1223G0001X</td>\n",
       "      <td>6100.0</td>\n",
       "      <td>1</td>\n",
       "      <td>0.0</td>\n",
       "      <td>NaN</td>\n",
       "      <td>0.0</td>\n",
       "      <td>...</td>\n",
       "      <td>0.0</td>\n",
       "      <td>0.0</td>\n",
       "      <td>0.0</td>\n",
       "      <td>0.0</td>\n",
       "      <td>0.0</td>\n",
       "      <td>0</td>\n",
       "      <td>NaN</td>\n",
       "      <td>NaN</td>\n",
       "      <td>0</td>\n",
       "      <td>0</td>\n",
       "    </tr>\n",
       "  </tbody>\n",
       "</table>\n",
       "<p>5 rows × 29 columns</p>\n",
       "</div>"
      ],
      "text/plain": [
       "          npi state_abbr   zip5  entity_type_code primary_taxonomy  \\\n",
       "0  1003003179         NJ  08823               2.0       332B00000X   \n",
       "1  1003019233         IA  52240               2.0       310400000X   \n",
       "2  1003019639         NY  12180               1.0       133V00000X   \n",
       "3  1003031550         WI  53154               2.0       251300000X   \n",
       "4  1003033556         CA  90061               2.0       1223G0001X   \n",
       "\n",
       "   npi_age_days  is_active  is_organization_subpart  is_sole_proprietor  \\\n",
       "0        5934.0          1                      0.0                 NaN   \n",
       "1        6052.0          1                      0.0                 NaN   \n",
       "2        6048.0          1                      NaN                 0.0   \n",
       "3        6102.0          1                      0.0                 NaN   \n",
       "4        6100.0          1                      0.0                 NaN   \n",
       "\n",
       "   total_services  ...  w_stddev_submitted_charge  charge_allowed_ratio  \\\n",
       "0             0.0  ...                        0.0                   0.0   \n",
       "1             0.0  ...                        0.0                   0.0   \n",
       "2             0.0  ...                        0.0                   0.0   \n",
       "3             0.0  ...                        0.0                   0.0   \n",
       "4             0.0  ...                        0.0                   0.0   \n",
       "\n",
       "   payment_allowed_ratio  services_per_bene  bene_days_per_bene  has_puf  \\\n",
       "0                    0.0                0.0                 0.0        0   \n",
       "1                    0.0                0.0                 0.0        0   \n",
       "2                    0.0                0.0                 0.0        0   \n",
       "3                    0.0                0.0                 0.0        0   \n",
       "4                    0.0                0.0                 0.0        0   \n",
       "\n",
       "   ever_excluded_asof  excluded_asof  is_fraud  is_excluded_asof  \n",
       "0                 NaN            NaN         0                 0  \n",
       "1                 NaN            NaN         0                 0  \n",
       "2                 NaN            NaN         0                 0  \n",
       "3                 NaN            NaN         0                 0  \n",
       "4                 NaN            NaN         0                 0  \n",
       "\n",
       "[5 rows x 29 columns]"
      ]
     },
     "execution_count": 2,
     "metadata": {},
     "output_type": "execute_result"
    }
   ],
   "source": [
    "AS_OF_STR = \"2023-12-31\"\n",
    "PARQUET_DIR = Path(\"curated/training\") / f\"providers_nn_asof_{AS_OF_STR}.parquet\"\n",
    "\n",
    "\n",
    "# loading the final dataframe from the data wrangling step\n",
    "df = pd.read_parquet(PARQUET_DIR, engine=\"pyarrow\")\n",
    "print(df.shape)\n",
    "df.head()"
   ]
  },
  {
   "cell_type": "code",
   "execution_count": 3,
   "id": "c8b78ad8",
   "metadata": {},
   "outputs": [
    {
     "name": "stdout",
     "output_type": "stream",
     "text": [
      "<class 'pandas.core.frame.DataFrame'>\n",
      "RangeIndex: 191700 entries, 0 to 191699\n",
      "Data columns (total 29 columns):\n",
      " #   Column                     Non-Null Count   Dtype  \n",
      "---  ------                     --------------   -----  \n",
      " 0   npi                        191700 non-null  object \n",
      " 1   state_abbr                 183741 non-null  object \n",
      " 2   zip5                       183829 non-null  object \n",
      " 3   entity_type_code           183830 non-null  float64\n",
      " 4   primary_taxonomy           183830 non-null  object \n",
      " 5   npi_age_days               183830 non-null  float64\n",
      " 6   is_active                  191700 non-null  int32  \n",
      " 7   is_organization_subpart    38217 non-null   float64\n",
      " 8   is_sole_proprietor         143315 non-null  float64\n",
      " 9   total_services             191700 non-null  float64\n",
      " 10  total_beneficiaries        191700 non-null  float64\n",
      " 11  total_bene_day_services    191700 non-null  float64\n",
      " 12  num_unique_procedures      191700 non-null  float64\n",
      " 13  frac_drug_services         191700 non-null  float64\n",
      " 14  frac_missing_zip           191700 non-null  float64\n",
      " 15  w_avg_submitted_charge     191700 non-null  float64\n",
      " 16  w_avg_allowed              191700 non-null  float64\n",
      " 17  w_avg_payment              191700 non-null  float64\n",
      " 18  w_var_submitted_charge     26772 non-null   float64\n",
      " 19  w_stddev_submitted_charge  191700 non-null  float64\n",
      " 20  charge_allowed_ratio       191700 non-null  float64\n",
      " 21  payment_allowed_ratio      191700 non-null  float64\n",
      " 22  services_per_bene          191700 non-null  float64\n",
      " 23  bene_days_per_bene         191700 non-null  float64\n",
      " 24  has_puf                    191700 non-null  int32  \n",
      " 25  ever_excluded_asof         6711 non-null    float64\n",
      " 26  excluded_asof              6711 non-null    float64\n",
      " 27  is_fraud                   191700 non-null  int32  \n",
      " 28  is_excluded_asof           191700 non-null  int32  \n",
      "dtypes: float64(21), int32(4), object(4)\n",
      "memory usage: 39.5+ MB\n"
     ]
    }
   ],
   "source": [
    "# exploring the dataset\n",
    "\n",
    "df.info()"
   ]
  },
  {
   "cell_type": "code",
   "execution_count": 4,
   "id": "9f03acea",
   "metadata": {},
   "outputs": [
    {
     "data": {
      "application/vnd.microsoft.datawrangler.viewer.v0+json": {
       "columns": [
        {
         "name": "index",
         "rawType": "object",
         "type": "string"
        },
        {
         "name": "entity_type_code",
         "rawType": "float64",
         "type": "float"
        },
        {
         "name": "npi_age_days",
         "rawType": "float64",
         "type": "float"
        },
        {
         "name": "is_active",
         "rawType": "float64",
         "type": "float"
        },
        {
         "name": "is_organization_subpart",
         "rawType": "float64",
         "type": "float"
        },
        {
         "name": "is_sole_proprietor",
         "rawType": "float64",
         "type": "float"
        },
        {
         "name": "total_services",
         "rawType": "float64",
         "type": "float"
        },
        {
         "name": "total_beneficiaries",
         "rawType": "float64",
         "type": "float"
        },
        {
         "name": "total_bene_day_services",
         "rawType": "float64",
         "type": "float"
        },
        {
         "name": "num_unique_procedures",
         "rawType": "float64",
         "type": "float"
        },
        {
         "name": "frac_drug_services",
         "rawType": "float64",
         "type": "float"
        },
        {
         "name": "frac_missing_zip",
         "rawType": "float64",
         "type": "float"
        },
        {
         "name": "w_avg_submitted_charge",
         "rawType": "float64",
         "type": "float"
        },
        {
         "name": "w_avg_allowed",
         "rawType": "float64",
         "type": "float"
        },
        {
         "name": "w_avg_payment",
         "rawType": "float64",
         "type": "float"
        },
        {
         "name": "w_var_submitted_charge",
         "rawType": "float64",
         "type": "float"
        },
        {
         "name": "w_stddev_submitted_charge",
         "rawType": "float64",
         "type": "float"
        },
        {
         "name": "charge_allowed_ratio",
         "rawType": "float64",
         "type": "float"
        },
        {
         "name": "payment_allowed_ratio",
         "rawType": "float64",
         "type": "float"
        },
        {
         "name": "services_per_bene",
         "rawType": "float64",
         "type": "float"
        },
        {
         "name": "bene_days_per_bene",
         "rawType": "float64",
         "type": "float"
        },
        {
         "name": "has_puf",
         "rawType": "float64",
         "type": "float"
        },
        {
         "name": "ever_excluded_asof",
         "rawType": "float64",
         "type": "float"
        },
        {
         "name": "excluded_asof",
         "rawType": "float64",
         "type": "float"
        },
        {
         "name": "is_fraud",
         "rawType": "float64",
         "type": "float"
        },
        {
         "name": "is_excluded_asof",
         "rawType": "float64",
         "type": "float"
        }
       ],
       "ref": "7d4548be-fa99-4955-9859-dde3e55a4213",
       "rows": [
        [
         "count",
         "183830.0",
         "183830.0",
         "191700.0",
         "38217.0",
         "143315.0",
         "191700.0",
         "191700.0",
         "191700.0",
         "191700.0",
         "191700.0",
         "191700.0",
         "191700.0",
         "191700.0",
         "191700.0",
         "26772.0",
         "191700.0",
         "191700.0",
         "191700.0",
         "191700.0",
         "191700.0",
         "191700.0",
         "6711.0",
         "6711.0",
         "191700.0",
         "191700.0"
        ],
        [
         "mean",
         "1.2078931621606919",
         "3698.0100636457596",
         "0.9589462702138758",
         "0.08231938666038674",
         "0.3350102920140948",
         "283.047315075639",
         "85.58404799165362",
         "139.97105372978612",
         "1.107110067814293",
         "0.005294266641104331",
         "0.0",
         "51.145414898356925",
         "12.73669325341719",
         "9.752021761917844",
         "394753.29040462454",
         "27.153017391745742",
         "0.509726136472766",
         "0.10694512366908862",
         "0.4508546813673209",
         "0.31117879688557565",
         "0.13965571205007823",
         "1.0",
         "1.0",
         "0.03500782472613458",
         "0.03500782472613458"
        ],
        [
         "std",
         "0.4058010486494177",
         "2230.3504196960635",
         "0.19841503577574685",
         "0.27485429226277597",
         "0.4719957105069307",
         "6053.470671072956",
         "1273.9681832999663",
         "2190.487061361574",
         "4.663070072368297",
         "0.040100573384162064",
         "0.0",
         "329.3394043091181",
         "61.15632031107025",
         "48.334363552395246",
         "10246284.296816207",
         "233.22210281189405",
         "1.9482403873151561",
         "0.26710748652936855",
         "3.194090007299022",
         "1.3475304541574542",
         "0.3466303808318292",
         "0.0",
         "0.0",
         "0.18380003579937843",
         "0.18380003579937843"
        ],
        [
         "min",
         "1.0",
         "2.0",
         "0.0",
         "0.0",
         "0.0",
         "0.0",
         "0.0",
         "0.0",
         "0.0",
         "0.0",
         "0.0",
         "0.0",
         "0.0",
         "0.0",
         "-1.862645149230957e-09",
         "0.0",
         "0.0",
         "0.0",
         "0.0",
         "0.0",
         "0.0",
         "1.0",
         "1.0",
         "0.0",
         "0.0"
        ],
        [
         "25%",
         "1.0",
         "1598.0",
         "1.0",
         "0.0",
         "0.0",
         "0.0",
         "0.0",
         "0.0",
         "0.0",
         "0.0",
         "0.0",
         "0.0",
         "0.0",
         "0.0",
         "853.1872815628171",
         "0.0",
         "0.0",
         "0.0",
         "0.0",
         "0.0",
         "0.0",
         "1.0",
         "1.0",
         "0.0",
         "0.0"
        ],
        [
         "50%",
         "1.0",
         "3796.0",
         "1.0",
         "0.0",
         "0.0",
         "0.0",
         "0.0",
         "0.0",
         "0.0",
         "0.0",
         "0.0",
         "0.0",
         "0.0",
         "0.0",
         "5669.366850781869",
         "0.0",
         "0.0",
         "0.0",
         "0.0",
         "0.0",
         "0.0",
         "1.0",
         "1.0",
         "0.0",
         "0.0"
        ],
        [
         "75%",
         "1.0",
         "6095.0",
         "1.0",
         "0.0",
         "1.0",
         "0.0",
         "0.0",
         "0.0",
         "0.0",
         "0.0",
         "0.0",
         "0.0",
         "0.0",
         "0.0",
         "26415.24018193876",
         "0.0",
         "0.0",
         "0.0",
         "0.0",
         "0.0",
         "0.0",
         "1.0",
         "1.0",
         "0.0",
         "0.0"
        ],
        [
         "max",
         "2.0",
         "6796.0",
         "1.0",
         "1.0",
         "1.0",
         "1547347.1",
         "391196.0",
         "587072.0",
         "425.0",
         "1.0",
         "0.0",
         "41570.37462260472",
         "9807.947619047618",
         "7814.465238095238",
         "1151361390.3737507",
         "33931.716584543006",
         "160.85482851726317",
         "1.0",
         "439.0994623655914",
         "71.5",
         "1.0",
         "1.0",
         "1.0",
         "1.0",
         "1.0"
        ]
       ],
       "shape": {
        "columns": 25,
        "rows": 8
       }
      },
      "text/html": [
       "<div>\n",
       "<style scoped>\n",
       "    .dataframe tbody tr th:only-of-type {\n",
       "        vertical-align: middle;\n",
       "    }\n",
       "\n",
       "    .dataframe tbody tr th {\n",
       "        vertical-align: top;\n",
       "    }\n",
       "\n",
       "    .dataframe thead th {\n",
       "        text-align: right;\n",
       "    }\n",
       "</style>\n",
       "<table border=\"1\" class=\"dataframe\">\n",
       "  <thead>\n",
       "    <tr style=\"text-align: right;\">\n",
       "      <th></th>\n",
       "      <th>entity_type_code</th>\n",
       "      <th>npi_age_days</th>\n",
       "      <th>is_active</th>\n",
       "      <th>is_organization_subpart</th>\n",
       "      <th>is_sole_proprietor</th>\n",
       "      <th>total_services</th>\n",
       "      <th>total_beneficiaries</th>\n",
       "      <th>total_bene_day_services</th>\n",
       "      <th>num_unique_procedures</th>\n",
       "      <th>frac_drug_services</th>\n",
       "      <th>...</th>\n",
       "      <th>w_stddev_submitted_charge</th>\n",
       "      <th>charge_allowed_ratio</th>\n",
       "      <th>payment_allowed_ratio</th>\n",
       "      <th>services_per_bene</th>\n",
       "      <th>bene_days_per_bene</th>\n",
       "      <th>has_puf</th>\n",
       "      <th>ever_excluded_asof</th>\n",
       "      <th>excluded_asof</th>\n",
       "      <th>is_fraud</th>\n",
       "      <th>is_excluded_asof</th>\n",
       "    </tr>\n",
       "  </thead>\n",
       "  <tbody>\n",
       "    <tr>\n",
       "      <th>count</th>\n",
       "      <td>183830.000000</td>\n",
       "      <td>183830.000000</td>\n",
       "      <td>191700.000000</td>\n",
       "      <td>38217.000000</td>\n",
       "      <td>143315.000000</td>\n",
       "      <td>1.917000e+05</td>\n",
       "      <td>191700.000000</td>\n",
       "      <td>191700.000000</td>\n",
       "      <td>191700.00000</td>\n",
       "      <td>191700.000000</td>\n",
       "      <td>...</td>\n",
       "      <td>191700.000000</td>\n",
       "      <td>191700.000000</td>\n",
       "      <td>191700.000000</td>\n",
       "      <td>191700.000000</td>\n",
       "      <td>191700.000000</td>\n",
       "      <td>191700.000000</td>\n",
       "      <td>6711.0</td>\n",
       "      <td>6711.0</td>\n",
       "      <td>191700.000000</td>\n",
       "      <td>191700.000000</td>\n",
       "    </tr>\n",
       "    <tr>\n",
       "      <th>mean</th>\n",
       "      <td>1.207893</td>\n",
       "      <td>3698.010064</td>\n",
       "      <td>0.958946</td>\n",
       "      <td>0.082319</td>\n",
       "      <td>0.335010</td>\n",
       "      <td>2.830473e+02</td>\n",
       "      <td>85.584048</td>\n",
       "      <td>139.971054</td>\n",
       "      <td>1.10711</td>\n",
       "      <td>0.005294</td>\n",
       "      <td>...</td>\n",
       "      <td>27.153017</td>\n",
       "      <td>0.509726</td>\n",
       "      <td>0.106945</td>\n",
       "      <td>0.450855</td>\n",
       "      <td>0.311179</td>\n",
       "      <td>0.139656</td>\n",
       "      <td>1.0</td>\n",
       "      <td>1.0</td>\n",
       "      <td>0.035008</td>\n",
       "      <td>0.035008</td>\n",
       "    </tr>\n",
       "    <tr>\n",
       "      <th>std</th>\n",
       "      <td>0.405801</td>\n",
       "      <td>2230.350420</td>\n",
       "      <td>0.198415</td>\n",
       "      <td>0.274854</td>\n",
       "      <td>0.471996</td>\n",
       "      <td>6.053471e+03</td>\n",
       "      <td>1273.968183</td>\n",
       "      <td>2190.487061</td>\n",
       "      <td>4.66307</td>\n",
       "      <td>0.040101</td>\n",
       "      <td>...</td>\n",
       "      <td>233.222103</td>\n",
       "      <td>1.948240</td>\n",
       "      <td>0.267107</td>\n",
       "      <td>3.194090</td>\n",
       "      <td>1.347530</td>\n",
       "      <td>0.346630</td>\n",
       "      <td>0.0</td>\n",
       "      <td>0.0</td>\n",
       "      <td>0.183800</td>\n",
       "      <td>0.183800</td>\n",
       "    </tr>\n",
       "    <tr>\n",
       "      <th>min</th>\n",
       "      <td>1.000000</td>\n",
       "      <td>2.000000</td>\n",
       "      <td>0.000000</td>\n",
       "      <td>0.000000</td>\n",
       "      <td>0.000000</td>\n",
       "      <td>0.000000e+00</td>\n",
       "      <td>0.000000</td>\n",
       "      <td>0.000000</td>\n",
       "      <td>0.00000</td>\n",
       "      <td>0.000000</td>\n",
       "      <td>...</td>\n",
       "      <td>0.000000</td>\n",
       "      <td>0.000000</td>\n",
       "      <td>0.000000</td>\n",
       "      <td>0.000000</td>\n",
       "      <td>0.000000</td>\n",
       "      <td>0.000000</td>\n",
       "      <td>1.0</td>\n",
       "      <td>1.0</td>\n",
       "      <td>0.000000</td>\n",
       "      <td>0.000000</td>\n",
       "    </tr>\n",
       "    <tr>\n",
       "      <th>25%</th>\n",
       "      <td>1.000000</td>\n",
       "      <td>1598.000000</td>\n",
       "      <td>1.000000</td>\n",
       "      <td>0.000000</td>\n",
       "      <td>0.000000</td>\n",
       "      <td>0.000000e+00</td>\n",
       "      <td>0.000000</td>\n",
       "      <td>0.000000</td>\n",
       "      <td>0.00000</td>\n",
       "      <td>0.000000</td>\n",
       "      <td>...</td>\n",
       "      <td>0.000000</td>\n",
       "      <td>0.000000</td>\n",
       "      <td>0.000000</td>\n",
       "      <td>0.000000</td>\n",
       "      <td>0.000000</td>\n",
       "      <td>0.000000</td>\n",
       "      <td>1.0</td>\n",
       "      <td>1.0</td>\n",
       "      <td>0.000000</td>\n",
       "      <td>0.000000</td>\n",
       "    </tr>\n",
       "    <tr>\n",
       "      <th>50%</th>\n",
       "      <td>1.000000</td>\n",
       "      <td>3796.000000</td>\n",
       "      <td>1.000000</td>\n",
       "      <td>0.000000</td>\n",
       "      <td>0.000000</td>\n",
       "      <td>0.000000e+00</td>\n",
       "      <td>0.000000</td>\n",
       "      <td>0.000000</td>\n",
       "      <td>0.00000</td>\n",
       "      <td>0.000000</td>\n",
       "      <td>...</td>\n",
       "      <td>0.000000</td>\n",
       "      <td>0.000000</td>\n",
       "      <td>0.000000</td>\n",
       "      <td>0.000000</td>\n",
       "      <td>0.000000</td>\n",
       "      <td>0.000000</td>\n",
       "      <td>1.0</td>\n",
       "      <td>1.0</td>\n",
       "      <td>0.000000</td>\n",
       "      <td>0.000000</td>\n",
       "    </tr>\n",
       "    <tr>\n",
       "      <th>75%</th>\n",
       "      <td>1.000000</td>\n",
       "      <td>6095.000000</td>\n",
       "      <td>1.000000</td>\n",
       "      <td>0.000000</td>\n",
       "      <td>1.000000</td>\n",
       "      <td>0.000000e+00</td>\n",
       "      <td>0.000000</td>\n",
       "      <td>0.000000</td>\n",
       "      <td>0.00000</td>\n",
       "      <td>0.000000</td>\n",
       "      <td>...</td>\n",
       "      <td>0.000000</td>\n",
       "      <td>0.000000</td>\n",
       "      <td>0.000000</td>\n",
       "      <td>0.000000</td>\n",
       "      <td>0.000000</td>\n",
       "      <td>0.000000</td>\n",
       "      <td>1.0</td>\n",
       "      <td>1.0</td>\n",
       "      <td>0.000000</td>\n",
       "      <td>0.000000</td>\n",
       "    </tr>\n",
       "    <tr>\n",
       "      <th>max</th>\n",
       "      <td>2.000000</td>\n",
       "      <td>6796.000000</td>\n",
       "      <td>1.000000</td>\n",
       "      <td>1.000000</td>\n",
       "      <td>1.000000</td>\n",
       "      <td>1.547347e+06</td>\n",
       "      <td>391196.000000</td>\n",
       "      <td>587072.000000</td>\n",
       "      <td>425.00000</td>\n",
       "      <td>1.000000</td>\n",
       "      <td>...</td>\n",
       "      <td>33931.716585</td>\n",
       "      <td>160.854829</td>\n",
       "      <td>1.000000</td>\n",
       "      <td>439.099462</td>\n",
       "      <td>71.500000</td>\n",
       "      <td>1.000000</td>\n",
       "      <td>1.0</td>\n",
       "      <td>1.0</td>\n",
       "      <td>1.000000</td>\n",
       "      <td>1.000000</td>\n",
       "    </tr>\n",
       "  </tbody>\n",
       "</table>\n",
       "<p>8 rows × 25 columns</p>\n",
       "</div>"
      ],
      "text/plain": [
       "       entity_type_code   npi_age_days      is_active  \\\n",
       "count     183830.000000  183830.000000  191700.000000   \n",
       "mean           1.207893    3698.010064       0.958946   \n",
       "std            0.405801    2230.350420       0.198415   \n",
       "min            1.000000       2.000000       0.000000   \n",
       "25%            1.000000    1598.000000       1.000000   \n",
       "50%            1.000000    3796.000000       1.000000   \n",
       "75%            1.000000    6095.000000       1.000000   \n",
       "max            2.000000    6796.000000       1.000000   \n",
       "\n",
       "       is_organization_subpart  is_sole_proprietor  total_services  \\\n",
       "count             38217.000000       143315.000000    1.917000e+05   \n",
       "mean                  0.082319            0.335010    2.830473e+02   \n",
       "std                   0.274854            0.471996    6.053471e+03   \n",
       "min                   0.000000            0.000000    0.000000e+00   \n",
       "25%                   0.000000            0.000000    0.000000e+00   \n",
       "50%                   0.000000            0.000000    0.000000e+00   \n",
       "75%                   0.000000            1.000000    0.000000e+00   \n",
       "max                   1.000000            1.000000    1.547347e+06   \n",
       "\n",
       "       total_beneficiaries  total_bene_day_services  num_unique_procedures  \\\n",
       "count        191700.000000            191700.000000           191700.00000   \n",
       "mean             85.584048               139.971054                1.10711   \n",
       "std            1273.968183              2190.487061                4.66307   \n",
       "min               0.000000                 0.000000                0.00000   \n",
       "25%               0.000000                 0.000000                0.00000   \n",
       "50%               0.000000                 0.000000                0.00000   \n",
       "75%               0.000000                 0.000000                0.00000   \n",
       "max          391196.000000            587072.000000              425.00000   \n",
       "\n",
       "       frac_drug_services  ...  w_stddev_submitted_charge  \\\n",
       "count       191700.000000  ...              191700.000000   \n",
       "mean             0.005294  ...                  27.153017   \n",
       "std              0.040101  ...                 233.222103   \n",
       "min              0.000000  ...                   0.000000   \n",
       "25%              0.000000  ...                   0.000000   \n",
       "50%              0.000000  ...                   0.000000   \n",
       "75%              0.000000  ...                   0.000000   \n",
       "max              1.000000  ...               33931.716585   \n",
       "\n",
       "       charge_allowed_ratio  payment_allowed_ratio  services_per_bene  \\\n",
       "count         191700.000000          191700.000000      191700.000000   \n",
       "mean               0.509726               0.106945           0.450855   \n",
       "std                1.948240               0.267107           3.194090   \n",
       "min                0.000000               0.000000           0.000000   \n",
       "25%                0.000000               0.000000           0.000000   \n",
       "50%                0.000000               0.000000           0.000000   \n",
       "75%                0.000000               0.000000           0.000000   \n",
       "max              160.854829               1.000000         439.099462   \n",
       "\n",
       "       bene_days_per_bene        has_puf  ever_excluded_asof  excluded_asof  \\\n",
       "count       191700.000000  191700.000000              6711.0         6711.0   \n",
       "mean             0.311179       0.139656                 1.0            1.0   \n",
       "std              1.347530       0.346630                 0.0            0.0   \n",
       "min              0.000000       0.000000                 1.0            1.0   \n",
       "25%              0.000000       0.000000                 1.0            1.0   \n",
       "50%              0.000000       0.000000                 1.0            1.0   \n",
       "75%              0.000000       0.000000                 1.0            1.0   \n",
       "max             71.500000       1.000000                 1.0            1.0   \n",
       "\n",
       "            is_fraud  is_excluded_asof  \n",
       "count  191700.000000     191700.000000  \n",
       "mean        0.035008          0.035008  \n",
       "std         0.183800          0.183800  \n",
       "min         0.000000          0.000000  \n",
       "25%         0.000000          0.000000  \n",
       "50%         0.000000          0.000000  \n",
       "75%         0.000000          0.000000  \n",
       "max         1.000000          1.000000  \n",
       "\n",
       "[8 rows x 25 columns]"
      ]
     },
     "execution_count": 4,
     "metadata": {},
     "output_type": "execute_result"
    }
   ],
   "source": [
    "# exploring some basic statistics\n",
    "df.describe()"
   ]
  },
  {
   "cell_type": "code",
   "execution_count": 5,
   "id": "a2f7392e",
   "metadata": {},
   "outputs": [
    {
     "data": {
      "text/plain": [
       "Index(['npi', 'state_abbr', 'zip5', 'entity_type_code', 'primary_taxonomy',\n",
       "       'npi_age_days', 'is_active', 'is_organization_subpart',\n",
       "       'is_sole_proprietor', 'total_services', 'total_beneficiaries',\n",
       "       'total_bene_day_services', 'num_unique_procedures',\n",
       "       'frac_drug_services', 'frac_missing_zip', 'w_avg_submitted_charge',\n",
       "       'w_avg_allowed', 'w_avg_payment', 'w_var_submitted_charge',\n",
       "       'w_stddev_submitted_charge', 'charge_allowed_ratio',\n",
       "       'payment_allowed_ratio', 'services_per_bene', 'bene_days_per_bene',\n",
       "       'has_puf', 'ever_excluded_asof', 'excluded_asof', 'is_fraud',\n",
       "       'is_excluded_asof'],\n",
       "      dtype='object')"
      ]
     },
     "execution_count": 5,
     "metadata": {},
     "output_type": "execute_result"
    }
   ],
   "source": [
    "# exploring the columns\n",
    "df.columns"
   ]
  },
  {
   "cell_type": "code",
   "execution_count": null,
   "id": "d9ecdb7e",
   "metadata": {},
   "outputs": [],
   "source": [
    "# data profile summary\n",
    "prof = pd.DataFrame({\n",
    "    \"dtype\": df.dtypes.astype(str),\n",
    "    \"non_null\": df.notna().sum(),\n",
    "    \"missing_pct\": df.isna().mean().round(4),\n",
    "    \"n_unique\": df.nunique(dropna=True)\n",
    "}).sort_index()\n",
    "display(prof.head(40).style.format({\"missing_pct\":\"{:.2%}\"}))\n",
    "\n",
    "# Numeric distribution snapshot (trimmed at 99th pct for readability)\n",
    "num_preview = df.select_dtypes(include=[np.number]).copy()\n",
    "for c in num_preview.columns:\n",
    "    num_preview[c] = num_preview[c].clip(upper=num_preview[c].quantile(0.99))\n",
    "ax = num_preview.hist(bins=40, figsize=(14,10))\n",
    "plt.suptitle(\"Numeric feature distributions (clipped at 99th pct)\", y=1.02)\n",
    "plt.tight_layout()\n",
    "plt.show()\n",
    "\n",
    "# Categorical cardinalities (top 20)\n",
    "cat_preview = df.select_dtypes(exclude=[np.number]).columns.tolist()\n",
    "for c in cat_preview:\n",
    "    vc = df[c].value_counts(dropna=False).head(20)\n",
    "    print(f\"\\nTop levels for {c} (showing up to 20)\")\n",
    "    display(vc)"
   ]
  },
  {
   "cell_type": "code",
   "execution_count": 6,
   "id": "fa15e2b7",
   "metadata": {},
   "outputs": [
    {
     "name": "stdout",
     "output_type": "stream",
     "text": [
      "Shape of the Provider Fraud Detection dataset: (191700, 29)\n"
     ]
    }
   ],
   "source": [
    "# exploring the shape of the data\n",
    "print(f'Shape of the Provider Fraud Detection dataset: {df.shape}')"
   ]
  },
  {
   "cell_type": "code",
   "execution_count": null,
   "id": "3d766c0d",
   "metadata": {},
   "outputs": [
    {
     "data": {
      "application/vnd.microsoft.datawrangler.viewer.v0+json": {
       "columns": [
        {
         "name": "index",
         "rawType": "object",
         "type": "string"
        },
        {
         "name": "count",
         "rawType": "int64",
         "type": "integer"
        },
        {
         "name": "perecent",
         "rawType": "float64",
         "type": "float"
        }
       ],
       "ref": "282bb822-0fab-4893-9644-adf8b94dd64b",
       "rows": [
        [
         "excluded_asof",
         "184989",
         "96.49921752738653"
        ],
        [
         "ever_excluded_asof",
         "184989",
         "96.49921752738653"
        ],
        [
         "w_var_submitted_charge",
         "164928",
         "86.03442879499218"
        ],
        [
         "is_organization_subpart",
         "153483",
         "80.06416275430361"
        ],
        [
         "is_sole_proprietor",
         "48385",
         "25.239958268127282"
        ],
        [
         "state_abbr",
         "7959",
         "4.151799687010955"
        ],
        [
         "zip5",
         "7871",
         "4.105894627021388"
        ],
        [
         "entity_type_code",
         "7870",
         "4.105372978612415"
        ],
        [
         "primary_taxonomy",
         "7870",
         "4.105372978612415"
        ],
        [
         "npi_age_days",
         "7870",
         "4.105372978612415"
        ],
        [
         "services_per_bene",
         "0",
         "0.0"
        ],
        [
         "charge_allowed_ratio",
         "0",
         "0.0"
        ],
        [
         "payment_allowed_ratio",
         "0",
         "0.0"
        ],
        [
         "npi",
         "0",
         "0.0"
        ],
        [
         "bene_days_per_bene",
         "0",
         "0.0"
        ],
        [
         "has_puf",
         "0",
         "0.0"
        ],
        [
         "is_fraud",
         "0",
         "0.0"
        ],
        [
         "w_stddev_submitted_charge",
         "0",
         "0.0"
        ],
        [
         "frac_missing_zip",
         "0",
         "0.0"
        ],
        [
         "w_avg_payment",
         "0",
         "0.0"
        ],
        [
         "w_avg_allowed",
         "0",
         "0.0"
        ],
        [
         "w_avg_submitted_charge",
         "0",
         "0.0"
        ],
        [
         "frac_drug_services",
         "0",
         "0.0"
        ],
        [
         "num_unique_procedures",
         "0",
         "0.0"
        ],
        [
         "total_bene_day_services",
         "0",
         "0.0"
        ],
        [
         "total_beneficiaries",
         "0",
         "0.0"
        ],
        [
         "total_services",
         "0",
         "0.0"
        ],
        [
         "is_active",
         "0",
         "0.0"
        ],
        [
         "is_excluded_asof",
         "0",
         "0.0"
        ]
       ],
       "shape": {
        "columns": 2,
        "rows": 29
       }
      },
      "text/html": [
       "<div>\n",
       "<style scoped>\n",
       "    .dataframe tbody tr th:only-of-type {\n",
       "        vertical-align: middle;\n",
       "    }\n",
       "\n",
       "    .dataframe tbody tr th {\n",
       "        vertical-align: top;\n",
       "    }\n",
       "\n",
       "    .dataframe thead th {\n",
       "        text-align: right;\n",
       "    }\n",
       "</style>\n",
       "<table border=\"1\" class=\"dataframe\">\n",
       "  <thead>\n",
       "    <tr style=\"text-align: right;\">\n",
       "      <th></th>\n",
       "      <th>count</th>\n",
       "      <th>perecent</th>\n",
       "    </tr>\n",
       "  </thead>\n",
       "  <tbody>\n",
       "    <tr>\n",
       "      <th>excluded_asof</th>\n",
       "      <td>184989</td>\n",
       "      <td>96.499218</td>\n",
       "    </tr>\n",
       "    <tr>\n",
       "      <th>ever_excluded_asof</th>\n",
       "      <td>184989</td>\n",
       "      <td>96.499218</td>\n",
       "    </tr>\n",
       "    <tr>\n",
       "      <th>w_var_submitted_charge</th>\n",
       "      <td>164928</td>\n",
       "      <td>86.034429</td>\n",
       "    </tr>\n",
       "    <tr>\n",
       "      <th>is_organization_subpart</th>\n",
       "      <td>153483</td>\n",
       "      <td>80.064163</td>\n",
       "    </tr>\n",
       "    <tr>\n",
       "      <th>is_sole_proprietor</th>\n",
       "      <td>48385</td>\n",
       "      <td>25.239958</td>\n",
       "    </tr>\n",
       "    <tr>\n",
       "      <th>state_abbr</th>\n",
       "      <td>7959</td>\n",
       "      <td>4.151800</td>\n",
       "    </tr>\n",
       "    <tr>\n",
       "      <th>zip5</th>\n",
       "      <td>7871</td>\n",
       "      <td>4.105895</td>\n",
       "    </tr>\n",
       "    <tr>\n",
       "      <th>entity_type_code</th>\n",
       "      <td>7870</td>\n",
       "      <td>4.105373</td>\n",
       "    </tr>\n",
       "    <tr>\n",
       "      <th>primary_taxonomy</th>\n",
       "      <td>7870</td>\n",
       "      <td>4.105373</td>\n",
       "    </tr>\n",
       "    <tr>\n",
       "      <th>npi_age_days</th>\n",
       "      <td>7870</td>\n",
       "      <td>4.105373</td>\n",
       "    </tr>\n",
       "    <tr>\n",
       "      <th>services_per_bene</th>\n",
       "      <td>0</td>\n",
       "      <td>0.000000</td>\n",
       "    </tr>\n",
       "    <tr>\n",
       "      <th>charge_allowed_ratio</th>\n",
       "      <td>0</td>\n",
       "      <td>0.000000</td>\n",
       "    </tr>\n",
       "    <tr>\n",
       "      <th>payment_allowed_ratio</th>\n",
       "      <td>0</td>\n",
       "      <td>0.000000</td>\n",
       "    </tr>\n",
       "    <tr>\n",
       "      <th>npi</th>\n",
       "      <td>0</td>\n",
       "      <td>0.000000</td>\n",
       "    </tr>\n",
       "    <tr>\n",
       "      <th>bene_days_per_bene</th>\n",
       "      <td>0</td>\n",
       "      <td>0.000000</td>\n",
       "    </tr>\n",
       "    <tr>\n",
       "      <th>has_puf</th>\n",
       "      <td>0</td>\n",
       "      <td>0.000000</td>\n",
       "    </tr>\n",
       "    <tr>\n",
       "      <th>is_fraud</th>\n",
       "      <td>0</td>\n",
       "      <td>0.000000</td>\n",
       "    </tr>\n",
       "    <tr>\n",
       "      <th>w_stddev_submitted_charge</th>\n",
       "      <td>0</td>\n",
       "      <td>0.000000</td>\n",
       "    </tr>\n",
       "    <tr>\n",
       "      <th>frac_missing_zip</th>\n",
       "      <td>0</td>\n",
       "      <td>0.000000</td>\n",
       "    </tr>\n",
       "    <tr>\n",
       "      <th>w_avg_payment</th>\n",
       "      <td>0</td>\n",
       "      <td>0.000000</td>\n",
       "    </tr>\n",
       "    <tr>\n",
       "      <th>w_avg_allowed</th>\n",
       "      <td>0</td>\n",
       "      <td>0.000000</td>\n",
       "    </tr>\n",
       "    <tr>\n",
       "      <th>w_avg_submitted_charge</th>\n",
       "      <td>0</td>\n",
       "      <td>0.000000</td>\n",
       "    </tr>\n",
       "    <tr>\n",
       "      <th>frac_drug_services</th>\n",
       "      <td>0</td>\n",
       "      <td>0.000000</td>\n",
       "    </tr>\n",
       "    <tr>\n",
       "      <th>num_unique_procedures</th>\n",
       "      <td>0</td>\n",
       "      <td>0.000000</td>\n",
       "    </tr>\n",
       "    <tr>\n",
       "      <th>total_bene_day_services</th>\n",
       "      <td>0</td>\n",
       "      <td>0.000000</td>\n",
       "    </tr>\n",
       "    <tr>\n",
       "      <th>total_beneficiaries</th>\n",
       "      <td>0</td>\n",
       "      <td>0.000000</td>\n",
       "    </tr>\n",
       "    <tr>\n",
       "      <th>total_services</th>\n",
       "      <td>0</td>\n",
       "      <td>0.000000</td>\n",
       "    </tr>\n",
       "    <tr>\n",
       "      <th>is_active</th>\n",
       "      <td>0</td>\n",
       "      <td>0.000000</td>\n",
       "    </tr>\n",
       "    <tr>\n",
       "      <th>is_excluded_asof</th>\n",
       "      <td>0</td>\n",
       "      <td>0.000000</td>\n",
       "    </tr>\n",
       "  </tbody>\n",
       "</table>\n",
       "</div>"
      ],
      "text/plain": [
       "                            count   perecent\n",
       "excluded_asof              184989  96.499218\n",
       "ever_excluded_asof         184989  96.499218\n",
       "w_var_submitted_charge     164928  86.034429\n",
       "is_organization_subpart    153483  80.064163\n",
       "is_sole_proprietor          48385  25.239958\n",
       "state_abbr                   7959   4.151800\n",
       "zip5                         7871   4.105895\n",
       "entity_type_code             7870   4.105373\n",
       "primary_taxonomy             7870   4.105373\n",
       "npi_age_days                 7870   4.105373\n",
       "services_per_bene               0   0.000000\n",
       "charge_allowed_ratio            0   0.000000\n",
       "payment_allowed_ratio           0   0.000000\n",
       "npi                             0   0.000000\n",
       "bene_days_per_bene              0   0.000000\n",
       "has_puf                         0   0.000000\n",
       "is_fraud                        0   0.000000\n",
       "w_stddev_submitted_charge       0   0.000000\n",
       "frac_missing_zip                0   0.000000\n",
       "w_avg_payment                   0   0.000000\n",
       "w_avg_allowed                   0   0.000000\n",
       "w_avg_submitted_charge          0   0.000000\n",
       "frac_drug_services              0   0.000000\n",
       "num_unique_procedures           0   0.000000\n",
       "total_bene_day_services         0   0.000000\n",
       "total_beneficiaries             0   0.000000\n",
       "total_services                  0   0.000000\n",
       "is_active                       0   0.000000\n",
       "is_excluded_asof                0   0.000000"
      ]
     },
     "execution_count": 7,
     "metadata": {},
     "output_type": "execute_result"
    }
   ],
   "source": [
    "# checking for the missing values for each column in this dataset\n",
    "missing = pd.concat([df.isnull().sum(), 100 * df.isnull().mean()], axis=1)\n",
    "missing.columns = ['count', 'percent']\n",
    "missing.sort_values(by='count', ascending=False)\n"
   ]
  },
  {
   "cell_type": "code",
   "execution_count": 8,
   "id": "f0597c44",
   "metadata": {},
   "outputs": [],
   "source": [
    "# dropping redudant/raw label columns\n",
    "df = df.drop(columns=[\"ever_excluded_asof\", \"excluded_asof\", \"w_var_submitted_charge\"], errors=\"ignore\")"
   ]
  },
  {
   "cell_type": "code",
   "execution_count": 9,
   "id": "43452f57",
   "metadata": {},
   "outputs": [
    {
     "name": "stdout",
     "output_type": "stream",
     "text": [
      "<class 'pandas.core.frame.DataFrame'>\n",
      "RangeIndex: 191700 entries, 0 to 191699\n",
      "Data columns (total 26 columns):\n",
      " #   Column                     Non-Null Count   Dtype  \n",
      "---  ------                     --------------   -----  \n",
      " 0   npi                        191700 non-null  object \n",
      " 1   state_abbr                 183741 non-null  object \n",
      " 2   zip5                       183829 non-null  object \n",
      " 3   entity_type_code           183830 non-null  float64\n",
      " 4   primary_taxonomy           183830 non-null  object \n",
      " 5   npi_age_days               183830 non-null  float64\n",
      " 6   is_active                  191700 non-null  int32  \n",
      " 7   is_organization_subpart    38217 non-null   float64\n",
      " 8   is_sole_proprietor         143315 non-null  float64\n",
      " 9   total_services             191700 non-null  float64\n",
      " 10  total_beneficiaries        191700 non-null  float64\n",
      " 11  total_bene_day_services    191700 non-null  float64\n",
      " 12  num_unique_procedures      191700 non-null  float64\n",
      " 13  frac_drug_services         191700 non-null  float64\n",
      " 14  frac_missing_zip           191700 non-null  float64\n",
      " 15  w_avg_submitted_charge     191700 non-null  float64\n",
      " 16  w_avg_allowed              191700 non-null  float64\n",
      " 17  w_avg_payment              191700 non-null  float64\n",
      " 18  w_stddev_submitted_charge  191700 non-null  float64\n",
      " 19  charge_allowed_ratio       191700 non-null  float64\n",
      " 20  payment_allowed_ratio      191700 non-null  float64\n",
      " 21  services_per_bene          191700 non-null  float64\n",
      " 22  bene_days_per_bene         191700 non-null  float64\n",
      " 23  has_puf                    191700 non-null  int32  \n",
      " 24  is_fraud                   191700 non-null  int32  \n",
      " 25  is_excluded_asof           191700 non-null  int32  \n",
      "dtypes: float64(18), int32(4), object(4)\n",
      "memory usage: 35.1+ MB\n"
     ]
    },
    {
     "data": {
      "text/plain": [
       "Index(['npi', 'state_abbr', 'zip5', 'entity_type_code', 'primary_taxonomy',\n",
       "       'npi_age_days', 'is_active', 'is_organization_subpart',\n",
       "       'is_sole_proprietor', 'total_services', 'total_beneficiaries',\n",
       "       'total_bene_day_services', 'num_unique_procedures',\n",
       "       'frac_drug_services', 'frac_missing_zip', 'w_avg_submitted_charge',\n",
       "       'w_avg_allowed', 'w_avg_payment', 'w_stddev_submitted_charge',\n",
       "       'charge_allowed_ratio', 'payment_allowed_ratio', 'services_per_bene',\n",
       "       'bene_days_per_bene', 'has_puf', 'is_fraud', 'is_excluded_asof'],\n",
       "      dtype='object')"
      ]
     },
     "execution_count": 9,
     "metadata": {},
     "output_type": "execute_result"
    }
   ],
   "source": [
    "df.info()\n",
    "df.columns"
   ]
  },
  {
   "cell_type": "code",
   "execution_count": 10,
   "id": "2ad6693a",
   "metadata": {},
   "outputs": [],
   "source": [
    "# renaming the columns to be more readable\n",
    "\n",
    "rename_map = {\n",
    "    \"state_abbr\": \"state\",\n",
    "    \"zip5\": \"zip5\",\n",
    "    \"entity_type_code\": \"entity_type\", # 1= individual, 2=organization\n",
    "    \"primary_taxonomy\": \"taxonomy\",\n",
    "    \"npi_age_days\": \"days_since_enrollment\",\n",
    "    \"is_active\": \"npi_active\",\n",
    "    \"is_organization_subpart\": \"org_subpart_flag\",\n",
    "    \"is_sole_proprietor\": \"sole_proprietor_flag\",\n",
    "    \"total_services\": \"services_total\",\n",
    "    \"total_beneficiaries\": \"beneficiaries_total\",\n",
    "    \"total_bene_day_services\": \"beneficiary_days_total\",\n",
    "    \"num_unique_procedures\": \"hcpcs_unique_count\",\n",
    "    \"frac_drug_services\": \"drug_services_rate\",\n",
    "    \"frac_missing_zip\": \"missing_zip_rate\",\n",
    "    \"w_avg_submitted_charge\": \"avg_charge_w\",\n",
    "    \"w_avg_allowed\": \"avg_allowed_w\",\n",
    "    \"w_avg_payment\": \"avg_payment_w\",\n",
    "    \"w_stddev_submitted_charge\": \"charge_std_w\",\n",
    "    \"charge_allowed_ratio\": \"charge_to_allowed\",\n",
    "    \"payment_allowed_ratio\": \"payment_to_allowed\",\n",
    "    \"services_per_bene\": \"services_per_beneficiary\",\n",
    "    \"bene_days_per_bene\": \"beneficiary_days_per_beneficiary\",\n",
    "    \"has_puf\": \"has_claims_features\",\n",
    "    \"is_fraud\": \"label_fraud\", # this will be my target feature\n",
    "    \"is_excluded_asof\": \"status_excluded_asof\" # this is only for reporting purposes, not used in modeling\n",
    "}\n",
    "\n",
    "df = df.rename(columns=rename_map)\n"
   ]
  },
  {
   "cell_type": "code",
   "execution_count": 11,
   "id": "1a0cd634",
   "metadata": {},
   "outputs": [
    {
     "name": "stdout",
     "output_type": "stream",
     "text": [
      "label_fraud\n",
      "0    184989\n",
      "1      6711\n",
      "Name: count, dtype: int64\n",
      "Prevalence (downsampled): 3.50%\n"
     ]
    }
   ],
   "source": [
    "# Basic label sanity\n",
    "print(df[\"label_fraud\"].value_counts(dropna=False))\n",
    "print(f\"Prevalence (downsampled): {df['label_fraud'].mean():.2%}\")"
   ]
  },
  {
   "cell_type": "code",
   "execution_count": 12,
   "id": "3a95d681",
   "metadata": {},
   "outputs": [
    {
     "name": "stdout",
     "output_type": "stream",
     "text": [
      "Duplicate NPIs: 0\n"
     ]
    }
   ],
   "source": [
    "# Duplicates on primary key\n",
    "dup_npi = df[\"npi\"].duplicated().sum()\n",
    "print(\"Duplicate NPIs:\", dup_npi)"
   ]
  },
  {
   "cell_type": "code",
   "execution_count": null,
   "id": "f8eecade",
   "metadata": {},
   "outputs": [],
   "source": [
    "# Optional: consolidate duplicates (choose policy)\n",
    "if dup_npi > 0:\n",
    "    # If you have a time column (adjust the name), keep the latest record per NPI\n",
    "    time_col_guess = next((c for c in df.columns if \"asof\" in c.lower() or \"date\" in c.lower()), None)\n",
    "    if time_col_guess is not None:\n",
    "        df = (df.sort_values(time_col_guess)\n",
    "                .groupby(\"npi\", as_index=False)\n",
    "                .tail(1))\n",
    "    else:\n",
    "        # Otherwise aggregate numerics, and mark label as any positive\n",
    "        agg_spec = {c: \"mean\" for c in df.select_dtypes(include=[np.number]).columns if c not in [\"label_fraud\"]}\n",
    "        agg_spec[\"label_fraud\"] = \"max\"\n",
    "        keep_first = [c for c in df.columns if c not in agg_spec and c != \"npi\"]\n",
    "        df = (df.groupby(\"npi\", as_index=False)\n",
    "                .agg(agg_spec)\n",
    "                .merge(df[[\"npi\"] + keep_first].drop_duplicates(\"npi\"), on=\"npi\", how=\"left\"))\n",
    "    print(\"After NPI de-dup:\", df.shape)\n",
    "    print(f\"Prevalence after NPI de-dup: {df['label_fraud'].mean():.2%}\")\n",
    "\n"
   ]
  },
  {
   "cell_type": "code",
   "execution_count": null,
   "id": "ddd3d3b5",
   "metadata": {},
   "outputs": [
    {
     "data": {
      "text/html": [
       "<style type=\"text/css\">\n",
       "</style>\n",
       "<table id=\"T_b6cdf\">\n",
       "  <thead>\n",
       "    <tr>\n",
       "      <th class=\"blank level0\" >&nbsp;</th>\n",
       "      <th id=\"T_b6cdf_level0_col0\" class=\"col_heading level0 col0\" >rows</th>\n",
       "      <th id=\"T_b6cdf_level0_col1\" class=\"col_heading level0 col1\" >fraud_rate</th>\n",
       "      <th id=\"T_b6cdf_level0_col2\" class=\"col_heading level0 col2\" >pct</th>\n",
       "    </tr>\n",
       "    <tr>\n",
       "      <th class=\"index_name level0\" >has_claims_features</th>\n",
       "      <th class=\"blank col0\" >&nbsp;</th>\n",
       "      <th class=\"blank col1\" >&nbsp;</th>\n",
       "      <th class=\"blank col2\" >&nbsp;</th>\n",
       "    </tr>\n",
       "  </thead>\n",
       "  <tbody>\n",
       "    <tr>\n",
       "      <th id=\"T_b6cdf_level0_row0\" class=\"row_heading level0 row0\" >0</th>\n",
       "      <td id=\"T_b6cdf_row0_col0\" class=\"data row0 col0\" >164928</td>\n",
       "      <td id=\"T_b6cdf_row0_col1\" class=\"data row0 col1\" >4.06%</td>\n",
       "      <td id=\"T_b6cdf_row0_col2\" class=\"data row0 col2\" >86.0%</td>\n",
       "    </tr>\n",
       "    <tr>\n",
       "      <th id=\"T_b6cdf_level0_row1\" class=\"row_heading level0 row1\" >1</th>\n",
       "      <td id=\"T_b6cdf_row1_col0\" class=\"data row1 col0\" >26772</td>\n",
       "      <td id=\"T_b6cdf_row1_col1\" class=\"data row1 col1\" >0.03%</td>\n",
       "      <td id=\"T_b6cdf_row1_col2\" class=\"data row1 col2\" >14.0%</td>\n",
       "    </tr>\n",
       "  </tbody>\n",
       "</table>\n"
      ],
      "text/plain": [
       "<pandas.io.formats.style.Styler at 0x1272fded0>"
      ]
     },
     "metadata": {},
     "output_type": "display_data"
    },
    {
     "name": "stdout",
     "output_type": "stream",
     "text": [
      "\n",
      "Top state by volume within has_claims_features buckets\n"
     ]
    },
    {
     "data": {
      "text/html": [
       "<style type=\"text/css\">\n",
       "</style>\n",
       "<table id=\"T_43d76\">\n",
       "  <thead>\n",
       "    <tr>\n",
       "      <th class=\"blank level0\" >&nbsp;</th>\n",
       "      <th id=\"T_43d76_level0_col0\" class=\"col_heading level0 col0\" >has_claims_features</th>\n",
       "      <th id=\"T_43d76_level0_col1\" class=\"col_heading level0 col1\" >state</th>\n",
       "      <th id=\"T_43d76_level0_col2\" class=\"col_heading level0 col2\" >rows</th>\n",
       "      <th id=\"T_43d76_level0_col3\" class=\"col_heading level0 col3\" >fraud_rate</th>\n",
       "    </tr>\n",
       "  </thead>\n",
       "  <tbody>\n",
       "    <tr>\n",
       "      <th id=\"T_43d76_level0_row0\" class=\"row_heading level0 row0\" >9</th>\n",
       "      <td id=\"T_43d76_row0_col0\" class=\"data row0 col0\" >0</td>\n",
       "      <td id=\"T_43d76_row0_col1\" class=\"data row0 col1\" >CA</td>\n",
       "      <td id=\"T_43d76_row0_col2\" class=\"data row0 col2\" >20356</td>\n",
       "      <td id=\"T_43d76_row0_col3\" class=\"data row0 col3\" >3.76%</td>\n",
       "    </tr>\n",
       "    <tr>\n",
       "      <th id=\"T_43d76_level0_row1\" class=\"row_heading level0 row1\" >43</th>\n",
       "      <td id=\"T_43d76_row1_col0\" class=\"data row1 col0\" >0</td>\n",
       "      <td id=\"T_43d76_row1_col1\" class=\"data row1 col1\" >NY</td>\n",
       "      <td id=\"T_43d76_row1_col2\" class=\"data row1 col2\" >11687</td>\n",
       "      <td id=\"T_43d76_row1_col3\" class=\"data row1 col3\" >5.32%</td>\n",
       "    </tr>\n",
       "    <tr>\n",
       "      <th id=\"T_43d76_level0_row2\" class=\"row_heading level0 row2\" >14</th>\n",
       "      <td id=\"T_43d76_row2_col0\" class=\"data row2 col0\" >0</td>\n",
       "      <td id=\"T_43d76_row2_col1\" class=\"data row2 col1\" >FL</td>\n",
       "      <td id=\"T_43d76_row2_col2\" class=\"data row2 col2\" >10830</td>\n",
       "      <td id=\"T_43d76_row2_col3\" class=\"data row2 col3\" >4.61%</td>\n",
       "    </tr>\n",
       "    <tr>\n",
       "      <th id=\"T_43d76_level0_row3\" class=\"row_heading level0 row3\" >54</th>\n",
       "      <td id=\"T_43d76_row3_col0\" class=\"data row3 col0\" >0</td>\n",
       "      <td id=\"T_43d76_row3_col1\" class=\"data row3 col1\" >TX</td>\n",
       "      <td id=\"T_43d76_row3_col2\" class=\"data row3 col2\" >10004</td>\n",
       "      <td id=\"T_43d76_row3_col3\" class=\"data row3 col3\" >3.26%</td>\n",
       "    </tr>\n",
       "    <tr>\n",
       "      <th id=\"T_43d76_level0_row4\" class=\"row_heading level0 row4\" >44</th>\n",
       "      <td id=\"T_43d76_row4_col0\" class=\"data row4 col0\" >0</td>\n",
       "      <td id=\"T_43d76_row4_col1\" class=\"data row4 col1\" >OH</td>\n",
       "      <td id=\"T_43d76_row4_col2\" class=\"data row4 col2\" >6759</td>\n",
       "      <td id=\"T_43d76_row4_col3\" class=\"data row4 col3\" >7.10%</td>\n",
       "    </tr>\n",
       "    <tr>\n",
       "      <th id=\"T_43d76_level0_row5\" class=\"row_heading level0 row5\" >28</th>\n",
       "      <td id=\"T_43d76_row5_col0\" class=\"data row5 col0\" >0</td>\n",
       "      <td id=\"T_43d76_row5_col1\" class=\"data row5 col1\" >MI</td>\n",
       "      <td id=\"T_43d76_row5_col2\" class=\"data row5 col2\" >5927</td>\n",
       "      <td id=\"T_43d76_row5_col3\" class=\"data row5 col3\" >4.42%</td>\n",
       "    </tr>\n",
       "    <tr>\n",
       "      <th id=\"T_43d76_level0_row6\" class=\"row_heading level0 row6\" >48</th>\n",
       "      <td id=\"T_43d76_row6_col0\" class=\"data row6 col0\" >0</td>\n",
       "      <td id=\"T_43d76_row6_col1\" class=\"data row6 col1\" >PA</td>\n",
       "      <td id=\"T_43d76_row6_col2\" class=\"data row6 col2\" >5585</td>\n",
       "      <td id=\"T_43d76_row6_col3\" class=\"data row6 col3\" >4.60%</td>\n",
       "    </tr>\n",
       "    <tr>\n",
       "      <th id=\"T_43d76_level0_row7\" class=\"row_heading level0 row7\" >20</th>\n",
       "      <td id=\"T_43d76_row7_col0\" class=\"data row7 col0\" >0</td>\n",
       "      <td id=\"T_43d76_row7_col1\" class=\"data row7 col1\" >IL</td>\n",
       "      <td id=\"T_43d76_row7_col2\" class=\"data row7 col2\" >5342</td>\n",
       "      <td id=\"T_43d76_row7_col3\" class=\"data row7 col3\" >3.39%</td>\n",
       "    </tr>\n",
       "    <tr>\n",
       "      <th id=\"T_43d76_level0_row8\" class=\"row_heading level0 row8\" >35</th>\n",
       "      <td id=\"T_43d76_row8_col0\" class=\"data row8 col0\" >0</td>\n",
       "      <td id=\"T_43d76_row8_col1\" class=\"data row8 col1\" >NC</td>\n",
       "      <td id=\"T_43d76_row8_col2\" class=\"data row8 col2\" >4443</td>\n",
       "      <td id=\"T_43d76_row8_col3\" class=\"data row8 col3\" >1.91%</td>\n",
       "    </tr>\n",
       "    <tr>\n",
       "      <th id=\"T_43d76_level0_row9\" class=\"row_heading level0 row9\" >25</th>\n",
       "      <td id=\"T_43d76_row9_col0\" class=\"data row9 col0\" >0</td>\n",
       "      <td id=\"T_43d76_row9_col1\" class=\"data row9 col1\" >MA</td>\n",
       "      <td id=\"T_43d76_row9_col2\" class=\"data row9 col2\" >4405</td>\n",
       "      <td id=\"T_43d76_row9_col3\" class=\"data row9 col3\" >1.79%</td>\n",
       "    </tr>\n",
       "    <tr>\n",
       "      <th id=\"T_43d76_level0_row10\" class=\"row_heading level0 row10\" >59</th>\n",
       "      <td id=\"T_43d76_row10_col0\" class=\"data row10 col0\" >0</td>\n",
       "      <td id=\"T_43d76_row10_col1\" class=\"data row10 col1\" >WA</td>\n",
       "      <td id=\"T_43d76_row10_col2\" class=\"data row10 col2\" >4350</td>\n",
       "      <td id=\"T_43d76_row10_col3\" class=\"data row10 col3\" >2.37%</td>\n",
       "    </tr>\n",
       "    <tr>\n",
       "      <th id=\"T_43d76_level0_row11\" class=\"row_heading level0 row11\" >15</th>\n",
       "      <td id=\"T_43d76_row11_col0\" class=\"data row11 col0\" >0</td>\n",
       "      <td id=\"T_43d76_row11_col1\" class=\"data row11 col1\" >GA</td>\n",
       "      <td id=\"T_43d76_row11_col2\" class=\"data row11 col2\" >3783</td>\n",
       "      <td id=\"T_43d76_row11_col3\" class=\"data row11 col3\" >3.04%</td>\n",
       "    </tr>\n",
       "    <tr>\n",
       "      <th id=\"T_43d76_level0_row12\" class=\"row_heading level0 row12\" >39</th>\n",
       "      <td id=\"T_43d76_row12_col0\" class=\"data row12 col0\" >0</td>\n",
       "      <td id=\"T_43d76_row12_col1\" class=\"data row12 col1\" >NJ</td>\n",
       "      <td id=\"T_43d76_row12_col2\" class=\"data row12 col2\" >3739</td>\n",
       "      <td id=\"T_43d76_row12_col3\" class=\"data row12 col3\" >3.34%</td>\n",
       "    </tr>\n",
       "    <tr>\n",
       "      <th id=\"T_43d76_level0_row13\" class=\"row_heading level0 row13\" >10</th>\n",
       "      <td id=\"T_43d76_row13_col0\" class=\"data row13 col0\" >0</td>\n",
       "      <td id=\"T_43d76_row13_col1\" class=\"data row13 col1\" >CO</td>\n",
       "      <td id=\"T_43d76_row13_col2\" class=\"data row13 col2\" >3472</td>\n",
       "      <td id=\"T_43d76_row13_col3\" class=\"data row13 col3\" >2.74%</td>\n",
       "    </tr>\n",
       "    <tr>\n",
       "      <th id=\"T_43d76_level0_row14\" class=\"row_heading level0 row14\" >26</th>\n",
       "      <td id=\"T_43d76_row14_col0\" class=\"data row14 col0\" >0</td>\n",
       "      <td id=\"T_43d76_row14_col1\" class=\"data row14 col1\" >MD</td>\n",
       "      <td id=\"T_43d76_row14_col2\" class=\"data row14 col2\" >3299</td>\n",
       "      <td id=\"T_43d76_row14_col3\" class=\"data row14 col3\" >2.76%</td>\n",
       "    </tr>\n",
       "    <tr>\n",
       "      <th id=\"T_43d76_level0_row15\" class=\"row_heading level0 row15\" >67</th>\n",
       "      <td id=\"T_43d76_row15_col0\" class=\"data row15 col0\" >1</td>\n",
       "      <td id=\"T_43d76_row15_col1\" class=\"data row15 col1\" >CA</td>\n",
       "      <td id=\"T_43d76_row15_col2\" class=\"data row15 col2\" >2117</td>\n",
       "      <td id=\"T_43d76_row15_col3\" class=\"data row15 col3\" >0.05%</td>\n",
       "    </tr>\n",
       "    <tr>\n",
       "      <th id=\"T_43d76_level0_row16\" class=\"row_heading level0 row16\" >98</th>\n",
       "      <td id=\"T_43d76_row16_col0\" class=\"data row16 col0\" >1</td>\n",
       "      <td id=\"T_43d76_row16_col1\" class=\"data row16 col1\" >NY</td>\n",
       "      <td id=\"T_43d76_row16_col2\" class=\"data row16 col2\" >1851</td>\n",
       "      <td id=\"T_43d76_row16_col3\" class=\"data row16 col3\" >0.11%</td>\n",
       "    </tr>\n",
       "    <tr>\n",
       "      <th id=\"T_43d76_level0_row17\" class=\"row_heading level0 row17\" >108</th>\n",
       "      <td id=\"T_43d76_row17_col0\" class=\"data row17 col0\" >1</td>\n",
       "      <td id=\"T_43d76_row17_col1\" class=\"data row17 col1\" >TX</td>\n",
       "      <td id=\"T_43d76_row17_col2\" class=\"data row17 col2\" >1814</td>\n",
       "      <td id=\"T_43d76_row17_col3\" class=\"data row17 col3\" >0.06%</td>\n",
       "    </tr>\n",
       "    <tr>\n",
       "      <th id=\"T_43d76_level0_row18\" class=\"row_heading level0 row18\" >72</th>\n",
       "      <td id=\"T_43d76_row18_col0\" class=\"data row18 col0\" >1</td>\n",
       "      <td id=\"T_43d76_row18_col1\" class=\"data row18 col1\" >FL</td>\n",
       "      <td id=\"T_43d76_row18_col2\" class=\"data row18 col2\" >1743</td>\n",
       "      <td id=\"T_43d76_row18_col3\" class=\"data row18 col3\" >0.00%</td>\n",
       "    </tr>\n",
       "    <tr>\n",
       "      <th id=\"T_43d76_level0_row19\" class=\"row_heading level0 row19\" >102</th>\n",
       "      <td id=\"T_43d76_row19_col0\" class=\"data row19 col0\" >1</td>\n",
       "      <td id=\"T_43d76_row19_col1\" class=\"data row19 col1\" >PA</td>\n",
       "      <td id=\"T_43d76_row19_col2\" class=\"data row19 col2\" >1331</td>\n",
       "      <td id=\"T_43d76_row19_col3\" class=\"data row19 col3\" >0.00%</td>\n",
       "    </tr>\n",
       "    <tr>\n",
       "      <th id=\"T_43d76_level0_row20\" class=\"row_heading level0 row20\" >99</th>\n",
       "      <td id=\"T_43d76_row20_col0\" class=\"data row20 col0\" >1</td>\n",
       "      <td id=\"T_43d76_row20_col1\" class=\"data row20 col1\" >OH</td>\n",
       "      <td id=\"T_43d76_row20_col2\" class=\"data row20 col2\" >1065</td>\n",
       "      <td id=\"T_43d76_row20_col3\" class=\"data row20 col3\" >0.00%</td>\n",
       "    </tr>\n",
       "    <tr>\n",
       "      <th id=\"T_43d76_level0_row21\" class=\"row_heading level0 row21\" >78</th>\n",
       "      <td id=\"T_43d76_row21_col0\" class=\"data row21 col0\" >1</td>\n",
       "      <td id=\"T_43d76_row21_col1\" class=\"data row21 col1\" >IL</td>\n",
       "      <td id=\"T_43d76_row21_col2\" class=\"data row21 col2\" >1059</td>\n",
       "      <td id=\"T_43d76_row21_col3\" class=\"data row21 col3\" >0.09%</td>\n",
       "    </tr>\n",
       "    <tr>\n",
       "      <th id=\"T_43d76_level0_row22\" class=\"row_heading level0 row22\" >86</th>\n",
       "      <td id=\"T_43d76_row22_col0\" class=\"data row22 col0\" >1</td>\n",
       "      <td id=\"T_43d76_row22_col1\" class=\"data row22 col1\" >MI</td>\n",
       "      <td id=\"T_43d76_row22_col2\" class=\"data row22 col2\" >922</td>\n",
       "      <td id=\"T_43d76_row22_col3\" class=\"data row22 col3\" >0.00%</td>\n",
       "    </tr>\n",
       "    <tr>\n",
       "      <th id=\"T_43d76_level0_row23\" class=\"row_heading level0 row23\" >91</th>\n",
       "      <td id=\"T_43d76_row23_col0\" class=\"data row23 col0\" >1</td>\n",
       "      <td id=\"T_43d76_row23_col1\" class=\"data row23 col1\" >NC</td>\n",
       "      <td id=\"T_43d76_row23_col2\" class=\"data row23 col2\" >916</td>\n",
       "      <td id=\"T_43d76_row23_col3\" class=\"data row23 col3\" >0.11%</td>\n",
       "    </tr>\n",
       "    <tr>\n",
       "      <th id=\"T_43d76_level0_row24\" class=\"row_heading level0 row24\" >95</th>\n",
       "      <td id=\"T_43d76_row24_col0\" class=\"data row24 col0\" >1</td>\n",
       "      <td id=\"T_43d76_row24_col1\" class=\"data row24 col1\" >NJ</td>\n",
       "      <td id=\"T_43d76_row24_col2\" class=\"data row24 col2\" >819</td>\n",
       "      <td id=\"T_43d76_row24_col3\" class=\"data row24 col3\" >0.00%</td>\n",
       "    </tr>\n",
       "    <tr>\n",
       "      <th id=\"T_43d76_level0_row25\" class=\"row_heading level0 row25\" >83</th>\n",
       "      <td id=\"T_43d76_row25_col0\" class=\"data row25 col0\" >1</td>\n",
       "      <td id=\"T_43d76_row25_col1\" class=\"data row25 col1\" >MA</td>\n",
       "      <td id=\"T_43d76_row25_col2\" class=\"data row25 col2\" >779</td>\n",
       "      <td id=\"T_43d76_row25_col3\" class=\"data row25 col3\" >0.00%</td>\n",
       "    </tr>\n",
       "    <tr>\n",
       "      <th id=\"T_43d76_level0_row26\" class=\"row_heading level0 row26\" >73</th>\n",
       "      <td id=\"T_43d76_row26_col0\" class=\"data row26 col0\" >1</td>\n",
       "      <td id=\"T_43d76_row26_col1\" class=\"data row26 col1\" >GA</td>\n",
       "      <td id=\"T_43d76_row26_col2\" class=\"data row26 col2\" >745</td>\n",
       "      <td id=\"T_43d76_row26_col3\" class=\"data row26 col3\" >0.00%</td>\n",
       "    </tr>\n",
       "    <tr>\n",
       "      <th id=\"T_43d76_level0_row27\" class=\"row_heading level0 row27\" >110</th>\n",
       "      <td id=\"T_43d76_row27_col0\" class=\"data row27 col0\" >1</td>\n",
       "      <td id=\"T_43d76_row27_col1\" class=\"data row27 col1\" >VA</td>\n",
       "      <td id=\"T_43d76_row27_col2\" class=\"data row27 col2\" >683</td>\n",
       "      <td id=\"T_43d76_row27_col3\" class=\"data row27 col3\" >0.00%</td>\n",
       "    </tr>\n",
       "    <tr>\n",
       "      <th id=\"T_43d76_level0_row28\" class=\"row_heading level0 row28\" >107</th>\n",
       "      <td id=\"T_43d76_row28_col0\" class=\"data row28 col0\" >1</td>\n",
       "      <td id=\"T_43d76_row28_col1\" class=\"data row28 col1\" >TN</td>\n",
       "      <td id=\"T_43d76_row28_col2\" class=\"data row28 col2\" >645</td>\n",
       "      <td id=\"T_43d76_row28_col3\" class=\"data row28 col3\" >0.00%</td>\n",
       "    </tr>\n",
       "    <tr>\n",
       "      <th id=\"T_43d76_level0_row29\" class=\"row_heading level0 row29\" >87</th>\n",
       "      <td id=\"T_43d76_row29_col0\" class=\"data row29 col0\" >1</td>\n",
       "      <td id=\"T_43d76_row29_col1\" class=\"data row29 col1\" >MN</td>\n",
       "      <td id=\"T_43d76_row29_col2\" class=\"data row29 col2\" >617</td>\n",
       "      <td id=\"T_43d76_row29_col3\" class=\"data row29 col3\" >0.00%</td>\n",
       "    </tr>\n",
       "  </tbody>\n",
       "</table>\n"
      ],
      "text/plain": [
       "<pandas.io.formats.style.Styler at 0x144c02110>"
      ]
     },
     "metadata": {},
     "output_type": "display_data"
    },
    {
     "name": "stdout",
     "output_type": "stream",
     "text": [
      "\n",
      "Top entity_type by volume within has_claims_features buckets\n"
     ]
    },
    {
     "data": {
      "text/html": [
       "<style type=\"text/css\">\n",
       "</style>\n",
       "<table id=\"T_62ff2\">\n",
       "  <thead>\n",
       "    <tr>\n",
       "      <th class=\"blank level0\" >&nbsp;</th>\n",
       "      <th id=\"T_62ff2_level0_col0\" class=\"col_heading level0 col0\" >has_claims_features</th>\n",
       "      <th id=\"T_62ff2_level0_col1\" class=\"col_heading level0 col1\" >entity_type</th>\n",
       "      <th id=\"T_62ff2_level0_col2\" class=\"col_heading level0 col2\" >rows</th>\n",
       "      <th id=\"T_62ff2_level0_col3\" class=\"col_heading level0 col3\" >fraud_rate</th>\n",
       "    </tr>\n",
       "  </thead>\n",
       "  <tbody>\n",
       "    <tr>\n",
       "      <th id=\"T_62ff2_level0_row0\" class=\"row_heading level0 row0\" >0</th>\n",
       "      <td id=\"T_62ff2_row0_col0\" class=\"data row0 col0\" >0</td>\n",
       "      <td id=\"T_62ff2_row0_col1\" class=\"data row0 col1\" >1.000000</td>\n",
       "      <td id=\"T_62ff2_row0_col2\" class=\"data row0 col2\" >120337</td>\n",
       "      <td id=\"T_62ff2_row0_col3\" class=\"data row0 col3\" >4.56%</td>\n",
       "    </tr>\n",
       "    <tr>\n",
       "      <th id=\"T_62ff2_level0_row1\" class=\"row_heading level0 row1\" >1</th>\n",
       "      <td id=\"T_62ff2_row1_col0\" class=\"data row1 col0\" >0</td>\n",
       "      <td id=\"T_62ff2_row1_col1\" class=\"data row1 col1\" >2.000000</td>\n",
       "      <td id=\"T_62ff2_row1_col2\" class=\"data row1 col2\" >36805</td>\n",
       "      <td id=\"T_62ff2_row1_col3\" class=\"data row1 col3\" >1.20%</td>\n",
       "    </tr>\n",
       "    <tr>\n",
       "      <th id=\"T_62ff2_level0_row2\" class=\"row_heading level0 row2\" >2</th>\n",
       "      <td id=\"T_62ff2_row2_col0\" class=\"data row2 col0\" >1</td>\n",
       "      <td id=\"T_62ff2_row2_col1\" class=\"data row2 col1\" >1.000000</td>\n",
       "      <td id=\"T_62ff2_row2_col2\" class=\"data row2 col2\" >25276</td>\n",
       "      <td id=\"T_62ff2_row2_col3\" class=\"data row2 col3\" >0.04%</td>\n",
       "    </tr>\n",
       "    <tr>\n",
       "      <th id=\"T_62ff2_level0_row3\" class=\"row_heading level0 row3\" >3</th>\n",
       "      <td id=\"T_62ff2_row3_col0\" class=\"data row3 col0\" >1</td>\n",
       "      <td id=\"T_62ff2_row3_col1\" class=\"data row3 col1\" >2.000000</td>\n",
       "      <td id=\"T_62ff2_row3_col2\" class=\"data row3 col2\" >1412</td>\n",
       "      <td id=\"T_62ff2_row3_col3\" class=\"data row3 col3\" >0.00%</td>\n",
       "    </tr>\n",
       "  </tbody>\n",
       "</table>\n"
      ],
      "text/plain": [
       "<pandas.io.formats.style.Styler at 0x144e8dad0>"
      ]
     },
     "metadata": {},
     "output_type": "display_data"
    },
    {
     "name": "stdout",
     "output_type": "stream",
     "text": [
      "\n",
      "Top taxonomy by volume within has_claims_features buckets\n"
     ]
    },
    {
     "data": {
      "text/html": [
       "<style type=\"text/css\">\n",
       "</style>\n",
       "<table id=\"T_e8ef7\">\n",
       "  <thead>\n",
       "    <tr>\n",
       "      <th class=\"blank level0\" >&nbsp;</th>\n",
       "      <th id=\"T_e8ef7_level0_col0\" class=\"col_heading level0 col0\" >has_claims_features</th>\n",
       "      <th id=\"T_e8ef7_level0_col1\" class=\"col_heading level0 col1\" >taxonomy</th>\n",
       "      <th id=\"T_e8ef7_level0_col2\" class=\"col_heading level0 col2\" >rows</th>\n",
       "      <th id=\"T_e8ef7_level0_col3\" class=\"col_heading level0 col3\" >fraud_rate</th>\n",
       "    </tr>\n",
       "  </thead>\n",
       "  <tbody>\n",
       "    <tr>\n",
       "      <th id=\"T_e8ef7_level0_row0\" class=\"row_heading level0 row0\" >34</th>\n",
       "      <td id=\"T_e8ef7_row0_col0\" class=\"data row0 col0\" >0</td>\n",
       "      <td id=\"T_e8ef7_row0_col1\" class=\"data row0 col1\" >106S00000X</td>\n",
       "      <td id=\"T_e8ef7_row0_col2\" class=\"data row0 col2\" >7280</td>\n",
       "      <td id=\"T_e8ef7_row0_col3\" class=\"data row0 col3\" >0.11%</td>\n",
       "    </tr>\n",
       "    <tr>\n",
       "      <th id=\"T_e8ef7_level0_row1\" class=\"row_heading level0 row1\" >30</th>\n",
       "      <td id=\"T_e8ef7_row1_col0\" class=\"data row1 col0\" >0</td>\n",
       "      <td id=\"T_e8ef7_row1_col1\" class=\"data row1 col1\" >1041C0700X</td>\n",
       "      <td id=\"T_e8ef7_row1_col2\" class=\"data row1 col2\" >6589</td>\n",
       "      <td id=\"T_e8ef7_row1_col3\" class=\"data row1 col3\" >1.70%</td>\n",
       "    </tr>\n",
       "    <tr>\n",
       "      <th id=\"T_e8ef7_level0_row2\" class=\"row_heading level0 row2\" >180</th>\n",
       "      <td id=\"T_e8ef7_row2_col0\" class=\"data row2 col0\" >0</td>\n",
       "      <td id=\"T_e8ef7_row2_col1\" class=\"data row2 col1\" >183500000X</td>\n",
       "      <td id=\"T_e8ef7_row2_col2\" class=\"data row2 col2\" >6534</td>\n",
       "      <td id=\"T_e8ef7_row2_col3\" class=\"data row2 col3\" >3.41%</td>\n",
       "    </tr>\n",
       "    <tr>\n",
       "      <th id=\"T_e8ef7_level0_row3\" class=\"row_heading level0 row3\" >3</th>\n",
       "      <td id=\"T_e8ef7_row3_col0\" class=\"data row3 col0\" >0</td>\n",
       "      <td id=\"T_e8ef7_row3_col1\" class=\"data row3 col1\" >101YM0800X</td>\n",
       "      <td id=\"T_e8ef7_row3_col2\" class=\"data row3 col2\" >6246</td>\n",
       "      <td id=\"T_e8ef7_row3_col3\" class=\"data row3 col3\" >2.15%</td>\n",
       "    </tr>\n",
       "    <tr>\n",
       "      <th id=\"T_e8ef7_level0_row4\" class=\"row_heading level0 row4\" >425</th>\n",
       "      <td id=\"T_e8ef7_row4_col0\" class=\"data row4 col0\" >0</td>\n",
       "      <td id=\"T_e8ef7_row4_col1\" class=\"data row4 col1\" >225100000X</td>\n",
       "      <td id=\"T_e8ef7_row4_col2\" class=\"data row4 col2\" >4555</td>\n",
       "      <td id=\"T_e8ef7_row4_col3\" class=\"data row4 col3\" >1.84%</td>\n",
       "    </tr>\n",
       "    <tr>\n",
       "      <th id=\"T_e8ef7_level0_row5\" class=\"row_heading level0 row5\" >489</th>\n",
       "      <td id=\"T_e8ef7_row5_col0\" class=\"data row5 col0\" >0</td>\n",
       "      <td id=\"T_e8ef7_row5_col1\" class=\"data row5 col1\" >235Z00000X</td>\n",
       "      <td id=\"T_e8ef7_row5_col2\" class=\"data row5 col2\" >4172</td>\n",
       "      <td id=\"T_e8ef7_row5_col3\" class=\"data row5 col3\" >0.79%</td>\n",
       "    </tr>\n",
       "    <tr>\n",
       "      <th id=\"T_e8ef7_level0_row6\" class=\"row_heading level0 row6\" >51</th>\n",
       "      <td id=\"T_e8ef7_row6_col0\" class=\"data row6 col0\" >0</td>\n",
       "      <td id=\"T_e8ef7_row6_col1\" class=\"data row6 col1\" >1223G0001X</td>\n",
       "      <td id=\"T_e8ef7_row6_col2\" class=\"data row6 col2\" >3958</td>\n",
       "      <td id=\"T_e8ef7_row6_col3\" class=\"data row6 col3\" >3.34%</td>\n",
       "    </tr>\n",
       "    <tr>\n",
       "      <th id=\"T_e8ef7_level0_row7\" class=\"row_heading level0 row7\" >760</th>\n",
       "      <td id=\"T_e8ef7_row7_col0\" class=\"data row7 col0\" >0</td>\n",
       "      <td id=\"T_e8ef7_row7_col1\" class=\"data row7 col1\" >390200000X</td>\n",
       "      <td id=\"T_e8ef7_row7_col2\" class=\"data row7 col2\" >3721</td>\n",
       "      <td id=\"T_e8ef7_row7_col3\" class=\"data row7 col3\" >0.46%</td>\n",
       "    </tr>\n",
       "    <tr>\n",
       "      <th id=\"T_e8ef7_level0_row8\" class=\"row_heading level0 row8\" >5</th>\n",
       "      <td id=\"T_e8ef7_row8_col0\" class=\"data row8 col0\" >0</td>\n",
       "      <td id=\"T_e8ef7_row8_col1\" class=\"data row8 col1\" >101YP2500X</td>\n",
       "      <td id=\"T_e8ef7_row8_col2\" class=\"data row8 col2\" >3191</td>\n",
       "      <td id=\"T_e8ef7_row8_col3\" class=\"data row8 col3\" >2.70%</td>\n",
       "    </tr>\n",
       "    <tr>\n",
       "      <th id=\"T_e8ef7_level0_row9\" class=\"row_heading level0 row9\" >225</th>\n",
       "      <td id=\"T_e8ef7_row9_col0\" class=\"data row9 col0\" >0</td>\n",
       "      <td id=\"T_e8ef7_row9_col1\" class=\"data row9 col1\" >207Q00000X</td>\n",
       "      <td id=\"T_e8ef7_row9_col2\" class=\"data row9 col2\" >3185</td>\n",
       "      <td id=\"T_e8ef7_row9_col3\" class=\"data row9 col3\" >15.54%</td>\n",
       "    </tr>\n",
       "    <tr>\n",
       "      <th id=\"T_e8ef7_level0_row10\" class=\"row_heading level0 row10\" >35</th>\n",
       "      <td id=\"T_e8ef7_row10_col0\" class=\"data row10 col0\" >0</td>\n",
       "      <td id=\"T_e8ef7_row10_col1\" class=\"data row10 col1\" >111N00000X</td>\n",
       "      <td id=\"T_e8ef7_row10_col2\" class=\"data row10 col2\" >3045</td>\n",
       "      <td id=\"T_e8ef7_row10_col3\" class=\"data row10 col3\" >10.74%</td>\n",
       "    </tr>\n",
       "    <tr>\n",
       "      <th id=\"T_e8ef7_level0_row11\" class=\"row_heading level0 row11\" >154</th>\n",
       "      <td id=\"T_e8ef7_row11_col0\" class=\"data row11 col0\" >0</td>\n",
       "      <td id=\"T_e8ef7_row11_col1\" class=\"data row11 col1\" >171M00000X</td>\n",
       "      <td id=\"T_e8ef7_row11_col2\" class=\"data row11 col2\" >3010</td>\n",
       "      <td id=\"T_e8ef7_row11_col3\" class=\"data row11 col3\" >1.36%</td>\n",
       "    </tr>\n",
       "    <tr>\n",
       "      <th id=\"T_e8ef7_level0_row12\" class=\"row_heading level0 row12\" >704</th>\n",
       "      <td id=\"T_e8ef7_row12_col0\" class=\"data row12 col0\" >0</td>\n",
       "      <td id=\"T_e8ef7_row12_col1\" class=\"data row12 col1\" >363LF0000X</td>\n",
       "      <td id=\"T_e8ef7_row12_col2\" class=\"data row12 col2\" >2848</td>\n",
       "      <td id=\"T_e8ef7_row12_col3\" class=\"data row12 col3\" >3.37%</td>\n",
       "    </tr>\n",
       "    <tr>\n",
       "      <th id=\"T_e8ef7_level0_row13\" class=\"row_heading level0 row13\" >47</th>\n",
       "      <td id=\"T_e8ef7_row13_col0\" class=\"data row13 col0\" >0</td>\n",
       "      <td id=\"T_e8ef7_row13_col1\" class=\"data row13 col1\" >122300000X</td>\n",
       "      <td id=\"T_e8ef7_row13_col2\" class=\"data row13 col2\" >2725</td>\n",
       "      <td id=\"T_e8ef7_row13_col3\" class=\"data row13 col3\" >3.82%</td>\n",
       "    </tr>\n",
       "    <tr>\n",
       "      <th id=\"T_e8ef7_level0_row14\" class=\"row_heading level0 row14\" >234</th>\n",
       "      <td id=\"T_e8ef7_row14_col0\" class=\"data row14 col0\" >0</td>\n",
       "      <td id=\"T_e8ef7_row14_col1\" class=\"data row14 col1\" >207R00000X</td>\n",
       "      <td id=\"T_e8ef7_row14_col2\" class=\"data row14 col2\" >2692</td>\n",
       "      <td id=\"T_e8ef7_row14_col3\" class=\"data row14 col3\" >14.52%</td>\n",
       "    </tr>\n",
       "    <tr>\n",
       "      <th id=\"T_e8ef7_level0_row15\" class=\"row_heading level0 row15\" >1062</th>\n",
       "      <td id=\"T_e8ef7_row15_col0\" class=\"data row15 col0\" >1</td>\n",
       "      <td id=\"T_e8ef7_row15_col1\" class=\"data row15 col1\" >363LF0000X</td>\n",
       "      <td id=\"T_e8ef7_row15_col2\" class=\"data row15 col2\" >1988</td>\n",
       "      <td id=\"T_e8ef7_row15_col3\" class=\"data row15 col3\" >0.00%</td>\n",
       "    </tr>\n",
       "    <tr>\n",
       "      <th id=\"T_e8ef7_level0_row16\" class=\"row_heading level0 row16\" >843</th>\n",
       "      <td id=\"T_e8ef7_row16_col0\" class=\"data row16 col0\" >1</td>\n",
       "      <td id=\"T_e8ef7_row16_col1\" class=\"data row16 col1\" >207Q00000X</td>\n",
       "      <td id=\"T_e8ef7_row16_col2\" class=\"data row16 col2\" >1816</td>\n",
       "      <td id=\"T_e8ef7_row16_col3\" class=\"data row16 col3\" >0.06%</td>\n",
       "    </tr>\n",
       "    <tr>\n",
       "      <th id=\"T_e8ef7_level0_row17\" class=\"row_heading level0 row17\" >851</th>\n",
       "      <td id=\"T_e8ef7_row17_col0\" class=\"data row17 col0\" >1</td>\n",
       "      <td id=\"T_e8ef7_row17_col1\" class=\"data row17 col1\" >207R00000X</td>\n",
       "      <td id=\"T_e8ef7_row17_col2\" class=\"data row17 col2\" >1782</td>\n",
       "      <td id=\"T_e8ef7_row17_col3\" class=\"data row17 col3\" >0.00%</td>\n",
       "    </tr>\n",
       "    <tr>\n",
       "      <th id=\"T_e8ef7_level0_row18\" class=\"row_heading level0 row18\" >1054</th>\n",
       "      <td id=\"T_e8ef7_row18_col0\" class=\"data row18 col0\" >1</td>\n",
       "      <td id=\"T_e8ef7_row18_col1\" class=\"data row18 col1\" >363A00000X</td>\n",
       "      <td id=\"T_e8ef7_row18_col2\" class=\"data row18 col2\" >1556</td>\n",
       "      <td id=\"T_e8ef7_row18_col3\" class=\"data row18 col3\" >0.00%</td>\n",
       "    </tr>\n",
       "    <tr>\n",
       "      <th id=\"T_e8ef7_level0_row19\" class=\"row_heading level0 row19\" >995</th>\n",
       "      <td id=\"T_e8ef7_row19_col0\" class=\"data row19 col0\" >1</td>\n",
       "      <td id=\"T_e8ef7_row19_col1\" class=\"data row19 col1\" >225100000X</td>\n",
       "      <td id=\"T_e8ef7_row19_col2\" class=\"data row19 col2\" >1518</td>\n",
       "      <td id=\"T_e8ef7_row19_col3\" class=\"data row19 col3\" >0.00%</td>\n",
       "    </tr>\n",
       "    <tr>\n",
       "      <th id=\"T_e8ef7_level0_row20\" class=\"row_heading level0 row20\" >837</th>\n",
       "      <td id=\"T_e8ef7_row20_col0\" class=\"data row20 col0\" >1</td>\n",
       "      <td id=\"T_e8ef7_row20_col1\" class=\"data row20 col1\" >207P00000X</td>\n",
       "      <td id=\"T_e8ef7_row20_col2\" class=\"data row20 col2\" >1030</td>\n",
       "      <td id=\"T_e8ef7_row20_col3\" class=\"data row20 col3\" >0.00%</td>\n",
       "    </tr>\n",
       "    <tr>\n",
       "      <th id=\"T_e8ef7_level0_row21\" class=\"row_heading level0 row21\" >1057</th>\n",
       "      <td id=\"T_e8ef7_row21_col0\" class=\"data row21 col0\" >1</td>\n",
       "      <td id=\"T_e8ef7_row21_col1\" class=\"data row21 col1\" >363L00000X</td>\n",
       "      <td id=\"T_e8ef7_row21_col2\" class=\"data row21 col2\" >858</td>\n",
       "      <td id=\"T_e8ef7_row21_col3\" class=\"data row21 col3\" >0.00%</td>\n",
       "    </tr>\n",
       "    <tr>\n",
       "      <th id=\"T_e8ef7_level0_row22\" class=\"row_heading level0 row22\" >1079</th>\n",
       "      <td id=\"T_e8ef7_row22_col0\" class=\"data row22 col0\" >1</td>\n",
       "      <td id=\"T_e8ef7_row22_col1\" class=\"data row22 col1\" >367500000X</td>\n",
       "      <td id=\"T_e8ef7_row22_col2\" class=\"data row22 col2\" >855</td>\n",
       "      <td id=\"T_e8ef7_row22_col3\" class=\"data row22 col3\" >0.00%</td>\n",
       "    </tr>\n",
       "    <tr>\n",
       "      <th id=\"T_e8ef7_level0_row23\" class=\"row_heading level0 row23\" >778</th>\n",
       "      <td id=\"T_e8ef7_row23_col0\" class=\"data row23 col0\" >1</td>\n",
       "      <td id=\"T_e8ef7_row23_col1\" class=\"data row23 col1\" >111N00000X</td>\n",
       "      <td id=\"T_e8ef7_row23_col2\" class=\"data row23 col2\" >682</td>\n",
       "      <td id=\"T_e8ef7_row23_col3\" class=\"data row23 col3\" >0.00%</td>\n",
       "    </tr>\n",
       "    <tr>\n",
       "      <th id=\"T_e8ef7_level0_row24\" class=\"row_heading level0 row24\" >828</th>\n",
       "      <td id=\"T_e8ef7_row24_col0\" class=\"data row24 col0\" >1</td>\n",
       "      <td id=\"T_e8ef7_row24_col1\" class=\"data row24 col1\" >207L00000X</td>\n",
       "      <td id=\"T_e8ef7_row24_col2\" class=\"data row24 col2\" >680</td>\n",
       "      <td id=\"T_e8ef7_row24_col3\" class=\"data row24 col3\" >0.00%</td>\n",
       "    </tr>\n",
       "    <tr>\n",
       "      <th id=\"T_e8ef7_level0_row25\" class=\"row_heading level0 row25\" >796</th>\n",
       "      <td id=\"T_e8ef7_row25_col0\" class=\"data row25 col0\" >1</td>\n",
       "      <td id=\"T_e8ef7_row25_col1\" class=\"data row25 col1\" >152W00000X</td>\n",
       "      <td id=\"T_e8ef7_row25_col2\" class=\"data row25 col2\" >658</td>\n",
       "      <td id=\"T_e8ef7_row25_col3\" class=\"data row25 col3\" >0.00%</td>\n",
       "    </tr>\n",
       "    <tr>\n",
       "      <th id=\"T_e8ef7_level0_row26\" class=\"row_heading level0 row26\" >971</th>\n",
       "      <td id=\"T_e8ef7_row26_col0\" class=\"data row26 col0\" >1</td>\n",
       "      <td id=\"T_e8ef7_row26_col1\" class=\"data row26 col1\" >2085R0202X</td>\n",
       "      <td id=\"T_e8ef7_row26_col2\" class=\"data row26 col2\" >617</td>\n",
       "      <td id=\"T_e8ef7_row26_col3\" class=\"data row26 col3\" >0.16%</td>\n",
       "    </tr>\n",
       "    <tr>\n",
       "      <th id=\"T_e8ef7_level0_row27\" class=\"row_heading level0 row27\" >1046</th>\n",
       "      <td id=\"T_e8ef7_row27_col0\" class=\"data row27 col0\" >1</td>\n",
       "      <td id=\"T_e8ef7_row27_col1\" class=\"data row27 col1\" >3336C0003X</td>\n",
       "      <td id=\"T_e8ef7_row27_col2\" class=\"data row27 col2\" >466</td>\n",
       "      <td id=\"T_e8ef7_row27_col3\" class=\"data row27 col3\" >0.00%</td>\n",
       "    </tr>\n",
       "    <tr>\n",
       "      <th id=\"T_e8ef7_level0_row28\" class=\"row_heading level0 row28\" >987</th>\n",
       "      <td id=\"T_e8ef7_row28_col0\" class=\"data row28 col0\" >1</td>\n",
       "      <td id=\"T_e8ef7_row28_col1\" class=\"data row28 col1\" >208M00000X</td>\n",
       "      <td id=\"T_e8ef7_row28_col2\" class=\"data row28 col2\" >410</td>\n",
       "      <td id=\"T_e8ef7_row28_col3\" class=\"data row28 col3\" >0.00%</td>\n",
       "    </tr>\n",
       "    <tr>\n",
       "      <th id=\"T_e8ef7_level0_row29\" class=\"row_heading level0 row29\" >958</th>\n",
       "      <td id=\"T_e8ef7_row29_col0\" class=\"data row29 col0\" >1</td>\n",
       "      <td id=\"T_e8ef7_row29_col1\" class=\"data row29 col1\" >2084P0800X</td>\n",
       "      <td id=\"T_e8ef7_row29_col2\" class=\"data row29 col2\" >402</td>\n",
       "      <td id=\"T_e8ef7_row29_col3\" class=\"data row29 col3\" >0.25%</td>\n",
       "    </tr>\n",
       "  </tbody>\n",
       "</table>\n"
      ],
      "text/plain": [
       "<pandas.io.formats.style.Styler at 0x140b0f110>"
      ]
     },
     "metadata": {},
     "output_type": "display_data"
    },
    {
     "data": {
      "text/html": [
       "<style type=\"text/css\">\n",
       "</style>\n",
       "<table id=\"T_15062\">\n",
       "  <thead>\n",
       "    <tr>\n",
       "      <th class=\"blank level0\" >&nbsp;</th>\n",
       "      <th id=\"T_15062_level0_col0\" class=\"col_heading level0 col0\" >missing_pct</th>\n",
       "      <th id=\"T_15062_level0_col1\" class=\"col_heading level0 col1\" >count</th>\n",
       "    </tr>\n",
       "  </thead>\n",
       "  <tbody>\n",
       "    <tr>\n",
       "      <th id=\"T_15062_level0_row0\" class=\"row_heading level0 row0\" >org_subpart_flag</th>\n",
       "      <td id=\"T_15062_row0_col0\" class=\"data row0 col0\" >80.1%</td>\n",
       "      <td id=\"T_15062_row0_col1\" class=\"data row0 col1\" >153483</td>\n",
       "    </tr>\n",
       "    <tr>\n",
       "      <th id=\"T_15062_level0_row1\" class=\"row_heading level0 row1\" >sole_proprietor_flag</th>\n",
       "      <td id=\"T_15062_row1_col0\" class=\"data row1 col0\" >25.2%</td>\n",
       "      <td id=\"T_15062_row1_col1\" class=\"data row1 col1\" >48385</td>\n",
       "    </tr>\n",
       "    <tr>\n",
       "      <th id=\"T_15062_level0_row2\" class=\"row_heading level0 row2\" >state</th>\n",
       "      <td id=\"T_15062_row2_col0\" class=\"data row2 col0\" >4.2%</td>\n",
       "      <td id=\"T_15062_row2_col1\" class=\"data row2 col1\" >7959</td>\n",
       "    </tr>\n",
       "    <tr>\n",
       "      <th id=\"T_15062_level0_row3\" class=\"row_heading level0 row3\" >zip5</th>\n",
       "      <td id=\"T_15062_row3_col0\" class=\"data row3 col0\" >4.1%</td>\n",
       "      <td id=\"T_15062_row3_col1\" class=\"data row3 col1\" >7871</td>\n",
       "    </tr>\n",
       "    <tr>\n",
       "      <th id=\"T_15062_level0_row4\" class=\"row_heading level0 row4\" >entity_type</th>\n",
       "      <td id=\"T_15062_row4_col0\" class=\"data row4 col0\" >4.1%</td>\n",
       "      <td id=\"T_15062_row4_col1\" class=\"data row4 col1\" >7870</td>\n",
       "    </tr>\n",
       "    <tr>\n",
       "      <th id=\"T_15062_level0_row5\" class=\"row_heading level0 row5\" >taxonomy</th>\n",
       "      <td id=\"T_15062_row5_col0\" class=\"data row5 col0\" >4.1%</td>\n",
       "      <td id=\"T_15062_row5_col1\" class=\"data row5 col1\" >7870</td>\n",
       "    </tr>\n",
       "    <tr>\n",
       "      <th id=\"T_15062_level0_row6\" class=\"row_heading level0 row6\" >days_since_enrollment</th>\n",
       "      <td id=\"T_15062_row6_col0\" class=\"data row6 col0\" >4.1%</td>\n",
       "      <td id=\"T_15062_row6_col1\" class=\"data row6 col1\" >7870</td>\n",
       "    </tr>\n",
       "    <tr>\n",
       "      <th id=\"T_15062_level0_row7\" class=\"row_heading level0 row7\" >npi</th>\n",
       "      <td id=\"T_15062_row7_col0\" class=\"data row7 col0\" >0.0%</td>\n",
       "      <td id=\"T_15062_row7_col1\" class=\"data row7 col1\" >0</td>\n",
       "    </tr>\n",
       "    <tr>\n",
       "      <th id=\"T_15062_level0_row8\" class=\"row_heading level0 row8\" >avg_payment_w</th>\n",
       "      <td id=\"T_15062_row8_col0\" class=\"data row8 col0\" >0.0%</td>\n",
       "      <td id=\"T_15062_row8_col1\" class=\"data row8 col1\" >0</td>\n",
       "    </tr>\n",
       "    <tr>\n",
       "      <th id=\"T_15062_level0_row9\" class=\"row_heading level0 row9\" >label_fraud</th>\n",
       "      <td id=\"T_15062_row9_col0\" class=\"data row9 col0\" >0.0%</td>\n",
       "      <td id=\"T_15062_row9_col1\" class=\"data row9 col1\" >0</td>\n",
       "    </tr>\n",
       "  </tbody>\n",
       "</table>\n"
      ],
      "text/plain": [
       "<pandas.io.formats.style.Styler at 0x144c3ac90>"
      ]
     },
     "metadata": {},
     "output_type": "display_data"
    },
    {
     "data": {
      "image/png": "[encoded data removed]",
      "text/plain": [
       "<Figure size 1000x600 with 1 Axes>"
      ]
     },
     "metadata": {},
     "output_type": "display_data"
    },
    {
     "name": "stdout",
     "output_type": "stream",
     "text": [
      "\n",
      "KS test: features with strongest distribution differences by bucket\n"
     ]
    },
    {
     "data": {
      "application/vnd.microsoft.datawrangler.viewer.v0+json": {
       "columns": [
        {
         "name": "index",
         "rawType": "int64",
         "type": "integer"
        },
        {
         "name": "feature",
         "rawType": "object",
         "type": "string"
        },
        {
         "name": "ks_stat",
         "rawType": "float64",
         "type": "float"
        },
        {
         "name": "p_value",
         "rawType": "float64",
         "type": "float"
        }
       ],
       "ref": "a5ff49c2-2a66-4011-9c33-fbd24f433bed",
       "rows": [
        [
         "0",
         "avg_allowed_w",
         "1.0",
         "0.0"
        ],
        [
         "18",
         "services_total",
         "1.0",
         "0.0"
        ],
        [
         "17",
         "services_per_beneficiary",
         "1.0",
         "0.0"
        ],
        [
         "16",
         "payment_to_allowed",
         "1.0",
         "0.0"
        ],
        [
         "12",
         "hcpcs_unique_count",
         "1.0",
         "0.0"
        ],
        [
         "11",
         "has_claims_features",
         "1.0",
         "0.0"
        ],
        [
         "19",
         "sole_proprietor_flag",
         "0.14913623794013597",
         "0.0"
        ],
        [
         "9",
         "drug_services_rate",
         "0.1915060510981622",
         "0.0"
        ],
        [
         "10",
         "entity_type",
         "0.1813072400386191",
         "0.0"
        ],
        [
         "7",
         "charge_to_allowed",
         "1.0",
         "0.0"
        ],
        [
         "6",
         "charge_std_w",
         "0.8846929627969521",
         "0.0"
        ],
        [
         "5",
         "beneficiary_days_total",
         "1.0",
         "0.0"
        ],
        [
         "4",
         "beneficiary_days_per_beneficiary",
         "1.0",
         "0.0"
        ],
        [
         "3",
         "beneficiaries_total",
         "1.0",
         "0.0"
        ],
        [
         "2",
         "avg_payment_w",
         "1.0",
         "0.0"
        ]
       ],
       "shape": {
        "columns": 3,
        "rows": 15
       }
      },
      "text/html": [
       "<div>\n",
       "<style scoped>\n",
       "    .dataframe tbody tr th:only-of-type {\n",
       "        vertical-align: middle;\n",
       "    }\n",
       "\n",
       "    .dataframe tbody tr th {\n",
       "        vertical-align: top;\n",
       "    }\n",
       "\n",
       "    .dataframe thead th {\n",
       "        text-align: right;\n",
       "    }\n",
       "</style>\n",
       "<table border=\"1\" class=\"dataframe\">\n",
       "  <thead>\n",
       "    <tr style=\"text-align: right;\">\n",
       "      <th></th>\n",
       "      <th>feature</th>\n",
       "      <th>ks_stat</th>\n",
       "      <th>p_value</th>\n",
       "    </tr>\n",
       "  </thead>\n",
       "  <tbody>\n",
       "    <tr>\n",
       "      <th>0</th>\n",
       "      <td>avg_allowed_w</td>\n",
       "      <td>1.000000</td>\n",
       "      <td>0.0</td>\n",
       "    </tr>\n",
       "    <tr>\n",
       "      <th>18</th>\n",
       "      <td>services_total</td>\n",
       "      <td>1.000000</td>\n",
       "      <td>0.0</td>\n",
       "    </tr>\n",
       "    <tr>\n",
       "      <th>17</th>\n",
       "      <td>services_per_beneficiary</td>\n",
       "      <td>1.000000</td>\n",
       "      <td>0.0</td>\n",
       "    </tr>\n",
       "    <tr>\n",
       "      <th>16</th>\n",
       "      <td>payment_to_allowed</td>\n",
       "      <td>1.000000</td>\n",
       "      <td>0.0</td>\n",
       "    </tr>\n",
       "    <tr>\n",
       "      <th>12</th>\n",
       "      <td>hcpcs_unique_count</td>\n",
       "      <td>1.000000</td>\n",
       "      <td>0.0</td>\n",
       "    </tr>\n",
       "    <tr>\n",
       "      <th>11</th>\n",
       "      <td>has_claims_features</td>\n",
       "      <td>1.000000</td>\n",
       "      <td>0.0</td>\n",
       "    </tr>\n",
       "    <tr>\n",
       "      <th>19</th>\n",
       "      <td>sole_proprietor_flag</td>\n",
       "      <td>0.149136</td>\n",
       "      <td>0.0</td>\n",
       "    </tr>\n",
       "    <tr>\n",
       "      <th>9</th>\n",
       "      <td>drug_services_rate</td>\n",
       "      <td>0.191506</td>\n",
       "      <td>0.0</td>\n",
       "    </tr>\n",
       "    <tr>\n",
       "      <th>10</th>\n",
       "      <td>entity_type</td>\n",
       "      <td>0.181307</td>\n",
       "      <td>0.0</td>\n",
       "    </tr>\n",
       "    <tr>\n",
       "      <th>7</th>\n",
       "      <td>charge_to_allowed</td>\n",
       "      <td>1.000000</td>\n",
       "      <td>0.0</td>\n",
       "    </tr>\n",
       "    <tr>\n",
       "      <th>6</th>\n",
       "      <td>charge_std_w</td>\n",
       "      <td>0.884693</td>\n",
       "      <td>0.0</td>\n",
       "    </tr>\n",
       "    <tr>\n",
       "      <th>5</th>\n",
       "      <td>beneficiary_days_total</td>\n",
       "      <td>1.000000</td>\n",
       "      <td>0.0</td>\n",
       "    </tr>\n",
       "    <tr>\n",
       "      <th>4</th>\n",
       "      <td>beneficiary_days_per_beneficiary</td>\n",
       "      <td>1.000000</td>\n",
       "      <td>0.0</td>\n",
       "    </tr>\n",
       "    <tr>\n",
       "      <th>3</th>\n",
       "      <td>beneficiaries_total</td>\n",
       "      <td>1.000000</td>\n",
       "      <td>0.0</td>\n",
       "    </tr>\n",
       "    <tr>\n",
       "      <th>2</th>\n",
       "      <td>avg_payment_w</td>\n",
       "      <td>1.000000</td>\n",
       "      <td>0.0</td>\n",
       "    </tr>\n",
       "  </tbody>\n",
       "</table>\n",
       "</div>"
      ],
      "text/plain": [
       "                             feature   ks_stat  p_value\n",
       "0                      avg_allowed_w  1.000000      0.0\n",
       "18                    services_total  1.000000      0.0\n",
       "17          services_per_beneficiary  1.000000      0.0\n",
       "16                payment_to_allowed  1.000000      0.0\n",
       "12                hcpcs_unique_count  1.000000      0.0\n",
       "11               has_claims_features  1.000000      0.0\n",
       "19              sole_proprietor_flag  0.149136      0.0\n",
       "9                 drug_services_rate  0.191506      0.0\n",
       "10                       entity_type  0.181307      0.0\n",
       "7                  charge_to_allowed  1.000000      0.0\n",
       "6                       charge_std_w  0.884693      0.0\n",
       "5             beneficiary_days_total  1.000000      0.0\n",
       "4   beneficiary_days_per_beneficiary  1.000000      0.0\n",
       "3                beneficiaries_total  1.000000      0.0\n",
       "2                      avg_payment_w  1.000000      0.0"
      ]
     },
     "metadata": {},
     "output_type": "display_data"
    }
   ],
   "source": [
    "# some coverage and completeness checks\n",
    "\n",
    "# ensuring bucket is clean integers\n",
    "if \"has_claims_features\" in df.columns:\n",
    "    df[\"has_claims_features\"] = df[\"has_claims_features\"].fillna(0).astype(int)\n",
    "else:\n",
    "    raise ValueError(\"Column 'has_claims_features' not found. Expected after wrangling.\")\n",
    "\n",
    "# inserting scaffold guards\n",
    "assert \"label_fraud\" in df.columns, \"Missing target column 'label_fraud'.\"\n",
    "df[\"label_fraud\"] = df[\"label_fraud\"].fillna(0).astype(int)\n",
    "\n",
    "# cohort size and fraud prevalence by bucket\n",
    "bucket = (\n",
    "    df.groupby(\"has_claims_features\")\n",
    "      .agg(rows=(\"npi\",\"size\"),\n",
    "           fraud_rate=(\"label_fraud\",\"mean\"))\n",
    "      .assign(pct=lambda x: x[\"rows\"] / len(df))\n",
    "      .sort_index()\n",
    ")\n",
    "display(bucket.style.format({\"pct\":\"{:.1%}\",\"fraud_rate\":\"{:.2%}\"}))\n",
    "\n",
    "# slicing the bucket by key categoricals\n",
    "for col in [c for c in [\"state\",\"entity_type\",\"taxonomy\"] if c in df.columns]:\n",
    "    tmp = (df.groupby([\"has_claims_features\", col])\n",
    "             .agg(rows=(\"npi\",\"size\"), fraud_rate=(\"label_fraud\",\"mean\"))\n",
    "             .reset_index())\n",
    "    # show top 15 by rows within each bucket\n",
    "    out = tmp.sort_values([\"has_claims_features\",\"rows\"], ascending=[True,False])\\\n",
    "             .groupby(\"has_claims_features\").head(15)\n",
    "    print(f\"\\nTop {col} by volume within has_claims_features buckets\")\n",
    "    display(out.style.format({\"fraud_rate\":\"{:.2%}\"}))\n",
    "\n",
    "\n",
    "# missingness overview: table of top 10 missing columns\n",
    "miss_tbl = (df.isna().mean().sort_values(ascending=False)\n",
    "              .to_frame(\"missing_pct\")\n",
    "              .assign(count=lambda x: (x[\"missing_pct\"]*len(df)).round().astype(int)))\n",
    "display(miss_tbl.head(10).style.format({\"missing_pct\":\"{:.1%}\"}))\n",
    "\n",
    "\n",
    "# missingness heatmap (subsetting to the 30 most missing columns for visibility)\n",
    "top_cols = miss_tbl.head(30).index.tolist()\n",
    "if top_cols:\n",
    "    plt.figure(figsize=(10,6))\n",
    "    sns.heatmap(df[top_cols].isna(), cbar=False)\n",
    "    plt.title(\"Missingness pattern (top-30 missing columns)\")\n",
    "    plt.xlabel(\"Columns\")\n",
    "    plt.ylabel(\"Rows (sample)\")\n",
    "    plt.show()\n",
    "\n",
    "# having a label leakage check\n",
    "y = df[\"label_fraud\"].astype(int).values\n",
    "\n",
    "# Exclude identifier-like numerics from signal checks\n",
    "id_like = [c for c in [\"npi\", \"tin\", \"ein\", \"org_id\"] if c in df.columns]\n",
    "\n",
    "X_num = (df.select_dtypes(include=[np.number])\n",
    "           .drop(columns=[\"label_fraud\"] + id_like, errors=\"ignore\"))\n",
    "num_feats = X_num.columns.tolist()\n",
    "\n",
    "# 1A: Single-feature ROC AUC / AP\n",
    "rows = []\n",
    "for f in num_feats:\n",
    "    # make a 1-D array; fill NaNs with the feature median\n",
    "    xv = X_num[f].fillna(X_num[f].median()).to_numpy().ravel()\n",
    "    try:\n",
    "        # guard: if the feature is constant after fill, AUC/AP are undefined\n",
    "        if np.all(xv == xv[0]):\n",
    "            auc, ap = (np.nan, np.nan)\n",
    "        else:\n",
    "            auc = roc_auc_score(y, xv)\n",
    "            ap  = average_precision_score(y, xv)\n",
    "    except Exception:\n",
    "        auc, ap = (np.nan, np.nan)\n",
    "    rows.append((f, auc, ap))\n",
    "\n",
    "single_auc = (pd.DataFrame(rows, columns=[\"feature\",\"roc_auc\",\"avg_precision\"])\n",
    "                .sort_values(\"roc_auc\", ascending=False))\n",
    "print(\"Possible leakage (AUC > 0.85 typically suspicious):\")\n",
    "display(single_auc.head(25))\n",
    "\n",
    "\n",
    "# 1B: Mutual Information (secondary lens)\n",
    "mi = mutual_info_classif(X_num.fillna(X_num.median()), y, discrete_features=False, random_state=0)\n",
    "mi_tbl = pd.DataFrame({\"feature\": num_feats, \"mi\": mi}).sort_values(\"mi\", ascending=False)\n",
    "display(mi_tbl.head(25))\n",
    "\n",
    "# 1C: Name heuristics\n",
    "suspect_substrings = [\"excluded\",\"sanction\",\"oig\",\"investigat\",\"clawback\",\"recovery\",\n",
    "                      \"post\",\"asof_\",\"denial\",\"appeal\"]\n",
    "suspects = [c for c in df.columns if any(s in c.lower() for s in suspect_substrings)]\n",
    "print(\"Potentially leaky by name:\", suspects)\n",
    "\n",
    "\n",
    "# addressing redundnancy & multicollinearity (spearman >= 0.95)\n",
    "num = (df.select_dtypes(include=[np.number])\n",
    "         .drop(columns=[\"label_fraud\"] + id_like, errors=\"ignore\"))\n",
    "corr = num.corr(method=\"spearman\").abs()\n",
    "\n",
    "pairs = (corr.where(np.triu(np.ones(corr.shape), k=1).astype(bool))\n",
    "              .stack()\n",
    "              .reset_index())\n",
    "pairs.columns = [\"f1\",\"f2\",\"abs_spearman\"]\n",
    "high = pairs[pairs[\"abs_spearman\"]>=0.95].sort_values(\"abs_spearman\", ascending=False)\n",
    "print(\"Highly correlated pairs (>=0.95):\", len(high))\n",
    "display(high.head(40))\n",
    "\n",
    "\n",
    "# checking to see if numeric distributions are different between buckets\n",
    "num_cols = (df.select_dtypes(include=[np.number])\n",
    "              .drop(columns=[\"label_fraud\"] + id_like, errors=\"ignore\")\n",
    "              .columns)\n",
    "\n",
    "ks_rows = []\n",
    "for c in num_cols:\n",
    "    a = df.loc[df[\"has_claims_features\"]==1, c].dropna()\n",
    "    b = df.loc[df[\"has_claims_features\"]==0, c].dropna()\n",
    "    if len(a)>50 and len(b)>50:\n",
    "        stat, p = ks_2samp(a, b)\n",
    "        ks_rows.append((c, stat, p))\n",
    "ks_tbl = (pd.DataFrame(ks_rows, columns=[\"feature\",\"ks_stat\",\"p_value\"])\n",
    "          .sort_values(\"ks_stat\", ascending=False))\n",
    "print(\"\\nKS test: features with strongest distribution differences by bucket\")\n",
    "display(ks_tbl.head(15))"
   ]
  },
  {
   "cell_type": "markdown",
   "id": "3336d84d",
   "metadata": {},
   "source": [
    "### The cohort split (has_claims_features) has a giant difference in prevalence. Bucket =1 has rich claims features but it's fraud label prevalence is nearly zero\n",
    "### There will be two paths I can go about this. \n",
    "### The first path can be a 'two-path scoring'. I can train my NN only on has_claims_features=1. For has_claims_features=0 I can ship a lightweight fallback\n",
    "\n",
    "\n",
    "### The second path will consist of having a single model but being bucket aware. Keeping both buckets but adding missingness flags and consistent imputation for every claims-derived column. Also stratifying train/valid/test by label and bucket\n",
    "\n",
    "### Based off of the low count of =1's (around 26k rows), I am going to tweak the two-path strategy. "
   ]
  },
  {
   "cell_type": "code",
   "execution_count": 25,
   "id": "5c317b3f",
   "metadata": {},
   "outputs": [
    {
     "name": "stdout",
     "output_type": "stream",
     "text": [
      "\n",
      "state: 64 unique values\n"
     ]
    },
    {
     "data": {
      "application/vnd.microsoft.datawrangler.viewer.v0+json": {
       "columns": [
        {
         "name": "state",
         "rawType": "object",
         "type": "unknown"
        },
        {
         "name": "count",
         "rawType": "int64",
         "type": "integer"
        }
       ],
       "ref": "65f2758e-999b-4d6b-b051-2698c4a5a0a1",
       "rows": [
        [
         "CA",
         "22473"
        ],
        [
         "NY",
         "13538"
        ],
        [
         "FL",
         "12573"
        ],
        [
         "TX",
         "11818"
        ],
        [
         null,
         "7959"
        ],
        [
         "OH",
         "7824"
        ],
        [
         "PA",
         "6916"
        ],
        [
         "MI",
         "6849"
        ],
        [
         "IL",
         "6401"
        ],
        [
         "NC",
         "5359"
        ],
        [
         "MA",
         "5184"
        ],
        [
         "WA",
         "4963"
        ],
        [
         "NJ",
         "4558"
        ],
        [
         "GA",
         "4528"
        ],
        [
         "CO",
         "3924"
        ]
       ],
       "shape": {
        "columns": 1,
        "rows": 15
       }
      },
      "text/plain": [
       "state\n",
       "CA      22473\n",
       "NY      13538\n",
       "FL      12573\n",
       "TX      11818\n",
       "None     7959\n",
       "OH       7824\n",
       "PA       6916\n",
       "MI       6849\n",
       "IL       6401\n",
       "NC       5359\n",
       "MA       5184\n",
       "WA       4963\n",
       "NJ       4558\n",
       "GA       4528\n",
       "CO       3924\n",
       "Name: count, dtype: int64"
      ]
     },
     "metadata": {},
     "output_type": "display_data"
    },
    {
     "name": "stdout",
     "output_type": "stream",
     "text": [
      "\n",
      "entity_type: 3 unique values\n"
     ]
    },
    {
     "data": {
      "application/vnd.microsoft.datawrangler.viewer.v0+json": {
       "columns": [
        {
         "name": "entity_type",
         "rawType": "float64",
         "type": "float"
        },
        {
         "name": "count",
         "rawType": "int64",
         "type": "integer"
        }
       ],
       "ref": "6e3e6603-76c1-41c8-9f09-1b8ee40a5599",
       "rows": [
        [
         "1.0",
         "145613"
        ],
        [
         "2.0",
         "38217"
        ],
        [
         null,
         "7870"
        ]
       ],
       "shape": {
        "columns": 1,
        "rows": 3
       }
      },
      "text/plain": [
       "entity_type\n",
       "1.0    145613\n",
       "2.0     38217\n",
       "NaN      7870\n",
       "Name: count, dtype: int64"
      ]
     },
     "metadata": {},
     "output_type": "display_data"
    },
    {
     "name": "stdout",
     "output_type": "stream",
     "text": [
      "\n",
      "taxonomy: 769 unique values\n"
     ]
    },
    {
     "data": {
      "application/vnd.microsoft.datawrangler.viewer.v0+json": {
       "columns": [
        {
         "name": "taxonomy",
         "rawType": "object",
         "type": "unknown"
        },
        {
         "name": "count",
         "rawType": "int64",
         "type": "integer"
        }
       ],
       "ref": "615361be-329a-4fe9-a1cf-ac4b9b06a45c",
       "rows": [
        [
         null,
         "7870"
        ],
        [
         "106S00000X",
         "7280"
        ],
        [
         "1041C0700X",
         "6905"
        ],
        [
         "183500000X",
         "6536"
        ],
        [
         "101YM0800X",
         "6258"
        ],
        [
         "225100000X",
         "6073"
        ],
        [
         "207Q00000X",
         "5001"
        ],
        [
         "363LF0000X",
         "4836"
        ],
        [
         "207R00000X",
         "4474"
        ],
        [
         "235Z00000X",
         "4208"
        ],
        [
         "1223G0001X",
         "3958"
        ],
        [
         "390200000X",
         "3818"
        ],
        [
         "111N00000X",
         "3727"
        ],
        [
         "363A00000X",
         "3218"
        ],
        [
         "101YP2500X",
         "3192"
        ]
       ],
       "shape": {
        "columns": 1,
        "rows": 15
       }
      },
      "text/plain": [
       "taxonomy\n",
       "None          7870\n",
       "106S00000X    7280\n",
       "1041C0700X    6905\n",
       "183500000X    6536\n",
       "101YM0800X    6258\n",
       "225100000X    6073\n",
       "207Q00000X    5001\n",
       "363LF0000X    4836\n",
       "207R00000X    4474\n",
       "235Z00000X    4208\n",
       "1223G0001X    3958\n",
       "390200000X    3818\n",
       "111N00000X    3727\n",
       "363A00000X    3218\n",
       "101YP2500X    3192\n",
       "Name: count, dtype: int64"
      ]
     },
     "metadata": {},
     "output_type": "display_data"
    }
   ],
   "source": [
    "# cardinality of categorical features (to plan for encoding)\n",
    "cat_cols = [c for c in [\"state\",\"entity_type\",\"taxonomy\"] if c in df.columns]\n",
    "for c in cat_cols:\n",
    "    vc = df[c].value_counts(dropna=False)\n",
    "    print(f\"\\n{c}: {len(vc)} unique values\")\n",
    "    display(vc.head(15))\n"
   ]
  },
  {
   "cell_type": "code",
   "execution_count": 20,
   "id": "15a86379",
   "metadata": {},
   "outputs": [
    {
     "data": {
      "image/png": "[encoded data removed]",
      "text/plain": [
       "<Figure size 400x300 with 1 Axes>"
      ]
     },
     "metadata": {},
     "output_type": "display_data"
    },
    {
     "data": {
      "image/png": "[encoded data removed]",
      "text/plain": [
       "<Figure size 400x300 with 1 Axes>"
      ]
     },
     "metadata": {},
     "output_type": "display_data"
    }
   ],
   "source": [
    "# target feature distribution\n",
    "fig, ax = plt.subplots(figsize=(4,3))\n",
    "sns.countplot(x=\"label_fraud\", data=df, ax=ax)\n",
    "ax.set_xlabel(\"Fraud label (0=no, 1=yes)\")\n",
    "ax.set_ylabel(\"Count\")\n",
    "ax.bar_label(ax.containers[0])\n",
    "ax.set_title(f\"Fraud prevalence: {df['label_fraud'].mean():.2%}\")\n",
    "plt.tight_layout()\n",
    "plt.show()\n"
   ]
  },
  {
   "cell_type": "code",
   "execution_count": 22,
   "id": "b5afdac6",
   "metadata": {},
   "outputs": [
    {
     "data": {
      "image/png": "[encoded data removed]",
      "text/plain": [
       "<Figure size 500x300 with 1 Axes>"
      ]
     },
     "metadata": {},
     "output_type": "display_data"
    },
    {
     "data": {
      "image/png": "[encoded data removed]",
      "text/plain": [
       "<Figure size 500x300 with 1 Axes>"
      ]
     },
     "metadata": {},
     "output_type": "display_data"
    },
    {
     "data": {
      "image/png": "[encoded data removed]",
      "text/plain": [
       "<Figure size 500x300 with 1 Axes>"
      ]
     },
     "metadata": {},
     "output_type": "display_data"
    },
    {
     "data": {
      "image/png": "[encoded data removed]",
      "text/plain": [
       "<Figure size 500x300 with 1 Axes>"
      ]
     },
     "metadata": {},
     "output_type": "display_data"
    },
    {
     "data": {
      "image/png": "[encoded data removed]",
      "text/plain": [
       "<Figure size 500x300 with 1 Axes>"
      ]
     },
     "metadata": {},
     "output_type": "display_data"
    },
    {
     "data": {
      "image/png": "[encoded data removed]",
      "text/plain": [
       "<Figure size 500x300 with 1 Axes>"
      ]
     },
     "metadata": {},
     "output_type": "display_data"
    },
    {
     "data": {
      "image/png": "[encoded data removed]",
      "text/plain": [
       "<Figure size 500x300 with 1 Axes>"
      ]
     },
     "metadata": {},
     "output_type": "display_data"
    },
    {
     "data": {
      "image/png": "[encoded data removed]",
      "text/plain": [
       "<Figure size 500x300 with 1 Axes>"
      ]
     },
     "metadata": {},
     "output_type": "display_data"
    },
    {
     "data": {
      "image/png": "[encoded data removed]",
      "text/plain": [
       "<Figure size 500x300 with 1 Axes>"
      ]
     },
     "metadata": {},
     "output_type": "display_data"
    },
    {
     "data": {
      "image/png": "[encoded data removed]",
      "text/plain": [
       "<Figure size 500x300 with 1 Axes>"
      ]
     },
     "metadata": {},
     "output_type": "display_data"
    },
    {
     "data": {
      "image/png": "[encoded data removed]",
      "text/plain": [
       "<Figure size 500x300 with 1 Axes>"
      ]
     },
     "metadata": {},
     "output_type": "display_data"
    },
    {
     "data": {
      "image/png": "[encoded data removed]",
      "text/plain": [
       "<Figure size 500x300 with 1 Axes>"
      ]
     },
     "metadata": {},
     "output_type": "display_data"
    },
    {
     "data": {
      "image/png": "[encoded data removed]",
      "text/plain": [
       "<Figure size 500x300 with 1 Axes>"
      ]
     },
     "metadata": {},
     "output_type": "display_data"
    },
    {
     "data": {
      "image/png": "[encoded data removed]",
      "text/plain": [
       "<Figure size 500x300 with 1 Axes>"
      ]
     },
     "metadata": {},
     "output_type": "display_data"
    }
   ],
   "source": [
    "# numeric feature distribution vs target\n",
    "\n",
    "# choose representative numeric features (adjust as you like)\n",
    "num_cols_view = [\n",
    "    \"services_total\",\"avg_charge_w\",\"avg_payment_w\",\"charge_to_allowed\",\n",
    "    \"hcpcs_unique_count\",\"days_since_enrollment\",\"charge_std_w\"\n",
    "]\n",
    "present = [c for c in num_cols_view if c in df.columns]\n",
    "\n",
    "for c in present:\n",
    "    fig, ax = plt.subplots(figsize=(5,3))\n",
    "    x = df[c].clip(upper=df[c].quantile(0.99))  # clip for readability\n",
    "    sns.histplot(x=x, hue=df[\"label_fraud\"], bins=40, stat=\"density\",\n",
    "                 common_norm=False, ax=ax)\n",
    "    ax.set_title(f\"{c} vs. fraud\")\n",
    "    if c in {\"services_total\",\"avg_charge_w\",\"avg_payment_w\",\"charge_std_w\"}:\n",
    "        ax.set_xscale(\"log\")\n",
    "    plt.tight_layout()\n",
    "    plt.show()\n"
   ]
  },
  {
   "cell_type": "code",
   "execution_count": 27,
   "id": "9f8252e5",
   "metadata": {},
   "outputs": [
    {
     "data": {
      "image/png": "[encoded data removed]",
      "text/plain": [
       "<Figure size 600x350 with 1 Axes>"
      ]
     },
     "metadata": {},
     "output_type": "display_data"
    },
    {
     "data": {
      "image/png": "[encoded data removed]",
      "text/plain": [
       "<Figure size 600x350 with 1 Axes>"
      ]
     },
     "metadata": {},
     "output_type": "display_data"
    },
    {
     "data": {
      "image/png": "[encoded data removed]",
      "text/plain": [
       "<Figure size 600x350 with 1 Axes>"
      ]
     },
     "metadata": {},
     "output_type": "display_data"
    },
    {
     "data": {
      "image/png": "[encoded data removed]",
      "text/plain": [
       "<Figure size 600x350 with 1 Axes>"
      ]
     },
     "metadata": {},
     "output_type": "display_data"
    },
    {
     "data": {
      "application/vnd.microsoft.datawrangler.viewer.v0+json": {
       "columns": [
        {
         "name": "state",
         "rawType": "object",
         "type": "string"
        },
        {
         "name": "rate",
         "rawType": "float64",
         "type": "float"
        },
        {
         "name": "count",
         "rawType": "int64",
         "type": "integer"
        }
       ],
       "ref": "047a4711-00cc-463a-9148-22b1427d955d",
       "rows": [
        [
         "OH",
         "0.06134969325153374",
         "7824"
        ],
        [
         "NY",
         "0.04609248042546905",
         "13538"
        ],
        [
         "FL",
         "0.039688220790583",
         "12573"
        ],
        [
         "MI",
         "0.038253759672944955",
         "6849"
        ],
        [
         "PA",
         "0.037160208212839795",
         "6916"
        ],
        [
         "CA",
         "0.034085346860677254",
         "22473"
        ],
        [
         "IL",
         "0.02843305733479144",
         "6401"
        ],
        [
         "TX",
         "0.02766965645625317",
         "11818"
        ],
        [
         "NJ",
         "0.027424308907415533",
         "4558"
        ],
        [
         "VA",
         "0.026309067688378034",
         "3915"
        ],
        [
         "GA",
         "0.025397526501766785",
         "4528"
        ],
        [
         "CO",
         "0.02420998980632008",
         "3924"
        ],
        [
         "WA",
         "0.02075357646584727",
         "4963"
        ],
        [
         "NC",
         "0.016047770106363126",
         "5359"
        ],
        [
         "MA",
         "0.015239197530864198",
         "5184"
        ]
       ],
       "shape": {
        "columns": 2,
        "rows": 15
       }
      },
      "text/html": [
       "<div>\n",
       "<style scoped>\n",
       "    .dataframe tbody tr th:only-of-type {\n",
       "        vertical-align: middle;\n",
       "    }\n",
       "\n",
       "    .dataframe tbody tr th {\n",
       "        vertical-align: top;\n",
       "    }\n",
       "\n",
       "    .dataframe thead th {\n",
       "        text-align: right;\n",
       "    }\n",
       "</style>\n",
       "<table border=\"1\" class=\"dataframe\">\n",
       "  <thead>\n",
       "    <tr style=\"text-align: right;\">\n",
       "      <th></th>\n",
       "      <th>rate</th>\n",
       "      <th>count</th>\n",
       "    </tr>\n",
       "    <tr>\n",
       "      <th>state</th>\n",
       "      <th></th>\n",
       "      <th></th>\n",
       "    </tr>\n",
       "  </thead>\n",
       "  <tbody>\n",
       "    <tr>\n",
       "      <th>OH</th>\n",
       "      <td>0.061350</td>\n",
       "      <td>7824</td>\n",
       "    </tr>\n",
       "    <tr>\n",
       "      <th>NY</th>\n",
       "      <td>0.046092</td>\n",
       "      <td>13538</td>\n",
       "    </tr>\n",
       "    <tr>\n",
       "      <th>FL</th>\n",
       "      <td>0.039688</td>\n",
       "      <td>12573</td>\n",
       "    </tr>\n",
       "    <tr>\n",
       "      <th>MI</th>\n",
       "      <td>0.038254</td>\n",
       "      <td>6849</td>\n",
       "    </tr>\n",
       "    <tr>\n",
       "      <th>PA</th>\n",
       "      <td>0.037160</td>\n",
       "      <td>6916</td>\n",
       "    </tr>\n",
       "    <tr>\n",
       "      <th>CA</th>\n",
       "      <td>0.034085</td>\n",
       "      <td>22473</td>\n",
       "    </tr>\n",
       "    <tr>\n",
       "      <th>IL</th>\n",
       "      <td>0.028433</td>\n",
       "      <td>6401</td>\n",
       "    </tr>\n",
       "    <tr>\n",
       "      <th>TX</th>\n",
       "      <td>0.027670</td>\n",
       "      <td>11818</td>\n",
       "    </tr>\n",
       "    <tr>\n",
       "      <th>NJ</th>\n",
       "      <td>0.027424</td>\n",
       "      <td>4558</td>\n",
       "    </tr>\n",
       "    <tr>\n",
       "      <th>VA</th>\n",
       "      <td>0.026309</td>\n",
       "      <td>3915</td>\n",
       "    </tr>\n",
       "    <tr>\n",
       "      <th>GA</th>\n",
       "      <td>0.025398</td>\n",
       "      <td>4528</td>\n",
       "    </tr>\n",
       "    <tr>\n",
       "      <th>CO</th>\n",
       "      <td>0.024210</td>\n",
       "      <td>3924</td>\n",
       "    </tr>\n",
       "    <tr>\n",
       "      <th>WA</th>\n",
       "      <td>0.020754</td>\n",
       "      <td>4963</td>\n",
       "    </tr>\n",
       "    <tr>\n",
       "      <th>NC</th>\n",
       "      <td>0.016048</td>\n",
       "      <td>5359</td>\n",
       "    </tr>\n",
       "    <tr>\n",
       "      <th>MA</th>\n",
       "      <td>0.015239</td>\n",
       "      <td>5184</td>\n",
       "    </tr>\n",
       "  </tbody>\n",
       "</table>\n",
       "</div>"
      ],
      "text/plain": [
       "           rate  count\n",
       "state                 \n",
       "OH     0.061350   7824\n",
       "NY     0.046092  13538\n",
       "FL     0.039688  12573\n",
       "MI     0.038254   6849\n",
       "PA     0.037160   6916\n",
       "CA     0.034085  22473\n",
       "IL     0.028433   6401\n",
       "TX     0.027670  11818\n",
       "NJ     0.027424   4558\n",
       "VA     0.026309   3915\n",
       "GA     0.025398   4528\n",
       "CO     0.024210   3924\n",
       "WA     0.020754   4963\n",
       "NC     0.016048   5359\n",
       "MA     0.015239   5184"
      ]
     },
     "metadata": {},
     "output_type": "display_data"
    },
    {
     "data": {
      "application/vnd.microsoft.datawrangler.viewer.v0+json": {
       "columns": [
        {
         "name": "entity_type",
         "rawType": "float64",
         "type": "float"
        },
        {
         "name": "rate",
         "rawType": "float64",
         "type": "float"
        },
        {
         "name": "count",
         "rawType": "int64",
         "type": "integer"
        }
       ],
       "ref": "0120ae3d-0ef6-4f82-a3b0-0d3d8399b951",
       "rows": [
        [
         "1.0",
         "0.03774388275772081",
         "145613"
        ],
        [
         "2.0",
         "0.011591700028783002",
         "38217"
        ]
       ],
       "shape": {
        "columns": 2,
        "rows": 2
       }
      },
      "text/html": [
       "<div>\n",
       "<style scoped>\n",
       "    .dataframe tbody tr th:only-of-type {\n",
       "        vertical-align: middle;\n",
       "    }\n",
       "\n",
       "    .dataframe tbody tr th {\n",
       "        vertical-align: top;\n",
       "    }\n",
       "\n",
       "    .dataframe thead th {\n",
       "        text-align: right;\n",
       "    }\n",
       "</style>\n",
       "<table border=\"1\" class=\"dataframe\">\n",
       "  <thead>\n",
       "    <tr style=\"text-align: right;\">\n",
       "      <th></th>\n",
       "      <th>rate</th>\n",
       "      <th>count</th>\n",
       "    </tr>\n",
       "    <tr>\n",
       "      <th>entity_type</th>\n",
       "      <th></th>\n",
       "      <th></th>\n",
       "    </tr>\n",
       "  </thead>\n",
       "  <tbody>\n",
       "    <tr>\n",
       "      <th>1.0</th>\n",
       "      <td>0.037744</td>\n",
       "      <td>145613</td>\n",
       "    </tr>\n",
       "    <tr>\n",
       "      <th>2.0</th>\n",
       "      <td>0.011592</td>\n",
       "      <td>38217</td>\n",
       "    </tr>\n",
       "  </tbody>\n",
       "</table>\n",
       "</div>"
      ],
      "text/plain": [
       "                 rate   count\n",
       "entity_type                  \n",
       "1.0          0.037744  145613\n",
       "2.0          0.011592   38217"
      ]
     },
     "metadata": {},
     "output_type": "display_data"
    },
    {
     "data": {
      "application/vnd.microsoft.datawrangler.viewer.v0+json": {
       "columns": [
        {
         "name": "taxonomy",
         "rawType": "object",
         "type": "string"
        },
        {
         "name": "rate",
         "rawType": "float64",
         "type": "float"
        },
        {
         "name": "count",
         "rawType": "int64",
         "type": "integer"
        }
       ],
       "ref": "2e7d275a-f21e-4e27-b4c6-6ccc0357f78d",
       "rows": [
        [
         "207Q00000X",
         "0.09918016396720655",
         "5001"
        ],
        [
         "111N00000X",
         "0.08773812718003757",
         "3727"
        ],
        [
         "207R00000X",
         "0.08739383102369244",
         "4474"
        ],
        [
         "183500000X",
         "0.0341187270501836",
         "6536"
        ],
        [
         "1223G0001X",
         "0.03335017685699848",
         "3958"
        ],
        [
         "101YP2500X",
         "0.02694235588972431",
         "3192"
        ],
        [
         "363A00000X",
         "0.02610316967060286",
         "3218"
        ],
        [
         "101YM0800X",
         "0.02141259188239054",
         "6258"
        ],
        [
         "363LF0000X",
         "0.019851116625310174",
         "4836"
        ],
        [
         "1041C0700X",
         "0.01622013034033309",
         "6905"
        ],
        [
         "225100000X",
         "0.013831714144574346",
         "6073"
        ],
        [
         "171M00000X",
         "0.01362126245847176",
         "3010"
        ],
        [
         "235Z00000X",
         "0.007842205323193916",
         "4208"
        ],
        [
         "390200000X",
         "0.004452592980618125",
         "3818"
        ],
        [
         "106S00000X",
         "0.001098901098901099",
         "7280"
        ]
       ],
       "shape": {
        "columns": 2,
        "rows": 15
       }
      },
      "text/html": [
       "<div>\n",
       "<style scoped>\n",
       "    .dataframe tbody tr th:only-of-type {\n",
       "        vertical-align: middle;\n",
       "    }\n",
       "\n",
       "    .dataframe tbody tr th {\n",
       "        vertical-align: top;\n",
       "    }\n",
       "\n",
       "    .dataframe thead th {\n",
       "        text-align: right;\n",
       "    }\n",
       "</style>\n",
       "<table border=\"1\" class=\"dataframe\">\n",
       "  <thead>\n",
       "    <tr style=\"text-align: right;\">\n",
       "      <th></th>\n",
       "      <th>rate</th>\n",
       "      <th>count</th>\n",
       "    </tr>\n",
       "    <tr>\n",
       "      <th>taxonomy</th>\n",
       "      <th></th>\n",
       "      <th></th>\n",
       "    </tr>\n",
       "  </thead>\n",
       "  <tbody>\n",
       "    <tr>\n",
       "      <th>207Q00000X</th>\n",
       "      <td>0.099180</td>\n",
       "      <td>5001</td>\n",
       "    </tr>\n",
       "    <tr>\n",
       "      <th>111N00000X</th>\n",
       "      <td>0.087738</td>\n",
       "      <td>3727</td>\n",
       "    </tr>\n",
       "    <tr>\n",
       "      <th>207R00000X</th>\n",
       "      <td>0.087394</td>\n",
       "      <td>4474</td>\n",
       "    </tr>\n",
       "    <tr>\n",
       "      <th>183500000X</th>\n",
       "      <td>0.034119</td>\n",
       "      <td>6536</td>\n",
       "    </tr>\n",
       "    <tr>\n",
       "      <th>1223G0001X</th>\n",
       "      <td>0.033350</td>\n",
       "      <td>3958</td>\n",
       "    </tr>\n",
       "    <tr>\n",
       "      <th>101YP2500X</th>\n",
       "      <td>0.026942</td>\n",
       "      <td>3192</td>\n",
       "    </tr>\n",
       "    <tr>\n",
       "      <th>363A00000X</th>\n",
       "      <td>0.026103</td>\n",
       "      <td>3218</td>\n",
       "    </tr>\n",
       "    <tr>\n",
       "      <th>101YM0800X</th>\n",
       "      <td>0.021413</td>\n",
       "      <td>6258</td>\n",
       "    </tr>\n",
       "    <tr>\n",
       "      <th>363LF0000X</th>\n",
       "      <td>0.019851</td>\n",
       "      <td>4836</td>\n",
       "    </tr>\n",
       "    <tr>\n",
       "      <th>1041C0700X</th>\n",
       "      <td>0.016220</td>\n",
       "      <td>6905</td>\n",
       "    </tr>\n",
       "    <tr>\n",
       "      <th>225100000X</th>\n",
       "      <td>0.013832</td>\n",
       "      <td>6073</td>\n",
       "    </tr>\n",
       "    <tr>\n",
       "      <th>171M00000X</th>\n",
       "      <td>0.013621</td>\n",
       "      <td>3010</td>\n",
       "    </tr>\n",
       "    <tr>\n",
       "      <th>235Z00000X</th>\n",
       "      <td>0.007842</td>\n",
       "      <td>4208</td>\n",
       "    </tr>\n",
       "    <tr>\n",
       "      <th>390200000X</th>\n",
       "      <td>0.004453</td>\n",
       "      <td>3818</td>\n",
       "    </tr>\n",
       "    <tr>\n",
       "      <th>106S00000X</th>\n",
       "      <td>0.001099</td>\n",
       "      <td>7280</td>\n",
       "    </tr>\n",
       "  </tbody>\n",
       "</table>\n",
       "</div>"
      ],
      "text/plain": [
       "                rate  count\n",
       "taxonomy                   \n",
       "207Q00000X  0.099180   5001\n",
       "111N00000X  0.087738   3727\n",
       "207R00000X  0.087394   4474\n",
       "183500000X  0.034119   6536\n",
       "1223G0001X  0.033350   3958\n",
       "101YP2500X  0.026942   3192\n",
       "363A00000X  0.026103   3218\n",
       "101YM0800X  0.021413   6258\n",
       "363LF0000X  0.019851   4836\n",
       "1041C0700X  0.016220   6905\n",
       "225100000X  0.013832   6073\n",
       "171M00000X  0.013621   3010\n",
       "235Z00000X  0.007842   4208\n",
       "390200000X  0.004453   3818\n",
       "106S00000X  0.001099   7280"
      ]
     },
     "metadata": {},
     "output_type": "display_data"
    }
   ],
   "source": [
    "# categorical feature distribution vs target\n",
    "def plot_cat_rate(df, col, top_n=15):\n",
    "    if col not in df.columns: return\n",
    "    top_vals = df[col].value_counts().head(top_n).index\n",
    "    tmp = (df[df[col].isin(top_vals)]\n",
    "           .groupby(col)[\"label_fraud\"]\n",
    "           .agg(rate=\"mean\", count=\"size\")\n",
    "           .sort_values(\"rate\", ascending=False))\n",
    "    fig, ax = plt.subplots(figsize=(6,3.5))\n",
    "    sns.barplot(x=tmp.index.astype(str), y=tmp[\"rate\"], ax=ax)\n",
    "    ax.set_ylabel(\"Fraud rate\")\n",
    "    ax.set_xlabel(col)\n",
    "    ax.set_title(f\"{col}: fraud rate (top {top_n} by volume)\")\n",
    "    ax.tick_params(axis=\"x\", rotation=45)\n",
    "    plt.tight_layout()\n",
    "    display(tmp)\n",
    "    \n",
    "plt.show()\n",
    "\n",
    "\n",
    "for c in [\"state\",\"entity_type\",\"taxonomy\"]:\n",
    "    plot_cat_rate(df, c, top_n=15)\n"
   ]
  },
  {
   "cell_type": "code",
   "execution_count": null,
   "id": "4e366b39",
   "metadata": {},
   "outputs": [],
   "source": [
    "# rare-category pooling\n",
    "def rare_pool(frame, col, min_count=200):\n",
    "    vc = frame[col].value_counts(dropna=False)\n",
    "    rare_vals = vc[vc < min_count].index\n",
    "    new_col = f\"{col}_rarepooled\"\n",
    "    frame[new_col] = frame[col].where(~frame[col].isin(rare_vals), f\"Other_{col}\")\n",
    "    return new_col, vc, rare_vals\n",
    "\n",
    "pooled_cols = []\n",
    "for c in [c for c in [\"state\",\"entity_type\",\"taxonomy\"] if c in df.columns]:\n",
    "    newc, vc, rares = rare_pool(df, c, min_count=200)  # tune threshold\n",
    "    pooled_cols.append(newc)\n",
    "    print(f\"{c}: pooled {len(rares)} rare levels into '{newc}'\")"
   ]
  },
  {
   "cell_type": "code",
   "execution_count": null,
   "id": "e7bc311d",
   "metadata": {},
   "outputs": [],
   "source": [
    "# outlier capping\n",
    "caps = {}\n",
    "cap_cols = [c for c in [\"services_total\",\"avg_charge_w\",\"avg_payment_w\",\n",
    "                        \"charge_to_allowed\",\"payment_to_allowed\",\"charge_std_w\"]\n",
    "            if c in df.columns]\n",
    "for c in cap_cols:\n",
    "    caps[c] = {}\n",
    "    for b in [0,1]:\n",
    "        q = df.loc[df[\"has_claims_features\"]==b, c].quantile(0.995)\n",
    "        df.loc[df[\"has_claims_features\"]==b, c] = df.loc[df[\"has_claims_features\"]==b, c].clip(upper=q)\n",
    "        caps[c][b] = float(q)\n",
    "print(\"Recorded caps:\", caps)"
   ]
  },
  {
   "cell_type": "code",
   "execution_count": null,
   "id": "8934b4b1",
   "metadata": {},
   "outputs": [],
   "source": [
    "preimp = df.copy()\n",
    "\n",
    "claims_cols = [c for c in preimp.columns if c.endswith(\"_w\") or c in\n",
    "               [\"services_total\",\"hcpcs_unique_count\",\"charge_to_allowed\",\"payment_to_allowed\"]]\n",
    "preimp[\"claims_feat_coverage\"] = 1 - preimp[claims_cols].isna().mean(axis=1) if claims_cols else 0.0\n",
    "preimp[\"claims_volume\"] = preimp.get(\"services_total\", pd.Series(0, index=preimp.index)).fillna(0)\n",
    "\n",
    "# Persist missingness as durable features on df (survive imputation)\n",
    "claims_like = [c for c in preimp.columns if c.endswith(\"_w\")] + \\\n",
    "              [c for c in [\"services_total\",\"hcpcs_unique_count\"] if c in preimp.columns]\n",
    "for c in claims_like:\n",
    "    df[f\"miss_{c}\"] = preimp[c].isna().astype(int)"
   ]
  },
  {
   "cell_type": "code",
   "execution_count": null,
   "id": "9e8ced7a",
   "metadata": {},
   "outputs": [],
   "source": [
    "# imputation\n",
    "num_impute_map = {}\n",
    "for c in df.select_dtypes(include=[np.number]).columns.difference([\"label_fraud\"]):\n",
    "    med0 = df.loc[df[\"has_claims_features\"]==0, c].median()\n",
    "    med1 = df.loc[df[\"has_claims_features\"]==1, c].median()\n",
    "    num_impute_map[c] = {0: float(med0) if pd.notna(med0) else 0.0,\n",
    "                         1: float(med1) if pd.notna(med1) else 0.0}\n",
    "\n",
    "for b in [0,1]:\n",
    "    idx = df[\"has_claims_features\"]==b\n",
    "    for c in num_impute_map:\n",
    "        df.loc[idx, c] = df.loc[idx, c].fillna(num_impute_map[c][b])\n",
    "\n",
    "for c in df.select_dtypes(exclude=[np.number]).columns:\n",
    "    df[c] = df[c].fillna(\"MISSING\")\n",
    "\n",
    "print(\"Stored numeric impute map per bucket.\")\n",
    "\n",
    "import json\n",
    "ARTIFACTS_DIR = Path(\"curated/training\")\n",
    "ARTIFACTS_DIR.mkdir(parents=True, exist_ok=True)\n",
    "\n",
    "with open(ARTIFACTS_DIR / f\"caps_{AS_OF_STR}.json\", \"w\") as f:\n",
    "    json.dump(caps, f, indent=2)\n",
    "\n",
    "with open(ARTIFACTS_DIR / f\"impute_map_{AS_OF_STR}.json\", \"w\") as f:\n",
    "    json.dump(num_impute_map, f, indent=2)\n",
    "\n",
    "print(\"Saved caps & impute map to:\", ARTIFACTS_DIR)"
   ]
  },
  {
   "cell_type": "code",
   "execution_count": null,
   "id": "8746e0c4",
   "metadata": {},
   "outputs": [],
   "source": [
    "# target imprint & router drivers\n",
    "time_col = next((c for c in df.columns\n",
    "                 if (\"month\" in c.lower() or \"asof\" in c.lower()) and c not in [\"AS_OF_STR\",\"asof_string\"]), None)\n",
    "\n",
    "if time_col is not None:\n",
    "    by_time = (df.groupby([time_col, \"has_claims_features\"])[\"label_fraud\"]\n",
    "                 .agg(rate=\"mean\", count=\"size\").reset_index())\n",
    "    print(\"Fraud rate over time by bucket (last 12 rows):\")\n",
    "    display(by_time.tail(12))\n",
    "\n",
    "# Router driver candidates (use PRE-IMPUTE snapshot)\n",
    "print(\"Router driver summaries (pre-impute view):\")\n",
    "display(preimp[[\"claims_feat_coverage\",\"claims_volume\"]].describe(include=\"all\"))\n"
   ]
  },
  {
   "cell_type": "code",
   "execution_count": null,
   "id": "0922d0d1",
   "metadata": {},
   "outputs": [],
   "source": [
    "def population_stability_index(a, b, bins=20):\n",
    "    a = pd.Series(a).replace([np.inf, -np.inf], np.nan).dropna()\n",
    "    b = pd.Series(b).replace([np.inf, -np.inf], np.nan).dropna()\n",
    "    if a.nunique() < 2 or b.nunique() < 2:\n",
    "        return 0.0\n",
    "    qs = np.linspace(0, 1, bins+1)\n",
    "    cuts = a.quantile(qs).unique()\n",
    "    a_bins = pd.cut(a, bins=np.unique(cuts), include_lowest=True)\n",
    "    b_bins = pd.cut(b, bins=np.unique(cuts), include_lowest=True)\n",
    "    a_pct = a_bins.value_counts(normalize=True, sort=False)\n",
    "    b_pct = b_bins.value_counts(normalize=True, sort=False)\n",
    "    psi = ((a_pct - b_pct) * np.log((a_pct + 1e-8) / (b_pct + 1e-8))).sum()\n",
    "    return float(psi)\n",
    "\n",
    "if time_col is None:\n",
    "    df[\"_fold\"] = \"train\"\n",
    "    df.loc[df.sample(frac=0.2, random_state=42).index, \"_fold\"] = \"valid\"\n",
    "else:\n",
    "    ordered = sorted(df[time_col].dropna().unique())\n",
    "    cutoff = ordered[int(0.8*len(ordered))] if len(ordered) >= 5 else ordered[-1]\n",
    "    df[\"_fold\"] = np.where(df[time_col] <= cutoff, \"train\", \"valid\")\n",
    "\n",
    "stab=[]\n",
    "for c in df.select_dtypes(include=[np.number]).columns.difference([\"label_fraud\"]):\n",
    "    psi = population_stability_index(df.loc[df[\"_fold\"]==\"train\", c],\n",
    "                                     df.loc[df[\"_fold\"]==\"valid\", c])\n",
    "    stab.append((c, psi))\n",
    "psi_tbl = pd.DataFrame(stab, columns=[\"feature\",\"psi\"]).sort_values(\"psi\", ascending=False)\n",
    "print(\"Top unstable by PSI:\")\n",
    "display(psi_tbl.head(20))"
   ]
  },
  {
   "cell_type": "code",
   "execution_count": null,
   "id": "bbb92dc2",
   "metadata": {},
   "outputs": [],
   "source": [
    "ks_rows = []\n",
    "num_cols_lbl = (df.select_dtypes(include=[np.number])\n",
    "                  .drop(columns=[\"label_fraud\"] + id_like, errors=\"ignore\")\n",
    "                  .columns)\n",
    "for c in num_cols_lbl:\n",
    "    a = df.loc[df[\"label_fraud\"]==1, c].dropna()\n",
    "    b = df.loc[df[\"label_fraud\"]==0, c].dropna()\n",
    "    if len(a)>50 and len(b)>50:\n",
    "        stat, p = ks_2samp(a, b)\n",
    "        ks_rows.append((c, stat, p))\n",
    "ks_lbl = pd.DataFrame(ks_rows, columns=[\"feature\",\"ks_stat\",\"p_value\"])\\\n",
    "         .sort_values(\"ks_stat\", ascending=False)\n",
    "print(\"Features with strongest separation (KS):\")\n",
    "display(ks_lbl.head(25))"
   ]
  },
  {
   "cell_type": "code",
   "execution_count": null,
   "id": "87187a5e",
   "metadata": {},
   "outputs": [],
   "source": [
    "print(\"Candidate router thresholds (pre-impute): share & fraud rate in claims-rich\")\n",
    "for thr_cov in [0.5, 0.7, 0.8, 0.9]:\n",
    "    for thr_vol in [10, 50, 100]:\n",
    "        mask = (preimp[\"claims_feat_coverage\"]>=thr_cov) & (preimp[\"claims_volume\"]>=thr_vol)\n",
    "        share = mask.mean()\n",
    "        fr = df.loc[mask, \"label_fraud\"].mean() if share>0 else np.nan\n",
    "        print(f\"coverage≥{thr_cov:0.2f}, volume≥{thr_vol:>3}: share={share:6.2%}, fraud_rate={fr:6.2%}\")\n"
   ]
  },
  {
   "cell_type": "code",
   "execution_count": null,
   "id": "c4cef372",
   "metadata": {},
   "outputs": [],
   "source": [
    "# Correlation heatmap (Spearman, clipped to top 30 most variable features for readability)\n",
    "num_all = df.select_dtypes(include=[np.number]).drop(columns=[\"label_fraud\"], errors=\"ignore\").copy()\n",
    "var_rank = num_all.var().sort_values(ascending=False).head(30).index\n",
    "corr30 = num_all[var_rank].corr(method=\"spearman\")\n",
    "plt.figure(figsize=(10,8))\n",
    "sns.heatmap(corr30, cmap=\"vlag\", center=0, square=True)\n",
    "plt.title(\"Spearman correlation (top-30 variance features)\")\n",
    "plt.show()\n",
    "\n",
    "# Pairwise scatter for top 4 discriminators (by KS)\n",
    "top4 = ks_lbl[\"feature\"].head(4).tolist() if \"ks_lbl\" in globals() else var_rank[:4].tolist()\n",
    "sample = df.sample(min(5000, len(df)), random_state=42)  # keep plots light\n",
    "for i in range(len(top4)-1):\n",
    "    for j in range(i+1, len(top4)):\n",
    "        x, y = top4[i], top4[j]\n",
    "        plt.figure(figsize=(4.5,3.5))\n",
    "        plt.scatter(sample[x], sample[y], c=sample[\"label_fraud\"], alpha=0.3)\n",
    "        plt.xlabel(x); plt.ylabel(y); plt.title(f\"{x} vs {y} (colored by label)\")\n",
    "        plt.tight_layout(); plt.show()"
   ]
  },
  {
   "cell_type": "code",
   "execution_count": null,
   "id": "dc9ec3ca",
   "metadata": {},
   "outputs": [],
   "source": [
    "feat_notes = []\n",
    "\n",
    "# (a) Log transforms for heavy-tail monetary/volume\n",
    "log_cols = [c for c in [\"services_total\",\"avg_charge_w\",\"avg_payment_w\",\"charge_std_w\"]\n",
    "            if c in df.columns]\n",
    "for c in log_cols:\n",
    "    newc = f\"log1p_{c}\"\n",
    "    df[newc] = np.log1p(df[c].clip(lower=0))\n",
    "    feat_notes.append(newc)\n",
    "\n",
    "# (b) Ratios & normalized behaviors\n",
    "if set([\"avg_charge_w\",\"avg_allowed_w\"]).issubset(df.columns):\n",
    "    df[\"charge_over_allowed\"] = df[\"avg_charge_w\"] / (df[\"avg_allowed_w\"] + 1e-6)\n",
    "    feat_notes.append(\"charge_over_allowed\")\n",
    "if set([\"avg_payment_w\",\"avg_allowed_w\"]).issubset(df.columns):\n",
    "    df[\"payment_over_allowed\"] = df[\"avg_payment_w\"] / (df[\"avg_allowed_w\"] + 1e-6)\n",
    "    feat_notes.append(\"payment_over_allowed\")\n",
    "\n",
    "# (c) Peer z-scores within taxonomy × state (behavior vs peers)\n",
    "peer_keys = [k for k in [\"taxonomy\",\"state\"] if k in df.columns]\n",
    "peer_base = [c for c in [\"services_total\",\"hcpcs_unique_count\",\"avg_charge_w\",\"avg_payment_w\"]\n",
    "             if c in df.columns]\n",
    "if len(peer_keys) == 2 and peer_base:\n",
    "    grp = df.groupby(peer_keys)\n",
    "    for c in peer_base:\n",
    "        mu = grp[c].transform(\"mean\")\n",
    "        sd = grp[c].transform(\"std\").replace(0, np.nan)\n",
    "        newc = f\"z_{c}_by_{peer_keys[0]}_{peer_keys[1]}\"\n",
    "        df[newc] = (df[c] - mu) / sd\n",
    "        feat_notes.append(newc)\n",
    "\n",
    "# (d) Missingness indicators are already created from PREIMP earlier; keep them as-is\n",
    "claims_like = [c for c in df.columns if c.endswith(\"_w\")] + [c for c in [\"services_total\",\"hcpcs_unique_count\"] if c in df.columns]\n",
    "for c in claims_like:\n",
    "    mi = f\"miss_{c}\"\n",
    "    if mi not in df.columns:\n",
    "        df[mi] = 0  # should already exist; this is just a safety\n",
    "    feat_notes.append(mi)\n",
    "\n",
    "\n",
    "print(\"Created EDA-only feature candidates:\", feat_notes[:10], \"… (see df.columns for all)\")"
   ]
  },
  {
   "cell_type": "code",
   "execution_count": null,
   "id": "6e3c2503",
   "metadata": {},
   "outputs": [],
   "source": [
    "group_keys = [c for c in [\"address_std\",\"phone_norm\",\"ein\",\"org_id\"] if c in df.columns]\n",
    "for g in group_keys:\n",
    "    vc = df[g].value_counts(dropna=True)\n",
    "    print(f\"{g}: unique nodes={vc.size:,} | nodes with >=2 providers={(vc>=2).sum():,}\")"
   ]
  },
  {
   "cell_type": "code",
   "execution_count": null,
   "id": "0699c673",
   "metadata": {},
   "outputs": [],
   "source": [
    "def data_dictionary(frame):\n",
    "    rows=[]\n",
    "    for c in frame.columns:\n",
    "        s = frame[c]\n",
    "        dtype = str(s.dtype)\n",
    "        miss = s.isna().mean()\n",
    "        card = s.nunique(dropna=True)\n",
    "        row = {\"column\":c,\"dtype\":dtype,\"missing_pct\":miss,\"cardinality\":card}\n",
    "        if pd.api.types.is_numeric_dtype(s):\n",
    "            row.update(dict(min=s.min(skipna=True), max=s.max(skipna=True),\n",
    "                            mean=s.mean(skipna=True), std=s.std(skipna=True)))\n",
    "        rows.append(row)\n",
    "    return pd.DataFrame(rows).sort_values(\"column\")\n",
    "\n",
    "dd = data_dictionary(df.drop(columns=[\"_fold\"], errors=\"ignore\"))\n",
    "display(dd.head(30).style.format({\"missing_pct\":\"{:.1%}\",\"mean\":\"{:.3g}\",\"std\":\"{:.3g}\"}))\n",
    "dd_path = Path(\"curated/training\") / f\"data_dictionary_{AS_OF_STR}.csv\"\n",
    "dd.to_csv(dd_path, index=False)\n",
    "print(\"Saved data dictionary to:\", dd_path)"
   ]
  }
 ],
 "metadata": {
  "kernelspec": {
   "display_name": "ds-env",
   "language": "python",
   "name": "python3"
  },
  "language_info": {
   "codemirror_mode": {
    "name": "ipython",
    "version": 3
   },
   "file_extension": ".py",
   "mimetype": "text/x-python",
   "name": "python",
   "nbconvert_exporter": "python",
   "pygments_lexer": "ipython3",
   "version": "3.11.13"
  }
 },
 "nbformat": 4,
 "nbformat_minor": 5
}
