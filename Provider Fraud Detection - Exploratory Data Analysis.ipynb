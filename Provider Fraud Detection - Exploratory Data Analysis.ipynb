{
 "cells": [
  {
   "cell_type": "markdown",
   "id": "35f70994",
   "metadata": {},
   "source": [
    "## Provider Fraud Detection - Exploratory Data Analysis"
   ]
  },
  {
   "cell_type": "markdown",
   "id": "04c0464d",
   "metadata": {},
   "source": [
    "## The goal of this EDA portion will be to understand the data I produced in the Wrangling work, find issues, and decide on modeling & preprocessing choices."
   ]
  },
  {
   "cell_type": "code",
   "execution_count": 1,
   "id": "05c9c6c4",
   "metadata": {},
   "outputs": [],
   "source": [
    "# importing needed modules\n",
    "\n",
    "import numpy as np\n",
    "import pandas as pd\n",
    "import matplotlib.pyplot as plt\n",
    "import seaborn as sns\n",
    "import scipy.stats as stats\n",
    "import statsmodels.api as sm\n",
    "\n",
    "# show plots inline\n",
    "%matplotlib inline"
   ]
  },
  {
   "cell_type": "code",
   "execution_count": null,
   "id": "75f3047b",
   "metadata": {},
   "outputs": [],
   "source": []
  }
 ],
 "metadata": {
  "kernelspec": {
   "display_name": "ds-env",
   "language": "python",
   "name": "python3"
  },
  "language_info": {
   "codemirror_mode": {
    "name": "ipython",
    "version": 3
   },
   "file_extension": ".py",
   "mimetype": "text/x-python",
   "name": "python",
   "nbconvert_exporter": "python",
   "pygments_lexer": "ipython3",
   "version": "3.11.13"
  }
 },
 "nbformat": 4,
 "nbformat_minor": 5
}
