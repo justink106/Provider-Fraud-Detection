{
 "cells": [
  {
   "cell_type": "markdown",
   "id": "35f70994",
   "metadata": {},
   "source": [
    "## Provider Fraud Detection - Exploratory Data Analysis"
   ]
  },
  {
   "cell_type": "markdown",
   "id": "04c0464d",
   "metadata": {},
   "source": [
    "## The goal of this EDA portion will be to understand the data I produced in the Wrangling work, find issues, and decide on modeling & preprocessing choices."
   ]
  },
  {
   "cell_type": "code",
   "execution_count": 24,
   "id": "05c9c6c4",
   "metadata": {},
   "outputs": [],
   "source": [
    "# importing needed modules\n",
    "\n",
    "import numpy as np\n",
    "import pandas as pd\n",
    "import matplotlib.pyplot as plt\n",
    "import seaborn as sns\n",
    "import scipy.stats as stats\n",
    "import statsmodels.api as sm\n",
    "from sklearn.metrics import roc_auc_score\n",
    "\n",
    "\n",
    "from pathlib import Path\n",
    "import os\n",
    "from IPython.display import display\n",
    "\n",
    "# show plots inline\n",
    "%matplotlib inline"
   ]
  },
  {
   "cell_type": "code",
   "execution_count": 3,
   "id": "df99e9fd",
   "metadata": {},
   "outputs": [
    {
     "name": "stdout",
     "output_type": "stream",
     "text": [
      "(191700, 29)\n"
     ]
    },
    {
     "data": {
      "application/vnd.microsoft.datawrangler.viewer.v0+json": {
       "columns": [
        {
         "name": "index",
         "rawType": "int64",
         "type": "integer"
        },
        {
         "name": "npi",
         "rawType": "object",
         "type": "string"
        },
        {
         "name": "state_abbr",
         "rawType": "object",
         "type": "string"
        },
        {
         "name": "zip5",
         "rawType": "object",
         "type": "string"
        },
        {
         "name": "entity_type_code",
         "rawType": "float64",
         "type": "float"
        },
        {
         "name": "primary_taxonomy",
         "rawType": "object",
         "type": "string"
        },
        {
         "name": "npi_age_days",
         "rawType": "float64",
         "type": "float"
        },
        {
         "name": "is_active",
         "rawType": "int32",
         "type": "integer"
        },
        {
         "name": "is_organization_subpart",
         "rawType": "float64",
         "type": "float"
        },
        {
         "name": "is_sole_proprietor",
         "rawType": "float64",
         "type": "float"
        },
        {
         "name": "total_services",
         "rawType": "float64",
         "type": "float"
        },
        {
         "name": "total_beneficiaries",
         "rawType": "float64",
         "type": "float"
        },
        {
         "name": "total_bene_day_services",
         "rawType": "float64",
         "type": "float"
        },
        {
         "name": "num_unique_procedures",
         "rawType": "float64",
         "type": "float"
        },
        {
         "name": "frac_drug_services",
         "rawType": "float64",
         "type": "float"
        },
        {
         "name": "frac_missing_zip",
         "rawType": "float64",
         "type": "float"
        },
        {
         "name": "w_avg_submitted_charge",
         "rawType": "float64",
         "type": "float"
        },
        {
         "name": "w_avg_allowed",
         "rawType": "float64",
         "type": "float"
        },
        {
         "name": "w_avg_payment",
         "rawType": "float64",
         "type": "float"
        },
        {
         "name": "w_var_submitted_charge",
         "rawType": "float64",
         "type": "float"
        },
        {
         "name": "w_stddev_submitted_charge",
         "rawType": "float64",
         "type": "float"
        },
        {
         "name": "charge_allowed_ratio",
         "rawType": "float64",
         "type": "float"
        },
        {
         "name": "payment_allowed_ratio",
         "rawType": "float64",
         "type": "float"
        },
        {
         "name": "services_per_bene",
         "rawType": "float64",
         "type": "float"
        },
        {
         "name": "bene_days_per_bene",
         "rawType": "float64",
         "type": "float"
        },
        {
         "name": "has_puf",
         "rawType": "int32",
         "type": "integer"
        },
        {
         "name": "ever_excluded_asof",
         "rawType": "float64",
         "type": "float"
        },
        {
         "name": "excluded_asof",
         "rawType": "float64",
         "type": "float"
        },
        {
         "name": "is_fraud",
         "rawType": "int32",
         "type": "integer"
        },
        {
         "name": "is_excluded_asof",
         "rawType": "int32",
         "type": "integer"
        }
       ],
       "ref": "aaaf6a81-b975-48ce-bbdf-c8fc9fc6ec38",
       "rows": [
        [
         "0",
         "1003003179",
         "NJ",
         "08823",
         "2.0",
         "332B00000X",
         "5934.0",
         "1",
         "0.0",
         null,
         "0.0",
         "0.0",
         "0.0",
         "0.0",
         "0.0",
         "0.0",
         "0.0",
         "0.0",
         "0.0",
         null,
         "0.0",
         "0.0",
         "0.0",
         "0.0",
         "0.0",
         "0",
         null,
         null,
         "0",
         "0"
        ],
        [
         "1",
         "1003019233",
         "IA",
         "52240",
         "2.0",
         "310400000X",
         "6052.0",
         "1",
         "0.0",
         null,
         "0.0",
         "0.0",
         "0.0",
         "0.0",
         "0.0",
         "0.0",
         "0.0",
         "0.0",
         "0.0",
         null,
         "0.0",
         "0.0",
         "0.0",
         "0.0",
         "0.0",
         "0",
         null,
         null,
         "0",
         "0"
        ],
        [
         "2",
         "1003019639",
         "NY",
         "12180",
         "1.0",
         "133V00000X",
         "6048.0",
         "1",
         null,
         "0.0",
         "0.0",
         "0.0",
         "0.0",
         "0.0",
         "0.0",
         "0.0",
         "0.0",
         "0.0",
         "0.0",
         null,
         "0.0",
         "0.0",
         "0.0",
         "0.0",
         "0.0",
         "0",
         null,
         null,
         "0",
         "0"
        ],
        [
         "3",
         "1003031550",
         "WI",
         "53154",
         "2.0",
         "251300000X",
         "6102.0",
         "1",
         "0.0",
         null,
         "0.0",
         "0.0",
         "0.0",
         "0.0",
         "0.0",
         "0.0",
         "0.0",
         "0.0",
         "0.0",
         null,
         "0.0",
         "0.0",
         "0.0",
         "0.0",
         "0.0",
         "0",
         null,
         null,
         "0",
         "0"
        ],
        [
         "4",
         "1003033556",
         "CA",
         "90061",
         "2.0",
         "1223G0001X",
         "6100.0",
         "1",
         "0.0",
         null,
         "0.0",
         "0.0",
         "0.0",
         "0.0",
         "0.0",
         "0.0",
         "0.0",
         "0.0",
         "0.0",
         null,
         "0.0",
         "0.0",
         "0.0",
         "0.0",
         "0.0",
         "0",
         null,
         null,
         "0",
         "0"
        ]
       ],
       "shape": {
        "columns": 29,
        "rows": 5
       }
      },
      "text/html": [
       "<div>\n",
       "<style scoped>\n",
       "    .dataframe tbody tr th:only-of-type {\n",
       "        vertical-align: middle;\n",
       "    }\n",
       "\n",
       "    .dataframe tbody tr th {\n",
       "        vertical-align: top;\n",
       "    }\n",
       "\n",
       "    .dataframe thead th {\n",
       "        text-align: right;\n",
       "    }\n",
       "</style>\n",
       "<table border=\"1\" class=\"dataframe\">\n",
       "  <thead>\n",
       "    <tr style=\"text-align: right;\">\n",
       "      <th></th>\n",
       "      <th>npi</th>\n",
       "      <th>state_abbr</th>\n",
       "      <th>zip5</th>\n",
       "      <th>entity_type_code</th>\n",
       "      <th>primary_taxonomy</th>\n",
       "      <th>npi_age_days</th>\n",
       "      <th>is_active</th>\n",
       "      <th>is_organization_subpart</th>\n",
       "      <th>is_sole_proprietor</th>\n",
       "      <th>total_services</th>\n",
       "      <th>...</th>\n",
       "      <th>w_stddev_submitted_charge</th>\n",
       "      <th>charge_allowed_ratio</th>\n",
       "      <th>payment_allowed_ratio</th>\n",
       "      <th>services_per_bene</th>\n",
       "      <th>bene_days_per_bene</th>\n",
       "      <th>has_puf</th>\n",
       "      <th>ever_excluded_asof</th>\n",
       "      <th>excluded_asof</th>\n",
       "      <th>is_fraud</th>\n",
       "      <th>is_excluded_asof</th>\n",
       "    </tr>\n",
       "  </thead>\n",
       "  <tbody>\n",
       "    <tr>\n",
       "      <th>0</th>\n",
       "      <td>1003003179</td>\n",
       "      <td>NJ</td>\n",
       "      <td>08823</td>\n",
       "      <td>2.0</td>\n",
       "      <td>332B00000X</td>\n",
       "      <td>5934.0</td>\n",
       "      <td>1</td>\n",
       "      <td>0.0</td>\n",
       "      <td>NaN</td>\n",
       "      <td>0.0</td>\n",
       "      <td>...</td>\n",
       "      <td>0.0</td>\n",
       "      <td>0.0</td>\n",
       "      <td>0.0</td>\n",
       "      <td>0.0</td>\n",
       "      <td>0.0</td>\n",
       "      <td>0</td>\n",
       "      <td>NaN</td>\n",
       "      <td>NaN</td>\n",
       "      <td>0</td>\n",
       "      <td>0</td>\n",
       "    </tr>\n",
       "    <tr>\n",
       "      <th>1</th>\n",
       "      <td>1003019233</td>\n",
       "      <td>IA</td>\n",
       "      <td>52240</td>\n",
       "      <td>2.0</td>\n",
       "      <td>310400000X</td>\n",
       "      <td>6052.0</td>\n",
       "      <td>1</td>\n",
       "      <td>0.0</td>\n",
       "      <td>NaN</td>\n",
       "      <td>0.0</td>\n",
       "      <td>...</td>\n",
       "      <td>0.0</td>\n",
       "      <td>0.0</td>\n",
       "      <td>0.0</td>\n",
       "      <td>0.0</td>\n",
       "      <td>0.0</td>\n",
       "      <td>0</td>\n",
       "      <td>NaN</td>\n",
       "      <td>NaN</td>\n",
       "      <td>0</td>\n",
       "      <td>0</td>\n",
       "    </tr>\n",
       "    <tr>\n",
       "      <th>2</th>\n",
       "      <td>1003019639</td>\n",
       "      <td>NY</td>\n",
       "      <td>12180</td>\n",
       "      <td>1.0</td>\n",
       "      <td>133V00000X</td>\n",
       "      <td>6048.0</td>\n",
       "      <td>1</td>\n",
       "      <td>NaN</td>\n",
       "      <td>0.0</td>\n",
       "      <td>0.0</td>\n",
       "      <td>...</td>\n",
       "      <td>0.0</td>\n",
       "      <td>0.0</td>\n",
       "      <td>0.0</td>\n",
       "      <td>0.0</td>\n",
       "      <td>0.0</td>\n",
       "      <td>0</td>\n",
       "      <td>NaN</td>\n",
       "      <td>NaN</td>\n",
       "      <td>0</td>\n",
       "      <td>0</td>\n",
       "    </tr>\n",
       "    <tr>\n",
       "      <th>3</th>\n",
       "      <td>1003031550</td>\n",
       "      <td>WI</td>\n",
       "      <td>53154</td>\n",
       "      <td>2.0</td>\n",
       "      <td>251300000X</td>\n",
       "      <td>6102.0</td>\n",
       "      <td>1</td>\n",
       "      <td>0.0</td>\n",
       "      <td>NaN</td>\n",
       "      <td>0.0</td>\n",
       "      <td>...</td>\n",
       "      <td>0.0</td>\n",
       "      <td>0.0</td>\n",
       "      <td>0.0</td>\n",
       "      <td>0.0</td>\n",
       "      <td>0.0</td>\n",
       "      <td>0</td>\n",
       "      <td>NaN</td>\n",
       "      <td>NaN</td>\n",
       "      <td>0</td>\n",
       "      <td>0</td>\n",
       "    </tr>\n",
       "    <tr>\n",
       "      <th>4</th>\n",
       "      <td>1003033556</td>\n",
       "      <td>CA</td>\n",
       "      <td>90061</td>\n",
       "      <td>2.0</td>\n",
       "      <td>1223G0001X</td>\n",
       "      <td>6100.0</td>\n",
       "      <td>1</td>\n",
       "      <td>0.0</td>\n",
       "      <td>NaN</td>\n",
       "      <td>0.0</td>\n",
       "      <td>...</td>\n",
       "      <td>0.0</td>\n",
       "      <td>0.0</td>\n",
       "      <td>0.0</td>\n",
       "      <td>0.0</td>\n",
       "      <td>0.0</td>\n",
       "      <td>0</td>\n",
       "      <td>NaN</td>\n",
       "      <td>NaN</td>\n",
       "      <td>0</td>\n",
       "      <td>0</td>\n",
       "    </tr>\n",
       "  </tbody>\n",
       "</table>\n",
       "<p>5 rows × 29 columns</p>\n",
       "</div>"
      ],
      "text/plain": [
       "          npi state_abbr   zip5  entity_type_code primary_taxonomy  \\\n",
       "0  1003003179         NJ  08823               2.0       332B00000X   \n",
       "1  1003019233         IA  52240               2.0       310400000X   \n",
       "2  1003019639         NY  12180               1.0       133V00000X   \n",
       "3  1003031550         WI  53154               2.0       251300000X   \n",
       "4  1003033556         CA  90061               2.0       1223G0001X   \n",
       "\n",
       "   npi_age_days  is_active  is_organization_subpart  is_sole_proprietor  \\\n",
       "0        5934.0          1                      0.0                 NaN   \n",
       "1        6052.0          1                      0.0                 NaN   \n",
       "2        6048.0          1                      NaN                 0.0   \n",
       "3        6102.0          1                      0.0                 NaN   \n",
       "4        6100.0          1                      0.0                 NaN   \n",
       "\n",
       "   total_services  ...  w_stddev_submitted_charge  charge_allowed_ratio  \\\n",
       "0             0.0  ...                        0.0                   0.0   \n",
       "1             0.0  ...                        0.0                   0.0   \n",
       "2             0.0  ...                        0.0                   0.0   \n",
       "3             0.0  ...                        0.0                   0.0   \n",
       "4             0.0  ...                        0.0                   0.0   \n",
       "\n",
       "   payment_allowed_ratio  services_per_bene  bene_days_per_bene  has_puf  \\\n",
       "0                    0.0                0.0                 0.0        0   \n",
       "1                    0.0                0.0                 0.0        0   \n",
       "2                    0.0                0.0                 0.0        0   \n",
       "3                    0.0                0.0                 0.0        0   \n",
       "4                    0.0                0.0                 0.0        0   \n",
       "\n",
       "   ever_excluded_asof  excluded_asof  is_fraud  is_excluded_asof  \n",
       "0                 NaN            NaN         0                 0  \n",
       "1                 NaN            NaN         0                 0  \n",
       "2                 NaN            NaN         0                 0  \n",
       "3                 NaN            NaN         0                 0  \n",
       "4                 NaN            NaN         0                 0  \n",
       "\n",
       "[5 rows x 29 columns]"
      ]
     },
     "execution_count": 3,
     "metadata": {},
     "output_type": "execute_result"
    }
   ],
   "source": [
    "AS_OF_STR = \"2023-12-31\"\n",
    "PARQUET_DIR = Path(\"curated/training\") / f\"providers_nn_asof_{AS_OF_STR}.parquet\"\n",
    "\n",
    "\n",
    "AS_OF_STR = \"2023-12-31\"\n",
    "PARQUET_DIR = Path(\"curated/training\") / f\"providers_nn_asof_{AS_OF_STR}.parquet\"\n",
    "\n",
    "# loading the final dataframe from the data wrangling step\n",
    "df = pd.read_parquet(PARQUET_DIR, engine=\"pyarrow\")\n",
    "print(df.shape)\n",
    "df.head()"
   ]
  },
  {
   "cell_type": "code",
   "execution_count": 5,
   "id": "c8b78ad8",
   "metadata": {},
   "outputs": [
    {
     "name": "stdout",
     "output_type": "stream",
     "text": [
      "<class 'pandas.core.frame.DataFrame'>\n",
      "RangeIndex: 191700 entries, 0 to 191699\n",
      "Data columns (total 29 columns):\n",
      " #   Column                     Non-Null Count   Dtype  \n",
      "---  ------                     --------------   -----  \n",
      " 0   npi                        191700 non-null  object \n",
      " 1   state_abbr                 183741 non-null  object \n",
      " 2   zip5                       183829 non-null  object \n",
      " 3   entity_type_code           183830 non-null  float64\n",
      " 4   primary_taxonomy           183830 non-null  object \n",
      " 5   npi_age_days               183830 non-null  float64\n",
      " 6   is_active                  191700 non-null  int32  \n",
      " 7   is_organization_subpart    38217 non-null   float64\n",
      " 8   is_sole_proprietor         143315 non-null  float64\n",
      " 9   total_services             191700 non-null  float64\n",
      " 10  total_beneficiaries        191700 non-null  float64\n",
      " 11  total_bene_day_services    191700 non-null  float64\n",
      " 12  num_unique_procedures      191700 non-null  float64\n",
      " 13  frac_drug_services         191700 non-null  float64\n",
      " 14  frac_missing_zip           191700 non-null  float64\n",
      " 15  w_avg_submitted_charge     191700 non-null  float64\n",
      " 16  w_avg_allowed              191700 non-null  float64\n",
      " 17  w_avg_payment              191700 non-null  float64\n",
      " 18  w_var_submitted_charge     26772 non-null   float64\n",
      " 19  w_stddev_submitted_charge  191700 non-null  float64\n",
      " 20  charge_allowed_ratio       191700 non-null  float64\n",
      " 21  payment_allowed_ratio      191700 non-null  float64\n",
      " 22  services_per_bene          191700 non-null  float64\n",
      " 23  bene_days_per_bene         191700 non-null  float64\n",
      " 24  has_puf                    191700 non-null  int32  \n",
      " 25  ever_excluded_asof         6711 non-null    float64\n",
      " 26  excluded_asof              6711 non-null    float64\n",
      " 27  is_fraud                   191700 non-null  int32  \n",
      " 28  is_excluded_asof           191700 non-null  int32  \n",
      "dtypes: float64(21), int32(4), object(4)\n",
      "memory usage: 39.5+ MB\n"
     ]
    }
   ],
   "source": [
    "# exploring the dataset\n",
    "\n",
    "df.info()"
   ]
  },
  {
   "cell_type": "code",
   "execution_count": 6,
   "id": "9f03acea",
   "metadata": {},
   "outputs": [
    {
     "data": {
      "application/vnd.microsoft.datawrangler.viewer.v0+json": {
       "columns": [
        {
         "name": "index",
         "rawType": "object",
         "type": "string"
        },
        {
         "name": "entity_type_code",
         "rawType": "float64",
         "type": "float"
        },
        {
         "name": "npi_age_days",
         "rawType": "float64",
         "type": "float"
        },
        {
         "name": "is_active",
         "rawType": "float64",
         "type": "float"
        },
        {
         "name": "is_organization_subpart",
         "rawType": "float64",
         "type": "float"
        },
        {
         "name": "is_sole_proprietor",
         "rawType": "float64",
         "type": "float"
        },
        {
         "name": "total_services",
         "rawType": "float64",
         "type": "float"
        },
        {
         "name": "total_beneficiaries",
         "rawType": "float64",
         "type": "float"
        },
        {
         "name": "total_bene_day_services",
         "rawType": "float64",
         "type": "float"
        },
        {
         "name": "num_unique_procedures",
         "rawType": "float64",
         "type": "float"
        },
        {
         "name": "frac_drug_services",
         "rawType": "float64",
         "type": "float"
        },
        {
         "name": "frac_missing_zip",
         "rawType": "float64",
         "type": "float"
        },
        {
         "name": "w_avg_submitted_charge",
         "rawType": "float64",
         "type": "float"
        },
        {
         "name": "w_avg_allowed",
         "rawType": "float64",
         "type": "float"
        },
        {
         "name": "w_avg_payment",
         "rawType": "float64",
         "type": "float"
        },
        {
         "name": "w_var_submitted_charge",
         "rawType": "float64",
         "type": "float"
        },
        {
         "name": "w_stddev_submitted_charge",
         "rawType": "float64",
         "type": "float"
        },
        {
         "name": "charge_allowed_ratio",
         "rawType": "float64",
         "type": "float"
        },
        {
         "name": "payment_allowed_ratio",
         "rawType": "float64",
         "type": "float"
        },
        {
         "name": "services_per_bene",
         "rawType": "float64",
         "type": "float"
        },
        {
         "name": "bene_days_per_bene",
         "rawType": "float64",
         "type": "float"
        },
        {
         "name": "has_puf",
         "rawType": "float64",
         "type": "float"
        },
        {
         "name": "ever_excluded_asof",
         "rawType": "float64",
         "type": "float"
        },
        {
         "name": "excluded_asof",
         "rawType": "float64",
         "type": "float"
        },
        {
         "name": "is_fraud",
         "rawType": "float64",
         "type": "float"
        },
        {
         "name": "is_excluded_asof",
         "rawType": "float64",
         "type": "float"
        }
       ],
       "ref": "a68a2ce8-45eb-4e9a-89ee-ceb8f16bf414",
       "rows": [
        [
         "count",
         "183830.0",
         "183830.0",
         "191700.0",
         "38217.0",
         "143315.0",
         "191700.0",
         "191700.0",
         "191700.0",
         "191700.0",
         "191700.0",
         "191700.0",
         "191700.0",
         "191700.0",
         "191700.0",
         "26772.0",
         "191700.0",
         "191700.0",
         "191700.0",
         "191700.0",
         "191700.0",
         "191700.0",
         "6711.0",
         "6711.0",
         "191700.0",
         "191700.0"
        ],
        [
         "mean",
         "1.2078931621606919",
         "3698.0100636457596",
         "0.9589462702138758",
         "0.08231938666038674",
         "0.3350102920140948",
         "283.047315075639",
         "85.58404799165362",
         "139.97105372978612",
         "1.107110067814293",
         "0.005294266641104331",
         "0.0",
         "51.145414898356925",
         "12.73669325341719",
         "9.752021761917844",
         "394753.29040462454",
         "27.153017391745742",
         "0.509726136472766",
         "0.10694512366908862",
         "0.4508546813673209",
         "0.31117879688557565",
         "0.13965571205007823",
         "1.0",
         "1.0",
         "0.03500782472613458",
         "0.03500782472613458"
        ],
        [
         "std",
         "0.4058010486494177",
         "2230.3504196960635",
         "0.19841503577574685",
         "0.27485429226277597",
         "0.4719957105069307",
         "6053.470671072956",
         "1273.9681832999663",
         "2190.487061361574",
         "4.663070072368297",
         "0.040100573384162064",
         "0.0",
         "329.3394043091181",
         "61.15632031107025",
         "48.334363552395246",
         "10246284.296816207",
         "233.22210281189405",
         "1.9482403873151561",
         "0.26710748652936855",
         "3.194090007299022",
         "1.3475304541574542",
         "0.3466303808318292",
         "0.0",
         "0.0",
         "0.18380003579937843",
         "0.18380003579937843"
        ],
        [
         "min",
         "1.0",
         "2.0",
         "0.0",
         "0.0",
         "0.0",
         "0.0",
         "0.0",
         "0.0",
         "0.0",
         "0.0",
         "0.0",
         "0.0",
         "0.0",
         "0.0",
         "-1.862645149230957e-09",
         "0.0",
         "0.0",
         "0.0",
         "0.0",
         "0.0",
         "0.0",
         "1.0",
         "1.0",
         "0.0",
         "0.0"
        ],
        [
         "25%",
         "1.0",
         "1598.0",
         "1.0",
         "0.0",
         "0.0",
         "0.0",
         "0.0",
         "0.0",
         "0.0",
         "0.0",
         "0.0",
         "0.0",
         "0.0",
         "0.0",
         "853.1872815628171",
         "0.0",
         "0.0",
         "0.0",
         "0.0",
         "0.0",
         "0.0",
         "1.0",
         "1.0",
         "0.0",
         "0.0"
        ],
        [
         "50%",
         "1.0",
         "3796.0",
         "1.0",
         "0.0",
         "0.0",
         "0.0",
         "0.0",
         "0.0",
         "0.0",
         "0.0",
         "0.0",
         "0.0",
         "0.0",
         "0.0",
         "5669.366850781869",
         "0.0",
         "0.0",
         "0.0",
         "0.0",
         "0.0",
         "0.0",
         "1.0",
         "1.0",
         "0.0",
         "0.0"
        ],
        [
         "75%",
         "1.0",
         "6095.0",
         "1.0",
         "0.0",
         "1.0",
         "0.0",
         "0.0",
         "0.0",
         "0.0",
         "0.0",
         "0.0",
         "0.0",
         "0.0",
         "0.0",
         "26415.24018193876",
         "0.0",
         "0.0",
         "0.0",
         "0.0",
         "0.0",
         "0.0",
         "1.0",
         "1.0",
         "0.0",
         "0.0"
        ],
        [
         "max",
         "2.0",
         "6796.0",
         "1.0",
         "1.0",
         "1.0",
         "1547347.1",
         "391196.0",
         "587072.0",
         "425.0",
         "1.0",
         "0.0",
         "41570.37462260472",
         "9807.947619047618",
         "7814.465238095238",
         "1151361390.3737507",
         "33931.716584543006",
         "160.85482851726317",
         "1.0",
         "439.0994623655914",
         "71.5",
         "1.0",
         "1.0",
         "1.0",
         "1.0",
         "1.0"
        ]
       ],
       "shape": {
        "columns": 25,
        "rows": 8
       }
      },
      "text/html": [
       "<div>\n",
       "<style scoped>\n",
       "    .dataframe tbody tr th:only-of-type {\n",
       "        vertical-align: middle;\n",
       "    }\n",
       "\n",
       "    .dataframe tbody tr th {\n",
       "        vertical-align: top;\n",
       "    }\n",
       "\n",
       "    .dataframe thead th {\n",
       "        text-align: right;\n",
       "    }\n",
       "</style>\n",
       "<table border=\"1\" class=\"dataframe\">\n",
       "  <thead>\n",
       "    <tr style=\"text-align: right;\">\n",
       "      <th></th>\n",
       "      <th>entity_type_code</th>\n",
       "      <th>npi_age_days</th>\n",
       "      <th>is_active</th>\n",
       "      <th>is_organization_subpart</th>\n",
       "      <th>is_sole_proprietor</th>\n",
       "      <th>total_services</th>\n",
       "      <th>total_beneficiaries</th>\n",
       "      <th>total_bene_day_services</th>\n",
       "      <th>num_unique_procedures</th>\n",
       "      <th>frac_drug_services</th>\n",
       "      <th>...</th>\n",
       "      <th>w_stddev_submitted_charge</th>\n",
       "      <th>charge_allowed_ratio</th>\n",
       "      <th>payment_allowed_ratio</th>\n",
       "      <th>services_per_bene</th>\n",
       "      <th>bene_days_per_bene</th>\n",
       "      <th>has_puf</th>\n",
       "      <th>ever_excluded_asof</th>\n",
       "      <th>excluded_asof</th>\n",
       "      <th>is_fraud</th>\n",
       "      <th>is_excluded_asof</th>\n",
       "    </tr>\n",
       "  </thead>\n",
       "  <tbody>\n",
       "    <tr>\n",
       "      <th>count</th>\n",
       "      <td>183830.000000</td>\n",
       "      <td>183830.000000</td>\n",
       "      <td>191700.000000</td>\n",
       "      <td>38217.000000</td>\n",
       "      <td>143315.000000</td>\n",
       "      <td>1.917000e+05</td>\n",
       "      <td>191700.000000</td>\n",
       "      <td>191700.000000</td>\n",
       "      <td>191700.00000</td>\n",
       "      <td>191700.000000</td>\n",
       "      <td>...</td>\n",
       "      <td>191700.000000</td>\n",
       "      <td>191700.000000</td>\n",
       "      <td>191700.000000</td>\n",
       "      <td>191700.000000</td>\n",
       "      <td>191700.000000</td>\n",
       "      <td>191700.000000</td>\n",
       "      <td>6711.0</td>\n",
       "      <td>6711.0</td>\n",
       "      <td>191700.000000</td>\n",
       "      <td>191700.000000</td>\n",
       "    </tr>\n",
       "    <tr>\n",
       "      <th>mean</th>\n",
       "      <td>1.207893</td>\n",
       "      <td>3698.010064</td>\n",
       "      <td>0.958946</td>\n",
       "      <td>0.082319</td>\n",
       "      <td>0.335010</td>\n",
       "      <td>2.830473e+02</td>\n",
       "      <td>85.584048</td>\n",
       "      <td>139.971054</td>\n",
       "      <td>1.10711</td>\n",
       "      <td>0.005294</td>\n",
       "      <td>...</td>\n",
       "      <td>27.153017</td>\n",
       "      <td>0.509726</td>\n",
       "      <td>0.106945</td>\n",
       "      <td>0.450855</td>\n",
       "      <td>0.311179</td>\n",
       "      <td>0.139656</td>\n",
       "      <td>1.0</td>\n",
       "      <td>1.0</td>\n",
       "      <td>0.035008</td>\n",
       "      <td>0.035008</td>\n",
       "    </tr>\n",
       "    <tr>\n",
       "      <th>std</th>\n",
       "      <td>0.405801</td>\n",
       "      <td>2230.350420</td>\n",
       "      <td>0.198415</td>\n",
       "      <td>0.274854</td>\n",
       "      <td>0.471996</td>\n",
       "      <td>6.053471e+03</td>\n",
       "      <td>1273.968183</td>\n",
       "      <td>2190.487061</td>\n",
       "      <td>4.66307</td>\n",
       "      <td>0.040101</td>\n",
       "      <td>...</td>\n",
       "      <td>233.222103</td>\n",
       "      <td>1.948240</td>\n",
       "      <td>0.267107</td>\n",
       "      <td>3.194090</td>\n",
       "      <td>1.347530</td>\n",
       "      <td>0.346630</td>\n",
       "      <td>0.0</td>\n",
       "      <td>0.0</td>\n",
       "      <td>0.183800</td>\n",
       "      <td>0.183800</td>\n",
       "    </tr>\n",
       "    <tr>\n",
       "      <th>min</th>\n",
       "      <td>1.000000</td>\n",
       "      <td>2.000000</td>\n",
       "      <td>0.000000</td>\n",
       "      <td>0.000000</td>\n",
       "      <td>0.000000</td>\n",
       "      <td>0.000000e+00</td>\n",
       "      <td>0.000000</td>\n",
       "      <td>0.000000</td>\n",
       "      <td>0.00000</td>\n",
       "      <td>0.000000</td>\n",
       "      <td>...</td>\n",
       "      <td>0.000000</td>\n",
       "      <td>0.000000</td>\n",
       "      <td>0.000000</td>\n",
       "      <td>0.000000</td>\n",
       "      <td>0.000000</td>\n",
       "      <td>0.000000</td>\n",
       "      <td>1.0</td>\n",
       "      <td>1.0</td>\n",
       "      <td>0.000000</td>\n",
       "      <td>0.000000</td>\n",
       "    </tr>\n",
       "    <tr>\n",
       "      <th>25%</th>\n",
       "      <td>1.000000</td>\n",
       "      <td>1598.000000</td>\n",
       "      <td>1.000000</td>\n",
       "      <td>0.000000</td>\n",
       "      <td>0.000000</td>\n",
       "      <td>0.000000e+00</td>\n",
       "      <td>0.000000</td>\n",
       "      <td>0.000000</td>\n",
       "      <td>0.00000</td>\n",
       "      <td>0.000000</td>\n",
       "      <td>...</td>\n",
       "      <td>0.000000</td>\n",
       "      <td>0.000000</td>\n",
       "      <td>0.000000</td>\n",
       "      <td>0.000000</td>\n",
       "      <td>0.000000</td>\n",
       "      <td>0.000000</td>\n",
       "      <td>1.0</td>\n",
       "      <td>1.0</td>\n",
       "      <td>0.000000</td>\n",
       "      <td>0.000000</td>\n",
       "    </tr>\n",
       "    <tr>\n",
       "      <th>50%</th>\n",
       "      <td>1.000000</td>\n",
       "      <td>3796.000000</td>\n",
       "      <td>1.000000</td>\n",
       "      <td>0.000000</td>\n",
       "      <td>0.000000</td>\n",
       "      <td>0.000000e+00</td>\n",
       "      <td>0.000000</td>\n",
       "      <td>0.000000</td>\n",
       "      <td>0.00000</td>\n",
       "      <td>0.000000</td>\n",
       "      <td>...</td>\n",
       "      <td>0.000000</td>\n",
       "      <td>0.000000</td>\n",
       "      <td>0.000000</td>\n",
       "      <td>0.000000</td>\n",
       "      <td>0.000000</td>\n",
       "      <td>0.000000</td>\n",
       "      <td>1.0</td>\n",
       "      <td>1.0</td>\n",
       "      <td>0.000000</td>\n",
       "      <td>0.000000</td>\n",
       "    </tr>\n",
       "    <tr>\n",
       "      <th>75%</th>\n",
       "      <td>1.000000</td>\n",
       "      <td>6095.000000</td>\n",
       "      <td>1.000000</td>\n",
       "      <td>0.000000</td>\n",
       "      <td>1.000000</td>\n",
       "      <td>0.000000e+00</td>\n",
       "      <td>0.000000</td>\n",
       "      <td>0.000000</td>\n",
       "      <td>0.00000</td>\n",
       "      <td>0.000000</td>\n",
       "      <td>...</td>\n",
       "      <td>0.000000</td>\n",
       "      <td>0.000000</td>\n",
       "      <td>0.000000</td>\n",
       "      <td>0.000000</td>\n",
       "      <td>0.000000</td>\n",
       "      <td>0.000000</td>\n",
       "      <td>1.0</td>\n",
       "      <td>1.0</td>\n",
       "      <td>0.000000</td>\n",
       "      <td>0.000000</td>\n",
       "    </tr>\n",
       "    <tr>\n",
       "      <th>max</th>\n",
       "      <td>2.000000</td>\n",
       "      <td>6796.000000</td>\n",
       "      <td>1.000000</td>\n",
       "      <td>1.000000</td>\n",
       "      <td>1.000000</td>\n",
       "      <td>1.547347e+06</td>\n",
       "      <td>391196.000000</td>\n",
       "      <td>587072.000000</td>\n",
       "      <td>425.00000</td>\n",
       "      <td>1.000000</td>\n",
       "      <td>...</td>\n",
       "      <td>33931.716585</td>\n",
       "      <td>160.854829</td>\n",
       "      <td>1.000000</td>\n",
       "      <td>439.099462</td>\n",
       "      <td>71.500000</td>\n",
       "      <td>1.000000</td>\n",
       "      <td>1.0</td>\n",
       "      <td>1.0</td>\n",
       "      <td>1.000000</td>\n",
       "      <td>1.000000</td>\n",
       "    </tr>\n",
       "  </tbody>\n",
       "</table>\n",
       "<p>8 rows × 25 columns</p>\n",
       "</div>"
      ],
      "text/plain": [
       "       entity_type_code   npi_age_days      is_active  \\\n",
       "count     183830.000000  183830.000000  191700.000000   \n",
       "mean           1.207893    3698.010064       0.958946   \n",
       "std            0.405801    2230.350420       0.198415   \n",
       "min            1.000000       2.000000       0.000000   \n",
       "25%            1.000000    1598.000000       1.000000   \n",
       "50%            1.000000    3796.000000       1.000000   \n",
       "75%            1.000000    6095.000000       1.000000   \n",
       "max            2.000000    6796.000000       1.000000   \n",
       "\n",
       "       is_organization_subpart  is_sole_proprietor  total_services  \\\n",
       "count             38217.000000       143315.000000    1.917000e+05   \n",
       "mean                  0.082319            0.335010    2.830473e+02   \n",
       "std                   0.274854            0.471996    6.053471e+03   \n",
       "min                   0.000000            0.000000    0.000000e+00   \n",
       "25%                   0.000000            0.000000    0.000000e+00   \n",
       "50%                   0.000000            0.000000    0.000000e+00   \n",
       "75%                   0.000000            1.000000    0.000000e+00   \n",
       "max                   1.000000            1.000000    1.547347e+06   \n",
       "\n",
       "       total_beneficiaries  total_bene_day_services  num_unique_procedures  \\\n",
       "count        191700.000000            191700.000000           191700.00000   \n",
       "mean             85.584048               139.971054                1.10711   \n",
       "std            1273.968183              2190.487061                4.66307   \n",
       "min               0.000000                 0.000000                0.00000   \n",
       "25%               0.000000                 0.000000                0.00000   \n",
       "50%               0.000000                 0.000000                0.00000   \n",
       "75%               0.000000                 0.000000                0.00000   \n",
       "max          391196.000000            587072.000000              425.00000   \n",
       "\n",
       "       frac_drug_services  ...  w_stddev_submitted_charge  \\\n",
       "count       191700.000000  ...              191700.000000   \n",
       "mean             0.005294  ...                  27.153017   \n",
       "std              0.040101  ...                 233.222103   \n",
       "min              0.000000  ...                   0.000000   \n",
       "25%              0.000000  ...                   0.000000   \n",
       "50%              0.000000  ...                   0.000000   \n",
       "75%              0.000000  ...                   0.000000   \n",
       "max              1.000000  ...               33931.716585   \n",
       "\n",
       "       charge_allowed_ratio  payment_allowed_ratio  services_per_bene  \\\n",
       "count         191700.000000          191700.000000      191700.000000   \n",
       "mean               0.509726               0.106945           0.450855   \n",
       "std                1.948240               0.267107           3.194090   \n",
       "min                0.000000               0.000000           0.000000   \n",
       "25%                0.000000               0.000000           0.000000   \n",
       "50%                0.000000               0.000000           0.000000   \n",
       "75%                0.000000               0.000000           0.000000   \n",
       "max              160.854829               1.000000         439.099462   \n",
       "\n",
       "       bene_days_per_bene        has_puf  ever_excluded_asof  excluded_asof  \\\n",
       "count       191700.000000  191700.000000              6711.0         6711.0   \n",
       "mean             0.311179       0.139656                 1.0            1.0   \n",
       "std              1.347530       0.346630                 0.0            0.0   \n",
       "min              0.000000       0.000000                 1.0            1.0   \n",
       "25%              0.000000       0.000000                 1.0            1.0   \n",
       "50%              0.000000       0.000000                 1.0            1.0   \n",
       "75%              0.000000       0.000000                 1.0            1.0   \n",
       "max             71.500000       1.000000                 1.0            1.0   \n",
       "\n",
       "            is_fraud  is_excluded_asof  \n",
       "count  191700.000000     191700.000000  \n",
       "mean        0.035008          0.035008  \n",
       "std         0.183800          0.183800  \n",
       "min         0.000000          0.000000  \n",
       "25%         0.000000          0.000000  \n",
       "50%         0.000000          0.000000  \n",
       "75%         0.000000          0.000000  \n",
       "max         1.000000          1.000000  \n",
       "\n",
       "[8 rows x 25 columns]"
      ]
     },
     "execution_count": 6,
     "metadata": {},
     "output_type": "execute_result"
    }
   ],
   "source": [
    "# exploring some basic statistics\n",
    "df.describe()"
   ]
  },
  {
   "cell_type": "code",
   "execution_count": 7,
   "id": "a2f7392e",
   "metadata": {},
   "outputs": [
    {
     "data": {
      "text/plain": [
       "Index(['npi', 'state_abbr', 'zip5', 'entity_type_code', 'primary_taxonomy',\n",
       "       'npi_age_days', 'is_active', 'is_organization_subpart',\n",
       "       'is_sole_proprietor', 'total_services', 'total_beneficiaries',\n",
       "       'total_bene_day_services', 'num_unique_procedures',\n",
       "       'frac_drug_services', 'frac_missing_zip', 'w_avg_submitted_charge',\n",
       "       'w_avg_allowed', 'w_avg_payment', 'w_var_submitted_charge',\n",
       "       'w_stddev_submitted_charge', 'charge_allowed_ratio',\n",
       "       'payment_allowed_ratio', 'services_per_bene', 'bene_days_per_bene',\n",
       "       'has_puf', 'ever_excluded_asof', 'excluded_asof', 'is_fraud',\n",
       "       'is_excluded_asof'],\n",
       "      dtype='object')"
      ]
     },
     "execution_count": 7,
     "metadata": {},
     "output_type": "execute_result"
    }
   ],
   "source": [
    "# exploring the columns\n",
    "df.columns"
   ]
  },
  {
   "cell_type": "code",
   "execution_count": 8,
   "id": "fa15e2b7",
   "metadata": {},
   "outputs": [
    {
     "name": "stdout",
     "output_type": "stream",
     "text": [
      "Shape of the Provider Fraud Detection dataset: (191700, 29)\n"
     ]
    }
   ],
   "source": [
    "# exploring the shape of the data\n",
    "print(f'Shape of the Provider Fraud Detection dataset: {df.shape}')"
   ]
  },
  {
   "cell_type": "code",
   "execution_count": 9,
   "id": "3d766c0d",
   "metadata": {},
   "outputs": [
    {
     "data": {
      "application/vnd.microsoft.datawrangler.viewer.v0+json": {
       "columns": [
        {
         "name": "index",
         "rawType": "object",
         "type": "string"
        },
        {
         "name": "count",
         "rawType": "int64",
         "type": "integer"
        },
        {
         "name": "perecent",
         "rawType": "float64",
         "type": "float"
        }
       ],
       "ref": "c1368467-b477-4b68-9cd5-5a7622ba9f30",
       "rows": [
        [
         "excluded_asof",
         "184989",
         "96.49921752738653"
        ],
        [
         "ever_excluded_asof",
         "184989",
         "96.49921752738653"
        ],
        [
         "w_var_submitted_charge",
         "164928",
         "86.03442879499218"
        ],
        [
         "is_organization_subpart",
         "153483",
         "80.06416275430361"
        ],
        [
         "is_sole_proprietor",
         "48385",
         "25.239958268127282"
        ],
        [
         "state_abbr",
         "7959",
         "4.151799687010955"
        ],
        [
         "zip5",
         "7871",
         "4.105894627021388"
        ],
        [
         "entity_type_code",
         "7870",
         "4.105372978612415"
        ],
        [
         "primary_taxonomy",
         "7870",
         "4.105372978612415"
        ],
        [
         "npi_age_days",
         "7870",
         "4.105372978612415"
        ],
        [
         "services_per_bene",
         "0",
         "0.0"
        ],
        [
         "charge_allowed_ratio",
         "0",
         "0.0"
        ],
        [
         "payment_allowed_ratio",
         "0",
         "0.0"
        ],
        [
         "npi",
         "0",
         "0.0"
        ],
        [
         "bene_days_per_bene",
         "0",
         "0.0"
        ],
        [
         "has_puf",
         "0",
         "0.0"
        ],
        [
         "is_fraud",
         "0",
         "0.0"
        ],
        [
         "w_stddev_submitted_charge",
         "0",
         "0.0"
        ],
        [
         "frac_missing_zip",
         "0",
         "0.0"
        ],
        [
         "w_avg_payment",
         "0",
         "0.0"
        ],
        [
         "w_avg_allowed",
         "0",
         "0.0"
        ],
        [
         "w_avg_submitted_charge",
         "0",
         "0.0"
        ],
        [
         "frac_drug_services",
         "0",
         "0.0"
        ],
        [
         "num_unique_procedures",
         "0",
         "0.0"
        ],
        [
         "total_bene_day_services",
         "0",
         "0.0"
        ],
        [
         "total_beneficiaries",
         "0",
         "0.0"
        ],
        [
         "total_services",
         "0",
         "0.0"
        ],
        [
         "is_active",
         "0",
         "0.0"
        ],
        [
         "is_excluded_asof",
         "0",
         "0.0"
        ]
       ],
       "shape": {
        "columns": 2,
        "rows": 29
       }
      },
      "text/html": [
       "<div>\n",
       "<style scoped>\n",
       "    .dataframe tbody tr th:only-of-type {\n",
       "        vertical-align: middle;\n",
       "    }\n",
       "\n",
       "    .dataframe tbody tr th {\n",
       "        vertical-align: top;\n",
       "    }\n",
       "\n",
       "    .dataframe thead th {\n",
       "        text-align: right;\n",
       "    }\n",
       "</style>\n",
       "<table border=\"1\" class=\"dataframe\">\n",
       "  <thead>\n",
       "    <tr style=\"text-align: right;\">\n",
       "      <th></th>\n",
       "      <th>count</th>\n",
       "      <th>perecent</th>\n",
       "    </tr>\n",
       "  </thead>\n",
       "  <tbody>\n",
       "    <tr>\n",
       "      <th>excluded_asof</th>\n",
       "      <td>184989</td>\n",
       "      <td>96.499218</td>\n",
       "    </tr>\n",
       "    <tr>\n",
       "      <th>ever_excluded_asof</th>\n",
       "      <td>184989</td>\n",
       "      <td>96.499218</td>\n",
       "    </tr>\n",
       "    <tr>\n",
       "      <th>w_var_submitted_charge</th>\n",
       "      <td>164928</td>\n",
       "      <td>86.034429</td>\n",
       "    </tr>\n",
       "    <tr>\n",
       "      <th>is_organization_subpart</th>\n",
       "      <td>153483</td>\n",
       "      <td>80.064163</td>\n",
       "    </tr>\n",
       "    <tr>\n",
       "      <th>is_sole_proprietor</th>\n",
       "      <td>48385</td>\n",
       "      <td>25.239958</td>\n",
       "    </tr>\n",
       "    <tr>\n",
       "      <th>state_abbr</th>\n",
       "      <td>7959</td>\n",
       "      <td>4.151800</td>\n",
       "    </tr>\n",
       "    <tr>\n",
       "      <th>zip5</th>\n",
       "      <td>7871</td>\n",
       "      <td>4.105895</td>\n",
       "    </tr>\n",
       "    <tr>\n",
       "      <th>entity_type_code</th>\n",
       "      <td>7870</td>\n",
       "      <td>4.105373</td>\n",
       "    </tr>\n",
       "    <tr>\n",
       "      <th>primary_taxonomy</th>\n",
       "      <td>7870</td>\n",
       "      <td>4.105373</td>\n",
       "    </tr>\n",
       "    <tr>\n",
       "      <th>npi_age_days</th>\n",
       "      <td>7870</td>\n",
       "      <td>4.105373</td>\n",
       "    </tr>\n",
       "    <tr>\n",
       "      <th>services_per_bene</th>\n",
       "      <td>0</td>\n",
       "      <td>0.000000</td>\n",
       "    </tr>\n",
       "    <tr>\n",
       "      <th>charge_allowed_ratio</th>\n",
       "      <td>0</td>\n",
       "      <td>0.000000</td>\n",
       "    </tr>\n",
       "    <tr>\n",
       "      <th>payment_allowed_ratio</th>\n",
       "      <td>0</td>\n",
       "      <td>0.000000</td>\n",
       "    </tr>\n",
       "    <tr>\n",
       "      <th>npi</th>\n",
       "      <td>0</td>\n",
       "      <td>0.000000</td>\n",
       "    </tr>\n",
       "    <tr>\n",
       "      <th>bene_days_per_bene</th>\n",
       "      <td>0</td>\n",
       "      <td>0.000000</td>\n",
       "    </tr>\n",
       "    <tr>\n",
       "      <th>has_puf</th>\n",
       "      <td>0</td>\n",
       "      <td>0.000000</td>\n",
       "    </tr>\n",
       "    <tr>\n",
       "      <th>is_fraud</th>\n",
       "      <td>0</td>\n",
       "      <td>0.000000</td>\n",
       "    </tr>\n",
       "    <tr>\n",
       "      <th>w_stddev_submitted_charge</th>\n",
       "      <td>0</td>\n",
       "      <td>0.000000</td>\n",
       "    </tr>\n",
       "    <tr>\n",
       "      <th>frac_missing_zip</th>\n",
       "      <td>0</td>\n",
       "      <td>0.000000</td>\n",
       "    </tr>\n",
       "    <tr>\n",
       "      <th>w_avg_payment</th>\n",
       "      <td>0</td>\n",
       "      <td>0.000000</td>\n",
       "    </tr>\n",
       "    <tr>\n",
       "      <th>w_avg_allowed</th>\n",
       "      <td>0</td>\n",
       "      <td>0.000000</td>\n",
       "    </tr>\n",
       "    <tr>\n",
       "      <th>w_avg_submitted_charge</th>\n",
       "      <td>0</td>\n",
       "      <td>0.000000</td>\n",
       "    </tr>\n",
       "    <tr>\n",
       "      <th>frac_drug_services</th>\n",
       "      <td>0</td>\n",
       "      <td>0.000000</td>\n",
       "    </tr>\n",
       "    <tr>\n",
       "      <th>num_unique_procedures</th>\n",
       "      <td>0</td>\n",
       "      <td>0.000000</td>\n",
       "    </tr>\n",
       "    <tr>\n",
       "      <th>total_bene_day_services</th>\n",
       "      <td>0</td>\n",
       "      <td>0.000000</td>\n",
       "    </tr>\n",
       "    <tr>\n",
       "      <th>total_beneficiaries</th>\n",
       "      <td>0</td>\n",
       "      <td>0.000000</td>\n",
       "    </tr>\n",
       "    <tr>\n",
       "      <th>total_services</th>\n",
       "      <td>0</td>\n",
       "      <td>0.000000</td>\n",
       "    </tr>\n",
       "    <tr>\n",
       "      <th>is_active</th>\n",
       "      <td>0</td>\n",
       "      <td>0.000000</td>\n",
       "    </tr>\n",
       "    <tr>\n",
       "      <th>is_excluded_asof</th>\n",
       "      <td>0</td>\n",
       "      <td>0.000000</td>\n",
       "    </tr>\n",
       "  </tbody>\n",
       "</table>\n",
       "</div>"
      ],
      "text/plain": [
       "                            count   perecent\n",
       "excluded_asof              184989  96.499218\n",
       "ever_excluded_asof         184989  96.499218\n",
       "w_var_submitted_charge     164928  86.034429\n",
       "is_organization_subpart    153483  80.064163\n",
       "is_sole_proprietor          48385  25.239958\n",
       "state_abbr                   7959   4.151800\n",
       "zip5                         7871   4.105895\n",
       "entity_type_code             7870   4.105373\n",
       "primary_taxonomy             7870   4.105373\n",
       "npi_age_days                 7870   4.105373\n",
       "services_per_bene               0   0.000000\n",
       "charge_allowed_ratio            0   0.000000\n",
       "payment_allowed_ratio           0   0.000000\n",
       "npi                             0   0.000000\n",
       "bene_days_per_bene              0   0.000000\n",
       "has_puf                         0   0.000000\n",
       "is_fraud                        0   0.000000\n",
       "w_stddev_submitted_charge       0   0.000000\n",
       "frac_missing_zip                0   0.000000\n",
       "w_avg_payment                   0   0.000000\n",
       "w_avg_allowed                   0   0.000000\n",
       "w_avg_submitted_charge          0   0.000000\n",
       "frac_drug_services              0   0.000000\n",
       "num_unique_procedures           0   0.000000\n",
       "total_bene_day_services         0   0.000000\n",
       "total_beneficiaries             0   0.000000\n",
       "total_services                  0   0.000000\n",
       "is_active                       0   0.000000\n",
       "is_excluded_asof                0   0.000000"
      ]
     },
     "execution_count": 9,
     "metadata": {},
     "output_type": "execute_result"
    }
   ],
   "source": [
    "# checking for the missing values for each column in this dataset\n",
    "missing = pd.concat([df.isnull().sum(), 100 * df.isnull().mean()], axis=1)\n",
    "missing.columns = ['count', 'perecent']\n",
    "missing.sort_values(by='count', ascending=False)\n"
   ]
  },
  {
   "cell_type": "code",
   "execution_count": 10,
   "id": "f0597c44",
   "metadata": {},
   "outputs": [],
   "source": [
    "# dropping redudant/raw label columns\n",
    "df = df.drop(columns=[\"ever_excluded_asof\", \"excluded_asof\", \"w_var_submitted_charge\"], errors=\"ignore\")"
   ]
  },
  {
   "cell_type": "code",
   "execution_count": 12,
   "id": "43452f57",
   "metadata": {},
   "outputs": [
    {
     "name": "stdout",
     "output_type": "stream",
     "text": [
      "<class 'pandas.core.frame.DataFrame'>\n",
      "RangeIndex: 191700 entries, 0 to 191699\n",
      "Data columns (total 26 columns):\n",
      " #   Column                     Non-Null Count   Dtype  \n",
      "---  ------                     --------------   -----  \n",
      " 0   npi                        191700 non-null  object \n",
      " 1   state_abbr                 183741 non-null  object \n",
      " 2   zip5                       183829 non-null  object \n",
      " 3   entity_type_code           183830 non-null  float64\n",
      " 4   primary_taxonomy           183830 non-null  object \n",
      " 5   npi_age_days               183830 non-null  float64\n",
      " 6   is_active                  191700 non-null  int32  \n",
      " 7   is_organization_subpart    38217 non-null   float64\n",
      " 8   is_sole_proprietor         143315 non-null  float64\n",
      " 9   total_services             191700 non-null  float64\n",
      " 10  total_beneficiaries        191700 non-null  float64\n",
      " 11  total_bene_day_services    191700 non-null  float64\n",
      " 12  num_unique_procedures      191700 non-null  float64\n",
      " 13  frac_drug_services         191700 non-null  float64\n",
      " 14  frac_missing_zip           191700 non-null  float64\n",
      " 15  w_avg_submitted_charge     191700 non-null  float64\n",
      " 16  w_avg_allowed              191700 non-null  float64\n",
      " 17  w_avg_payment              191700 non-null  float64\n",
      " 18  w_stddev_submitted_charge  191700 non-null  float64\n",
      " 19  charge_allowed_ratio       191700 non-null  float64\n",
      " 20  payment_allowed_ratio      191700 non-null  float64\n",
      " 21  services_per_bene          191700 non-null  float64\n",
      " 22  bene_days_per_bene         191700 non-null  float64\n",
      " 23  has_puf                    191700 non-null  int32  \n",
      " 24  is_fraud                   191700 non-null  int32  \n",
      " 25  is_excluded_asof           191700 non-null  int32  \n",
      "dtypes: float64(18), int32(4), object(4)\n",
      "memory usage: 35.1+ MB\n"
     ]
    },
    {
     "data": {
      "text/plain": [
       "Index(['npi', 'state_abbr', 'zip5', 'entity_type_code', 'primary_taxonomy',\n",
       "       'npi_age_days', 'is_active', 'is_organization_subpart',\n",
       "       'is_sole_proprietor', 'total_services', 'total_beneficiaries',\n",
       "       'total_bene_day_services', 'num_unique_procedures',\n",
       "       'frac_drug_services', 'frac_missing_zip', 'w_avg_submitted_charge',\n",
       "       'w_avg_allowed', 'w_avg_payment', 'w_stddev_submitted_charge',\n",
       "       'charge_allowed_ratio', 'payment_allowed_ratio', 'services_per_bene',\n",
       "       'bene_days_per_bene', 'has_puf', 'is_fraud', 'is_excluded_asof'],\n",
       "      dtype='object')"
      ]
     },
     "execution_count": 12,
     "metadata": {},
     "output_type": "execute_result"
    }
   ],
   "source": [
    "df.info()\n",
    "df.columns"
   ]
  },
  {
   "cell_type": "code",
   "execution_count": 14,
   "id": "2ad6693a",
   "metadata": {},
   "outputs": [],
   "source": [
    "# renaming the columns to be more readable\n",
    "\n",
    "rename_map = {\n",
    "    \"state_abbr\": \"state\",\n",
    "    \"zip5\": \"zip5\",\n",
    "    \"entity_type_code\": \"entity_type\", # 1= individual, 2=organization\n",
    "    \"primary_taxonomy\": \"taxonomy\",\n",
    "    \"npi_age_days\": \"days_since_enrollment\",\n",
    "    \"is_active\": \"npi_active\",\n",
    "    \"is_organization_subpart\": \"org_subpart_flag\",\n",
    "    \"is_sole_proprietor\": \"sole_proprietor_flag\",\n",
    "    \"total_services\": \"services_total\",\n",
    "    \"total_beneficiaries\": \"beneficiaries_total\",\n",
    "    \"total_bene_day_services\": \"beneficiary_days_total\",\n",
    "    \"num_unique_procedures\": \"hcpcs_unique_count\",\n",
    "    \"frac_drug_services\": \"drug_services_rate\",\n",
    "    \"frac_missing_zip\": \"missing_zip_rate\",\n",
    "    \"w_avg_submitted_charge\": \"avg_charge_w\",\n",
    "    \"w_avg_allowed\": \"avg_allowed_w\",\n",
    "    \"w_avg_payment\": \"avg_payment_w\",\n",
    "    \"w_stddev_submitted_charge\": \"charge_std_w\",\n",
    "    \"charge_allowed_ratio\": \"charge_to_allowed\",\n",
    "    \"payment_allowed_ratio\": \"payment_to_allowed\",\n",
    "    \"services_per_bene\": \"services_per_beneficiary\",\n",
    "    \"bene_days_per_bene\": \"beneficiary_days_per_beneficiary\",\n",
    "    \"has_puf\": \"has_claims_features\",\n",
    "    \"is_fraud\": \"label_fraud\", # this will be my target feature\n",
    "    \"is_excluded_asof\": \"status_excluded_asof\" # this is only for reporting purposes, not used in modeling\n",
    "}\n",
    "\n",
    "df = df.rename(columns=rename_map)\n"
   ]
  },
  {
   "cell_type": "code",
   "execution_count": 15,
   "id": "1a0cd634",
   "metadata": {},
   "outputs": [
    {
     "name": "stdout",
     "output_type": "stream",
     "text": [
      "label_fraud\n",
      "0    184989\n",
      "1      6711\n",
      "Name: count, dtype: int64\n",
      "Prevalence (downsampled): 3.50%\n"
     ]
    }
   ],
   "source": [
    "# Basic label sanity\n",
    "print(df[\"label_fraud\"].value_counts(dropna=False))\n",
    "print(f\"Prevalence (downsampled): {df['label_fraud'].mean():.2%}\")"
   ]
  },
  {
   "cell_type": "code",
   "execution_count": 16,
   "id": "3a95d681",
   "metadata": {},
   "outputs": [
    {
     "name": "stdout",
     "output_type": "stream",
     "text": [
      "Duplicate NPIs: 0\n"
     ]
    }
   ],
   "source": [
    "# Duplicates on primary key\n",
    "dup_npi = df[\"npi\"].duplicated().sum()\n",
    "print(\"Duplicate NPIs:\", dup_npi)"
   ]
  },
  {
   "cell_type": "code",
   "execution_count": 25,
   "id": "5c317b3f",
   "metadata": {},
   "outputs": [
    {
     "name": "stdout",
     "output_type": "stream",
     "text": [
      "\n",
      "state: 64 unique values\n"
     ]
    },
    {
     "data": {
      "application/vnd.microsoft.datawrangler.viewer.v0+json": {
       "columns": [
        {
         "name": "state",
         "rawType": "object",
         "type": "unknown"
        },
        {
         "name": "count",
         "rawType": "int64",
         "type": "integer"
        }
       ],
       "ref": "65f2758e-999b-4d6b-b051-2698c4a5a0a1",
       "rows": [
        [
         "CA",
         "22473"
        ],
        [
         "NY",
         "13538"
        ],
        [
         "FL",
         "12573"
        ],
        [
         "TX",
         "11818"
        ],
        [
         null,
         "7959"
        ],
        [
         "OH",
         "7824"
        ],
        [
         "PA",
         "6916"
        ],
        [
         "MI",
         "6849"
        ],
        [
         "IL",
         "6401"
        ],
        [
         "NC",
         "5359"
        ],
        [
         "MA",
         "5184"
        ],
        [
         "WA",
         "4963"
        ],
        [
         "NJ",
         "4558"
        ],
        [
         "GA",
         "4528"
        ],
        [
         "CO",
         "3924"
        ]
       ],
       "shape": {
        "columns": 1,
        "rows": 15
       }
      },
      "text/plain": [
       "state\n",
       "CA      22473\n",
       "NY      13538\n",
       "FL      12573\n",
       "TX      11818\n",
       "None     7959\n",
       "OH       7824\n",
       "PA       6916\n",
       "MI       6849\n",
       "IL       6401\n",
       "NC       5359\n",
       "MA       5184\n",
       "WA       4963\n",
       "NJ       4558\n",
       "GA       4528\n",
       "CO       3924\n",
       "Name: count, dtype: int64"
      ]
     },
     "metadata": {},
     "output_type": "display_data"
    },
    {
     "name": "stdout",
     "output_type": "stream",
     "text": [
      "\n",
      "entity_type: 3 unique values\n"
     ]
    },
    {
     "data": {
      "application/vnd.microsoft.datawrangler.viewer.v0+json": {
       "columns": [
        {
         "name": "entity_type",
         "rawType": "float64",
         "type": "float"
        },
        {
         "name": "count",
         "rawType": "int64",
         "type": "integer"
        }
       ],
       "ref": "6e3e6603-76c1-41c8-9f09-1b8ee40a5599",
       "rows": [
        [
         "1.0",
         "145613"
        ],
        [
         "2.0",
         "38217"
        ],
        [
         null,
         "7870"
        ]
       ],
       "shape": {
        "columns": 1,
        "rows": 3
       }
      },
      "text/plain": [
       "entity_type\n",
       "1.0    145613\n",
       "2.0     38217\n",
       "NaN      7870\n",
       "Name: count, dtype: int64"
      ]
     },
     "metadata": {},
     "output_type": "display_data"
    },
    {
     "name": "stdout",
     "output_type": "stream",
     "text": [
      "\n",
      "taxonomy: 769 unique values\n"
     ]
    },
    {
     "data": {
      "application/vnd.microsoft.datawrangler.viewer.v0+json": {
       "columns": [
        {
         "name": "taxonomy",
         "rawType": "object",
         "type": "unknown"
        },
        {
         "name": "count",
         "rawType": "int64",
         "type": "integer"
        }
       ],
       "ref": "615361be-329a-4fe9-a1cf-ac4b9b06a45c",
       "rows": [
        [
         null,
         "7870"
        ],
        [
         "106S00000X",
         "7280"
        ],
        [
         "1041C0700X",
         "6905"
        ],
        [
         "183500000X",
         "6536"
        ],
        [
         "101YM0800X",
         "6258"
        ],
        [
         "225100000X",
         "6073"
        ],
        [
         "207Q00000X",
         "5001"
        ],
        [
         "363LF0000X",
         "4836"
        ],
        [
         "207R00000X",
         "4474"
        ],
        [
         "235Z00000X",
         "4208"
        ],
        [
         "1223G0001X",
         "3958"
        ],
        [
         "390200000X",
         "3818"
        ],
        [
         "111N00000X",
         "3727"
        ],
        [
         "363A00000X",
         "3218"
        ],
        [
         "101YP2500X",
         "3192"
        ]
       ],
       "shape": {
        "columns": 1,
        "rows": 15
       }
      },
      "text/plain": [
       "taxonomy\n",
       "None          7870\n",
       "106S00000X    7280\n",
       "1041C0700X    6905\n",
       "183500000X    6536\n",
       "101YM0800X    6258\n",
       "225100000X    6073\n",
       "207Q00000X    5001\n",
       "363LF0000X    4836\n",
       "207R00000X    4474\n",
       "235Z00000X    4208\n",
       "1223G0001X    3958\n",
       "390200000X    3818\n",
       "111N00000X    3727\n",
       "363A00000X    3218\n",
       "101YP2500X    3192\n",
       "Name: count, dtype: int64"
      ]
     },
     "metadata": {},
     "output_type": "display_data"
    }
   ],
   "source": [
    "# cardinality of categorical features (to plan for encoding)\n",
    "cat_cols = [c for c in [\"state\",\"entity_type\",\"taxonomy\"] if c in df.columns]\n",
    "for c in cat_cols:\n",
    "    vc = df[c].value_counts(dropna=False)\n",
    "    print(f\"\\n{c}: {len(vc)} unique values\")\n",
    "    display(vc.head(15))\n"
   ]
  },
  {
   "cell_type": "code",
   "execution_count": 20,
   "id": "15a86379",
   "metadata": {},
   "outputs": [
    {
     "data": {
      "image/png": "[encoded data removed]",
      "text/plain": [
       "<Figure size 400x300 with 1 Axes>"
      ]
     },
     "metadata": {},
     "output_type": "display_data"
    },
    {
     "data": {
      "image/png": "[encoded data removed]",
      "text/plain": [
       "<Figure size 400x300 with 1 Axes>"
      ]
     },
     "metadata": {},
     "output_type": "display_data"
    }
   ],
   "source": [
    "# target feature distribution\n",
    "fig, ax = plt.subplots(figsize=(4,3))\n",
    "sns.countplot(x=\"label_fraud\", data=df, ax=ax)\n",
    "ax.set_xlabel(\"Fraud label (0=no, 1=yes)\")\n",
    "ax.set_ylabel(\"Count\")\n",
    "ax.bar_label(ax.containers[0])\n",
    "ax.set_title(f\"Fraud prevalence: {df['label_fraud'].mean():.2%}\")\n",
    "plt.tight_layout()\n",
    "plt.show()\n"
   ]
  },
  {
   "cell_type": "code",
   "execution_count": 22,
   "id": "b5afdac6",
   "metadata": {},
   "outputs": [
    {
     "data": {
      "image/png": "[encoded data removed]",
      "text/plain": [
       "<Figure size 500x300 with 1 Axes>"
      ]
     },
     "metadata": {},
     "output_type": "display_data"
    },
    {
     "data": {
      "image/png": "[encoded data removed]",
      "text/plain": [
       "<Figure size 500x300 with 1 Axes>"
      ]
     },
     "metadata": {},
     "output_type": "display_data"
    },
    {
     "data": {
      "image/png": "[encoded data removed]",
      "text/plain": [
       "<Figure size 500x300 with 1 Axes>"
      ]
     },
     "metadata": {},
     "output_type": "display_data"
    },
    {
     "data": {
      "image/png": "[encoded data removed]",
      "text/plain": [
       "<Figure size 500x300 with 1 Axes>"
      ]
     },
     "metadata": {},
     "output_type": "display_data"
    },
    {
     "data": {
      "image/png": "[encoded data removed]",
      "text/plain": [
       "<Figure size 500x300 with 1 Axes>"
      ]
     },
     "metadata": {},
     "output_type": "display_data"
    },
    {
     "data": {
      "image/png": "[encoded data removed]",
      "text/plain": [
       "<Figure size 500x300 with 1 Axes>"
      ]
     },
     "metadata": {},
     "output_type": "display_data"
    },
    {
     "data": {
      "image/png": "[encoded data removed]",
      "text/plain": [
       "<Figure size 500x300 with 1 Axes>"
      ]
     },
     "metadata": {},
     "output_type": "display_data"
    },
    {
     "data": {
      "image/png": "[encoded data removed]",
      "text/plain": [
       "<Figure size 500x300 with 1 Axes>"
      ]
     },
     "metadata": {},
     "output_type": "display_data"
    },
    {
     "data": {
      "image/png": "[encoded data removed]",
      "text/plain": [
       "<Figure size 500x300 with 1 Axes>"
      ]
     },
     "metadata": {},
     "output_type": "display_data"
    },
    {
     "data": {
      "image/png": "[encoded data removed]",
      "text/plain": [
       "<Figure size 500x300 with 1 Axes>"
      ]
     },
     "metadata": {},
     "output_type": "display_data"
    },
    {
     "data": {
      "image/png": "[encoded data removed]",
      "text/plain": [
       "<Figure size 500x300 with 1 Axes>"
      ]
     },
     "metadata": {},
     "output_type": "display_data"
    },
    {
     "data": {
      "image/png": "[encoded data removed]",
      "text/plain": [
       "<Figure size 500x300 with 1 Axes>"
      ]
     },
     "metadata": {},
     "output_type": "display_data"
    },
    {
     "data": {
      "image/png": "[encoded data removed]",
      "text/plain": [
       "<Figure size 500x300 with 1 Axes>"
      ]
     },
     "metadata": {},
     "output_type": "display_data"
    },
    {
     "data": {
      "image/png": "[encoded data removed]",
      "text/plain": [
       "<Figure size 500x300 with 1 Axes>"
      ]
     },
     "metadata": {},
     "output_type": "display_data"
    }
   ],
   "source": [
    "# numeric feature distribution vs target\n",
    "\n",
    "# choose representative numeric features (adjust as you like)\n",
    "num_cols_view = [\n",
    "    \"services_total\",\"avg_charge_w\",\"avg_payment_w\",\"charge_to_allowed\",\n",
    "    \"hcpcs_unique_count\",\"days_since_enrollment\",\"charge_std_w\"\n",
    "]\n",
    "present = [c for c in num_cols_view if c in df.columns]\n",
    "\n",
    "for c in present:\n",
    "    fig, ax = plt.subplots(figsize=(5,3))\n",
    "    x = df[c].clip(upper=df[c].quantile(0.99))  # clip for readability\n",
    "    sns.histplot(x=x, hue=df[\"label_fraud\"], bins=40, stat=\"density\",\n",
    "                 common_norm=False, ax=ax)\n",
    "    ax.set_title(f\"{c} vs. fraud\")\n",
    "    if c in {\"services_total\",\"avg_charge_w\",\"avg_payment_w\",\"charge_std_w\"}:\n",
    "        ax.set_xscale(\"log\")\n",
    "    plt.tight_layout()\n",
    "    plt.show()\n"
   ]
  },
  {
   "cell_type": "code",
   "execution_count": 27,
   "id": "9f8252e5",
   "metadata": {},
   "outputs": [
    {
     "data": {
      "image/png": "[encoded data removed]",
      "text/plain": [
       "<Figure size 600x350 with 1 Axes>"
      ]
     },
     "metadata": {},
     "output_type": "display_data"
    },
    {
     "data": {
      "image/png": "[encoded data removed]",
      "text/plain": [
       "<Figure size 600x350 with 1 Axes>"
      ]
     },
     "metadata": {},
     "output_type": "display_data"
    },
    {
     "data": {
      "image/png": "[encoded data removed]",
      "text/plain": [
       "<Figure size 600x350 with 1 Axes>"
      ]
     },
     "metadata": {},
     "output_type": "display_data"
    },
    {
     "data": {
      "image/png": "[encoded data removed]",
      "text/plain": [
       "<Figure size 600x350 with 1 Axes>"
      ]
     },
     "metadata": {},
     "output_type": "display_data"
    },
    {
     "data": {
      "application/vnd.microsoft.datawrangler.viewer.v0+json": {
       "columns": [
        {
         "name": "state",
         "rawType": "object",
         "type": "string"
        },
        {
         "name": "rate",
         "rawType": "float64",
         "type": "float"
        },
        {
         "name": "count",
         "rawType": "int64",
         "type": "integer"
        }
       ],
       "ref": "047a4711-00cc-463a-9148-22b1427d955d",
       "rows": [
        [
         "OH",
         "0.06134969325153374",
         "7824"
        ],
        [
         "NY",
         "0.04609248042546905",
         "13538"
        ],
        [
         "FL",
         "0.039688220790583",
         "12573"
        ],
        [
         "MI",
         "0.038253759672944955",
         "6849"
        ],
        [
         "PA",
         "0.037160208212839795",
         "6916"
        ],
        [
         "CA",
         "0.034085346860677254",
         "22473"
        ],
        [
         "IL",
         "0.02843305733479144",
         "6401"
        ],
        [
         "TX",
         "0.02766965645625317",
         "11818"
        ],
        [
         "NJ",
         "0.027424308907415533",
         "4558"
        ],
        [
         "VA",
         "0.026309067688378034",
         "3915"
        ],
        [
         "GA",
         "0.025397526501766785",
         "4528"
        ],
        [
         "CO",
         "0.02420998980632008",
         "3924"
        ],
        [
         "WA",
         "0.02075357646584727",
         "4963"
        ],
        [
         "NC",
         "0.016047770106363126",
         "5359"
        ],
        [
         "MA",
         "0.015239197530864198",
         "5184"
        ]
       ],
       "shape": {
        "columns": 2,
        "rows": 15
       }
      },
      "text/html": [
       "<div>\n",
       "<style scoped>\n",
       "    .dataframe tbody tr th:only-of-type {\n",
       "        vertical-align: middle;\n",
       "    }\n",
       "\n",
       "    .dataframe tbody tr th {\n",
       "        vertical-align: top;\n",
       "    }\n",
       "\n",
       "    .dataframe thead th {\n",
       "        text-align: right;\n",
       "    }\n",
       "</style>\n",
       "<table border=\"1\" class=\"dataframe\">\n",
       "  <thead>\n",
       "    <tr style=\"text-align: right;\">\n",
       "      <th></th>\n",
       "      <th>rate</th>\n",
       "      <th>count</th>\n",
       "    </tr>\n",
       "    <tr>\n",
       "      <th>state</th>\n",
       "      <th></th>\n",
       "      <th></th>\n",
       "    </tr>\n",
       "  </thead>\n",
       "  <tbody>\n",
       "    <tr>\n",
       "      <th>OH</th>\n",
       "      <td>0.061350</td>\n",
       "      <td>7824</td>\n",
       "    </tr>\n",
       "    <tr>\n",
       "      <th>NY</th>\n",
       "      <td>0.046092</td>\n",
       "      <td>13538</td>\n",
       "    </tr>\n",
       "    <tr>\n",
       "      <th>FL</th>\n",
       "      <td>0.039688</td>\n",
       "      <td>12573</td>\n",
       "    </tr>\n",
       "    <tr>\n",
       "      <th>MI</th>\n",
       "      <td>0.038254</td>\n",
       "      <td>6849</td>\n",
       "    </tr>\n",
       "    <tr>\n",
       "      <th>PA</th>\n",
       "      <td>0.037160</td>\n",
       "      <td>6916</td>\n",
       "    </tr>\n",
       "    <tr>\n",
       "      <th>CA</th>\n",
       "      <td>0.034085</td>\n",
       "      <td>22473</td>\n",
       "    </tr>\n",
       "    <tr>\n",
       "      <th>IL</th>\n",
       "      <td>0.028433</td>\n",
       "      <td>6401</td>\n",
       "    </tr>\n",
       "    <tr>\n",
       "      <th>TX</th>\n",
       "      <td>0.027670</td>\n",
       "      <td>11818</td>\n",
       "    </tr>\n",
       "    <tr>\n",
       "      <th>NJ</th>\n",
       "      <td>0.027424</td>\n",
       "      <td>4558</td>\n",
       "    </tr>\n",
       "    <tr>\n",
       "      <th>VA</th>\n",
       "      <td>0.026309</td>\n",
       "      <td>3915</td>\n",
       "    </tr>\n",
       "    <tr>\n",
       "      <th>GA</th>\n",
       "      <td>0.025398</td>\n",
       "      <td>4528</td>\n",
       "    </tr>\n",
       "    <tr>\n",
       "      <th>CO</th>\n",
       "      <td>0.024210</td>\n",
       "      <td>3924</td>\n",
       "    </tr>\n",
       "    <tr>\n",
       "      <th>WA</th>\n",
       "      <td>0.020754</td>\n",
       "      <td>4963</td>\n",
       "    </tr>\n",
       "    <tr>\n",
       "      <th>NC</th>\n",
       "      <td>0.016048</td>\n",
       "      <td>5359</td>\n",
       "    </tr>\n",
       "    <tr>\n",
       "      <th>MA</th>\n",
       "      <td>0.015239</td>\n",
       "      <td>5184</td>\n",
       "    </tr>\n",
       "  </tbody>\n",
       "</table>\n",
       "</div>"
      ],
      "text/plain": [
       "           rate  count\n",
       "state                 \n",
       "OH     0.061350   7824\n",
       "NY     0.046092  13538\n",
       "FL     0.039688  12573\n",
       "MI     0.038254   6849\n",
       "PA     0.037160   6916\n",
       "CA     0.034085  22473\n",
       "IL     0.028433   6401\n",
       "TX     0.027670  11818\n",
       "NJ     0.027424   4558\n",
       "VA     0.026309   3915\n",
       "GA     0.025398   4528\n",
       "CO     0.024210   3924\n",
       "WA     0.020754   4963\n",
       "NC     0.016048   5359\n",
       "MA     0.015239   5184"
      ]
     },
     "metadata": {},
     "output_type": "display_data"
    },
    {
     "data": {
      "application/vnd.microsoft.datawrangler.viewer.v0+json": {
       "columns": [
        {
         "name": "entity_type",
         "rawType": "float64",
         "type": "float"
        },
        {
         "name": "rate",
         "rawType": "float64",
         "type": "float"
        },
        {
         "name": "count",
         "rawType": "int64",
         "type": "integer"
        }
       ],
       "ref": "0120ae3d-0ef6-4f82-a3b0-0d3d8399b951",
       "rows": [
        [
         "1.0",
         "0.03774388275772081",
         "145613"
        ],
        [
         "2.0",
         "0.011591700028783002",
         "38217"
        ]
       ],
       "shape": {
        "columns": 2,
        "rows": 2
       }
      },
      "text/html": [
       "<div>\n",
       "<style scoped>\n",
       "    .dataframe tbody tr th:only-of-type {\n",
       "        vertical-align: middle;\n",
       "    }\n",
       "\n",
       "    .dataframe tbody tr th {\n",
       "        vertical-align: top;\n",
       "    }\n",
       "\n",
       "    .dataframe thead th {\n",
       "        text-align: right;\n",
       "    }\n",
       "</style>\n",
       "<table border=\"1\" class=\"dataframe\">\n",
       "  <thead>\n",
       "    <tr style=\"text-align: right;\">\n",
       "      <th></th>\n",
       "      <th>rate</th>\n",
       "      <th>count</th>\n",
       "    </tr>\n",
       "    <tr>\n",
       "      <th>entity_type</th>\n",
       "      <th></th>\n",
       "      <th></th>\n",
       "    </tr>\n",
       "  </thead>\n",
       "  <tbody>\n",
       "    <tr>\n",
       "      <th>1.0</th>\n",
       "      <td>0.037744</td>\n",
       "      <td>145613</td>\n",
       "    </tr>\n",
       "    <tr>\n",
       "      <th>2.0</th>\n",
       "      <td>0.011592</td>\n",
       "      <td>38217</td>\n",
       "    </tr>\n",
       "  </tbody>\n",
       "</table>\n",
       "</div>"
      ],
      "text/plain": [
       "                 rate   count\n",
       "entity_type                  \n",
       "1.0          0.037744  145613\n",
       "2.0          0.011592   38217"
      ]
     },
     "metadata": {},
     "output_type": "display_data"
    },
    {
     "data": {
      "application/vnd.microsoft.datawrangler.viewer.v0+json": {
       "columns": [
        {
         "name": "taxonomy",
         "rawType": "object",
         "type": "string"
        },
        {
         "name": "rate",
         "rawType": "float64",
         "type": "float"
        },
        {
         "name": "count",
         "rawType": "int64",
         "type": "integer"
        }
       ],
       "ref": "2e7d275a-f21e-4e27-b4c6-6ccc0357f78d",
       "rows": [
        [
         "207Q00000X",
         "0.09918016396720655",
         "5001"
        ],
        [
         "111N00000X",
         "0.08773812718003757",
         "3727"
        ],
        [
         "207R00000X",
         "0.08739383102369244",
         "4474"
        ],
        [
         "183500000X",
         "0.0341187270501836",
         "6536"
        ],
        [
         "1223G0001X",
         "0.03335017685699848",
         "3958"
        ],
        [
         "101YP2500X",
         "0.02694235588972431",
         "3192"
        ],
        [
         "363A00000X",
         "0.02610316967060286",
         "3218"
        ],
        [
         "101YM0800X",
         "0.02141259188239054",
         "6258"
        ],
        [
         "363LF0000X",
         "0.019851116625310174",
         "4836"
        ],
        [
         "1041C0700X",
         "0.01622013034033309",
         "6905"
        ],
        [
         "225100000X",
         "0.013831714144574346",
         "6073"
        ],
        [
         "171M00000X",
         "0.01362126245847176",
         "3010"
        ],
        [
         "235Z00000X",
         "0.007842205323193916",
         "4208"
        ],
        [
         "390200000X",
         "0.004452592980618125",
         "3818"
        ],
        [
         "106S00000X",
         "0.001098901098901099",
         "7280"
        ]
       ],
       "shape": {
        "columns": 2,
        "rows": 15
       }
      },
      "text/html": [
       "<div>\n",
       "<style scoped>\n",
       "    .dataframe tbody tr th:only-of-type {\n",
       "        vertical-align: middle;\n",
       "    }\n",
       "\n",
       "    .dataframe tbody tr th {\n",
       "        vertical-align: top;\n",
       "    }\n",
       "\n",
       "    .dataframe thead th {\n",
       "        text-align: right;\n",
       "    }\n",
       "</style>\n",
       "<table border=\"1\" class=\"dataframe\">\n",
       "  <thead>\n",
       "    <tr style=\"text-align: right;\">\n",
       "      <th></th>\n",
       "      <th>rate</th>\n",
       "      <th>count</th>\n",
       "    </tr>\n",
       "    <tr>\n",
       "      <th>taxonomy</th>\n",
       "      <th></th>\n",
       "      <th></th>\n",
       "    </tr>\n",
       "  </thead>\n",
       "  <tbody>\n",
       "    <tr>\n",
       "      <th>207Q00000X</th>\n",
       "      <td>0.099180</td>\n",
       "      <td>5001</td>\n",
       "    </tr>\n",
       "    <tr>\n",
       "      <th>111N00000X</th>\n",
       "      <td>0.087738</td>\n",
       "      <td>3727</td>\n",
       "    </tr>\n",
       "    <tr>\n",
       "      <th>207R00000X</th>\n",
       "      <td>0.087394</td>\n",
       "      <td>4474</td>\n",
       "    </tr>\n",
       "    <tr>\n",
       "      <th>183500000X</th>\n",
       "      <td>0.034119</td>\n",
       "      <td>6536</td>\n",
       "    </tr>\n",
       "    <tr>\n",
       "      <th>1223G0001X</th>\n",
       "      <td>0.033350</td>\n",
       "      <td>3958</td>\n",
       "    </tr>\n",
       "    <tr>\n",
       "      <th>101YP2500X</th>\n",
       "      <td>0.026942</td>\n",
       "      <td>3192</td>\n",
       "    </tr>\n",
       "    <tr>\n",
       "      <th>363A00000X</th>\n",
       "      <td>0.026103</td>\n",
       "      <td>3218</td>\n",
       "    </tr>\n",
       "    <tr>\n",
       "      <th>101YM0800X</th>\n",
       "      <td>0.021413</td>\n",
       "      <td>6258</td>\n",
       "    </tr>\n",
       "    <tr>\n",
       "      <th>363LF0000X</th>\n",
       "      <td>0.019851</td>\n",
       "      <td>4836</td>\n",
       "    </tr>\n",
       "    <tr>\n",
       "      <th>1041C0700X</th>\n",
       "      <td>0.016220</td>\n",
       "      <td>6905</td>\n",
       "    </tr>\n",
       "    <tr>\n",
       "      <th>225100000X</th>\n",
       "      <td>0.013832</td>\n",
       "      <td>6073</td>\n",
       "    </tr>\n",
       "    <tr>\n",
       "      <th>171M00000X</th>\n",
       "      <td>0.013621</td>\n",
       "      <td>3010</td>\n",
       "    </tr>\n",
       "    <tr>\n",
       "      <th>235Z00000X</th>\n",
       "      <td>0.007842</td>\n",
       "      <td>4208</td>\n",
       "    </tr>\n",
       "    <tr>\n",
       "      <th>390200000X</th>\n",
       "      <td>0.004453</td>\n",
       "      <td>3818</td>\n",
       "    </tr>\n",
       "    <tr>\n",
       "      <th>106S00000X</th>\n",
       "      <td>0.001099</td>\n",
       "      <td>7280</td>\n",
       "    </tr>\n",
       "  </tbody>\n",
       "</table>\n",
       "</div>"
      ],
      "text/plain": [
       "                rate  count\n",
       "taxonomy                   \n",
       "207Q00000X  0.099180   5001\n",
       "111N00000X  0.087738   3727\n",
       "207R00000X  0.087394   4474\n",
       "183500000X  0.034119   6536\n",
       "1223G0001X  0.033350   3958\n",
       "101YP2500X  0.026942   3192\n",
       "363A00000X  0.026103   3218\n",
       "101YM0800X  0.021413   6258\n",
       "363LF0000X  0.019851   4836\n",
       "1041C0700X  0.016220   6905\n",
       "225100000X  0.013832   6073\n",
       "171M00000X  0.013621   3010\n",
       "235Z00000X  0.007842   4208\n",
       "390200000X  0.004453   3818\n",
       "106S00000X  0.001099   7280"
      ]
     },
     "metadata": {},
     "output_type": "display_data"
    }
   ],
   "source": [
    "# categorical feature distribution vs target\n",
    "def plot_cat_rate(df, col, top_n=15):\n",
    "    if col not in df.columns: return\n",
    "    top_vals = df[col].value_counts().head(top_n).index\n",
    "    tmp = (df[df[col].isin(top_vals)]\n",
    "           .groupby(col)[\"label_fraud\"]\n",
    "           .agg(rate=\"mean\", count=\"size\")\n",
    "           .sort_values(\"rate\", ascending=False))\n",
    "    fig, ax = plt.subplots(figsize=(6,3.5))\n",
    "    sns.barplot(x=tmp.index.astype(str), y=tmp[\"rate\"], ax=ax)\n",
    "    ax.set_ylabel(\"Fraud rate\")\n",
    "    ax.set_xlabel(col)\n",
    "    ax.set_title(f\"{col}: fraud rate (top {top_n} by volume)\")\n",
    "    ax.tick_params(axis=\"x\", rotation=45)\n",
    "    plt.tight_layout()\n",
    "    display(tmp)\n",
    "    \n",
    "plt.show()\n",
    "\n",
    "\n",
    "for c in [\"state\",\"entity_type\",\"taxonomy\"]:\n",
    "    plot_cat_rate(df, c, top_n=15)\n"
   ]
  },
  {
   "cell_type": "code",
   "execution_count": null,
   "id": "c93c2947",
   "metadata": {},
   "outputs": [],
   "source": []
  }
 ],
 "metadata": {
  "kernelspec": {
   "display_name": "ds-env",
   "language": "python",
   "name": "python3"
  },
  "language_info": {
   "codemirror_mode": {
    "name": "ipython",
    "version": 3
   },
   "file_extension": ".py",
   "mimetype": "text/x-python",
   "name": "python",
   "nbconvert_exporter": "python",
   "pygments_lexer": "ipython3",
   "version": "3.11.13"
  }
 },
 "nbformat": 4,
 "nbformat_minor": 5
}
