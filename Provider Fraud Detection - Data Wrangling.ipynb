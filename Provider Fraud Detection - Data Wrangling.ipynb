{
 "cells": [
  {
   "cell_type": "markdown",
   "id": "7f50821c",
   "metadata": {},
   "source": [
    "# Provider Fraud Detection Model - Data Wrangling\n",
    "### In this notebook we will focus on collecting, organizing, defining, and cleaning the relevant datasets for the Provider Fraud Detection model\n",
    "#### 1.) Ingesting & Inspecting Files\n",
    "#### 2.) Standardizing Column Names & Types\n",
    "#### 3.) Cleaning Values\n",
    "#### 4.) Deduping (Removing Duplicates)\n",
    "#### 5.) Merging/Joining Tables"
   ]
  },
  {
   "cell_type": "code",
   "execution_count": null,
   "id": "d3af88ed",
   "metadata": {},
   "outputs": [],
   "source": [
    "# loading needed modules\n",
    "import re\n",
    "from collections import Counter\n",
    "from functools import reduce\n",
    "\n",
    "from pyspark.sql import SparkSession\n",
    "from pyspark.sql.window import Window\n",
    "from pyspark.sql.types import (\n",
    "    StructType,\n",
    "    StructField,\n",
    "    StringType,\n",
    "    IntegerType,\n",
    "    DoubleType,\n",
    "    DateType\n",
    ")\n",
    "\n",
    "from pyspark.sql.functions import (\n",
    "    col,\n",
    "    expr,\n",
    "    lit,\n",
    "    trim,\n",
    "    to_date,\n",
    "    current_date,\n",
    "    datediff,\n",
    "    sum as sum_,\n",
    "    avg,\n",
    "    stddev,\n",
    "    countDistinct,\n",
    "    when,\n",
    "    try_divide,\n",
    "    row_number,\n",
    "    min,\n",
    "    max,\n",
    "    mean,\n",
    "    isnan,\n",
    "    isnull,\n",
    "    regexp_replace,\n",
    "    substring,\n",
    "    upper,\n",
    "    coalesce,\n",
    "    sha2,\n",
    "    length\n",
    ")"
   ]
  },
  {
   "cell_type": "code",
   "execution_count": 2,
   "id": "e5ea939b",
   "metadata": {},
   "outputs": [],
   "source": [
    "# this function will help me normalize my column names to ensure a smooth workflow\n",
    "# this function will...\n",
    "    # lowercase, trim whitespace\n",
    "    # drop parenthetical notes\n",
    "    # replace non-alphanumeric chars with underscores\n",
    "    # collapse runs of underscores\n",
    "    # strip leading/trailing underscores\n",
    "\n",
    "def normalize_col(column_name: str) -> str:\n",
    "    text = column_name.strip().lower()\n",
    "    text = re.sub(r'\\(.*?\\)', '', text)\n",
    "    text = re.sub(r'[^0-9a-z]+', '_', text)\n",
    "    text = re.sub(r'_+', '_', text)\n",
    "    return text.strip('_')"
   ]
  },
  {
   "cell_type": "code",
   "execution_count": null,
   "id": "b926b8f0",
   "metadata": {},
   "outputs": [
    {
     "name": "stderr",
     "output_type": "stream",
     "text": [
      "WARNING: Using incubator modules: jdk.incubator.vector\n",
      "Using Spark's default log4j profile: org/apache/spark/log4j2-defaults.properties\n",
      "Setting default log level to \"WARN\".\n",
      "To adjust logging level use sc.setLogLevel(newLevel). For SparkR, use setLogLevel(newLevel).\n",
      "25/08/15 17:43:53 WARN NativeCodeLoader: Unable to load native-hadoop library for your platform... using builtin-java classes where applicable\n"
     ]
    },
    {
     "name": "stderr",
     "output_type": "stream",
     "text": [
      "----------------------------------------\n",
      "Exception occurred during processing of request from ('127.0.0.1', 52184)\n",
      "Traceback (most recent call last):\n",
      "  File \"/opt/anaconda3/envs/ds-env/lib/python3.11/socketserver.py\", line 317, in _handle_request_noblock\n",
      "    self.process_request(request, client_address)\n",
      "  File \"/opt/anaconda3/envs/ds-env/lib/python3.11/socketserver.py\", line 348, in process_request\n",
      "    self.finish_request(request, client_address)\n",
      "  File \"/opt/anaconda3/envs/ds-env/lib/python3.11/socketserver.py\", line 361, in finish_request\n",
      "    self.RequestHandlerClass(request, client_address, self)\n",
      "  File \"/opt/anaconda3/envs/ds-env/lib/python3.11/socketserver.py\", line 755, in __init__\n",
      "    self.handle()\n",
      "  File \"/opt/anaconda3/envs/ds-env/lib/python3.11/site-packages/pyspark/accumulators.py\", line 299, in handle\n",
      "    poll(accum_updates)\n",
      "  File \"/opt/anaconda3/envs/ds-env/lib/python3.11/site-packages/pyspark/accumulators.py\", line 271, in poll\n",
      "    if self.rfile in r and func():\n",
      "                           ^^^^^^\n",
      "  File \"/opt/anaconda3/envs/ds-env/lib/python3.11/site-packages/pyspark/accumulators.py\", line 275, in accum_updates\n",
      "    num_updates = read_int(self.rfile)\n",
      "                  ^^^^^^^^^^^^^^^^^^^^\n",
      "  File \"/opt/anaconda3/envs/ds-env/lib/python3.11/site-packages/pyspark/serializers.py\", line 597, in read_int\n",
      "    raise EOFError\n",
      "EOFError\n",
      "----------------------------------------\n"
     ]
    }
   ],
   "source": [
    "# starting Spark session\n",
    "spark = (\n",
    "    SparkSession.builder\n",
    "    .appName(\"ProviderFraudDetection-NN\")\n",
    "    .master(\"local[*]\")\n",
    "    .config(\"spark.driver.memory\", \"12g\")\n",
    "    .config(\"spark.sql.shuffle.partitions\", \"16\")\n",
    "    .config(\"spark.sql.adaptive.enabled\", \"true\")\n",
    "    .config(\"spark.memory.fraction\", \"0.6\")\n",
    "    .getOrCreate()\n",
    ")"
   ]
  },
  {
   "cell_type": "code",
   "execution_count": null,
   "id": "45a635af",
   "metadata": {},
   "outputs": [],
   "source": [
    "# time freeze to prevent leakage (aligns with my Medicare Physician and Practitioners dataset)\n",
    "AS_OF_STR = \"2023-12-31\"\n",
    "print(\"Training as-of date:\", AS_OF_STR)"
   ]
  },
  {
   "cell_type": "markdown",
   "id": "3caa6e6d",
   "metadata": {},
   "source": [
    "## NPPES NPI Registry Dataset"
   ]
  },
  {
   "cell_type": "code",
   "execution_count": 4,
   "id": "9ee85951",
   "metadata": {},
   "outputs": [],
   "source": [
    "# creating a csv path variable\n",
    "npi_csv_path = \"NPPES_Data_Dissemination_July_2025_V2/npidata_pfile_20050523-20250713.csv\"\n"
   ]
  },
  {
   "cell_type": "code",
   "execution_count": 5,
   "id": "2154a858",
   "metadata": {},
   "outputs": [],
   "source": [
    "# reading the CSV file into a DataFrame\n",
    "full_npi_df = (\n",
    "    spark.read\n",
    "    .option(\"header\", \"true\")\n",
    "    .option(\"inferSchema\", \"false\")\n",
    "    .csv(npi_csv_path)\n",
    ")"
   ]
  },
  {
   "cell_type": "code",
   "execution_count": 6,
   "id": "82d550f0",
   "metadata": {},
   "outputs": [
    {
     "name": "stdout",
     "output_type": "stream",
     "text": [
      "Available columns (first 50 shown):\n",
      "'NPI'\n",
      "'Entity Type Code'\n",
      "'Replacement NPI'\n",
      "'Employer Identification Number (EIN)'\n",
      "'Provider Organization Name (Legal Business Name)'\n",
      "'Provider Last Name (Legal Name)'\n",
      "'Provider First Name'\n",
      "'Provider Middle Name'\n",
      "'Provider Name Prefix Text'\n",
      "'Provider Name Suffix Text'\n",
      "'Provider Credential Text'\n",
      "'Provider Other Organization Name'\n",
      "'Provider Other Organization Name Type Code'\n",
      "'Provider Other Last Name'\n",
      "'Provider Other First Name'\n",
      "'Provider Other Middle Name'\n",
      "'Provider Other Name Prefix Text'\n",
      "'Provider Other Name Suffix Text'\n",
      "'Provider Other Credential Text'\n",
      "'Provider Other Last Name Type Code'\n",
      "'Provider First Line Business Mailing Address'\n",
      "'Provider Second Line Business Mailing Address'\n",
      "'Provider Business Mailing Address City Name'\n",
      "'Provider Business Mailing Address State Name'\n",
      "'Provider Business Mailing Address Postal Code'\n",
      "'Provider Business Mailing Address Country Code (If outside U.S.)'\n",
      "'Provider Business Mailing Address Telephone Number'\n",
      "'Provider Business Mailing Address Fax Number'\n",
      "'Provider First Line Business Practice Location Address'\n",
      "'Provider Second Line Business Practice Location Address'\n",
      "'Provider Business Practice Location Address City Name'\n",
      "'Provider Business Practice Location Address State Name'\n",
      "'Provider Business Practice Location Address Postal Code'\n",
      "'Provider Business Practice Location Address Country Code (If outside U.S.)'\n",
      "'Provider Business Practice Location Address Telephone Number'\n",
      "'Provider Business Practice Location Address Fax Number'\n",
      "'Provider Enumeration Date'\n",
      "'Last Update Date'\n",
      "'NPI Deactivation Reason Code'\n",
      "'NPI Deactivation Date'\n",
      "'NPI Reactivation Date'\n",
      "'Provider Sex Code'\n",
      "'Authorized Official Last Name'\n",
      "'Authorized Official First Name'\n",
      "'Authorized Official Middle Name'\n",
      "'Authorized Official Title or Position'\n",
      "'Authorized Official Telephone Number'\n",
      "'Healthcare Provider Taxonomy Code_1'\n",
      "'Provider License Number_1'\n",
      "'Provider License Number State Code_1'\n"
     ]
    }
   ],
   "source": [
    "# inspecting the npi dataset column names\n",
    "print(\"Available columns (first 50 shown):\")\n",
    "for c in full_npi_df.columns[:50]:\n",
    "    print(repr(c))\n",
    "    "
   ]
  },
  {
   "cell_type": "code",
   "execution_count": null,
   "id": "58adc07d",
   "metadata": {},
   "outputs": [],
   "source": [
    "# selecting the relevant columns I want to keep\n",
    "tax_cols = []\n",
    "for i in range(1, 16):\n",
    "    tax_cols += [f\"Healthcare Provider Taxonomy Code_{i}\",\n",
    "                 f\"Healthcare Provider Primary Taxonomy Switch_{i}\"]\n",
    "\n",
    "keep_cols_npi = [\n",
    "    \"NPI\",\n",
    "    \"Entity Type Code\",\n",
    "\n",
    "    # person/org name columns (add these so wrangled_npi_df has names)\n",
    "    \"Provider First Name\",\n",
    "    \"Provider Last Name (Legal Name)\",\n",
    "    \"Provider Middle Name\",                     # optional\n",
    "    \"Provider Organization Name (Legal Business Name)\",\n",
    "\n",
    "    \"Provider Business Practice Location Address State Name\",\n",
    "    \"Provider Business Practice Location Address Postal Code\",\n",
    "    \"Is Organization Subpart\",\n",
    "    \"Parent Organization TIN\",\n",
    "    \"Parent Organization LBN\",\n",
    "    \"Provider Enumeration Date\",\n",
    "    \"Last Update Date\",\n",
    "    \"NPI Deactivation Date\",\n",
    "    \"NPI Reactivation Date\",\n",
    "    \"Is Sole Proprietor\",\n",
    "] + tax_cols\n"
   ]
  },
  {
   "cell_type": "code",
   "execution_count": 8,
   "id": "2cf02237",
   "metadata": {},
   "outputs": [],
   "source": [
    "# creating a new DataFrame with only the selected columns\n",
    "npi_df = full_npi_df.select(*keep_cols_npi)\n"
   ]
  },
  {
   "cell_type": "code",
   "execution_count": 9,
   "id": "3d3d944e",
   "metadata": {},
   "outputs": [
    {
     "name": "stdout",
     "output_type": "stream",
     "text": [
      "Schema:\n",
      "root\n",
      " |-- NPI: string (nullable = true)\n",
      " |-- Entity Type Code: string (nullable = true)\n",
      " |-- Provider Business Practice Location Address State Name: string (nullable = true)\n",
      " |-- Provider Business Practice Location Address Postal Code: string (nullable = true)\n",
      " |-- Is Organization Subpart: string (nullable = true)\n",
      " |-- Parent Organization TIN: string (nullable = true)\n",
      " |-- Parent Organization LBN: string (nullable = true)\n",
      " |-- Provider Enumeration Date: string (nullable = true)\n",
      " |-- Last Update Date: string (nullable = true)\n",
      " |-- NPI Deactivation Date: string (nullable = true)\n",
      " |-- NPI Reactivation Date: string (nullable = true)\n",
      " |-- Is Sole Proprietor: string (nullable = true)\n",
      " |-- Healthcare Provider Taxonomy Code_1: string (nullable = true)\n",
      " |-- Healthcare Provider Primary Taxonomy Switch_1: string (nullable = true)\n",
      " |-- Healthcare Provider Taxonomy Code_2: string (nullable = true)\n",
      " |-- Healthcare Provider Primary Taxonomy Switch_2: string (nullable = true)\n",
      " |-- Healthcare Provider Taxonomy Code_3: string (nullable = true)\n",
      " |-- Healthcare Provider Primary Taxonomy Switch_3: string (nullable = true)\n",
      " |-- Healthcare Provider Taxonomy Code_4: string (nullable = true)\n",
      " |-- Healthcare Provider Primary Taxonomy Switch_4: string (nullable = true)\n",
      " |-- Healthcare Provider Taxonomy Code_5: string (nullable = true)\n",
      " |-- Healthcare Provider Primary Taxonomy Switch_5: string (nullable = true)\n",
      " |-- Healthcare Provider Taxonomy Code_6: string (nullable = true)\n",
      " |-- Healthcare Provider Primary Taxonomy Switch_6: string (nullable = true)\n",
      " |-- Healthcare Provider Taxonomy Code_7: string (nullable = true)\n",
      " |-- Healthcare Provider Primary Taxonomy Switch_7: string (nullable = true)\n",
      " |-- Healthcare Provider Taxonomy Code_8: string (nullable = true)\n",
      " |-- Healthcare Provider Primary Taxonomy Switch_8: string (nullable = true)\n",
      " |-- Healthcare Provider Taxonomy Code_9: string (nullable = true)\n",
      " |-- Healthcare Provider Primary Taxonomy Switch_9: string (nullable = true)\n",
      " |-- Healthcare Provider Taxonomy Code_10: string (nullable = true)\n",
      " |-- Healthcare Provider Primary Taxonomy Switch_10: string (nullable = true)\n",
      " |-- Healthcare Provider Taxonomy Code_11: string (nullable = true)\n",
      " |-- Healthcare Provider Primary Taxonomy Switch_11: string (nullable = true)\n",
      " |-- Healthcare Provider Taxonomy Code_12: string (nullable = true)\n",
      " |-- Healthcare Provider Primary Taxonomy Switch_12: string (nullable = true)\n",
      " |-- Healthcare Provider Taxonomy Code_13: string (nullable = true)\n",
      " |-- Healthcare Provider Primary Taxonomy Switch_13: string (nullable = true)\n",
      " |-- Healthcare Provider Taxonomy Code_14: string (nullable = true)\n",
      " |-- Healthcare Provider Primary Taxonomy Switch_14: string (nullable = true)\n",
      " |-- Healthcare Provider Taxonomy Code_15: string (nullable = true)\n",
      " |-- Healthcare Provider Primary Taxonomy Switch_15: string (nullable = true)\n",
      "\n",
      "Sample:\n",
      "+----------+----------------+------------------------------------------------------+-------------------------------------------------------+-----------------------+-----------------------+-----------------------+-------------------------+----------------+---------------------+---------------------+------------------+-----------------------------------+---------------------------------------------+-----------------------------------+---------------------------------------------+-----------------------------------+---------------------------------------------+-----------------------------------+---------------------------------------------+-----------------------------------+---------------------------------------------+-----------------------------------+---------------------------------------------+-----------------------------------+---------------------------------------------+-----------------------------------+---------------------------------------------+-----------------------------------+---------------------------------------------+------------------------------------+----------------------------------------------+------------------------------------+----------------------------------------------+------------------------------------+----------------------------------------------+------------------------------------+----------------------------------------------+------------------------------------+----------------------------------------------+------------------------------------+----------------------------------------------+\n",
      "|NPI       |Entity Type Code|Provider Business Practice Location Address State Name|Provider Business Practice Location Address Postal Code|Is Organization Subpart|Parent Organization TIN|Parent Organization LBN|Provider Enumeration Date|Last Update Date|NPI Deactivation Date|NPI Reactivation Date|Is Sole Proprietor|Healthcare Provider Taxonomy Code_1|Healthcare Provider Primary Taxonomy Switch_1|Healthcare Provider Taxonomy Code_2|Healthcare Provider Primary Taxonomy Switch_2|Healthcare Provider Taxonomy Code_3|Healthcare Provider Primary Taxonomy Switch_3|Healthcare Provider Taxonomy Code_4|Healthcare Provider Primary Taxonomy Switch_4|Healthcare Provider Taxonomy Code_5|Healthcare Provider Primary Taxonomy Switch_5|Healthcare Provider Taxonomy Code_6|Healthcare Provider Primary Taxonomy Switch_6|Healthcare Provider Taxonomy Code_7|Healthcare Provider Primary Taxonomy Switch_7|Healthcare Provider Taxonomy Code_8|Healthcare Provider Primary Taxonomy Switch_8|Healthcare Provider Taxonomy Code_9|Healthcare Provider Primary Taxonomy Switch_9|Healthcare Provider Taxonomy Code_10|Healthcare Provider Primary Taxonomy Switch_10|Healthcare Provider Taxonomy Code_11|Healthcare Provider Primary Taxonomy Switch_11|Healthcare Provider Taxonomy Code_12|Healthcare Provider Primary Taxonomy Switch_12|Healthcare Provider Taxonomy Code_13|Healthcare Provider Primary Taxonomy Switch_13|Healthcare Provider Taxonomy Code_14|Healthcare Provider Primary Taxonomy Switch_14|Healthcare Provider Taxonomy Code_15|Healthcare Provider Primary Taxonomy Switch_15|\n",
      "+----------+----------------+------------------------------------------------------+-------------------------------------------------------+-----------------------+-----------------------+-----------------------+-------------------------+----------------+---------------------+---------------------+------------------+-----------------------------------+---------------------------------------------+-----------------------------------+---------------------------------------------+-----------------------------------+---------------------------------------------+-----------------------------------+---------------------------------------------+-----------------------------------+---------------------------------------------+-----------------------------------+---------------------------------------------+-----------------------------------+---------------------------------------------+-----------------------------------+---------------------------------------------+-----------------------------------+---------------------------------------------+------------------------------------+----------------------------------------------+------------------------------------+----------------------------------------------+------------------------------------+----------------------------------------------+------------------------------------+----------------------------------------------+------------------------------------+----------------------------------------------+------------------------------------+----------------------------------------------+\n",
      "|1679576722|1               |NE                                                    |688472944                                              |NULL                   |NULL                   |NULL                   |05/23/2005               |07/08/2007      |NULL                 |NULL                 |X                 |207X00000X                         |Y                                            |NULL                               |NULL                                         |NULL                               |NULL                                         |NULL                               |NULL                                         |NULL                               |NULL                                         |NULL                               |NULL                                         |NULL                               |NULL                                         |NULL                               |NULL                                         |NULL                               |NULL                                         |NULL                                |NULL                                          |NULL                                |NULL                                          |NULL                                |NULL                                          |NULL                                |NULL                                          |NULL                                |NULL                                          |NULL                                |NULL                                          |\n",
      "|1588667638|1               |FL                                                    |322044736                                              |NULL                   |NULL                   |NULL                   |05/23/2005               |05/29/2014      |NULL                 |NULL                 |N                 |207RC0000X                         |Y                                            |207RC0000X                         |N                                            |NULL                               |NULL                                         |NULL                               |NULL                                         |NULL                               |NULL                                         |NULL                               |NULL                                         |NULL                               |NULL                                         |NULL                               |NULL                                         |NULL                               |NULL                                         |NULL                                |NULL                                          |NULL                                |NULL                                          |NULL                                |NULL                                          |NULL                                |NULL                                          |NULL                                |NULL                                          |NULL                                |NULL                                          |\n",
      "|1497758544|2               |NC                                                    |283044552                                              |N                      |NULL                   |NULL                   |05/23/2005               |09/26/2011      |NULL                 |NULL                 |NULL              |251G00000X                         |Y                                            |NULL                               |NULL                                         |NULL                               |NULL                                         |NULL                               |NULL                                         |NULL                               |NULL                                         |NULL                               |NULL                                         |NULL                               |NULL                                         |NULL                               |NULL                                         |NULL                               |NULL                                         |NULL                                |NULL                                          |NULL                                |NULL                                          |NULL                                |NULL                                          |NULL                                |NULL                                          |NULL                                |NULL                                          |NULL                                |NULL                                          |\n",
      "|1306849450|NULL            |NULL                                                  |NULL                                                   |NULL                   |NULL                   |NULL                   |NULL                     |NULL            |03/03/2021           |NULL                 |NULL              |NULL                               |NULL                                         |NULL                               |NULL                                         |NULL                               |NULL                                         |NULL                               |NULL                                         |NULL                               |NULL                                         |NULL                               |NULL                                         |NULL                               |NULL                                         |NULL                               |NULL                                         |NULL                               |NULL                                         |NULL                                |NULL                                          |NULL                                |NULL                                          |NULL                                |NULL                                          |NULL                                |NULL                                          |NULL                                |NULL                                          |NULL                                |NULL                                          |\n",
      "|1215930367|1               |TX                                                    |770901243                                              |NULL                   |NULL                   |NULL                   |05/23/2005               |11/25/2014      |NULL                 |NULL                 |N                 |174400000X                         |N                                            |207RH0003X                         |Y                                            |NULL                               |NULL                                         |NULL                               |NULL                                         |NULL                               |NULL                                         |NULL                               |NULL                                         |NULL                               |NULL                                         |NULL                               |NULL                                         |NULL                               |NULL                                         |NULL                                |NULL                                          |NULL                                |NULL                                          |NULL                                |NULL                                          |NULL                                |NULL                                          |NULL                                |NULL                                          |NULL                                |NULL                                          |\n",
      "+----------+----------------+------------------------------------------------------+-------------------------------------------------------+-----------------------+-----------------------+-----------------------+-------------------------+----------------+---------------------+---------------------+------------------+-----------------------------------+---------------------------------------------+-----------------------------------+---------------------------------------------+-----------------------------------+---------------------------------------------+-----------------------------------+---------------------------------------------+-----------------------------------+---------------------------------------------+-----------------------------------+---------------------------------------------+-----------------------------------+---------------------------------------------+-----------------------------------+---------------------------------------------+-----------------------------------+---------------------------------------------+------------------------------------+----------------------------------------------+------------------------------------+----------------------------------------------+------------------------------------+----------------------------------------------+------------------------------------+----------------------------------------------+------------------------------------+----------------------------------------------+------------------------------------+----------------------------------------------+\n",
      "\n"
     ]
    },
    {
     "name": "stderr",
     "output_type": "stream",
     "text": [
      "25/08/15 17:43:56 WARN SparkStringUtils: Truncated the string representation of a plan since it was too large. This behavior can be adjusted by setting 'spark.sql.debug.maxToStringFields'.\n"
     ]
    }
   ],
   "source": [
    "# having a sanity check to ensure I loaded the right columns, the correct types, and the data looks okay\n",
    "print(\"Schema:\")\n",
    "npi_df.printSchema()\n",
    "print(\"Sample:\")\n",
    "npi_df.limit(5).show(truncate=False)"
   ]
  },
  {
   "cell_type": "code",
   "execution_count": 10,
   "id": "cecf6e6b",
   "metadata": {},
   "outputs": [
    {
     "name": "stderr",
     "output_type": "stream",
     "text": [
      "[Stage 2:==================================================>      (72 + 8) / 81]\r"
     ]
    },
    {
     "name": "stdout",
     "output_type": "stream",
     "text": [
      "Total rows: 9026996\n"
     ]
    },
    {
     "name": "stderr",
     "output_type": "stream",
     "text": [
      "                                                                                \r"
     ]
    }
   ],
   "source": [
    "# getting the total number of rows in the DataFrame\n",
    "total_rows = npi_df.count()\n",
    "print(f'Total rows: {total_rows}')"
   ]
  },
  {
   "cell_type": "code",
   "execution_count": 11,
   "id": "1fc4437e",
   "metadata": {},
   "outputs": [
    {
     "name": "stderr",
     "output_type": "stream",
     "text": [
      "[Stage 5:========================================================>(80 + 1) / 81]\r"
     ]
    },
    {
     "name": "stdout",
     "output_type": "stream",
     "text": [
      "+---+----------------+------------------------------------------------------+-------------------------------------------------------+-----------------------+-----------------------+-----------------------+-------------------------+----------------+---------------------+---------------------+------------------+-----------------------------------+---------------------------------------------+-----------------------------------+---------------------------------------------+-----------------------------------+---------------------------------------------+-----------------------------------+---------------------------------------------+-----------------------------------+---------------------------------------------+-----------------------------------+---------------------------------------------+-----------------------------------+---------------------------------------------+-----------------------------------+---------------------------------------------+-----------------------------------+---------------------------------------------+------------------------------------+----------------------------------------------+------------------------------------+----------------------------------------------+------------------------------------+----------------------------------------------+------------------------------------+----------------------------------------------+------------------------------------+----------------------------------------------+------------------------------------+----------------------------------------------+\n",
      "|NPI|Entity Type Code|Provider Business Practice Location Address State Name|Provider Business Practice Location Address Postal Code|Is Organization Subpart|Parent Organization TIN|Parent Organization LBN|Provider Enumeration Date|Last Update Date|NPI Deactivation Date|NPI Reactivation Date|Is Sole Proprietor|Healthcare Provider Taxonomy Code_1|Healthcare Provider Primary Taxonomy Switch_1|Healthcare Provider Taxonomy Code_2|Healthcare Provider Primary Taxonomy Switch_2|Healthcare Provider Taxonomy Code_3|Healthcare Provider Primary Taxonomy Switch_3|Healthcare Provider Taxonomy Code_4|Healthcare Provider Primary Taxonomy Switch_4|Healthcare Provider Taxonomy Code_5|Healthcare Provider Primary Taxonomy Switch_5|Healthcare Provider Taxonomy Code_6|Healthcare Provider Primary Taxonomy Switch_6|Healthcare Provider Taxonomy Code_7|Healthcare Provider Primary Taxonomy Switch_7|Healthcare Provider Taxonomy Code_8|Healthcare Provider Primary Taxonomy Switch_8|Healthcare Provider Taxonomy Code_9|Healthcare Provider Primary Taxonomy Switch_9|Healthcare Provider Taxonomy Code_10|Healthcare Provider Primary Taxonomy Switch_10|Healthcare Provider Taxonomy Code_11|Healthcare Provider Primary Taxonomy Switch_11|Healthcare Provider Taxonomy Code_12|Healthcare Provider Primary Taxonomy Switch_12|Healthcare Provider Taxonomy Code_13|Healthcare Provider Primary Taxonomy Switch_13|Healthcare Provider Taxonomy Code_14|Healthcare Provider Primary Taxonomy Switch_14|Healthcare Provider Taxonomy Code_15|Healthcare Provider Primary Taxonomy Switch_15|\n",
      "+---+----------------+------------------------------------------------------+-------------------------------------------------------+-----------------------+-----------------------+-----------------------+-------------------------+----------------+---------------------+---------------------+------------------+-----------------------------------+---------------------------------------------+-----------------------------------+---------------------------------------------+-----------------------------------+---------------------------------------------+-----------------------------------+---------------------------------------------+-----------------------------------+---------------------------------------------+-----------------------------------+---------------------------------------------+-----------------------------------+---------------------------------------------+-----------------------------------+---------------------------------------------+-----------------------------------+---------------------------------------------+------------------------------------+----------------------------------------------+------------------------------------+----------------------------------------------+------------------------------------+----------------------------------------------+------------------------------------+----------------------------------------------+------------------------------------+----------------------------------------------+------------------------------------+----------------------------------------------+\n",
      "|  0|          314026|                                                314028|                                                 314034|                7195283|                8876636|                8876741|                   314026|          314026|              8696420|              9010442|           2145739|                             314042|                                       314042|                            7359682|                                      7359682|                            8529876|                                      8529876|                            8847202|                                      8847202|                            8941274|                                      8941274|                            8980653|                                      8980653|                            8996903|                                      8996903|                            9005860|                                      9005860|                            9011666|                                      9011666|                             9015468|                                       9015468|                             9018074|                                       9018074|                             9019893|                                       9019893|                             9021373|                                       9021373|                             9022518|                                       9022518|                             9023815|                                       9023815|\n",
      "+---+----------------+------------------------------------------------------+-------------------------------------------------------+-----------------------+-----------------------+-----------------------+-------------------------+----------------+---------------------+---------------------+------------------+-----------------------------------+---------------------------------------------+-----------------------------------+---------------------------------------------+-----------------------------------+---------------------------------------------+-----------------------------------+---------------------------------------------+-----------------------------------+---------------------------------------------+-----------------------------------+---------------------------------------------+-----------------------------------+---------------------------------------------+-----------------------------------+---------------------------------------------+-----------------------------------+---------------------------------------------+------------------------------------+----------------------------------------------+------------------------------------+----------------------------------------------+------------------------------------+----------------------------------------------+------------------------------------+----------------------------------------------+------------------------------------+----------------------------------------------+------------------------------------+----------------------------------------------+\n",
      "\n"
     ]
    },
    {
     "name": "stderr",
     "output_type": "stream",
     "text": [
      "                                                                                \r"
     ]
    }
   ],
   "source": [
    "# getting the null counts for each column\n",
    "npi_df.select(\n",
    "    *[\n",
    "        sum_(col(c).isNull().cast('int')).alias(c) for c in npi_df.columns\n",
    "    ]\n",
    ").show()"
   ]
  },
  {
   "cell_type": "code",
   "execution_count": null,
   "id": "df5c390d",
   "metadata": {},
   "outputs": [],
   "source": [
    "# comoputing normalized names and checking for collisions\n",
    "# checking for collisions as I don't want to accidently end up with two originals mapping to the same cleaned name\n",
    "\n",
    "new_names = [normalize_col(c) for c in keep_cols_npi]\n",
    "if len(new_names) != len(set(new_names)):\n",
    "    raise RuntimeError(\"Column name conflict after normalization in NPPES.\")\n",
    "normalized_npi_df = npi_df.select(*[col(o).alias(n) for o,n in zip(keep_cols_npi, new_names)])"
   ]
  },
  {
   "cell_type": "code",
   "execution_count": 14,
   "id": "9186d04e",
   "metadata": {},
   "outputs": [
    {
     "name": "stdout",
     "output_type": "stream",
     "text": [
      "root\n",
      " |-- npi: string (nullable = true)\n",
      " |-- entity_type_code: string (nullable = true)\n",
      " |-- provider_business_practice_location_address_state_name: string (nullable = true)\n",
      " |-- provider_business_practice_location_address_postal_code: string (nullable = true)\n",
      " |-- is_organization_subpart: string (nullable = true)\n",
      " |-- parent_organization_tin: string (nullable = true)\n",
      " |-- parent_organization_lbn: string (nullable = true)\n",
      " |-- provider_enumeration_date: string (nullable = true)\n",
      " |-- last_update_date: string (nullable = true)\n",
      " |-- npi_deactivation_date: string (nullable = true)\n",
      " |-- npi_reactivation_date: string (nullable = true)\n",
      " |-- is_sole_proprietor: string (nullable = true)\n",
      " |-- healthcare_provider_taxonomy_code_1: string (nullable = true)\n",
      " |-- healthcare_provider_primary_taxonomy_switch_1: string (nullable = true)\n",
      " |-- healthcare_provider_taxonomy_code_2: string (nullable = true)\n",
      " |-- healthcare_provider_primary_taxonomy_switch_2: string (nullable = true)\n",
      " |-- healthcare_provider_taxonomy_code_3: string (nullable = true)\n",
      " |-- healthcare_provider_primary_taxonomy_switch_3: string (nullable = true)\n",
      " |-- healthcare_provider_taxonomy_code_4: string (nullable = true)\n",
      " |-- healthcare_provider_primary_taxonomy_switch_4: string (nullable = true)\n",
      " |-- healthcare_provider_taxonomy_code_5: string (nullable = true)\n",
      " |-- healthcare_provider_primary_taxonomy_switch_5: string (nullable = true)\n",
      " |-- healthcare_provider_taxonomy_code_6: string (nullable = true)\n",
      " |-- healthcare_provider_primary_taxonomy_switch_6: string (nullable = true)\n",
      " |-- healthcare_provider_taxonomy_code_7: string (nullable = true)\n",
      " |-- healthcare_provider_primary_taxonomy_switch_7: string (nullable = true)\n",
      " |-- healthcare_provider_taxonomy_code_8: string (nullable = true)\n",
      " |-- healthcare_provider_primary_taxonomy_switch_8: string (nullable = true)\n",
      " |-- healthcare_provider_taxonomy_code_9: string (nullable = true)\n",
      " |-- healthcare_provider_primary_taxonomy_switch_9: string (nullable = true)\n",
      " |-- healthcare_provider_taxonomy_code_10: string (nullable = true)\n",
      " |-- healthcare_provider_primary_taxonomy_switch_10: string (nullable = true)\n",
      " |-- healthcare_provider_taxonomy_code_11: string (nullable = true)\n",
      " |-- healthcare_provider_primary_taxonomy_switch_11: string (nullable = true)\n",
      " |-- healthcare_provider_taxonomy_code_12: string (nullable = true)\n",
      " |-- healthcare_provider_primary_taxonomy_switch_12: string (nullable = true)\n",
      " |-- healthcare_provider_taxonomy_code_13: string (nullable = true)\n",
      " |-- healthcare_provider_primary_taxonomy_switch_13: string (nullable = true)\n",
      " |-- healthcare_provider_taxonomy_code_14: string (nullable = true)\n",
      " |-- healthcare_provider_primary_taxonomy_switch_14: string (nullable = true)\n",
      " |-- healthcare_provider_taxonomy_code_15: string (nullable = true)\n",
      " |-- healthcare_provider_primary_taxonomy_switch_15: string (nullable = true)\n",
      "\n",
      "+----------+----------------+------------------------------------------------------+-------------------------------------------------------+-----------------------+-----------------------+-----------------------+-------------------------+----------------+---------------------+---------------------+------------------+-----------------------------------+---------------------------------------------+-----------------------------------+---------------------------------------------+-----------------------------------+---------------------------------------------+-----------------------------------+---------------------------------------------+-----------------------------------+---------------------------------------------+-----------------------------------+---------------------------------------------+-----------------------------------+---------------------------------------------+-----------------------------------+---------------------------------------------+-----------------------------------+---------------------------------------------+------------------------------------+----------------------------------------------+------------------------------------+----------------------------------------------+------------------------------------+----------------------------------------------+------------------------------------+----------------------------------------------+------------------------------------+----------------------------------------------+------------------------------------+----------------------------------------------+\n",
      "|npi       |entity_type_code|provider_business_practice_location_address_state_name|provider_business_practice_location_address_postal_code|is_organization_subpart|parent_organization_tin|parent_organization_lbn|provider_enumeration_date|last_update_date|npi_deactivation_date|npi_reactivation_date|is_sole_proprietor|healthcare_provider_taxonomy_code_1|healthcare_provider_primary_taxonomy_switch_1|healthcare_provider_taxonomy_code_2|healthcare_provider_primary_taxonomy_switch_2|healthcare_provider_taxonomy_code_3|healthcare_provider_primary_taxonomy_switch_3|healthcare_provider_taxonomy_code_4|healthcare_provider_primary_taxonomy_switch_4|healthcare_provider_taxonomy_code_5|healthcare_provider_primary_taxonomy_switch_5|healthcare_provider_taxonomy_code_6|healthcare_provider_primary_taxonomy_switch_6|healthcare_provider_taxonomy_code_7|healthcare_provider_primary_taxonomy_switch_7|healthcare_provider_taxonomy_code_8|healthcare_provider_primary_taxonomy_switch_8|healthcare_provider_taxonomy_code_9|healthcare_provider_primary_taxonomy_switch_9|healthcare_provider_taxonomy_code_10|healthcare_provider_primary_taxonomy_switch_10|healthcare_provider_taxonomy_code_11|healthcare_provider_primary_taxonomy_switch_11|healthcare_provider_taxonomy_code_12|healthcare_provider_primary_taxonomy_switch_12|healthcare_provider_taxonomy_code_13|healthcare_provider_primary_taxonomy_switch_13|healthcare_provider_taxonomy_code_14|healthcare_provider_primary_taxonomy_switch_14|healthcare_provider_taxonomy_code_15|healthcare_provider_primary_taxonomy_switch_15|\n",
      "+----------+----------------+------------------------------------------------------+-------------------------------------------------------+-----------------------+-----------------------+-----------------------+-------------------------+----------------+---------------------+---------------------+------------------+-----------------------------------+---------------------------------------------+-----------------------------------+---------------------------------------------+-----------------------------------+---------------------------------------------+-----------------------------------+---------------------------------------------+-----------------------------------+---------------------------------------------+-----------------------------------+---------------------------------------------+-----------------------------------+---------------------------------------------+-----------------------------------+---------------------------------------------+-----------------------------------+---------------------------------------------+------------------------------------+----------------------------------------------+------------------------------------+----------------------------------------------+------------------------------------+----------------------------------------------+------------------------------------+----------------------------------------------+------------------------------------+----------------------------------------------+------------------------------------+----------------------------------------------+\n",
      "|1679576722|1               |NE                                                    |688472944                                              |NULL                   |NULL                   |NULL                   |05/23/2005               |07/08/2007      |NULL                 |NULL                 |X                 |207X00000X                         |Y                                            |NULL                               |NULL                                         |NULL                               |NULL                                         |NULL                               |NULL                                         |NULL                               |NULL                                         |NULL                               |NULL                                         |NULL                               |NULL                                         |NULL                               |NULL                                         |NULL                               |NULL                                         |NULL                                |NULL                                          |NULL                                |NULL                                          |NULL                                |NULL                                          |NULL                                |NULL                                          |NULL                                |NULL                                          |NULL                                |NULL                                          |\n",
      "|1588667638|1               |FL                                                    |322044736                                              |NULL                   |NULL                   |NULL                   |05/23/2005               |05/29/2014      |NULL                 |NULL                 |N                 |207RC0000X                         |Y                                            |207RC0000X                         |N                                            |NULL                               |NULL                                         |NULL                               |NULL                                         |NULL                               |NULL                                         |NULL                               |NULL                                         |NULL                               |NULL                                         |NULL                               |NULL                                         |NULL                               |NULL                                         |NULL                                |NULL                                          |NULL                                |NULL                                          |NULL                                |NULL                                          |NULL                                |NULL                                          |NULL                                |NULL                                          |NULL                                |NULL                                          |\n",
      "|1497758544|2               |NC                                                    |283044552                                              |N                      |NULL                   |NULL                   |05/23/2005               |09/26/2011      |NULL                 |NULL                 |NULL              |251G00000X                         |Y                                            |NULL                               |NULL                                         |NULL                               |NULL                                         |NULL                               |NULL                                         |NULL                               |NULL                                         |NULL                               |NULL                                         |NULL                               |NULL                                         |NULL                               |NULL                                         |NULL                               |NULL                                         |NULL                                |NULL                                          |NULL                                |NULL                                          |NULL                                |NULL                                          |NULL                                |NULL                                          |NULL                                |NULL                                          |NULL                                |NULL                                          |\n",
      "|1306849450|NULL            |NULL                                                  |NULL                                                   |NULL                   |NULL                   |NULL                   |NULL                     |NULL            |03/03/2021           |NULL                 |NULL              |NULL                               |NULL                                         |NULL                               |NULL                                         |NULL                               |NULL                                         |NULL                               |NULL                                         |NULL                               |NULL                                         |NULL                               |NULL                                         |NULL                               |NULL                                         |NULL                               |NULL                                         |NULL                               |NULL                                         |NULL                                |NULL                                          |NULL                                |NULL                                          |NULL                                |NULL                                          |NULL                                |NULL                                          |NULL                                |NULL                                          |NULL                                |NULL                                          |\n",
      "|1215930367|1               |TX                                                    |770901243                                              |NULL                   |NULL                   |NULL                   |05/23/2005               |11/25/2014      |NULL                 |NULL                 |N                 |174400000X                         |N                                            |207RH0003X                         |Y                                            |NULL                               |NULL                                         |NULL                               |NULL                                         |NULL                               |NULL                                         |NULL                               |NULL                                         |NULL                               |NULL                                         |NULL                               |NULL                                         |NULL                               |NULL                                         |NULL                                |NULL                                          |NULL                                |NULL                                          |NULL                                |NULL                                          |NULL                                |NULL                                          |NULL                                |NULL                                          |NULL                                |NULL                                          |\n",
      "+----------+----------------+------------------------------------------------------+-------------------------------------------------------+-----------------------+-----------------------+-----------------------+-------------------------+----------------+---------------------+---------------------+------------------+-----------------------------------+---------------------------------------------+-----------------------------------+---------------------------------------------+-----------------------------------+---------------------------------------------+-----------------------------------+---------------------------------------------+-----------------------------------+---------------------------------------------+-----------------------------------+---------------------------------------------+-----------------------------------+---------------------------------------------+-----------------------------------+---------------------------------------------+-----------------------------------+---------------------------------------------+------------------------------------+----------------------------------------------+------------------------------------+----------------------------------------------+------------------------------------+----------------------------------------------+------------------------------------+----------------------------------------------+------------------------------------+----------------------------------------------+------------------------------------+----------------------------------------------+\n",
      "only showing top 5 rows\n"
     ]
    }
   ],
   "source": [
    "# doing a quick sanity check to ensure the new DataFrame has the correct columns\n",
    "normalized_npi_df.printSchema()\n",
    "normalized_npi_df.show(5, truncate=False)"
   ]
  },
  {
   "cell_type": "code",
   "execution_count": null,
   "id": "8aaf2ccd",
   "metadata": {},
   "outputs": [],
   "source": [
    "# casting and standardizing the data types\n",
    "clean_npi = (\n",
    "    normalized_npi_df\n",
    "    .withColumn(\"npi\", regexp_replace(trim(col(\"npi\")), r\"\\D\", \"\"))\n",
    "    .withColumn(\"entity_type_code\", col(\"entity_type_code\").cast(\"int\"))\n",
    "    .withColumn(\"is_organization_subpart\", when(col(\"is_organization_subpart\") == \"Y\", 1).otherwise(0))\n",
    "    .withColumn(\"is_sole_proprietor_raw\", upper(trim(col(\"is_sole_proprietor\"))))\n",
    "    .withColumn(\n",
    "        \"is_sole_proprietor\",\n",
    "        when(col(\"entity_type_code\") == 1,\n",
    "             when(col(\"is_sole_proprietor_raw\") == \"Y\", 1)\n",
    "            .when(col(\"is_sole_proprietor_raw\") == \"N\", 0)\n",
    "            .otherwise(None)\n",
    "        ).otherwise(None)\n",
    "    ).drop(\"is_sole_proprietor_raw\")\n",
    "    .withColumn(\"provider_enumeration_date\",\n",
    "        when(col(\"provider_enumeration_date\").rlike(r\"^\\d{1,2}/\\d{1,2}/\\d{4}$\"),\n",
    "             to_date(col(\"provider_enumeration_date\"), \"M/d/yyyy\"))\n",
    "    )\n",
    "    .withColumn(\"last_update_date\",\n",
    "        when(col(\"last_update_date\").rlike(r\"^\\d{1,2}/\\d{1,2}/\\d{4}$\"),\n",
    "             to_date(col(\"last_update_date\"), \"M/d/yyyy\"))\n",
    "    )\n",
    "    .withColumn(\"npi_deactivation_date\",\n",
    "        when(col(\"npi_deactivation_date\").rlike(r\"^\\d{1,2}/\\d{1,2}/\\d{4}$\"),\n",
    "             to_date(col(\"npi_deactivation_date\"), \"M/d/yyyy\"))\n",
    "    )\n",
    "    .withColumn(\"npi_reactivation_date\",\n",
    "        when(col(\"npi_reactivation_date\").rlike(r\"^\\d{1,2}/\\d{1,2}/\\d{4}$\"),\n",
    "             to_date(col(\"npi_reactivation_date\"), \"M/d/yyyy\"))\n",
    "    )\n",
    "    # zip/state standardization\n",
    "    .withColumn(\"zip5\",\n",
    "        substring(regexp_replace(col(\"provider_business_practice_location_address_postal_code\"), r\"[^0-9]\", \"\"), 1, 5)\n",
    "    )\n",
    "    .withColumn(\"state_abbr\",\n",
    "        when(col(\"provider_business_practice_location_address_state_name\").rlike(r\"^[A-Za-z]{2}$\"),\n",
    "             upper(col(\"provider_business_practice_location_address_state_name\"))\n",
    "        )\n",
    "    )\n",
    "    .withColumn(\"parent_org_tin_norm\", regexp_replace(col(\"parent_organization_tin\"), r\"\\D\", \"\"))\n",
    ")"
   ]
  },
  {
   "cell_type": "code",
   "execution_count": null,
   "id": "21d4c7fd",
   "metadata": {},
   "outputs": [],
   "source": [
    "# --- Primary taxonomy: first slot with switch == 'Y'; fallback to first non-null code; track unknowns ---\n",
    "\n",
    "# 1) explicit \"Y\" across the 15 slots → take the first non-null\n",
    "cand_exprs = []\n",
    "for i in range(1, 16):\n",
    "    sw = f\"healthcare_provider_primary_taxonomy_switch_{i}\"\n",
    "    cd = f\"healthcare_provider_taxonomy_code_{i}\"\n",
    "    cand_exprs.append(when((col(sw) == \"Y\") & col(cd).isNotNull(), col(cd)))\n",
    "\n",
    "explicit_expr = coalesce(*cand_exprs)  # first non-null wins\n",
    "\n",
    "# 2) fallback: first non-null taxonomy code across all 15 slots\n",
    "code_cols = [col(f\"healthcare_provider_taxonomy_code_{i}\") for i in range(1, 16)]\n",
    "first_code = coalesce(*code_cols)\n",
    "\n",
    "# 3) did we see any 'X' switches? (your \"unknown → fallback\" rule)\n",
    "any_x = None\n",
    "for i in range(1, 16):\n",
    "    sw = f\"healthcare_provider_primary_taxonomy_switch_{i}\"\n",
    "    any_x = (col(sw) == \"X\") if any_x is None else (any_x | (col(sw) == \"X\"))\n",
    "\n",
    "# 4) materialize columns\n",
    "clean_npi = (\n",
    "    clean_npi\n",
    "    .withColumn(\n",
    "        \"primary_taxonomy\",\n",
    "        when(explicit_expr.isNotNull(), explicit_expr)\n",
    "        .when(any_x & first_code.isNotNull(), first_code)\n",
    "        .otherwise(lit(None))\n",
    "    )\n",
    "    .withColumn(\"primary_taxonomy_explicit\", when(explicit_expr.isNotNull(), lit(1)).otherwise(lit(0)))\n",
    "    .withColumn(\"primary_taxonomy_unknown\", when(explicit_expr.isNull() & any_x, lit(1)).otherwise(lit(0)))\n",
    ")\n"
   ]
  },
  {
   "cell_type": "code",
   "execution_count": null,
   "id": "14e0f1f8",
   "metadata": {},
   "outputs": [],
   "source": [
    "# add two provider lifecycle features (referenced later in npi_feat)\n",
    "clean_npi = (\n",
    "    clean_npi\n",
    "    .withColumn(\"npi_age_days\", datediff(to_date(lit(AS_OF_STR)), col(\"provider_enumeration_date\")))\n",
    "    .withColumn(\n",
    "        \"is_active\",\n",
    "        when(\n",
    "            (col(\"npi_deactivation_date\").isNull()) |\n",
    "            ((col(\"npi_reactivation_date\").isNotNull()) & (col(\"npi_reactivation_date\") >= col(\"npi_deactivation_date\"))),\n",
    "            1\n",
    "        ).otherwise(0)\n",
    "    )\n",
    ")\n"
   ]
  },
  {
   "cell_type": "code",
   "execution_count": null,
   "id": "8dac0f2a",
   "metadata": {},
   "outputs": [],
   "source": [
    "# filtering out invalid NPIs (not 10 digits)\n",
    "clean_npi = clean_npi.filter(col(\"npi\").rlike(r\"^\\d{10}$\"))"
   ]
  },
  {
   "cell_type": "code",
   "execution_count": null,
   "id": "7bad361b",
   "metadata": {},
   "outputs": [
    {
     "name": "stderr",
     "output_type": "stream",
     "text": [
      "[Stage 9:========================================================>(80 + 1) / 81]\r"
     ]
    },
    {
     "name": "stdout",
     "output_type": "stream",
     "text": [
      "Invalid NPIs found: 0\n"
     ]
    },
    {
     "name": "stderr",
     "output_type": "stream",
     "text": [
      "                                                                                \r"
     ]
    }
   ],
   "source": [
    "# Deduplicate to one row per NPI (latest update, then most complete)\n",
    "comp_score = (\n",
    "    when(coalesce(col(\"primary_taxonomy\"), first_code).isNotNull(), 1).otherwise(0)\n",
    "    + when(col(\"state_abbr\").isNotNull(), 1).otherwise(0)\n",
    "    + when(col(\"provider_enumeration_date\").isNotNull(), 1).otherwise(0)\n",
    "    + when(col(\"entity_type_code\").isNotNull(), 1).otherwise(0)\n",
    ").alias(\"completeness_score\")\n",
    "\n",
    "npi_scored = clean_npi.withColumn(\"completeness_score\", comp_score)\n",
    "\n",
    "w = Window.partitionBy(\"npi\").orderBy(col(\"last_update_date\").desc_nulls_last(),\n",
    "                                      col(\"completeness_score\").desc())\n",
    "wrangled_npi_df = (\n",
    "    npi_scored\n",
    "    .withColumn(\"rn\", row_number().over(w))\n",
    "    .filter(col(\"rn\") == 1)\n",
    "    .drop(\"rn\")\n",
    ")\n",
    "\n",
    "print(\"NPPES wrangled rows:\", wrangled_npi_df.count())"
   ]
  },
  {
   "cell_type": "markdown",
   "id": "8a2f3eb0",
   "metadata": {},
   "source": [
    "#### The NPPES NPI dataset has almost been fully wrangled as \"wrangled_npi_df\"\n",
    "#### Stopping here to wrangle others..."
   ]
  },
  {
   "cell_type": "markdown",
   "id": "15451dc5",
   "metadata": {},
   "source": [
    "## Medicare Physician & Other Practitioners - by Provider and Service Dataset"
   ]
  },
  {
   "cell_type": "code",
   "execution_count": 24,
   "id": "c46e85da",
   "metadata": {},
   "outputs": [],
   "source": [
    "# creating a csv path variable\n",
    "phys_pract_csv_path = \"Medicare Physician & Other Practitioners - by Provider and Service/MUP_PHY_R25_P05_V20_D23_Prov_Svc.csv\""
   ]
  },
  {
   "cell_type": "code",
   "execution_count": 25,
   "id": "68f38358",
   "metadata": {},
   "outputs": [],
   "source": [
    "# reading the CSV file into a DataFrame\n",
    "full_physician_practitioner_df = (\n",
    "    spark.read\n",
    "    .option(\"header\", \"true\")\n",
    "    .option(\"inferSchema\", \"false\")\n",
    "    .csv(phys_pract_csv_path)\n",
    ")"
   ]
  },
  {
   "cell_type": "code",
   "execution_count": 26,
   "id": "66a496a3",
   "metadata": {},
   "outputs": [
    {
     "name": "stdout",
     "output_type": "stream",
     "text": [
      "Available columns (first 50 shown):\n",
      "'Rndrng_NPI'\n",
      "'Rndrng_Prvdr_Last_Org_Name'\n",
      "'Rndrng_Prvdr_First_Name'\n",
      "'Rndrng_Prvdr_MI'\n",
      "'Rndrng_Prvdr_Crdntls'\n",
      "'Rndrng_Prvdr_Ent_Cd'\n",
      "'Rndrng_Prvdr_St1'\n",
      "'Rndrng_Prvdr_St2'\n",
      "'Rndrng_Prvdr_City'\n",
      "'Rndrng_Prvdr_State_Abrvtn'\n",
      "'Rndrng_Prvdr_State_FIPS'\n",
      "'Rndrng_Prvdr_Zip5'\n",
      "'Rndrng_Prvdr_RUCA'\n",
      "'Rndrng_Prvdr_RUCA_Desc'\n",
      "'Rndrng_Prvdr_Cntry'\n",
      "'Rndrng_Prvdr_Type'\n",
      "'Rndrng_Prvdr_Mdcr_Prtcptg_Ind'\n",
      "'HCPCS_Cd'\n",
      "'HCPCS_Desc'\n",
      "'HCPCS_Drug_Ind'\n",
      "'Place_Of_Srvc'\n",
      "'Tot_Benes'\n",
      "'Tot_Srvcs'\n",
      "'Tot_Bene_Day_Srvcs'\n",
      "'Avg_Sbmtd_Chrg'\n",
      "'Avg_Mdcr_Alowd_Amt'\n",
      "'Avg_Mdcr_Pymt_Amt'\n",
      "'Avg_Mdcr_Stdzd_Amt'\n"
     ]
    }
   ],
   "source": [
    "# inspecting the column names\n",
    "print(\"Available columns (first 50 shown):\")\n",
    "for c in full_physician_practitioner_df.columns[:50]:\n",
    "    print(repr(c))"
   ]
  },
  {
   "cell_type": "code",
   "execution_count": null,
   "id": "9e730af8",
   "metadata": {},
   "outputs": [],
   "source": [
    "# selecting the relevant columns I want to keep\n",
    "keep_cols_puf = [\n",
    "    \"Rndrng_NPI\",\"Rndrng_Prvdr_Ent_Cd\",\"Rndrng_Prvdr_State_Abrvtn\",\"Rndrng_Prvdr_Zip5\",\n",
    "    \"Rndrng_Prvdr_RUCA\",\"Rndrng_Prvdr_RUCA_Desc\",\"Rndrng_Prvdr_Mdcr_Prtcptg_Ind\",\n",
    "    \"Rndrng_Prvdr_Type\",\"Rndrng_Prvdr_Cntry\",\n",
    "    \"HCPCS_Cd\",\"HCPCS_Desc\",\"HCPCS_Drug_Ind\",\"Place_Of_Srvc\",\n",
    "    \"Tot_Benes\",\"Tot_Srvcs\",\"Tot_Bene_Day_Srvcs\",\n",
    "    \"Avg_Sbmtd_Chrg\",\"Avg_Mdcr_Alowd_Amt\",\"Avg_Mdcr_Pymt_Amt\",\"Avg_Mdcr_Stdzd_Amt\"\n",
    "]"
   ]
  },
  {
   "cell_type": "code",
   "execution_count": null,
   "id": "7f9234a6",
   "metadata": {},
   "outputs": [],
   "source": [
    "# creating a new DataFrame with only the selected columns\n",
    "phys = full_physician_practitioner_df.select(*keep_cols_puf)"
   ]
  },
  {
   "cell_type": "code",
   "execution_count": null,
   "id": "9720795d",
   "metadata": {},
   "outputs": [
    {
     "name": "stderr",
     "output_type": "stream",
     "text": [
      "[Stage 32:======================================>                 (16 + 7) / 23]\r"
     ]
    },
    {
     "name": "stdout",
     "output_type": "stream",
     "text": [
      "Total rows: 9660647\n"
     ]
    },
    {
     "name": "stderr",
     "output_type": "stream",
     "text": [
      "                                                                                \r"
     ]
    }
   ],
   "source": [
    "# getting the total number of rows in the DataFrame\n",
    "total_rows_phys_pract = phys.count()\n",
    "print(f'Total rows: {total_rows_phys_pract}')"
   ]
  },
  {
   "cell_type": "code",
   "execution_count": null,
   "id": "0e912259",
   "metadata": {},
   "outputs": [
    {
     "name": "stderr",
     "output_type": "stream",
     "text": [
      "[Stage 35:=========================================>              (17 + 6) / 23]\r"
     ]
    },
    {
     "name": "stdout",
     "output_type": "stream",
     "text": [
      "+----------+-------------------+-------------------------+-----------------+-----------------+----------------------+-----------------------------+-----------------+------------------+--------+----------+--------------+-------------+---------+---------+------------------+--------------+------------------+-----------------+------------------+\n",
      "|Rndrng_NPI|Rndrng_Prvdr_Ent_Cd|Rndrng_Prvdr_State_Abrvtn|Rndrng_Prvdr_Zip5|Rndrng_Prvdr_RUCA|Rndrng_Prvdr_RUCA_Desc|Rndrng_Prvdr_Mdcr_Prtcptg_Ind|Rndrng_Prvdr_Type|Rndrng_Prvdr_Cntry|HCPCS_Cd|HCPCS_Desc|HCPCS_Drug_Ind|Place_Of_Srvc|Tot_Benes|Tot_Srvcs|Tot_Bene_Day_Srvcs|Avg_Sbmtd_Chrg|Avg_Mdcr_Alowd_Amt|Avg_Mdcr_Pymt_Amt|Avg_Mdcr_Stdzd_Amt|\n",
      "+----------+-------------------+-------------------------+-----------------+-----------------+----------------------+-----------------------------+-----------------+------------------+--------+----------+--------------+-------------+---------+---------+------------------+--------------+------------------+-----------------+------------------+\n",
      "|         0|                  0|                        0|                0|             7600|                  7600|                            0|                0|                 0|       0|         0|             0|            0|        0|        0|                 0|             0|                 0|                0|                 0|\n",
      "+----------+-------------------+-------------------------+-----------------+-----------------+----------------------+-----------------------------+-----------------+------------------+--------+----------+--------------+-------------+---------+---------+------------------+--------------+------------------+-----------------+------------------+\n",
      "\n"
     ]
    },
    {
     "name": "stderr",
     "output_type": "stream",
     "text": [
      "                                                                                \r"
     ]
    }
   ],
   "source": [
    "# getting the null counts for each column\n",
    "phys.select(\n",
    "    *[\n",
    "        sum_(col(c).isNull().cast('int')).alias(c) for c in phys.columns\n",
    "    ]\n",
    ").show()"
   ]
  },
  {
   "cell_type": "code",
   "execution_count": null,
   "id": "6050b036",
   "metadata": {},
   "outputs": [],
   "source": [
    "# comoputing normalized names and checking for collisions\n",
    "# checking for collisions as I don't want to accidently end up with two originals mapping to the same cleaned name\n",
    "\n",
    "# applying the normalized names to every column I plan to keep\n",
    "puf_names = [normalize_col(c) for c in keep_cols_puf]\n",
    "if len(puf_names) != len(set(puf_names)):\n",
    "    raise RuntimeError(\"Column name conflict after normalization in PUF.\")"
   ]
  },
  {
   "cell_type": "code",
   "execution_count": null,
   "id": "c91e1850",
   "metadata": {},
   "outputs": [
    {
     "name": "stdout",
     "output_type": "stream",
     "text": [
      "root\n",
      " |-- rndrng_npi: string (nullable = true)\n",
      " |-- rndrng_prvdr_ent_cd: string (nullable = true)\n",
      " |-- rndrng_prvdr_state_abrvtn: string (nullable = true)\n",
      " |-- rndrng_prvdr_zip5: string (nullable = true)\n",
      " |-- rndrng_prvdr_ruca: string (nullable = true)\n",
      " |-- rndrng_prvdr_ruca_desc: string (nullable = true)\n",
      " |-- rndrng_prvdr_mdcr_prtcptg_ind: string (nullable = true)\n",
      " |-- rndrng_prvdr_type: string (nullable = true)\n",
      " |-- rndrng_prvdr_cntry: string (nullable = true)\n",
      " |-- hcpcs_cd: string (nullable = true)\n",
      " |-- hcpcs_desc: string (nullable = true)\n",
      " |-- hcpcs_drug_ind: string (nullable = true)\n",
      " |-- place_of_srvc: string (nullable = true)\n",
      " |-- tot_benes: string (nullable = true)\n",
      " |-- tot_srvcs: string (nullable = true)\n",
      " |-- tot_bene_day_srvcs: string (nullable = true)\n",
      " |-- avg_sbmtd_chrg: string (nullable = true)\n",
      " |-- avg_mdcr_alowd_amt: string (nullable = true)\n",
      " |-- avg_mdcr_pymt_amt: string (nullable = true)\n",
      " |-- avg_mdcr_stdzd_amt: string (nullable = true)\n",
      "\n",
      "+----------+-------------------+-------------------------+-----------------+-----------------+-----------------------------------------------------------------------------------+-----------------------------+-----------------+------------------+--------+----------------------------------------------------------------------------------------------------------------------------------+--------------+-------------+---------+---------+------------------+--------------+------------------+-----------------+------------------+\n",
      "|rndrng_npi|rndrng_prvdr_ent_cd|rndrng_prvdr_state_abrvtn|rndrng_prvdr_zip5|rndrng_prvdr_ruca|rndrng_prvdr_ruca_desc                                                             |rndrng_prvdr_mdcr_prtcptg_ind|rndrng_prvdr_type|rndrng_prvdr_cntry|hcpcs_cd|hcpcs_desc                                                                                                                        |hcpcs_drug_ind|place_of_srvc|tot_benes|tot_srvcs|tot_bene_day_srvcs|avg_sbmtd_chrg|avg_mdcr_alowd_amt|avg_mdcr_pymt_amt|avg_mdcr_stdzd_amt|\n",
      "+----------+-------------------+-------------------------+-----------------+-----------------+-----------------------------------------------------------------------------------+-----------------------------+-----------------+------------------+--------+----------------------------------------------------------------------------------------------------------------------------------+--------------+-------------+---------+---------+------------------+--------------+------------------+-----------------+------------------+\n",
      "|1003000126|I                  |MD                       |20817            |1                |Metropolitan area core: primary flow within an urbanized area of 50,000 and greater|Y                            |Hospitalist      |US                |99221   |Initial hospital care with straightforward or low level of medical decision making, per day, if using time, at least 40 minutes   |N             |F            |12       |12       |12                |250.22666667  |89.0625           |60.3125          |54.669166667      |\n",
      "|1003000126|I                  |MD                       |20817            |1                |Metropolitan area core: primary flow within an urbanized area of 50,000 and greater|Y                            |Hospitalist      |US                |99222   |Initial hospital care with straightforward or low-level medical decision making, if using time, at least 55 minutes               |N             |F            |22       |22       |22                |318.58181818  |130.31272727      |99.38            |98.429545455      |\n",
      "|1003000126|I                  |MD                       |20817            |1                |Metropolitan area core: primary flow within an urbanized area of 50,000 and greater|Y                            |Hospitalist      |US                |99231   |Subsequent hospital care with straightforward or low level of medical decision making, per day, if using time, at least 25 minutes|N             |F            |76       |127      |127               |95.732283465  |54.82015748       |43.557322835     |38.748661417      |\n",
      "|1003000126|I                  |MD                       |20817            |1                |Metropolitan area core: primary flow within an urbanized area of 50,000 and greater|Y                            |Hospitalist      |US                |99232   |Subsequent hospital care with moderate levelof medical decision making, if using time, at least 35 minutes                        |N             |F            |180      |341      |341               |194.44152493  |86.840762463      |69.086422287     |61.812258065      |\n",
      "|1003000126|I                  |MD                       |20817            |1                |Metropolitan area core: primary flow within an urbanized area of 50,000 and greater|Y                            |Hospitalist      |US                |99233   |Subsequent hospital care with moderate levelof medical decision making, if using time, at least 50 minutes                        |N             |F            |53       |79       |79                |251.45405063  |127.91518987      |100.94316456     |92.409113924      |\n",
      "+----------+-------------------+-------------------------+-----------------+-----------------+-----------------------------------------------------------------------------------+-----------------------------+-----------------+------------------+--------+----------------------------------------------------------------------------------------------------------------------------------+--------------+-------------+---------+---------+------------------+--------------+------------------+-----------------+------------------+\n",
      "only showing top 5 rows\n"
     ]
    }
   ],
   "source": [
    "# doing a quick sanity check to ensure the new DataFrame has the correct columns\n",
    "p = phys.select(*[col(o).alias(n) for o,n in zip(keep_cols_puf, puf_names)])\n",
    "p.printSchema()\n",
    "p.show(5, truncate=False)"
   ]
  },
  {
   "cell_type": "code",
   "execution_count": null,
   "id": "e7b2739d",
   "metadata": {},
   "outputs": [],
   "source": [
    "# cleaning and casting the data types\n",
    "\n",
    "p = (\n",
    "    p\n",
    "    .withColumn(\"rndrng_npi\", trim(col(\"rndrng_npi\")))\n",
    "    .withColumn(\"npi_valid\", when(col(\"rndrng_npi\").rlike(r\"^\\d{10}$\"), 1).otherwise(0))\n",
    "    .withColumn(\"is_individual\", when(col(\"rndrng_prvdr_ent_cd\") == \"I\", 1).otherwise(0))\n",
    "    .withColumn(\"rndrng_prvdr_state_abrvtn\", trim(col(\"rndrng_prvdr_state_abrvtn\")))\n",
    "    .withColumn(\"rndrng_prvdr_zip5\", trim(col(\"rndrng_prvdr_zip5\")))\n",
    "    .withColumn(\"missing_state\", when(col(\"rndrng_prvdr_state_abrvtn\").isNull(), 1).otherwise(0))\n",
    "    .withColumn(\"missing_zip\", when(col(\"rndrng_prvdr_zip5\").isNull(), 1).otherwise(0))\n",
    "    .withColumn(\"rndrng_prvdr_ruca\", col(\"rndrng_prvdr_ruca\").cast(DoubleType()))\n",
    "    .withColumn(\"medicare_participation\", when(col(\"rndrng_prvdr_mdcr_prtcptg_ind\") == \"Y\", 1).otherwise(0))\n",
    "    .withColumn(\"hcpcs_cd\", trim(col(\"hcpcs_cd\")))\n",
    "    .withColumn(\"place_of_srvc\", trim(col(\"place_of_srvc\")))\n",
    "    .withColumn(\"avg_sbmtd_chrg\", col(\"avg_sbmtd_chrg\").cast(DoubleType()))\n",
    "    .withColumn(\"avg_mdcr_alowd_amt\", col(\"avg_mdcr_alowd_amt\").cast(DoubleType()))\n",
    "    .withColumn(\"avg_mdcr_pymt_amt\", col(\"avg_mdcr_pymt_amt\").cast(DoubleType()))\n",
    "    .withColumn(\"avg_mdcr_stdzd_amt\", col(\"avg_mdcr_stdzd_amt\").cast(DoubleType()))\n",
    "    .withColumn(\"is_drug\", when(col(\"hcpcs_drug_ind\") == \"Y\", 1).otherwise(0))\n",
    "    .withColumn(\"rndrng_prvdr_cntry\", upper(trim(col(\"rndrng_prvdr_cntry\"))))\n",
    "    .filter(col(\"rndrng_prvdr_cntry\").isNull() | col(\"rndrng_prvdr_cntry\").isin(\"US\",\"USA\"))\n",
    ")\n"
   ]
  },
  {
   "cell_type": "markdown",
   "id": "e10d2850",
   "metadata": {},
   "source": [
    "##### Because of the nature of this dataset, I will not be doing a traditional deduping process\n",
    "##### This dataset is SUPPOSED to have multiple lines per provider\n",
    "##### I will be checking for true duplicates"
   ]
  },
  {
   "cell_type": "code",
   "execution_count": null,
   "id": "9c33bad2",
   "metadata": {},
   "outputs": [
    {
     "name": "stderr",
     "output_type": "stream",
     "text": [
      "                                                                                \r"
     ]
    }
   ],
   "source": [
    "# Aggregate to provider level (weighted avgs + diversity)\n",
    "p_agg_in = (\n",
    "    p.filter(col(\"npi_valid\") == 1)\n",
    "     .withColumn(\"srvcs_d\", col(\"tot_srvcs\").cast(\"double\"))\n",
    "     .withColumn(\"benes_d\", col(\"tot_benes\").cast(\"double\"))\n",
    "     .withColumn(\"bene_days_d\", col(\"tot_bene_day_srvcs\").cast(\"double\"))\n",
    ")\n",
    "\n",
    "agg = (\n",
    "    p_agg_in.groupBy(\"rndrng_npi\").agg(\n",
    "        sum_(\"srvcs_d\").alias(\"total_services\"),\n",
    "        sum_(\"benes_d\").alias(\"total_beneficiaries\"),\n",
    "        sum_(\"bene_days_d\").alias(\"total_bene_day_services\"),\n",
    "        sum_(col(\"avg_sbmtd_chrg\") * col(\"srvcs_d\")).alias(\"sum_submitted_w\"),\n",
    "        sum_(col(\"avg_mdcr_alowd_amt\") * col(\"srvcs_d\")).alias(\"sum_allowed_w\"),\n",
    "        sum_(col(\"avg_mdcr_pymt_amt\") * col(\"srvcs_d\")).alias(\"sum_payment_w\"),\n",
    "        countDistinct(\"hcpcs_cd\").alias(\"num_unique_procedures\"),\n",
    "        stddev(col(\"avg_sbmtd_chrg\")).alias(\"stddev_submitted_charge\"),\n",
    "        avg(col(\"is_drug\")).alias(\"frac_drug_services\"),\n",
    "        avg(col(\"missing_zip\")).alias(\"frac_missing_zip\")\n",
    "    )\n",
    ")\n",
    "\n",
    "provider_agg = (\n",
    "    agg\n",
    "    .withColumn(\"w_avg_submitted_charge\", when(col(\"total_services\") > 0, col(\"sum_submitted_w\")/col(\"total_services\")))\n",
    "    .withColumn(\"w_avg_allowed\",          when(col(\"total_services\") > 0, col(\"sum_allowed_w\")/col(\"total_services\")))\n",
    "    .withColumn(\"w_avg_payment\",          when(col(\"total_services\") > 0, col(\"sum_payment_w\")/col(\"total_services\")))\n",
    "    .withColumn(\"charge_allowed_ratio\",   when(col(\"sum_allowed_w\") > 0, col(\"sum_submitted_w\")/col(\"sum_allowed_w\")))\n",
    "    .withColumn(\"payment_allowed_ratio\",  when(col(\"sum_allowed_w\") > 0, col(\"sum_payment_w\")/col(\"sum_allowed_w\")))\n",
    "    .drop(\"sum_submitted_w\",\"sum_allowed_w\",\"sum_payment_w\")\n",
    "    .withColumnRenamed(\"rndrng_npi\",\"npi\")\n",
    "    .withColumn(\"services_per_bene\", when(col(\"total_beneficiaries\")>0, col(\"total_services\")/col(\"total_beneficiaries\")))\n",
    "    .withColumn(\"bene_days_per_bene\", when(col(\"total_beneficiaries\")>0, col(\"total_bene_day_services\")/col(\"total_beneficiaries\")))\n",
    ")\n",
    "\n",
    "print(\"PUF aggregated providers:\", provider_agg.count())"
   ]
  },
  {
   "cell_type": "markdown",
   "id": "9afb9cb5",
   "metadata": {},
   "source": [
    "## 'List of Excluded Individuals and Entities' (LEIE) - OIG Dataset"
   ]
  },
  {
   "cell_type": "code",
   "execution_count": 45,
   "id": "2ff0163b",
   "metadata": {},
   "outputs": [],
   "source": [
    "# creating a csv path variable\n",
    "leie_csv_path = \"Office of Inspector General - Excluded Individuals and Entities/20250710 LEIE.csv\""
   ]
  },
  {
   "cell_type": "code",
   "execution_count": 46,
   "id": "85a0ee1d",
   "metadata": {},
   "outputs": [],
   "source": [
    "# reading the CSV file into a DataFrame\n",
    "full_leie_df = (\n",
    "    spark.read\n",
    "    .option(\"header\", \"true\")\n",
    "    .option(\"inferSchema\", \"false\")\n",
    "    .csv(leie_csv_path)\n",
    ")"
   ]
  },
  {
   "cell_type": "code",
   "execution_count": 47,
   "id": "f4b7d7aa",
   "metadata": {},
   "outputs": [
    {
     "name": "stdout",
     "output_type": "stream",
     "text": [
      "Available columns:\n",
      "'LASTNAME'\n",
      "'FIRSTNAME'\n",
      "'MIDNAME'\n",
      "'BUSNAME'\n",
      "'GENERAL'\n",
      "'SPECIALTY'\n",
      "'UPIN'\n",
      "'NPI'\n",
      "'DOB'\n",
      "'ADDRESS'\n",
      "'CITY'\n",
      "'STATE'\n",
      "'ZIP'\n",
      "'EXCLTYPE'\n",
      "'EXCLDATE'\n",
      "'REINDATE'\n",
      "'WAIVERDATE'\n",
      "'WVRSTATE'\n"
     ]
    }
   ],
   "source": [
    "# inspecting the column names\n",
    "print(\"Available columns:\")\n",
    "for c in full_leie_df.columns[:]:\n",
    "    print(repr(c))"
   ]
  },
  {
   "cell_type": "code",
   "execution_count": null,
   "id": "5a204ad5",
   "metadata": {},
   "outputs": [],
   "source": [
    "# selecting the relevant columns I want to keep\n",
    "keep_cols_leie = [\"NPI\",\"LASTNAME\",\"FIRSTNAME\",\"MIDNAME\",\"BUSNAME\",\"ADDRESS\",\"CITY\",\"STATE\",\n",
    "                  \"ZIP\",\"SPECIALTY\",\"EXCLTYPE\",\"EXCLDATE\",\"REINDATE\",\"DOB\",\"WAIVERDATE\",\"WVRSTATE\",\"UPIN\"]"
   ]
  },
  {
   "cell_type": "code",
   "execution_count": 49,
   "id": "c08c0bbd",
   "metadata": {},
   "outputs": [],
   "source": [
    "# creating a new DataFrame with only the selected columns\n",
    "leie_df = full_leie_df.select(*keep_cols_leie)"
   ]
  },
  {
   "cell_type": "code",
   "execution_count": 50,
   "id": "dd15f8c9",
   "metadata": {},
   "outputs": [
    {
     "name": "stdout",
     "output_type": "stream",
     "text": [
      "Schema:\n",
      "root\n",
      " |-- NPI: string (nullable = true)\n",
      " |-- LASTNAME: string (nullable = true)\n",
      " |-- FIRSTNAME: string (nullable = true)\n",
      " |-- MIDNAME: string (nullable = true)\n",
      " |-- BUSNAME: string (nullable = true)\n",
      " |-- ADDRESS: string (nullable = true)\n",
      " |-- CITY: string (nullable = true)\n",
      " |-- STATE: string (nullable = true)\n",
      " |-- ZIP: string (nullable = true)\n",
      " |-- SPECIALTY: string (nullable = true)\n",
      " |-- EXCLTYPE: string (nullable = true)\n",
      " |-- EXCLDATE: string (nullable = true)\n",
      " |-- REINDATE: string (nullable = true)\n",
      " |-- DOB: string (nullable = true)\n",
      " |-- WAIVERDATE: string (nullable = true)\n",
      " |-- WVRSTATE: string (nullable = true)\n",
      " |-- UPIN: string (nullable = true)\n",
      "\n",
      "Sample:\n",
      "+----------+--------+---------+-------+---------------------------+-----------------------------+----------+-----+-----+------------------+--------+--------+--------+----+----------+--------+----+\n",
      "|NPI       |LASTNAME|FIRSTNAME|MIDNAME|BUSNAME                    |ADDRESS                      |CITY      |STATE|ZIP  |SPECIALTY         |EXCLTYPE|EXCLDATE|REINDATE|DOB |WAIVERDATE|WVRSTATE|UPIN|\n",
      "+----------+--------+---------+-------+---------------------------+-----------------------------+----------+-----+-----+------------------+--------+--------+--------+----+----------+--------+----+\n",
      "|0000000000|NULL    |NULL     |NULL   |#1 MARKETING SERVICE, INC  |239 BRIGHTON BEACH AVENUE    |BROOKLYN  |NY   |11235|SOBER HOME        |1128a1  |20200319|00000000|NULL|00000000  |NULL    |NULL|\n",
      "|0000000000|NULL    |NULL     |NULL   |1 BEST CARE, INC           |2161 UNIVERSITY AVENUE W, STE|SAINT PAUL|MN   |55114|HOME HEALTH AGENCY|1128b5  |20230518|00000000|NULL|00000000  |NULL    |NULL|\n",
      "|1972902351|NULL    |NULL     |NULL   |101 FIRST CARE PHARMACY INC|C/O 609 W 191ST STREET, APT D|NEW YORK  |NY   |10040|PHARMACY          |1128b8  |20220320|00000000|NULL|00000000  |NULL    |NULL|\n",
      "|0000000000|NULL    |NULL     |NULL   |14 LAWRENCE AVE PHARMACY   |14 LAWRENCE AVENUE           |SMITHTOWN |NY   |11787|NULL              |1128a1  |19880830|00000000|NULL|00000000  |NULL    |NULL|\n",
      "|0000000000|NULL    |NULL     |NULL   |143 MEDICAL EQUIPMENT CO   |701 NW 36 AVENUE             |MIAMI     |FL   |33125|DME - OXYGEN      |1128b7  |19970620|00000000|NULL|00000000  |NULL    |NULL|\n",
      "+----------+--------+---------+-------+---------------------------+-----------------------------+----------+-----+-----+------------------+--------+--------+--------+----+----------+--------+----+\n",
      "\n"
     ]
    }
   ],
   "source": [
    "# having a sanity check to ensure I loaded the right columns, the correct types, and the data looks okay\n",
    "print(\"Schema:\")\n",
    "leie_df.printSchema()\n",
    "print(\"Sample:\")\n",
    "leie_df.limit(5).show(truncate=False)"
   ]
  },
  {
   "cell_type": "code",
   "execution_count": 51,
   "id": "9a3479e6",
   "metadata": {},
   "outputs": [
    {
     "name": "stdout",
     "output_type": "stream",
     "text": [
      "Total rows: 81774\n"
     ]
    }
   ],
   "source": [
    "# getting the total number of rows in the DataFrame\n",
    "total_rows_leie = leie_df.count()\n",
    "print(f'Total rows: {total_rows_leie}')"
   ]
  },
  {
   "cell_type": "code",
   "execution_count": 52,
   "id": "cebc099b",
   "metadata": {},
   "outputs": [
    {
     "name": "stdout",
     "output_type": "stream",
     "text": [
      "+---+--------+---------+-------+-------+-------+----+-----+---+---------+--------+--------+--------+----+----------+--------+-----+\n",
      "|NPI|LASTNAME|FIRSTNAME|MIDNAME|BUSNAME|ADDRESS|CITY|STATE|ZIP|SPECIALTY|EXCLTYPE|EXCLDATE|REINDATE| DOB|WAIVERDATE|WVRSTATE| UPIN|\n",
      "+---+--------+---------+-------+-------+-------+----+-----+---+---------+--------+--------+--------+----+----------+--------+-----+\n",
      "|  0|    3358|     3358|  24009|  78416|      4|   0|    0|  0|     4088|       0|       0|       0|4222|         0|   81762|75791|\n",
      "+---+--------+---------+-------+-------+-------+----+-----+---+---------+--------+--------+--------+----+----------+--------+-----+\n",
      "\n"
     ]
    }
   ],
   "source": [
    "# getting the null counts for each column\n",
    "leie_df.select(\n",
    "    *[sum_(col(c).isNull().cast('int')).alias(c) for c in leie_df.columns]\n",
    ").show()"
   ]
  },
  {
   "cell_type": "code",
   "execution_count": null,
   "id": "5287de3e",
   "metadata": {},
   "outputs": [],
   "source": [
    "# comoputing normalized names and checking for collisions\n",
    "# checking for collisions as I don't want to accidently end up with two originals mapping to the same cleaned name\n",
    "\n",
    "leie_cols = [normalize_col(c) for c in keep_cols_leie]\n",
    "if len(leie_cols) != len(set(leie_cols)):\n",
    "    raise RuntimeError(\"Column name conflict after normalization in LEIE.\")\n",
    "leie = leie_df.select(*[col(o).alias(n) for o,n in zip(keep_cols_leie, leie_cols)])"
   ]
  },
  {
   "cell_type": "code",
   "execution_count": null,
   "id": "1e0698ba",
   "metadata": {},
   "outputs": [],
   "source": [
    "# Trim, normalize keys, parse dates (guarded)\n",
    "for c_, t_ in leie.dtypes:\n",
    "    if t_ == \"string\":\n",
    "        leie = leie.withColumn(c_, when(trim(col(c_)) == \"\", None).otherwise(trim(col(c_))))\n",
    "\n",
    "leie = (\n",
    "    leie\n",
    "    .withColumn(\"npi\", regexp_replace(col(\"npi\"), r\"[^0-9]\", \"\"))\n",
    "    .withColumn(\"npi_valid\", when(col(\"npi\").rlike(r\"^(?!0{10})\\d{10}$\"), 1).otherwise(0).cast(IntegerType()))\n",
    "    .withColumn(\"zip5\", substring(regexp_replace(col(\"zip\"), r\"[^0-9]\", \"\"), 1, 5))\n",
    "    .drop(\"zip\")\n",
    "    .withColumn(\"state\", when(col(\"state\").rlike(r\"^[A-Za-z]{2}$\"), upper(col(\"state\"))))\n",
    "    .withColumnRenamed(\"wvrstate\", \"waiverstate\")\n",
    "    .withColumn(\"waiverstate\", when(col(\"waiverstate\").rlike(r\"^[A-Za-z]{2}$\"), upper(col(\"waiverstate\"))))\n",
    "    .withColumn(\"excltype\", upper(col(\"excltype\")))\n",
    "    .withColumn(\"specialty\", upper(col(\"specialty\")))\n",
    ")\n",
    "\n",
    "def zeroish(colname):\n",
    "    digits = regexp_replace(col(colname), r\"[^0-9]\", \"\")\n",
    "    return when((digits == \"00000000\") | (length(digits) == 0), lit(None)).otherwise(col(colname))\n",
    "\n",
    "def parse_date_guarded(colname: str):\n",
    "    raw = zeroish(colname)\n",
    "    digits = regexp_replace(raw, r\"[^0-9]\", \"\")\n",
    "    ymd8 = when(digits.rlike(r\"^\\d{8}$\"), to_date(digits, \"yyyyMMdd\"))\n",
    "    mdyyyy = when(raw.rlike(r\"^\\d{1,2}/\\d{1,2}/\\d{4}$\"), to_date(raw, \"M/d/yyyy\"))\n",
    "    ymd_dash = when(raw.rlike(r\"^\\d{4}-\\d{2}-\\d{2}$\"), to_date(raw, \"yyyy-MM-dd\"))\n",
    "    return coalesce(ymd8, mdyyyy, ymd_dash)\n",
    "\n",
    "leie = (\n",
    "    leie\n",
    "    .withColumn(\"excldate_dt\",   parse_date_guarded(\"excldate\"))\n",
    "    .withColumn(\"reindate_dt\",   parse_date_guarded(\"reindate\"))\n",
    "    .withColumn(\"waiverdate_dt\", parse_date_guarded(\"waiverdate\"))\n",
    "    .withColumn(\"dob_dt\",        parse_date_guarded(\"dob\"))\n",
    "    .drop(\"excldate\",\"reindate\",\"waiverdate\",\"dob\")\n",
    ")"
   ]
  },
  {
   "cell_type": "code",
   "execution_count": null,
   "id": "9f9b14c4",
   "metadata": {},
   "outputs": [],
   "source": [
    "# As-of filter: only use exclusions effective <= AS_OF_STR to avoid leakage\n",
    "AS_OF = to_date(lit(AS_OF_STR))\n",
    "leie = leie.filter(col(\"excldate_dt\").isNull() | (col(\"excldate_dt\") <= AS_OF))"
   ]
  },
  {
   "cell_type": "code",
   "execution_count": null,
   "id": "3c1a5c66",
   "metadata": {},
   "outputs": [],
   "source": [
    "# Aggregate to NPI-level and build explicit label\n",
    "leie_with_npi = leie.filter(col(\"npi_valid\") == 1)\n",
    "leie_by_npi = (\n",
    "    leie_with_npi\n",
    "    .groupBy(\"npi\")\n",
    "    .agg(\n",
    "        countDistinct(\"excldate_dt\").cast(IntegerType()).alias(\"exclusion_count\"),\n",
    "        min(\"excldate_dt\").cast(DateType()).alias(\"first_excldate\"),\n",
    "        max(\"excldate_dt\").cast(DateType()).alias(\"most_recent_excldate\"),\n",
    "        max(\"waiverdate_dt\").cast(DateType()).alias(\"last_waiverdate\"),\n",
    "        max(\"reindate_dt\").cast(DateType()).alias(\"last_reindate\")\n",
    "    )\n",
    ")\n",
    "\n",
    "leie_label = (\n",
    "    leie_by_npi\n",
    "    .select(\"npi\", when(col(\"exclusion_count\") > 0, 1).otherwise(0).alias(\"is_fraud\"))\n",
    "    .distinct()\n",
    ")\n",
    "\n",
    "print(\"LEIE labeled NPIs:\", leie_label.count())"
   ]
  },
  {
   "cell_type": "code",
   "execution_count": null,
   "id": "4f8b68d0",
   "metadata": {},
   "outputs": [],
   "source": [
    "# Joining NPI and PUF data\n",
    "\n",
    "# NPPES feature slice (keep it lean; strings ok for later encoding)\n",
    "npi_feat = wrangled_npi_df.select(\n",
    "    \"npi\",\"state_abbr\",\"zip5\",\"entity_type_code\",\"primary_taxonomy\",\n",
    "    \"npi_age_days\",\"is_active\",\"is_organization_subpart\",\"is_sole_proprietor\"\n",
    ").distinct()"
   ]
  },
  {
   "cell_type": "code",
   "execution_count": null,
   "id": "82dfe42e",
   "metadata": {},
   "outputs": [],
   "source": [
    "# Base join (PUF ⟵ NPPES)\n",
    "base = provider_agg.alias(\"p\").join(\n",
    "    npi_feat.alias(\"n\"), on=\"npi\", how=\"left\"\n",
    ")"
   ]
  },
  {
   "cell_type": "code",
   "execution_count": null,
   "id": "5bf2c291",
   "metadata": {},
   "outputs": [],
   "source": [
    "# Add label (explicit only)\n",
    "merged = base.join(leie_label.alias(\"l\"), on=\"npi\", how=\"left\") \\\n",
    "             .withColumn(\"is_fraud\", coalesce(col(\"is_fraud\"), lit(0)).cast(\"int\"))\n",
    "\n",
    "print(\"Merged row sample:\")\n",
    "merged.select(\"npi\",\"is_fraud\").limit(10).show(truncate=False)"
   ]
  },
  {
   "cell_type": "code",
   "execution_count": null,
   "id": "77e3446a",
   "metadata": {},
   "outputs": [],
   "source": [
    "# downsampling negatives (keep all positives)\n",
    "\n",
    "TARGET = 1_000_000  # tweak for your laptop\n",
    "pos_df = merged.filter(col(\"is_fraud\") == 1).select(\"npi\").distinct()\n",
    "pos_ct = pos_df.count()\n",
    "print(\"Positives (distinct NPIs):\", pos_ct)\n",
    "\n",
    "# Estimate total via sampling to avoid full counts on big sets\n",
    "SAMPLE_F = 0.001\n",
    "sample_est_val = merged.sample(False, SAMPLE_F, seed=42).count()\n",
    "est_total = int(sample_est_val / SAMPLE_F)\n",
    "est_neg = max(est_total - pos_ct, 1)\n",
    "keep_neg = max(TARGET - pos_ct, 0)\n",
    "frac_neg = min(1.0, float(keep_neg) / float(est_neg)) if est_neg > 0 else 0.0\n",
    "print(\"Estimated total:\", est_total, \"Negatives est:\", est_neg, \"Neg keep:\", keep_neg, \"Neg fraction:\", frac_neg)\n",
    "\n",
    "if frac_neg <= 0:\n",
    "    final_df = merged.join(pos_df, on=\"npi\", how=\"inner\")  # only positives\n",
    "else:\n",
    "    neg_sample = merged.filter(col(\"is_fraud\") == 0).sample(False, frac_neg, seed=42)\n",
    "    pos_full = pos_df.join(merged, on=\"npi\", how=\"inner\")\n",
    "    final_df = pos_full.unionByName(neg_sample.select(merged.columns))"
   ]
  },
  {
   "cell_type": "code",
   "execution_count": null,
   "id": "2932c4e4",
   "metadata": {},
   "outputs": [],
   "source": [
    "# Safety: no exclusion date columns in model table\n",
    "drop_cols = [c for c in final_df.columns if c.startswith(\"first_excl\") or c.startswith(\"most_recent_excl\") or c.endswith(\"_excldate\")]\n",
    "if drop_cols:\n",
    "    final_df = final_df.drop(*drop_cols)\n",
    "\n",
    "from pyspark import StorageLevel\n",
    "final_df = final_df.repartition(8, \"npi\").persist(StorageLevel.MEMORY_AND_DISK)\n",
    "print(\"Final class balance (preview):\")\n",
    "final_df.groupBy(\"is_fraud\").count().show()"
   ]
  },
  {
   "cell_type": "code",
   "execution_count": null,
   "id": "2da953af",
   "metadata": {},
   "outputs": [],
   "source": [
    "# writiing curated training set\n",
    "\n",
    "WRITE_OPTS = {\n",
    "    \"compression\": \"snappy\",\n",
    "    \"maxRecordsPerFile\": \"750000\",\n",
    "    \"parquet.block.size\": str(64 * 1024 * 1024),\n",
    "    \"parquet.page.size\":  str(1 * 1024 * 1024),\n",
    "}\n",
    "\n",
    "outpath = f\"curated/training/providers_nn_asof_{AS_OF_STR}.parquet\"\n",
    "(final_df\n",
    "    .write\n",
    "    .mode(\"overwrite\")\n",
    "    .options(**WRITE_OPTS)\n",
    "    .parquet(outpath)\n",
    ")\n",
    "print(\"Saved training table to:\", outpath)"
   ]
  },
  {
   "cell_type": "code",
   "execution_count": null,
   "id": "2587de6c",
   "metadata": {},
   "outputs": [],
   "source": [
    "# 7) Cleanup big caches (be kind to RAM)\n",
    "# -----------------------------\n",
    "try:\n",
    "    final_df.unpersist()\n",
    "except Exception:\n",
    "    pass"
   ]
  }
 ],
 "metadata": {
  "kernelspec": {
   "display_name": "ds-env",
   "language": "python",
   "name": "python3"
  },
  "language_info": {
   "codemirror_mode": {
    "name": "ipython",
    "version": 3
   },
   "file_extension": ".py",
   "mimetype": "text/x-python",
   "name": "python",
   "nbconvert_exporter": "python",
   "pygments_lexer": "ipython3",
   "version": "3.11.13"
  }
 },
 "nbformat": 4,
 "nbformat_minor": 5
}
