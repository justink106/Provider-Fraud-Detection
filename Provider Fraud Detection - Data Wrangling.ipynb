{
 "cells": [
  {
   "cell_type": "markdown",
   "id": "7f50821c",
   "metadata": {},
   "source": [
    "# Provider Fraud Detection Model - Data Wrangling\n",
    "### In this notebook we will focus on collecting, organizing, defining, and cleaning the relevant datasets for the Provider Fraud Detection model\n",
    "#### 1.) Ingesting & Inspecting Files\n",
    "#### 2.) Standardizing Column Names & Types\n",
    "#### 3.) Cleaning Values\n",
    "#### 4.) Deduping (Removing Duplicates)\n",
    "#### 5.) Merging/Joining Tables"
   ]
  },
  {
   "cell_type": "code",
   "execution_count": 1,
   "id": "d3af88ed",
   "metadata": {},
   "outputs": [],
   "source": [
    "# loading needed modules\n",
    "import re\n",
    "from collections import Counter\n",
    "from functools import reduce\n",
    "\n",
    "from pyspark.sql import SparkSession\n",
    "from pyspark.sql.window import Window\n",
    "from pyspark.sql.types import (\n",
    "    StructType,\n",
    "    StructField,\n",
    "    StringType,\n",
    "    IntegerType,\n",
    "    DoubleType,\n",
    "    DateType\n",
    ")\n",
    "\n",
    "from pyspark.sql.functions import (\n",
    "    col,\n",
    "    expr,\n",
    "    lit,\n",
    "    trim,\n",
    "    to_date,\n",
    "    current_date,\n",
    "    datediff,\n",
    "    sum as sum_,\n",
    "    avg,\n",
    "    stddev,\n",
    "    countDistinct,\n",
    "    when,\n",
    "    try_divide,\n",
    "    row_number,\n",
    "    min,\n",
    "    max,\n",
    "    mean,\n",
    "    isnan,\n",
    "    isnull,\n",
    "    regexp_replace,\n",
    "    substring,\n",
    "    upper,\n",
    "    coalesce,\n",
    "    sha2\n",
    ")"
   ]
  },
  {
   "cell_type": "code",
   "execution_count": 2,
   "id": "e5ea939b",
   "metadata": {},
   "outputs": [],
   "source": [
    "# this function will help me normalize my column names to ensure a smooth workflow\n",
    "# this function will...\n",
    "    # lowercase, trim whitespace\n",
    "    # drop parenthetical notes\n",
    "    # replace non-alphanumeric chars with underscores\n",
    "    # collapse runs of underscores\n",
    "    # strip leading/trailing underscores\n",
    "\n",
    "def normalize_col(column_name: str) -> str:\n",
    "    text = column_name.strip().lower()\n",
    "    text = re.sub(r'\\(.*?\\)', '', text)\n",
    "    text = re.sub(r'[^0-9a-z]+', '_', text)\n",
    "    text = re.sub(r'_+', '_', text)\n",
    "    return text.strip('_')"
   ]
  },
  {
   "cell_type": "code",
   "execution_count": 3,
   "id": "b926b8f0",
   "metadata": {},
   "outputs": [
    {
     "name": "stderr",
     "output_type": "stream",
     "text": [
      "WARNING: Using incubator modules: jdk.incubator.vector\n",
      "Using Spark's default log4j profile: org/apache/spark/log4j2-defaults.properties\n",
      "Setting default log level to \"WARN\".\n",
      "To adjust logging level use sc.setLogLevel(newLevel). For SparkR, use setLogLevel(newLevel).\n",
      "25/08/12 18:42:02 WARN NativeCodeLoader: Unable to load native-hadoop library for your platform... using builtin-java classes where applicable\n"
     ]
    }
   ],
   "source": [
    "# starting Spark session\n",
    "spark = SparkSession.builder.appName('ProviderFraudDetection').getOrCreate()"
   ]
  },
  {
   "cell_type": "markdown",
   "id": "3caa6e6d",
   "metadata": {},
   "source": [
    "## NPPES NPI Registry Dataset"
   ]
  },
  {
   "cell_type": "code",
   "execution_count": 4,
   "id": "9ee85951",
   "metadata": {},
   "outputs": [],
   "source": [
    "# creating a csv path variable\n",
    "npi_csv_path = \"NPPES_Data_Dissemination_July_2025_V2/npidata_pfile_20050523-20250713.csv\"\n"
   ]
  },
  {
   "cell_type": "code",
   "execution_count": 5,
   "id": "2154a858",
   "metadata": {},
   "outputs": [],
   "source": [
    "# reading the CSV file into a DataFrame\n",
    "full_npi_df = (\n",
    "    spark.read\n",
    "    .option(\"header\", \"true\")\n",
    "    .option(\"inferSchema\", \"false\")\n",
    "    .csv(npi_csv_path)\n",
    ")"
   ]
  },
  {
   "cell_type": "code",
   "execution_count": 6,
   "id": "82d550f0",
   "metadata": {},
   "outputs": [
    {
     "name": "stdout",
     "output_type": "stream",
     "text": [
      "Available columns (first 50 shown):\n",
      "'NPI'\n",
      "'Entity Type Code'\n",
      "'Replacement NPI'\n",
      "'Employer Identification Number (EIN)'\n",
      "'Provider Organization Name (Legal Business Name)'\n",
      "'Provider Last Name (Legal Name)'\n",
      "'Provider First Name'\n",
      "'Provider Middle Name'\n",
      "'Provider Name Prefix Text'\n",
      "'Provider Name Suffix Text'\n",
      "'Provider Credential Text'\n",
      "'Provider Other Organization Name'\n",
      "'Provider Other Organization Name Type Code'\n",
      "'Provider Other Last Name'\n",
      "'Provider Other First Name'\n",
      "'Provider Other Middle Name'\n",
      "'Provider Other Name Prefix Text'\n",
      "'Provider Other Name Suffix Text'\n",
      "'Provider Other Credential Text'\n",
      "'Provider Other Last Name Type Code'\n",
      "'Provider First Line Business Mailing Address'\n",
      "'Provider Second Line Business Mailing Address'\n",
      "'Provider Business Mailing Address City Name'\n",
      "'Provider Business Mailing Address State Name'\n",
      "'Provider Business Mailing Address Postal Code'\n",
      "'Provider Business Mailing Address Country Code (If outside U.S.)'\n",
      "'Provider Business Mailing Address Telephone Number'\n",
      "'Provider Business Mailing Address Fax Number'\n",
      "'Provider First Line Business Practice Location Address'\n",
      "'Provider Second Line Business Practice Location Address'\n",
      "'Provider Business Practice Location Address City Name'\n",
      "'Provider Business Practice Location Address State Name'\n",
      "'Provider Business Practice Location Address Postal Code'\n",
      "'Provider Business Practice Location Address Country Code (If outside U.S.)'\n",
      "'Provider Business Practice Location Address Telephone Number'\n",
      "'Provider Business Practice Location Address Fax Number'\n",
      "'Provider Enumeration Date'\n",
      "'Last Update Date'\n",
      "'NPI Deactivation Reason Code'\n",
      "'NPI Deactivation Date'\n",
      "'NPI Reactivation Date'\n",
      "'Provider Sex Code'\n",
      "'Authorized Official Last Name'\n",
      "'Authorized Official First Name'\n",
      "'Authorized Official Middle Name'\n",
      "'Authorized Official Title or Position'\n",
      "'Authorized Official Telephone Number'\n",
      "'Healthcare Provider Taxonomy Code_1'\n",
      "'Provider License Number_1'\n",
      "'Provider License Number State Code_1'\n"
     ]
    }
   ],
   "source": [
    "# inspecting the npi dataset column names\n",
    "print(\"Available columns (first 50 shown):\")\n",
    "for c in full_npi_df.columns[:50]:\n",
    "    print(repr(c))\n",
    "    "
   ]
  },
  {
   "cell_type": "code",
   "execution_count": 7,
   "id": "58adc07d",
   "metadata": {},
   "outputs": [],
   "source": [
    "# selecting the relevant columns I want to keep\n",
    "tax_cols = []\n",
    "for i in range(1, 16):\n",
    "    tax_cols += [f\"Healthcare Provider Taxonomy Code_{i}\",\n",
    "                 f\"Healthcare Provider Primary Taxonomy Switch_{i}\"]\n",
    "\n",
    "keep_cols_npi = [\n",
    "    \"NPI\",\n",
    "    \"Entity Type Code\",\n",
    "    \"Provider Business Practice Location Address State Name\",\n",
    "    \"Provider Business Practice Location Address Postal Code\",\n",
    "    \"Is Organization Subpart\",\n",
    "    \"Parent Organization TIN\",\n",
    "    \"Parent Organization LBN\",\n",
    "    \"Provider Enumeration Date\",\n",
    "    \"Last Update Date\",\n",
    "    \"NPI Deactivation Date\",\n",
    "    \"NPI Reactivation Date\",\n",
    "    \"Is Sole Proprietor\",\n",
    "] + tax_cols"
   ]
  },
  {
   "cell_type": "code",
   "execution_count": 8,
   "id": "2cf02237",
   "metadata": {},
   "outputs": [],
   "source": [
    "# creating a new DataFrame with only the selected columns\n",
    "npi_df = full_npi_df.select(*keep_cols_npi)\n"
   ]
  },
  {
   "cell_type": "code",
   "execution_count": 9,
   "id": "3d3d944e",
   "metadata": {},
   "outputs": [
    {
     "name": "stdout",
     "output_type": "stream",
     "text": [
      "Schema:\n",
      "root\n",
      " |-- NPI: string (nullable = true)\n",
      " |-- Entity Type Code: string (nullable = true)\n",
      " |-- Provider Business Practice Location Address State Name: string (nullable = true)\n",
      " |-- Provider Business Practice Location Address Postal Code: string (nullable = true)\n",
      " |-- Is Organization Subpart: string (nullable = true)\n",
      " |-- Parent Organization TIN: string (nullable = true)\n",
      " |-- Parent Organization LBN: string (nullable = true)\n",
      " |-- Provider Enumeration Date: string (nullable = true)\n",
      " |-- Last Update Date: string (nullable = true)\n",
      " |-- NPI Deactivation Date: string (nullable = true)\n",
      " |-- NPI Reactivation Date: string (nullable = true)\n",
      " |-- Is Sole Proprietor: string (nullable = true)\n",
      " |-- Healthcare Provider Taxonomy Code_1: string (nullable = true)\n",
      " |-- Healthcare Provider Primary Taxonomy Switch_1: string (nullable = true)\n",
      " |-- Healthcare Provider Taxonomy Code_2: string (nullable = true)\n",
      " |-- Healthcare Provider Primary Taxonomy Switch_2: string (nullable = true)\n",
      " |-- Healthcare Provider Taxonomy Code_3: string (nullable = true)\n",
      " |-- Healthcare Provider Primary Taxonomy Switch_3: string (nullable = true)\n",
      " |-- Healthcare Provider Taxonomy Code_4: string (nullable = true)\n",
      " |-- Healthcare Provider Primary Taxonomy Switch_4: string (nullable = true)\n",
      " |-- Healthcare Provider Taxonomy Code_5: string (nullable = true)\n",
      " |-- Healthcare Provider Primary Taxonomy Switch_5: string (nullable = true)\n",
      " |-- Healthcare Provider Taxonomy Code_6: string (nullable = true)\n",
      " |-- Healthcare Provider Primary Taxonomy Switch_6: string (nullable = true)\n",
      " |-- Healthcare Provider Taxonomy Code_7: string (nullable = true)\n",
      " |-- Healthcare Provider Primary Taxonomy Switch_7: string (nullable = true)\n",
      " |-- Healthcare Provider Taxonomy Code_8: string (nullable = true)\n",
      " |-- Healthcare Provider Primary Taxonomy Switch_8: string (nullable = true)\n",
      " |-- Healthcare Provider Taxonomy Code_9: string (nullable = true)\n",
      " |-- Healthcare Provider Primary Taxonomy Switch_9: string (nullable = true)\n",
      " |-- Healthcare Provider Taxonomy Code_10: string (nullable = true)\n",
      " |-- Healthcare Provider Primary Taxonomy Switch_10: string (nullable = true)\n",
      " |-- Healthcare Provider Taxonomy Code_11: string (nullable = true)\n",
      " |-- Healthcare Provider Primary Taxonomy Switch_11: string (nullable = true)\n",
      " |-- Healthcare Provider Taxonomy Code_12: string (nullable = true)\n",
      " |-- Healthcare Provider Primary Taxonomy Switch_12: string (nullable = true)\n",
      " |-- Healthcare Provider Taxonomy Code_13: string (nullable = true)\n",
      " |-- Healthcare Provider Primary Taxonomy Switch_13: string (nullable = true)\n",
      " |-- Healthcare Provider Taxonomy Code_14: string (nullable = true)\n",
      " |-- Healthcare Provider Primary Taxonomy Switch_14: string (nullable = true)\n",
      " |-- Healthcare Provider Taxonomy Code_15: string (nullable = true)\n",
      " |-- Healthcare Provider Primary Taxonomy Switch_15: string (nullable = true)\n",
      "\n",
      "Sample:\n"
     ]
    },
    {
     "name": "stderr",
     "output_type": "stream",
     "text": [
      "25/08/12 18:42:12 WARN SparkStringUtils: Truncated the string representation of a plan since it was too large. This behavior can be adjusted by setting 'spark.sql.debug.maxToStringFields'.\n"
     ]
    },
    {
     "name": "stdout",
     "output_type": "stream",
     "text": [
      "+----------+----------------+------------------------------------------------------+-------------------------------------------------------+-----------------------+-----------------------+-----------------------+-------------------------+----------------+---------------------+---------------------+------------------+-----------------------------------+---------------------------------------------+-----------------------------------+---------------------------------------------+-----------------------------------+---------------------------------------------+-----------------------------------+---------------------------------------------+-----------------------------------+---------------------------------------------+-----------------------------------+---------------------------------------------+-----------------------------------+---------------------------------------------+-----------------------------------+---------------------------------------------+-----------------------------------+---------------------------------------------+------------------------------------+----------------------------------------------+------------------------------------+----------------------------------------------+------------------------------------+----------------------------------------------+------------------------------------+----------------------------------------------+------------------------------------+----------------------------------------------+------------------------------------+----------------------------------------------+\n",
      "|NPI       |Entity Type Code|Provider Business Practice Location Address State Name|Provider Business Practice Location Address Postal Code|Is Organization Subpart|Parent Organization TIN|Parent Organization LBN|Provider Enumeration Date|Last Update Date|NPI Deactivation Date|NPI Reactivation Date|Is Sole Proprietor|Healthcare Provider Taxonomy Code_1|Healthcare Provider Primary Taxonomy Switch_1|Healthcare Provider Taxonomy Code_2|Healthcare Provider Primary Taxonomy Switch_2|Healthcare Provider Taxonomy Code_3|Healthcare Provider Primary Taxonomy Switch_3|Healthcare Provider Taxonomy Code_4|Healthcare Provider Primary Taxonomy Switch_4|Healthcare Provider Taxonomy Code_5|Healthcare Provider Primary Taxonomy Switch_5|Healthcare Provider Taxonomy Code_6|Healthcare Provider Primary Taxonomy Switch_6|Healthcare Provider Taxonomy Code_7|Healthcare Provider Primary Taxonomy Switch_7|Healthcare Provider Taxonomy Code_8|Healthcare Provider Primary Taxonomy Switch_8|Healthcare Provider Taxonomy Code_9|Healthcare Provider Primary Taxonomy Switch_9|Healthcare Provider Taxonomy Code_10|Healthcare Provider Primary Taxonomy Switch_10|Healthcare Provider Taxonomy Code_11|Healthcare Provider Primary Taxonomy Switch_11|Healthcare Provider Taxonomy Code_12|Healthcare Provider Primary Taxonomy Switch_12|Healthcare Provider Taxonomy Code_13|Healthcare Provider Primary Taxonomy Switch_13|Healthcare Provider Taxonomy Code_14|Healthcare Provider Primary Taxonomy Switch_14|Healthcare Provider Taxonomy Code_15|Healthcare Provider Primary Taxonomy Switch_15|\n",
      "+----------+----------------+------------------------------------------------------+-------------------------------------------------------+-----------------------+-----------------------+-----------------------+-------------------------+----------------+---------------------+---------------------+------------------+-----------------------------------+---------------------------------------------+-----------------------------------+---------------------------------------------+-----------------------------------+---------------------------------------------+-----------------------------------+---------------------------------------------+-----------------------------------+---------------------------------------------+-----------------------------------+---------------------------------------------+-----------------------------------+---------------------------------------------+-----------------------------------+---------------------------------------------+-----------------------------------+---------------------------------------------+------------------------------------+----------------------------------------------+------------------------------------+----------------------------------------------+------------------------------------+----------------------------------------------+------------------------------------+----------------------------------------------+------------------------------------+----------------------------------------------+------------------------------------+----------------------------------------------+\n",
      "|1679576722|1               |NE                                                    |688472944                                              |NULL                   |NULL                   |NULL                   |05/23/2005               |07/08/2007      |NULL                 |NULL                 |X                 |207X00000X                         |Y                                            |NULL                               |NULL                                         |NULL                               |NULL                                         |NULL                               |NULL                                         |NULL                               |NULL                                         |NULL                               |NULL                                         |NULL                               |NULL                                         |NULL                               |NULL                                         |NULL                               |NULL                                         |NULL                                |NULL                                          |NULL                                |NULL                                          |NULL                                |NULL                                          |NULL                                |NULL                                          |NULL                                |NULL                                          |NULL                                |NULL                                          |\n",
      "|1588667638|1               |FL                                                    |322044736                                              |NULL                   |NULL                   |NULL                   |05/23/2005               |05/29/2014      |NULL                 |NULL                 |N                 |207RC0000X                         |Y                                            |207RC0000X                         |N                                            |NULL                               |NULL                                         |NULL                               |NULL                                         |NULL                               |NULL                                         |NULL                               |NULL                                         |NULL                               |NULL                                         |NULL                               |NULL                                         |NULL                               |NULL                                         |NULL                                |NULL                                          |NULL                                |NULL                                          |NULL                                |NULL                                          |NULL                                |NULL                                          |NULL                                |NULL                                          |NULL                                |NULL                                          |\n",
      "|1497758544|2               |NC                                                    |283044552                                              |N                      |NULL                   |NULL                   |05/23/2005               |09/26/2011      |NULL                 |NULL                 |NULL              |251G00000X                         |Y                                            |NULL                               |NULL                                         |NULL                               |NULL                                         |NULL                               |NULL                                         |NULL                               |NULL                                         |NULL                               |NULL                                         |NULL                               |NULL                                         |NULL                               |NULL                                         |NULL                               |NULL                                         |NULL                                |NULL                                          |NULL                                |NULL                                          |NULL                                |NULL                                          |NULL                                |NULL                                          |NULL                                |NULL                                          |NULL                                |NULL                                          |\n",
      "|1306849450|NULL            |NULL                                                  |NULL                                                   |NULL                   |NULL                   |NULL                   |NULL                     |NULL            |03/03/2021           |NULL                 |NULL              |NULL                               |NULL                                         |NULL                               |NULL                                         |NULL                               |NULL                                         |NULL                               |NULL                                         |NULL                               |NULL                                         |NULL                               |NULL                                         |NULL                               |NULL                                         |NULL                               |NULL                                         |NULL                               |NULL                                         |NULL                                |NULL                                          |NULL                                |NULL                                          |NULL                                |NULL                                          |NULL                                |NULL                                          |NULL                                |NULL                                          |NULL                                |NULL                                          |\n",
      "|1215930367|1               |TX                                                    |770901243                                              |NULL                   |NULL                   |NULL                   |05/23/2005               |11/25/2014      |NULL                 |NULL                 |N                 |174400000X                         |N                                            |207RH0003X                         |Y                                            |NULL                               |NULL                                         |NULL                               |NULL                                         |NULL                               |NULL                                         |NULL                               |NULL                                         |NULL                               |NULL                                         |NULL                               |NULL                                         |NULL                               |NULL                                         |NULL                                |NULL                                          |NULL                                |NULL                                          |NULL                                |NULL                                          |NULL                                |NULL                                          |NULL                                |NULL                                          |NULL                                |NULL                                          |\n",
      "+----------+----------------+------------------------------------------------------+-------------------------------------------------------+-----------------------+-----------------------+-----------------------+-------------------------+----------------+---------------------+---------------------+------------------+-----------------------------------+---------------------------------------------+-----------------------------------+---------------------------------------------+-----------------------------------+---------------------------------------------+-----------------------------------+---------------------------------------------+-----------------------------------+---------------------------------------------+-----------------------------------+---------------------------------------------+-----------------------------------+---------------------------------------------+-----------------------------------+---------------------------------------------+-----------------------------------+---------------------------------------------+------------------------------------+----------------------------------------------+------------------------------------+----------------------------------------------+------------------------------------+----------------------------------------------+------------------------------------+----------------------------------------------+------------------------------------+----------------------------------------------+------------------------------------+----------------------------------------------+\n",
      "\n"
     ]
    }
   ],
   "source": [
    "# having a sanity check to ensure I loaded the right columns, the correct types, and the data looks okay\n",
    "print(\"Schema:\")\n",
    "npi_df.printSchema()\n",
    "print(\"Sample:\")\n",
    "npi_df.limit(5).show(truncate=False)"
   ]
  },
  {
   "cell_type": "code",
   "execution_count": 10,
   "id": "cecf6e6b",
   "metadata": {},
   "outputs": [
    {
     "name": "stderr",
     "output_type": "stream",
     "text": [
      "[Stage 2:==================================================>      (72 + 8) / 81]\r"
     ]
    },
    {
     "name": "stdout",
     "output_type": "stream",
     "text": [
      "Total rows: 9026996\n"
     ]
    },
    {
     "name": "stderr",
     "output_type": "stream",
     "text": [
      "                                                                                \r"
     ]
    }
   ],
   "source": [
    "# getting the total number of rows in the DataFrame\n",
    "total_rows = npi_df.count()\n",
    "print(f'Total rows: {total_rows}')"
   ]
  },
  {
   "cell_type": "code",
   "execution_count": 11,
   "id": "1fc4437e",
   "metadata": {},
   "outputs": [
    {
     "name": "stderr",
     "output_type": "stream",
     "text": [
      "[Stage 5:========================================================>(80 + 1) / 81]\r"
     ]
    },
    {
     "name": "stdout",
     "output_type": "stream",
     "text": [
      "+---+----------------+------------------------------------------------------+-------------------------------------------------------+-----------------------+-----------------------+-----------------------+-------------------------+----------------+---------------------+---------------------+------------------+-----------------------------------+---------------------------------------------+-----------------------------------+---------------------------------------------+-----------------------------------+---------------------------------------------+-----------------------------------+---------------------------------------------+-----------------------------------+---------------------------------------------+-----------------------------------+---------------------------------------------+-----------------------------------+---------------------------------------------+-----------------------------------+---------------------------------------------+-----------------------------------+---------------------------------------------+------------------------------------+----------------------------------------------+------------------------------------+----------------------------------------------+------------------------------------+----------------------------------------------+------------------------------------+----------------------------------------------+------------------------------------+----------------------------------------------+------------------------------------+----------------------------------------------+\n",
      "|NPI|Entity Type Code|Provider Business Practice Location Address State Name|Provider Business Practice Location Address Postal Code|Is Organization Subpart|Parent Organization TIN|Parent Organization LBN|Provider Enumeration Date|Last Update Date|NPI Deactivation Date|NPI Reactivation Date|Is Sole Proprietor|Healthcare Provider Taxonomy Code_1|Healthcare Provider Primary Taxonomy Switch_1|Healthcare Provider Taxonomy Code_2|Healthcare Provider Primary Taxonomy Switch_2|Healthcare Provider Taxonomy Code_3|Healthcare Provider Primary Taxonomy Switch_3|Healthcare Provider Taxonomy Code_4|Healthcare Provider Primary Taxonomy Switch_4|Healthcare Provider Taxonomy Code_5|Healthcare Provider Primary Taxonomy Switch_5|Healthcare Provider Taxonomy Code_6|Healthcare Provider Primary Taxonomy Switch_6|Healthcare Provider Taxonomy Code_7|Healthcare Provider Primary Taxonomy Switch_7|Healthcare Provider Taxonomy Code_8|Healthcare Provider Primary Taxonomy Switch_8|Healthcare Provider Taxonomy Code_9|Healthcare Provider Primary Taxonomy Switch_9|Healthcare Provider Taxonomy Code_10|Healthcare Provider Primary Taxonomy Switch_10|Healthcare Provider Taxonomy Code_11|Healthcare Provider Primary Taxonomy Switch_11|Healthcare Provider Taxonomy Code_12|Healthcare Provider Primary Taxonomy Switch_12|Healthcare Provider Taxonomy Code_13|Healthcare Provider Primary Taxonomy Switch_13|Healthcare Provider Taxonomy Code_14|Healthcare Provider Primary Taxonomy Switch_14|Healthcare Provider Taxonomy Code_15|Healthcare Provider Primary Taxonomy Switch_15|\n",
      "+---+----------------+------------------------------------------------------+-------------------------------------------------------+-----------------------+-----------------------+-----------------------+-------------------------+----------------+---------------------+---------------------+------------------+-----------------------------------+---------------------------------------------+-----------------------------------+---------------------------------------------+-----------------------------------+---------------------------------------------+-----------------------------------+---------------------------------------------+-----------------------------------+---------------------------------------------+-----------------------------------+---------------------------------------------+-----------------------------------+---------------------------------------------+-----------------------------------+---------------------------------------------+-----------------------------------+---------------------------------------------+------------------------------------+----------------------------------------------+------------------------------------+----------------------------------------------+------------------------------------+----------------------------------------------+------------------------------------+----------------------------------------------+------------------------------------+----------------------------------------------+------------------------------------+----------------------------------------------+\n",
      "|  0|          314026|                                                314028|                                                 314034|                7195283|                8876636|                8876741|                   314026|          314026|              8696420|              9010442|           2145739|                             314042|                                       314042|                            7359682|                                      7359682|                            8529876|                                      8529876|                            8847202|                                      8847202|                            8941274|                                      8941274|                            8980653|                                      8980653|                            8996903|                                      8996903|                            9005860|                                      9005860|                            9011666|                                      9011666|                             9015468|                                       9015468|                             9018074|                                       9018074|                             9019893|                                       9019893|                             9021373|                                       9021373|                             9022518|                                       9022518|                             9023815|                                       9023815|\n",
      "+---+----------------+------------------------------------------------------+-------------------------------------------------------+-----------------------+-----------------------+-----------------------+-------------------------+----------------+---------------------+---------------------+------------------+-----------------------------------+---------------------------------------------+-----------------------------------+---------------------------------------------+-----------------------------------+---------------------------------------------+-----------------------------------+---------------------------------------------+-----------------------------------+---------------------------------------------+-----------------------------------+---------------------------------------------+-----------------------------------+---------------------------------------------+-----------------------------------+---------------------------------------------+-----------------------------------+---------------------------------------------+------------------------------------+----------------------------------------------+------------------------------------+----------------------------------------------+------------------------------------+----------------------------------------------+------------------------------------+----------------------------------------------+------------------------------------+----------------------------------------------+------------------------------------+----------------------------------------------+\n",
      "\n"
     ]
    },
    {
     "name": "stderr",
     "output_type": "stream",
     "text": [
      "                                                                                \r"
     ]
    }
   ],
   "source": [
    "# getting the null counts for each column\n",
    "npi_df.select(\n",
    "    *[\n",
    "        sum_(col(c).isNull().cast('int')).alias(c) for c in npi_df.columns\n",
    "    ]\n",
    ").show()"
   ]
  },
  {
   "cell_type": "code",
   "execution_count": 12,
   "id": "df5c390d",
   "metadata": {},
   "outputs": [],
   "source": [
    "# comoputing normalized names and checking for collisions\n",
    "# checking for collisions as I don't want to accidently end up with two originals mapping to the same cleaned name\n",
    "\n",
    "# applying the normalized names to every column I plan to keep\n",
    "cleaned_names = []\n",
    "for original_name in keep_cols_npi:\n",
    "    new_name = normalize_col(original_name)\n",
    "    cleaned_names.append(new_name)\n",
    "\n",
    "# counting how many times each cleaned name shows up\n",
    "name_counts = Counter(cleaned_names)\n",
    "\n",
    "# pulling out any names that show up more than once\n",
    "duplicates = [name for name, count in name_counts.items() if count > 1]\n",
    "\n",
    "# bailing out early, if a coliision is detected\n",
    "if duplicates:\n",
    "    raise RuntimeError(f'Column name conflict after normalization: {duplicates}')"
   ]
  },
  {
   "cell_type": "code",
   "execution_count": 13,
   "id": "e4b3e464",
   "metadata": {},
   "outputs": [],
   "source": [
    "# building a new DataFrame with normalized column names\n",
    "\n",
    "# building a list of expressions to rename the columns in the DataFrame\n",
    "renamed_columns = [\n",
    "    col(old).alias(new)\n",
    "    for old, new in zip(keep_cols_npi, cleaned_names)\n",
    "]\n",
    "\n",
    "# applying \n",
    "normalized_npi_df = npi_df.select(*renamed_columns)"
   ]
  },
  {
   "cell_type": "code",
   "execution_count": 14,
   "id": "9186d04e",
   "metadata": {},
   "outputs": [
    {
     "name": "stdout",
     "output_type": "stream",
     "text": [
      "root\n",
      " |-- npi: string (nullable = true)\n",
      " |-- entity_type_code: string (nullable = true)\n",
      " |-- provider_business_practice_location_address_state_name: string (nullable = true)\n",
      " |-- provider_business_practice_location_address_postal_code: string (nullable = true)\n",
      " |-- is_organization_subpart: string (nullable = true)\n",
      " |-- parent_organization_tin: string (nullable = true)\n",
      " |-- parent_organization_lbn: string (nullable = true)\n",
      " |-- provider_enumeration_date: string (nullable = true)\n",
      " |-- last_update_date: string (nullable = true)\n",
      " |-- npi_deactivation_date: string (nullable = true)\n",
      " |-- npi_reactivation_date: string (nullable = true)\n",
      " |-- is_sole_proprietor: string (nullable = true)\n",
      " |-- healthcare_provider_taxonomy_code_1: string (nullable = true)\n",
      " |-- healthcare_provider_primary_taxonomy_switch_1: string (nullable = true)\n",
      " |-- healthcare_provider_taxonomy_code_2: string (nullable = true)\n",
      " |-- healthcare_provider_primary_taxonomy_switch_2: string (nullable = true)\n",
      " |-- healthcare_provider_taxonomy_code_3: string (nullable = true)\n",
      " |-- healthcare_provider_primary_taxonomy_switch_3: string (nullable = true)\n",
      " |-- healthcare_provider_taxonomy_code_4: string (nullable = true)\n",
      " |-- healthcare_provider_primary_taxonomy_switch_4: string (nullable = true)\n",
      " |-- healthcare_provider_taxonomy_code_5: string (nullable = true)\n",
      " |-- healthcare_provider_primary_taxonomy_switch_5: string (nullable = true)\n",
      " |-- healthcare_provider_taxonomy_code_6: string (nullable = true)\n",
      " |-- healthcare_provider_primary_taxonomy_switch_6: string (nullable = true)\n",
      " |-- healthcare_provider_taxonomy_code_7: string (nullable = true)\n",
      " |-- healthcare_provider_primary_taxonomy_switch_7: string (nullable = true)\n",
      " |-- healthcare_provider_taxonomy_code_8: string (nullable = true)\n",
      " |-- healthcare_provider_primary_taxonomy_switch_8: string (nullable = true)\n",
      " |-- healthcare_provider_taxonomy_code_9: string (nullable = true)\n",
      " |-- healthcare_provider_primary_taxonomy_switch_9: string (nullable = true)\n",
      " |-- healthcare_provider_taxonomy_code_10: string (nullable = true)\n",
      " |-- healthcare_provider_primary_taxonomy_switch_10: string (nullable = true)\n",
      " |-- healthcare_provider_taxonomy_code_11: string (nullable = true)\n",
      " |-- healthcare_provider_primary_taxonomy_switch_11: string (nullable = true)\n",
      " |-- healthcare_provider_taxonomy_code_12: string (nullable = true)\n",
      " |-- healthcare_provider_primary_taxonomy_switch_12: string (nullable = true)\n",
      " |-- healthcare_provider_taxonomy_code_13: string (nullable = true)\n",
      " |-- healthcare_provider_primary_taxonomy_switch_13: string (nullable = true)\n",
      " |-- healthcare_provider_taxonomy_code_14: string (nullable = true)\n",
      " |-- healthcare_provider_primary_taxonomy_switch_14: string (nullable = true)\n",
      " |-- healthcare_provider_taxonomy_code_15: string (nullable = true)\n",
      " |-- healthcare_provider_primary_taxonomy_switch_15: string (nullable = true)\n",
      "\n",
      "+----------+----------------+------------------------------------------------------+-------------------------------------------------------+-----------------------+-----------------------+-----------------------+-------------------------+----------------+---------------------+---------------------+------------------+-----------------------------------+---------------------------------------------+-----------------------------------+---------------------------------------------+-----------------------------------+---------------------------------------------+-----------------------------------+---------------------------------------------+-----------------------------------+---------------------------------------------+-----------------------------------+---------------------------------------------+-----------------------------------+---------------------------------------------+-----------------------------------+---------------------------------------------+-----------------------------------+---------------------------------------------+------------------------------------+----------------------------------------------+------------------------------------+----------------------------------------------+------------------------------------+----------------------------------------------+------------------------------------+----------------------------------------------+------------------------------------+----------------------------------------------+------------------------------------+----------------------------------------------+\n",
      "|npi       |entity_type_code|provider_business_practice_location_address_state_name|provider_business_practice_location_address_postal_code|is_organization_subpart|parent_organization_tin|parent_organization_lbn|provider_enumeration_date|last_update_date|npi_deactivation_date|npi_reactivation_date|is_sole_proprietor|healthcare_provider_taxonomy_code_1|healthcare_provider_primary_taxonomy_switch_1|healthcare_provider_taxonomy_code_2|healthcare_provider_primary_taxonomy_switch_2|healthcare_provider_taxonomy_code_3|healthcare_provider_primary_taxonomy_switch_3|healthcare_provider_taxonomy_code_4|healthcare_provider_primary_taxonomy_switch_4|healthcare_provider_taxonomy_code_5|healthcare_provider_primary_taxonomy_switch_5|healthcare_provider_taxonomy_code_6|healthcare_provider_primary_taxonomy_switch_6|healthcare_provider_taxonomy_code_7|healthcare_provider_primary_taxonomy_switch_7|healthcare_provider_taxonomy_code_8|healthcare_provider_primary_taxonomy_switch_8|healthcare_provider_taxonomy_code_9|healthcare_provider_primary_taxonomy_switch_9|healthcare_provider_taxonomy_code_10|healthcare_provider_primary_taxonomy_switch_10|healthcare_provider_taxonomy_code_11|healthcare_provider_primary_taxonomy_switch_11|healthcare_provider_taxonomy_code_12|healthcare_provider_primary_taxonomy_switch_12|healthcare_provider_taxonomy_code_13|healthcare_provider_primary_taxonomy_switch_13|healthcare_provider_taxonomy_code_14|healthcare_provider_primary_taxonomy_switch_14|healthcare_provider_taxonomy_code_15|healthcare_provider_primary_taxonomy_switch_15|\n",
      "+----------+----------------+------------------------------------------------------+-------------------------------------------------------+-----------------------+-----------------------+-----------------------+-------------------------+----------------+---------------------+---------------------+------------------+-----------------------------------+---------------------------------------------+-----------------------------------+---------------------------------------------+-----------------------------------+---------------------------------------------+-----------------------------------+---------------------------------------------+-----------------------------------+---------------------------------------------+-----------------------------------+---------------------------------------------+-----------------------------------+---------------------------------------------+-----------------------------------+---------------------------------------------+-----------------------------------+---------------------------------------------+------------------------------------+----------------------------------------------+------------------------------------+----------------------------------------------+------------------------------------+----------------------------------------------+------------------------------------+----------------------------------------------+------------------------------------+----------------------------------------------+------------------------------------+----------------------------------------------+\n",
      "|1679576722|1               |NE                                                    |688472944                                              |NULL                   |NULL                   |NULL                   |05/23/2005               |07/08/2007      |NULL                 |NULL                 |X                 |207X00000X                         |Y                                            |NULL                               |NULL                                         |NULL                               |NULL                                         |NULL                               |NULL                                         |NULL                               |NULL                                         |NULL                               |NULL                                         |NULL                               |NULL                                         |NULL                               |NULL                                         |NULL                               |NULL                                         |NULL                                |NULL                                          |NULL                                |NULL                                          |NULL                                |NULL                                          |NULL                                |NULL                                          |NULL                                |NULL                                          |NULL                                |NULL                                          |\n",
      "|1588667638|1               |FL                                                    |322044736                                              |NULL                   |NULL                   |NULL                   |05/23/2005               |05/29/2014      |NULL                 |NULL                 |N                 |207RC0000X                         |Y                                            |207RC0000X                         |N                                            |NULL                               |NULL                                         |NULL                               |NULL                                         |NULL                               |NULL                                         |NULL                               |NULL                                         |NULL                               |NULL                                         |NULL                               |NULL                                         |NULL                               |NULL                                         |NULL                                |NULL                                          |NULL                                |NULL                                          |NULL                                |NULL                                          |NULL                                |NULL                                          |NULL                                |NULL                                          |NULL                                |NULL                                          |\n",
      "|1497758544|2               |NC                                                    |283044552                                              |N                      |NULL                   |NULL                   |05/23/2005               |09/26/2011      |NULL                 |NULL                 |NULL              |251G00000X                         |Y                                            |NULL                               |NULL                                         |NULL                               |NULL                                         |NULL                               |NULL                                         |NULL                               |NULL                                         |NULL                               |NULL                                         |NULL                               |NULL                                         |NULL                               |NULL                                         |NULL                               |NULL                                         |NULL                                |NULL                                          |NULL                                |NULL                                          |NULL                                |NULL                                          |NULL                                |NULL                                          |NULL                                |NULL                                          |NULL                                |NULL                                          |\n",
      "|1306849450|NULL            |NULL                                                  |NULL                                                   |NULL                   |NULL                   |NULL                   |NULL                     |NULL            |03/03/2021           |NULL                 |NULL              |NULL                               |NULL                                         |NULL                               |NULL                                         |NULL                               |NULL                                         |NULL                               |NULL                                         |NULL                               |NULL                                         |NULL                               |NULL                                         |NULL                               |NULL                                         |NULL                               |NULL                                         |NULL                               |NULL                                         |NULL                                |NULL                                          |NULL                                |NULL                                          |NULL                                |NULL                                          |NULL                                |NULL                                          |NULL                                |NULL                                          |NULL                                |NULL                                          |\n",
      "|1215930367|1               |TX                                                    |770901243                                              |NULL                   |NULL                   |NULL                   |05/23/2005               |11/25/2014      |NULL                 |NULL                 |N                 |174400000X                         |N                                            |207RH0003X                         |Y                                            |NULL                               |NULL                                         |NULL                               |NULL                                         |NULL                               |NULL                                         |NULL                               |NULL                                         |NULL                               |NULL                                         |NULL                               |NULL                                         |NULL                               |NULL                                         |NULL                                |NULL                                          |NULL                                |NULL                                          |NULL                                |NULL                                          |NULL                                |NULL                                          |NULL                                |NULL                                          |NULL                                |NULL                                          |\n",
      "+----------+----------------+------------------------------------------------------+-------------------------------------------------------+-----------------------+-----------------------+-----------------------+-------------------------+----------------+---------------------+---------------------+------------------+-----------------------------------+---------------------------------------------+-----------------------------------+---------------------------------------------+-----------------------------------+---------------------------------------------+-----------------------------------+---------------------------------------------+-----------------------------------+---------------------------------------------+-----------------------------------+---------------------------------------------+-----------------------------------+---------------------------------------------+-----------------------------------+---------------------------------------------+-----------------------------------+---------------------------------------------+------------------------------------+----------------------------------------------+------------------------------------+----------------------------------------------+------------------------------------+----------------------------------------------+------------------------------------+----------------------------------------------+------------------------------------+----------------------------------------------+------------------------------------+----------------------------------------------+\n",
      "only showing top 5 rows\n"
     ]
    }
   ],
   "source": [
    "# doing a quick sanity check to ensure the new DataFrame has the correct columns\n",
    "normalized_npi_df.printSchema()\n",
    "normalized_npi_df.show(5, truncate=False)"
   ]
  },
  {
   "cell_type": "code",
   "execution_count": null,
   "id": "8aaf2ccd",
   "metadata": {},
   "outputs": [],
   "source": [
    "# casting and standardizing the data types\n",
    "clean = (normalized_npi_df\n",
    "         \n",
    "    # trimming the stray spaces so joins/comparisons work correctly\n",
    "    .withColumn(\"npi\", trim(col(\"npi\")))\n",
    "    .withColumn(\"npi\", regexp_replace(col(\"npi\"), r\"\\D\", \"\"))\n",
    "    .withColumn(\"entity_type_code\", col(\"entity_type_code\").cast(\"int\"))\n",
    "\n",
    "    # mapping yes/no to 1/0\n",
    "    .withColumn(\"is_organization_subpart\", when(col(\"is_organization_subpart\") == \"Y\", 1).otherwise(0))\n",
    "\n",
    "    # is_sole_proprietor: only meaningful for individuals (entity_type_code==1)\n",
    "    # Y->1, N->0, anything else (incl. X) -> null; orgs -> null\n",
    "    .withColumn(\"is_sole_proprietor_raw\", upper(trim(col(\"is_sole_proprietor\"))))\n",
    "    .withColumn(\n",
    "        \"is_sole_proprietor\",\n",
    "        when(col(\"entity_type_code\") == 1,\n",
    "             when(col(\"is_sole_proprietor_raw\") == \"Y\", 1)\n",
    "            .when(col(\"is_sole_proprietor_raw\") == \"N\", 0)\n",
    "            .otherwise(None)\n",
    "        ).otherwise(None)\n",
    "    ).drop(\"is_sole_proprietor_raw\")\n",
    "\n",
    "    # parse dates strings into real Date columns\n",
    "    .withColumn(\"provider_enumeration_date\", to_date(col(\"provider_enumeration_date\"), \"MM/dd/yyyy\"))\n",
    "    .withColumn(\"last_update_date\", to_date(col(\"last_update_date\"), \"MM/dd/yyyy\"))\n",
    "    .withColumn(\"npi_deactivation_date\", to_date(col(\"npi_deactivation_date\"), \"MM/dd/yyyy\"))\n",
    "    .withColumn(\"npi_reactivation_date\", to_date(col(\"npi_reactivation_date\"), \"MM/dd/yyyy\"))\n",
    ")"
   ]
  },
  {
   "cell_type": "code",
   "execution_count": 16,
   "id": "1f965199",
   "metadata": {},
   "outputs": [],
   "source": [
    "# normalizing ZIP & TIN\n",
    "\n",
    "# creating a zip5 with just the first 5 digits of the postal code column\n",
    "clean = clean.withColumn(\n",
    "    \"zip5\",\n",
    "    substring(regexp_replace(col(\"provider_business_practice_location_address_postal_code\"), r\"[^0-9]\", \"\"), 1, 5)\n",
    ")\n",
    "\n",
    "# normalizing state names to 2-letter codes\n",
    "clean = clean.withColumn(\n",
    "    \"state_abbr\",\n",
    "    when(col(\"provider_business_practice_location_address_state_name\").rlike(r\"^[A-Za-z]{2}$\"),\n",
    "         upper(col(\"provider_business_practice_location_address_state_name\"))\n",
    "    )\n",
    "    .otherwise(None)   # optional: keep None if it's a full name or messy\n",
    ")\n",
    "\n",
    "# stripping non-digits from TIN for consistent grouping\n",
    "clean = (clean\n",
    "    .withColumn(\"parent_org_tin_norm\", regexp_replace(col(\"parent_organization_tin\"), r\"\\D\", \"\"))\n",
    ")\n"
   ]
  },
  {
   "cell_type": "code",
   "execution_count": 17,
   "id": "21d4c7fd",
   "metadata": {},
   "outputs": [],
   "source": [
    "# primary taxonomy extraction with nuance\n",
    "\n",
    "# NPPES has 15 slots so building an expression that picks the code where the corresponding switch is \"Y\"\n",
    "explicit_expr = None\n",
    "for i in range(1, 16):\n",
    "    sw = f\"healthcare_provider_primary_taxonomy_switch_{i}\"\n",
    "    cd = f\"healthcare_provider_taxonomy_code_{i}\"\n",
    "    condY = (col(sw) == \"Y\") & col(cd).isNotNull()\n",
    "    explicit_expr = when(condY, col(cd)) if explicit_expr is None else explicit_expr.when(condY, col(cd))\n",
    "\n",
    "# first non-null taxonomy code across all slots (for fallback)\n",
    "code_cols = [col(f\"healthcare_provider_taxonomy_code_{i}\") for i in range(1, 16)]\n",
    "first_code = coalesce(*code_cols)\n",
    "\n",
    "# any 'X' present across switches? (for your \"unknown → fallback\" behavior)\n",
    "any_x = None\n",
    "for i in range(1, 16):\n",
    "    sw = f\"healthcare_provider_primary_taxonomy_switch_{i}\"\n",
    "    condX = (col(sw) == \"X\")\n",
    "    any_x = condX if any_x is None else (any_x | condX)\n",
    "\n",
    "clean = (clean\n",
    "    .withColumn(\n",
    "        \"primary_taxonomy\",\n",
    "        when(explicit_expr.isNotNull(), explicit_expr)\n",
    "        .when(any_x & first_code.isNotNull(), first_code)   # your fallback rule\n",
    "        .otherwise(lit(None))\n",
    "    )\n",
    "    .withColumn(\n",
    "        \"primary_taxonomy_explicit\",\n",
    "        when(explicit_expr.isNotNull(), lit(1)).otherwise(lit(0))\n",
    "    )\n",
    "    .withColumn(\n",
    "        \"primary_taxonomy_unknown\",\n",
    "        when(explicit_expr.isNull() & any_x, lit(1)).otherwise(lit(0))\n",
    "    )\n",
    "    .withColumn(\n",
    "        \"primary_taxonomy_source\",\n",
    "        when(explicit_expr.isNotNull(), lit(\"explicit\"))\n",
    "        .when(any_x & first_code.isNotNull(), lit(\"fallback\"))\n",
    "        .otherwise(lit(None))\n",
    "    )\n",
    ")\n"
   ]
  },
  {
   "cell_type": "code",
   "execution_count": null,
   "id": "2ebde0ae",
   "metadata": {},
   "outputs": [],
   "source": [
    "# lifecycle / derived features\n",
    "clean = (clean\n",
    "    # this will show how many days since the Provider first got their NPI\n",
    "    .withColumn(\n",
    "        \"npi_age_days\", datediff(current_date(), col(\"provider_enumeration_date\")))\n",
    "\n",
    "    # this will show if the NPI is 'active' today...\n",
    "    # if there's no deactivation date -> it's active\n",
    "    # or if the Provider was deactivated and then reactivated after the deactivation date -> it's active\n",
    "    .withColumn(\n",
    "        \"is_active\",\n",
    "        when(\n",
    "            (col(\"npi_deactivation_date\").isNull()) |\n",
    "            ((col(\"npi_reactivation_date\").isNotNull()) & (col(\"npi_reactivation_date\") >= col(\"npi_deactivation_date\"))),\n",
    "            lit(1)\n",
    "        ).otherwise(lit(0))\n",
    "    )\n",
    "\n",
    "    # this will show if a Provider was deactivated and then reactivated at some point\n",
    "    .withColumn(\"was_reactivated\", when(col(\"npi_reactivation_date\").isNotNull(), 1).otherwise(0))\n",
    "    .withColumn(\n",
    "        \"deactivated_then_reactivated\",\n",
    "        when((col(\"npi_deactivation_date\").isNotNull()) & (col(\"npi_reactivation_date\").isNotNull()), 1).otherwise(0)\n",
    "    )\n",
    "\n",
    "    # this will show if there are any location info (ex. if state field is not null)\n",
    "    .withColumn(\n",
    "        \"has_location\",\n",
    "        when(col(\"state_abbr\").isNotNull(), 1).otherwise(0)\n",
    ")\n",
    "\n",
    "    # this will show if the entity type code is missing\n",
    "    .withColumn(\n",
    "        \"missing_entity_type\",\n",
    "        when(col(\"entity_type_code\").isNull(), 1).otherwise(0)\n",
    "    )\n",
    ")\n",
    "\n"
   ]
  },
  {
   "cell_type": "code",
   "execution_count": null,
   "id": "47fca30e",
   "metadata": {},
   "outputs": [
    {
     "name": "stdout",
     "output_type": "stream",
     "text": [
      "primary_taxonomy present? True\n"
     ]
    }
   ],
   "source": [
    "# ensuring 'primary_taxonomy' exists using whatever slots are present\n",
    "\n",
    "slots = []\n",
    "for i in range(1, 16):\n",
    "    sw = f\"healthcare_provider_primary_taxonomy_switch_{i}\"\n",
    "    cd = f\"healthcare_provider_taxonomy_code_{i}\"\n",
    "    if sw in clean.columns and cd in clean.columns:\n",
    "        slots.append((sw, cd))\n",
    "\n",
    "if \"primary_taxonomy\" not in clean.columns:\n",
    "    if slots:\n",
    "        explicit = None\n",
    "        for sw, cd in slots:\n",
    "            cond = (col(sw) == \"Y\") & col(cd).isNotNull()\n",
    "            explicit = when(cond, col(cd)) if explicit is None else explicit.when(cond, col(cd))\n",
    "\n",
    "        code_any = None\n",
    "        for _, cd in slots:\n",
    "            code_any = col(cd) if code_any is None else coalesce(code_any, col(cd))\n",
    "\n",
    "        any_x = None\n",
    "        for sw, _ in slots:\n",
    "            any_x = (col(sw) == \"X\") if any_x is None else (any_x | (col(sw) == \"X\"))\n",
    "\n",
    "        clean = clean.withColumn(\n",
    "            \"primary_taxonomy\",\n",
    "            when(explicit.isNotNull(), explicit)\n",
    "            .when(any_x & code_any.isNotNull(), code_any)\n",
    "            .otherwise(lit(None))\n",
    "        )\n",
    "    else:\n",
    "        clean = clean.withColumn(\"primary_taxonomy\", lit(None).cast(\"string\"))\n",
    "\n",
    "# dropping raw taxonomy slot columns\n",
    "slot_cols = [c for c in clean.columns\n",
    "             if c.startswith(\"healthcare_provider_taxonomy_code_\")\n",
    "             or c.startswith(\"healthcare_provider_primary_taxonomy_switch_\")]\n",
    "clean = clean.drop(*slot_cols)\n",
    "\n",
    "\n",
    "# building a fallback 'any taxonomy code' for completeness scoring\n",
    "code_any = None\n",
    "for i in range(1, 16):\n",
    "    cd = f\"healthcare_provider_taxonomy_code_{i}\"\n",
    "    if cd in clean.columns:\n",
    "        code_any = col(cd) if code_any is None else coalesce(code_any, col(cd))\n",
    "if code_any is None:\n",
    "    code_any = lit(None)\n",
    "\n",
    "# computing completeness_score\n",
    "clean = clean.withColumn(\n",
    "    \"completeness_score\",\n",
    "    (when(coalesce(col(\"primary_taxonomy\"), code_any).isNotNull(), 1).otherwise(0)\n",
    "     + when(col(\"provider_business_practice_location_address_state_name\").isNotNull(), 1).otherwise(0)\n",
    "     + when(col(\"provider_enumeration_date\").isNotNull(), 1).otherwise(0)\n",
    "     + when(col(\"entity_type_code\").isNotNull(), 1).otherwise(0))\n",
    ")\n",
    "\n",
    "\n",
    "# Quick sanity\n",
    "print(\"primary_taxonomy present?\", \"primary_taxonomy\" in clean.columns)"
   ]
  },
  {
   "cell_type": "code",
   "execution_count": null,
   "id": "7bad361b",
   "metadata": {},
   "outputs": [
    {
     "name": "stderr",
     "output_type": "stream",
     "text": [
      "[Stage 9:========================================================>(80 + 1) / 81]\r"
     ]
    },
    {
     "name": "stdout",
     "output_type": "stream",
     "text": [
      "Invalid NPIs found: 0\n"
     ]
    },
    {
     "name": "stderr",
     "output_type": "stream",
     "text": [
      "                                                                                \r"
     ]
    }
   ],
   "source": [
    "# validating the NPIs, they should be 10 digits long\n",
    "npi_regex = r'^\\d{10}$'\n",
    "expected_npi_count = npi_regex\n",
    "\n",
    "# counting how many NPIs are malformed\n",
    "invalid_npi_count = (\n",
    "    clean.filter(~col(\"npi\").rlike(expected_npi_count))\n",
    "    .count()\n",
    ")\n",
    "\n",
    "print(f\"Invalid NPIs found: {invalid_npi_count}\")"
   ]
  },
  {
   "cell_type": "code",
   "execution_count": 21,
   "id": "f824c3c0",
   "metadata": {},
   "outputs": [],
   "source": [
    "# deduplicating based off of latest \"last_update_date\" and then highest completeness score\n",
    "w = Window.partitionBy(\"npi\").orderBy(col(\"last_update_date\").desc_nulls_last(), col(\"completeness_score\").desc())\n",
    "wrangled_npi_df = (\n",
    "    clean\n",
    "    .withColumn(\"rn\", row_number().over(w))\n",
    "    .filter(col(\"rn\") == 1)\n",
    "    .drop(\"rn\")\n",
    ")"
   ]
  },
  {
   "cell_type": "code",
   "execution_count": 22,
   "id": "6e44e4a0",
   "metadata": {},
   "outputs": [
    {
     "name": "stdout",
     "output_type": "stream",
     "text": [
      "['completeness_score', 'deactivated_then_reactivated', 'entity_type_code', 'has_location', 'healthcare_provider_primary_taxonomy_switch_1', 'healthcare_provider_primary_taxonomy_switch_10', 'healthcare_provider_primary_taxonomy_switch_11', 'healthcare_provider_primary_taxonomy_switch_12', 'healthcare_provider_primary_taxonomy_switch_13', 'healthcare_provider_primary_taxonomy_switch_14', 'healthcare_provider_primary_taxonomy_switch_15', 'healthcare_provider_primary_taxonomy_switch_2', 'healthcare_provider_primary_taxonomy_switch_3', 'healthcare_provider_primary_taxonomy_switch_4', 'healthcare_provider_primary_taxonomy_switch_5', 'healthcare_provider_primary_taxonomy_switch_6', 'healthcare_provider_primary_taxonomy_switch_7', 'healthcare_provider_primary_taxonomy_switch_8', 'healthcare_provider_primary_taxonomy_switch_9', 'healthcare_provider_taxonomy_code_1', 'healthcare_provider_taxonomy_code_10', 'healthcare_provider_taxonomy_code_11', 'healthcare_provider_taxonomy_code_12', 'healthcare_provider_taxonomy_code_13', 'healthcare_provider_taxonomy_code_14', 'healthcare_provider_taxonomy_code_15', 'healthcare_provider_taxonomy_code_2', 'healthcare_provider_taxonomy_code_3', 'healthcare_provider_taxonomy_code_4', 'healthcare_provider_taxonomy_code_5', 'healthcare_provider_taxonomy_code_6', 'healthcare_provider_taxonomy_code_7', 'healthcare_provider_taxonomy_code_8', 'healthcare_provider_taxonomy_code_9', 'is_active', 'is_organization_subpart', 'is_sole_proprietor', 'last_update_date', 'missing_entity_type', 'npi', 'npi_age_days', 'npi_deactivation_date', 'npi_reactivation_date', 'parent_org_tin_norm', 'parent_organization_lbn', 'parent_organization_tin', 'primary_taxonomy', 'primary_taxonomy_explicit', 'primary_taxonomy_source', 'primary_taxonomy_unknown', 'provider_business_practice_location_address_postal_code', 'provider_business_practice_location_address_state_name', 'provider_enumeration_date', 'state_abbr', 'was_reactivated', 'zip5']\n",
      "['completeness_score', 'deactivated_then_reactivated', 'entity_type_code', 'has_location', 'healthcare_provider_primary_taxonomy_switch_1', 'healthcare_provider_primary_taxonomy_switch_10', 'healthcare_provider_primary_taxonomy_switch_11', 'healthcare_provider_primary_taxonomy_switch_12', 'healthcare_provider_primary_taxonomy_switch_13', 'healthcare_provider_primary_taxonomy_switch_14', 'healthcare_provider_primary_taxonomy_switch_15', 'healthcare_provider_primary_taxonomy_switch_2', 'healthcare_provider_primary_taxonomy_switch_3', 'healthcare_provider_primary_taxonomy_switch_4', 'healthcare_provider_primary_taxonomy_switch_5', 'healthcare_provider_primary_taxonomy_switch_6', 'healthcare_provider_primary_taxonomy_switch_7', 'healthcare_provider_primary_taxonomy_switch_8', 'healthcare_provider_primary_taxonomy_switch_9', 'healthcare_provider_taxonomy_code_1', 'healthcare_provider_taxonomy_code_10', 'healthcare_provider_taxonomy_code_11', 'healthcare_provider_taxonomy_code_12', 'healthcare_provider_taxonomy_code_13', 'healthcare_provider_taxonomy_code_14', 'healthcare_provider_taxonomy_code_15', 'healthcare_provider_taxonomy_code_2', 'healthcare_provider_taxonomy_code_3', 'healthcare_provider_taxonomy_code_4', 'healthcare_provider_taxonomy_code_5', 'healthcare_provider_taxonomy_code_6', 'healthcare_provider_taxonomy_code_7', 'healthcare_provider_taxonomy_code_8', 'healthcare_provider_taxonomy_code_9', 'is_active', 'is_organization_subpart', 'is_sole_proprietor', 'last_update_date', 'missing_entity_type', 'npi', 'npi_age_days', 'npi_deactivation_date', 'npi_reactivation_date', 'parent_org_tin_norm', 'parent_organization_lbn', 'parent_organization_tin', 'primary_taxonomy', 'primary_taxonomy_explicit', 'primary_taxonomy_source', 'primary_taxonomy_unknown', 'provider_business_practice_location_address_postal_code', 'provider_business_practice_location_address_state_name', 'provider_enumeration_date', 'state_abbr', 'was_reactivated', 'zip5']\n"
     ]
    }
   ],
   "source": [
    "# comparing to make sure I have all my changes\n",
    "\n",
    "print(sorted(clean.columns))\n",
    "print(sorted(wrangled_npi_df.columns))"
   ]
  },
  {
   "cell_type": "code",
   "execution_count": null,
   "id": "b32a8393",
   "metadata": {},
   "outputs": [
    {
     "name": "stdout",
     "output_type": "stream",
     "text": [
      "Distinct is_sole_proprietor values:\n"
     ]
    },
    {
     "name": "stderr",
     "output_type": "stream",
     "text": [
      "                                                                                \r"
     ]
    },
    {
     "name": "stdout",
     "output_type": "stream",
     "text": [
      "+------------------+\n",
      "|is_sole_proprietor|\n",
      "+------------------+\n",
      "|                 1|\n",
      "|                 0|\n",
      "|              NULL|\n",
      "+------------------+\n",
      "\n",
      "Primary taxonomy switch distinct modes:\n"
     ]
    },
    {
     "name": "stderr",
     "output_type": "stream",
     "text": [
      "                                                                                \r"
     ]
    },
    {
     "name": "stdout",
     "output_type": "stream",
     "text": [
      "+---------------------------------------------+\n",
      "|healthcare_provider_primary_taxonomy_switch_1|\n",
      "+---------------------------------------------+\n",
      "|                                            Y|\n",
      "|                                            N|\n",
      "|                                            X|\n",
      "|                                         NULL|\n",
      "+---------------------------------------------+\n",
      "\n",
      "Null counts after transformation:\n"
     ]
    },
    {
     "name": "stderr",
     "output_type": "stream",
     "text": [
      "[Stage 26:==========================================>              (9 + 3) / 12]\r"
     ]
    },
    {
     "name": "stdout",
     "output_type": "stream",
     "text": [
      "+---+----------------+------------------------------------------------------+-------------------------------------------------------+-----------------------+-----------------------+-----------------------+-------------------------+----------------+---------------------+---------------------+------------------+-----------------------------------+---------------------------------------------+-----------------------------------+---------------------------------------------+-----------------------------------+---------------------------------------------+-----------------------------------+---------------------------------------------+-----------------------------------+---------------------------------------------+-----------------------------------+---------------------------------------------+-----------------------------------+---------------------------------------------+-----------------------------------+---------------------------------------------+-----------------------------------+---------------------------------------------+------------------------------------+----------------------------------------------+------------------------------------+----------------------------------------------+------------------------------------+----------------------------------------------+------------------------------------+----------------------------------------------+------------------------------------+----------------------------------------------+------------------------------------+----------------------------------------------+------+----------+-------------------+----------------+-------------------------+------------------------+-----------------------+------------+---------+---------------+----------------------------+------------+-------------------+------------------+\n",
      "|npi|entity_type_code|provider_business_practice_location_address_state_name|provider_business_practice_location_address_postal_code|is_organization_subpart|parent_organization_tin|parent_organization_lbn|provider_enumeration_date|last_update_date|npi_deactivation_date|npi_reactivation_date|is_sole_proprietor|healthcare_provider_taxonomy_code_1|healthcare_provider_primary_taxonomy_switch_1|healthcare_provider_taxonomy_code_2|healthcare_provider_primary_taxonomy_switch_2|healthcare_provider_taxonomy_code_3|healthcare_provider_primary_taxonomy_switch_3|healthcare_provider_taxonomy_code_4|healthcare_provider_primary_taxonomy_switch_4|healthcare_provider_taxonomy_code_5|healthcare_provider_primary_taxonomy_switch_5|healthcare_provider_taxonomy_code_6|healthcare_provider_primary_taxonomy_switch_6|healthcare_provider_taxonomy_code_7|healthcare_provider_primary_taxonomy_switch_7|healthcare_provider_taxonomy_code_8|healthcare_provider_primary_taxonomy_switch_8|healthcare_provider_taxonomy_code_9|healthcare_provider_primary_taxonomy_switch_9|healthcare_provider_taxonomy_code_10|healthcare_provider_primary_taxonomy_switch_10|healthcare_provider_taxonomy_code_11|healthcare_provider_primary_taxonomy_switch_11|healthcare_provider_taxonomy_code_12|healthcare_provider_primary_taxonomy_switch_12|healthcare_provider_taxonomy_code_13|healthcare_provider_primary_taxonomy_switch_13|healthcare_provider_taxonomy_code_14|healthcare_provider_primary_taxonomy_switch_14|healthcare_provider_taxonomy_code_15|healthcare_provider_primary_taxonomy_switch_15|zip5  |state_abbr|parent_org_tin_norm|primary_taxonomy|primary_taxonomy_explicit|primary_taxonomy_unknown|primary_taxonomy_source|npi_age_days|is_active|was_reactivated|deactivated_then_reactivated|has_location|missing_entity_type|completeness_score|\n",
      "+---+----------------+------------------------------------------------------+-------------------------------------------------------+-----------------------+-----------------------+-----------------------+-------------------------+----------------+---------------------+---------------------+------------------+-----------------------------------+---------------------------------------------+-----------------------------------+---------------------------------------------+-----------------------------------+---------------------------------------------+-----------------------------------+---------------------------------------------+-----------------------------------+---------------------------------------------+-----------------------------------+---------------------------------------------+-----------------------------------+---------------------------------------------+-----------------------------------+---------------------------------------------+-----------------------------------+---------------------------------------------+------------------------------------+----------------------------------------------+------------------------------------+----------------------------------------------+------------------------------------+----------------------------------------------+------------------------------------+----------------------------------------------+------------------------------------+----------------------------------------------+------------------------------------+----------------------------------------------+------+----------+-------------------+----------------+-------------------------+------------------------+-----------------------+------------+---------+---------------+----------------------------+------------+-------------------+------------------+\n",
      "|0  |314026          |314028                                                |314034                                                 |0                      |8876636                |8876741                |314026                   |314026          |8696420              |9010442              |2234785           |314042                             |314042                                       |7359682                            |7359682                                      |8529876                            |8529876                                      |8847202                            |8847202                                      |8941274                            |8941274                                      |8980653                            |8980653                                      |8996903                            |8996903                                      |9005860                            |9005860                                      |9011666                            |9011666                                      |9015468                             |9015468                                       |9018074                             |9018074                                       |9019893                             |9019893                                       |9021373                             |9021373                                       |9022518                             |9022518                                       |9023815                             |9023815                                       |314034|318119    |8876636            |317724          |0                        |0                       |317724                 |314026      |0        |0              |0                           |0           |0                  |0                 |\n",
      "+---+----------------+------------------------------------------------------+-------------------------------------------------------+-----------------------+-----------------------+-----------------------+-------------------------+----------------+---------------------+---------------------+------------------+-----------------------------------+---------------------------------------------+-----------------------------------+---------------------------------------------+-----------------------------------+---------------------------------------------+-----------------------------------+---------------------------------------------+-----------------------------------+---------------------------------------------+-----------------------------------+---------------------------------------------+-----------------------------------+---------------------------------------------+-----------------------------------+---------------------------------------------+-----------------------------------+---------------------------------------------+------------------------------------+----------------------------------------------+------------------------------------+----------------------------------------------+------------------------------------+----------------------------------------------+------------------------------------+----------------------------------------------+------------------------------------+----------------------------------------------+------------------------------------+----------------------------------------------+------+----------+-------------------+----------------+-------------------------+------------------------+-----------------------+------------+---------+---------------+----------------------------+------------+-------------------+------------------+\n",
      "\n"
     ]
    },
    {
     "name": "stderr",
     "output_type": "stream",
     "text": [
      "                                                                                \r"
     ]
    }
   ],
   "source": [
    "# doing sanity checks after cleaning my NPI dataframe values\n",
    "print(\"Distinct is_sole_proprietor values:\")\n",
    "wrangled_npi_df.select(\"is_sole_proprietor\").distinct().show()\n",
    "\n",
    "\n",
    "print(\"Primary taxonomy source distinct values:\")\n",
    "wrangled_npi_df.select(\"primary_taxonomy_source\").distinct().show()\n",
    "\n",
    "\n",
    "print(\"Null counts after transformation:\")\n",
    "nulls = wrangled_npi_df.select(*[\n",
    "    sum_(when(col(c).isNull(), 1).otherwise(0)).alias(c)\n",
    "    for c in wrangled_npi_df.columns\n",
    "])\n",
    "nulls.show(truncate=False)"
   ]
  },
  {
   "cell_type": "markdown",
   "id": "8a2f3eb0",
   "metadata": {},
   "source": [
    "#### The NPPES NPI dataset has almost been fully wrangled as \"wrangled_npi_df\"\n",
    "#### Stopping here to wrangle others..."
   ]
  },
  {
   "cell_type": "markdown",
   "id": "15451dc5",
   "metadata": {},
   "source": [
    "## Medicare Physician & Other Practitioners - by Provider and Service Dataset"
   ]
  },
  {
   "cell_type": "code",
   "execution_count": 24,
   "id": "c46e85da",
   "metadata": {},
   "outputs": [],
   "source": [
    "# creating a csv path variable\n",
    "phys_pract_csv_path = \"Medicare Physician & Other Practitioners - by Provider and Service/MUP_PHY_R25_P05_V20_D23_Prov_Svc.csv\""
   ]
  },
  {
   "cell_type": "code",
   "execution_count": 25,
   "id": "68f38358",
   "metadata": {},
   "outputs": [],
   "source": [
    "# reading the CSV file into a DataFrame\n",
    "full_physician_practitioner_df = (\n",
    "    spark.read\n",
    "    .option(\"header\", \"true\")\n",
    "    .option(\"inferSchema\", \"false\")\n",
    "    .csv(phys_pract_csv_path)\n",
    ")"
   ]
  },
  {
   "cell_type": "code",
   "execution_count": 26,
   "id": "66a496a3",
   "metadata": {},
   "outputs": [
    {
     "name": "stdout",
     "output_type": "stream",
     "text": [
      "Available columns (first 50 shown):\n",
      "'Rndrng_NPI'\n",
      "'Rndrng_Prvdr_Last_Org_Name'\n",
      "'Rndrng_Prvdr_First_Name'\n",
      "'Rndrng_Prvdr_MI'\n",
      "'Rndrng_Prvdr_Crdntls'\n",
      "'Rndrng_Prvdr_Ent_Cd'\n",
      "'Rndrng_Prvdr_St1'\n",
      "'Rndrng_Prvdr_St2'\n",
      "'Rndrng_Prvdr_City'\n",
      "'Rndrng_Prvdr_State_Abrvtn'\n",
      "'Rndrng_Prvdr_State_FIPS'\n",
      "'Rndrng_Prvdr_Zip5'\n",
      "'Rndrng_Prvdr_RUCA'\n",
      "'Rndrng_Prvdr_RUCA_Desc'\n",
      "'Rndrng_Prvdr_Cntry'\n",
      "'Rndrng_Prvdr_Type'\n",
      "'Rndrng_Prvdr_Mdcr_Prtcptg_Ind'\n",
      "'HCPCS_Cd'\n",
      "'HCPCS_Desc'\n",
      "'HCPCS_Drug_Ind'\n",
      "'Place_Of_Srvc'\n",
      "'Tot_Benes'\n",
      "'Tot_Srvcs'\n",
      "'Tot_Bene_Day_Srvcs'\n",
      "'Avg_Sbmtd_Chrg'\n",
      "'Avg_Mdcr_Alowd_Amt'\n",
      "'Avg_Mdcr_Pymt_Amt'\n",
      "'Avg_Mdcr_Stdzd_Amt'\n"
     ]
    }
   ],
   "source": [
    "# inspecting the column names\n",
    "print(\"Available columns (first 50 shown):\")\n",
    "for c in full_physician_practitioner_df.columns[:50]:\n",
    "    print(repr(c))"
   ]
  },
  {
   "cell_type": "code",
   "execution_count": 27,
   "id": "9e730af8",
   "metadata": {},
   "outputs": [],
   "source": [
    "# selecting the relevant columns I want to keep\n",
    "keep_cols_physician_practitioners = [\n",
    "    \"Rndrng_NPI\",                 \n",
    "    \"Rndrng_Prvdr_Ent_Cd\",        \n",
    "    \"Rndrng_Prvdr_State_Abrvtn\",  \n",
    "    \"Rndrng_Prvdr_Zip5\",          \n",
    "    \"Rndrng_Prvdr_RUCA\",          \n",
    "    \"Rndrng_Prvdr_RUCA_Desc\",     \n",
    "    \"Rndrng_Prvdr_Mdcr_Prtcptg_Ind\", \n",
    "    \"Rndrng_Prvdr_Type\",\n",
    "    \"Rndrng_Prvdr_Cntry\",\n",
    "\n",
    "    \"HCPCS_Cd\",                   \n",
    "    \"HCPCS_Desc\",                 \n",
    "    \"HCPCS_Drug_Ind\",             \n",
    "    \"Place_Of_Srvc\",              \n",
    "    \"Tot_Benes\",                  \n",
    "    \"Tot_Srvcs\",                  \n",
    "    \"Tot_Bene_Day_Srvcs\",         \n",
    "\n",
    "    \"Avg_Sbmtd_Chrg\",             \n",
    "    \"Avg_Mdcr_Alowd_Amt\",        \n",
    "    \"Avg_Mdcr_Pymt_Amt\",          \n",
    "    \"Avg_Mdcr_Stdzd_Amt\"        \n",
    "]"
   ]
  },
  {
   "cell_type": "code",
   "execution_count": 28,
   "id": "7f9234a6",
   "metadata": {},
   "outputs": [],
   "source": [
    "# creating a new DataFrame with only the selected columns\n",
    "phys_pract_df = full_physician_practitioner_df.select(*keep_cols_physician_practitioners)"
   ]
  },
  {
   "cell_type": "code",
   "execution_count": 29,
   "id": "66c4a7e1",
   "metadata": {},
   "outputs": [
    {
     "name": "stdout",
     "output_type": "stream",
     "text": [
      "Schema:\n",
      "root\n",
      " |-- Rndrng_NPI: string (nullable = true)\n",
      " |-- Rndrng_Prvdr_Ent_Cd: string (nullable = true)\n",
      " |-- Rndrng_Prvdr_State_Abrvtn: string (nullable = true)\n",
      " |-- Rndrng_Prvdr_Zip5: string (nullable = true)\n",
      " |-- Rndrng_Prvdr_RUCA: string (nullable = true)\n",
      " |-- Rndrng_Prvdr_RUCA_Desc: string (nullable = true)\n",
      " |-- Rndrng_Prvdr_Mdcr_Prtcptg_Ind: string (nullable = true)\n",
      " |-- Rndrng_Prvdr_Type: string (nullable = true)\n",
      " |-- Rndrng_Prvdr_Cntry: string (nullable = true)\n",
      " |-- HCPCS_Cd: string (nullable = true)\n",
      " |-- HCPCS_Desc: string (nullable = true)\n",
      " |-- HCPCS_Drug_Ind: string (nullable = true)\n",
      " |-- Place_Of_Srvc: string (nullable = true)\n",
      " |-- Tot_Benes: string (nullable = true)\n",
      " |-- Tot_Srvcs: string (nullable = true)\n",
      " |-- Tot_Bene_Day_Srvcs: string (nullable = true)\n",
      " |-- Avg_Sbmtd_Chrg: string (nullable = true)\n",
      " |-- Avg_Mdcr_Alowd_Amt: string (nullable = true)\n",
      " |-- Avg_Mdcr_Pymt_Amt: string (nullable = true)\n",
      " |-- Avg_Mdcr_Stdzd_Amt: string (nullable = true)\n",
      "\n",
      "Sample:\n",
      "+----------+-------------------+-------------------------+-----------------+-----------------+-----------------------------------------------------------------------------------+-----------------------------+-----------------+------------------+--------+----------------------------------------------------------------------------------------------------------------------------------+--------------+-------------+---------+---------+------------------+--------------+------------------+-----------------+------------------+\n",
      "|Rndrng_NPI|Rndrng_Prvdr_Ent_Cd|Rndrng_Prvdr_State_Abrvtn|Rndrng_Prvdr_Zip5|Rndrng_Prvdr_RUCA|Rndrng_Prvdr_RUCA_Desc                                                             |Rndrng_Prvdr_Mdcr_Prtcptg_Ind|Rndrng_Prvdr_Type|Rndrng_Prvdr_Cntry|HCPCS_Cd|HCPCS_Desc                                                                                                                        |HCPCS_Drug_Ind|Place_Of_Srvc|Tot_Benes|Tot_Srvcs|Tot_Bene_Day_Srvcs|Avg_Sbmtd_Chrg|Avg_Mdcr_Alowd_Amt|Avg_Mdcr_Pymt_Amt|Avg_Mdcr_Stdzd_Amt|\n",
      "+----------+-------------------+-------------------------+-----------------+-----------------+-----------------------------------------------------------------------------------+-----------------------------+-----------------+------------------+--------+----------------------------------------------------------------------------------------------------------------------------------+--------------+-------------+---------+---------+------------------+--------------+------------------+-----------------+------------------+\n",
      "|1003000126|I                  |MD                       |20817            |1                |Metropolitan area core: primary flow within an urbanized area of 50,000 and greater|Y                            |Hospitalist      |US                |99221   |Initial hospital care with straightforward or low level of medical decision making, per day, if using time, at least 40 minutes   |N             |F            |12       |12       |12                |250.22666667  |89.0625           |60.3125          |54.669166667      |\n",
      "|1003000126|I                  |MD                       |20817            |1                |Metropolitan area core: primary flow within an urbanized area of 50,000 and greater|Y                            |Hospitalist      |US                |99222   |Initial hospital care with straightforward or low-level medical decision making, if using time, at least 55 minutes               |N             |F            |22       |22       |22                |318.58181818  |130.31272727      |99.38            |98.429545455      |\n",
      "|1003000126|I                  |MD                       |20817            |1                |Metropolitan area core: primary flow within an urbanized area of 50,000 and greater|Y                            |Hospitalist      |US                |99231   |Subsequent hospital care with straightforward or low level of medical decision making, per day, if using time, at least 25 minutes|N             |F            |76       |127      |127               |95.732283465  |54.82015748       |43.557322835     |38.748661417      |\n",
      "|1003000126|I                  |MD                       |20817            |1                |Metropolitan area core: primary flow within an urbanized area of 50,000 and greater|Y                            |Hospitalist      |US                |99232   |Subsequent hospital care with moderate levelof medical decision making, if using time, at least 35 minutes                        |N             |F            |180      |341      |341               |194.44152493  |86.840762463      |69.086422287     |61.812258065      |\n",
      "|1003000126|I                  |MD                       |20817            |1                |Metropolitan area core: primary flow within an urbanized area of 50,000 and greater|Y                            |Hospitalist      |US                |99233   |Subsequent hospital care with moderate levelof medical decision making, if using time, at least 50 minutes                        |N             |F            |53       |79       |79                |251.45405063  |127.91518987      |100.94316456     |92.409113924      |\n",
      "+----------+-------------------+-------------------------+-----------------+-----------------+-----------------------------------------------------------------------------------+-----------------------------+-----------------+------------------+--------+----------------------------------------------------------------------------------------------------------------------------------+--------------+-------------+---------+---------+------------------+--------------+------------------+-----------------+------------------+\n",
      "\n"
     ]
    }
   ],
   "source": [
    "# having a sanity check to ensure I loaded the right columns, the correct types, and the data looks okay\n",
    "print(\"Schema:\")\n",
    "phys_pract_df.printSchema()\n",
    "print(\"Sample:\")\n",
    "phys_pract_df.limit(5).show(truncate=False)"
   ]
  },
  {
   "cell_type": "code",
   "execution_count": 30,
   "id": "9720795d",
   "metadata": {},
   "outputs": [
    {
     "name": "stderr",
     "output_type": "stream",
     "text": [
      "[Stage 32:======================================>                 (16 + 7) / 23]\r"
     ]
    },
    {
     "name": "stdout",
     "output_type": "stream",
     "text": [
      "Total rows: 9660647\n"
     ]
    },
    {
     "name": "stderr",
     "output_type": "stream",
     "text": [
      "                                                                                \r"
     ]
    }
   ],
   "source": [
    "# getting the total number of rows in the DataFrame\n",
    "total_rows_phys_pract = phys_pract_df.count()\n",
    "print(f'Total rows: {total_rows_phys_pract}')"
   ]
  },
  {
   "cell_type": "code",
   "execution_count": 31,
   "id": "0e912259",
   "metadata": {},
   "outputs": [
    {
     "name": "stderr",
     "output_type": "stream",
     "text": [
      "[Stage 35:======================================>                 (16 + 7) / 23]\r"
     ]
    },
    {
     "name": "stdout",
     "output_type": "stream",
     "text": [
      "+----------+-------------------+-------------------------+-----------------+-----------------+----------------------+-----------------------------+-----------------+------------------+--------+----------+--------------+-------------+---------+---------+------------------+--------------+------------------+-----------------+------------------+\n",
      "|Rndrng_NPI|Rndrng_Prvdr_Ent_Cd|Rndrng_Prvdr_State_Abrvtn|Rndrng_Prvdr_Zip5|Rndrng_Prvdr_RUCA|Rndrng_Prvdr_RUCA_Desc|Rndrng_Prvdr_Mdcr_Prtcptg_Ind|Rndrng_Prvdr_Type|Rndrng_Prvdr_Cntry|HCPCS_Cd|HCPCS_Desc|HCPCS_Drug_Ind|Place_Of_Srvc|Tot_Benes|Tot_Srvcs|Tot_Bene_Day_Srvcs|Avg_Sbmtd_Chrg|Avg_Mdcr_Alowd_Amt|Avg_Mdcr_Pymt_Amt|Avg_Mdcr_Stdzd_Amt|\n",
      "+----------+-------------------+-------------------------+-----------------+-----------------+----------------------+-----------------------------+-----------------+------------------+--------+----------+--------------+-------------+---------+---------+------------------+--------------+------------------+-----------------+------------------+\n",
      "|         0|                  0|                        0|                0|             7600|                  7600|                            0|                0|                 0|       0|         0|             0|            0|        0|        0|                 0|             0|                 0|                0|                 0|\n",
      "+----------+-------------------+-------------------------+-----------------+-----------------+----------------------+-----------------------------+-----------------+------------------+--------+----------+--------------+-------------+---------+---------+------------------+--------------+------------------+-----------------+------------------+\n",
      "\n"
     ]
    },
    {
     "name": "stderr",
     "output_type": "stream",
     "text": [
      "                                                                                \r"
     ]
    }
   ],
   "source": [
    "# getting the null counts for each column\n",
    "phys_pract_df.select(\n",
    "    *[\n",
    "        sum_(col(c).isNull().cast('int')).alias(c) for c in phys_pract_df.columns\n",
    "    ]\n",
    ").show()"
   ]
  },
  {
   "cell_type": "code",
   "execution_count": 32,
   "id": "6050b036",
   "metadata": {},
   "outputs": [],
   "source": [
    "# comoputing normalized names and checking for collisions\n",
    "# checking for collisions as I don't want to accidently end up with two originals mapping to the same cleaned name\n",
    "\n",
    "# applying the normalized names to every column I plan to keep\n",
    "normalized_names = []\n",
    "for original_name in keep_cols_physician_practitioners:\n",
    "    new_name = normalize_col(original_name)\n",
    "    normalized_names.append(new_name)\n",
    "\n",
    "# counting how many times each cleaned name shows up\n",
    "name_counts = Counter(normalized_names)\n",
    "\n",
    "# pulling out any names that show up more than once\n",
    "duplicates = [name for name, count in name_counts.items() if count > 1]\n",
    "\n",
    "# bailing out early, if a coliision is detected\n",
    "if duplicates:\n",
    "    raise RuntimeError(f'Column name conflict after normalization: {duplicates}')"
   ]
  },
  {
   "cell_type": "code",
   "execution_count": 33,
   "id": "aec7a17e",
   "metadata": {},
   "outputs": [],
   "source": [
    "# building a new DataFrame with normalized column names\n",
    "\n",
    "# building a list of expressions to rename the columns in the DataFrame\n",
    "renamed_columns_phys_pract = [\n",
    "    col(old).alias(new)\n",
    "    for old, new in zip(keep_cols_physician_practitioners, normalized_names)\n",
    "]\n",
    "\n",
    "# applying \n",
    "normalized_phys_pract_df = phys_pract_df.select(*renamed_columns_phys_pract)"
   ]
  },
  {
   "cell_type": "code",
   "execution_count": 34,
   "id": "c91e1850",
   "metadata": {},
   "outputs": [
    {
     "name": "stdout",
     "output_type": "stream",
     "text": [
      "root\n",
      " |-- rndrng_npi: string (nullable = true)\n",
      " |-- rndrng_prvdr_ent_cd: string (nullable = true)\n",
      " |-- rndrng_prvdr_state_abrvtn: string (nullable = true)\n",
      " |-- rndrng_prvdr_zip5: string (nullable = true)\n",
      " |-- rndrng_prvdr_ruca: string (nullable = true)\n",
      " |-- rndrng_prvdr_ruca_desc: string (nullable = true)\n",
      " |-- rndrng_prvdr_mdcr_prtcptg_ind: string (nullable = true)\n",
      " |-- rndrng_prvdr_type: string (nullable = true)\n",
      " |-- rndrng_prvdr_cntry: string (nullable = true)\n",
      " |-- hcpcs_cd: string (nullable = true)\n",
      " |-- hcpcs_desc: string (nullable = true)\n",
      " |-- hcpcs_drug_ind: string (nullable = true)\n",
      " |-- place_of_srvc: string (nullable = true)\n",
      " |-- tot_benes: string (nullable = true)\n",
      " |-- tot_srvcs: string (nullable = true)\n",
      " |-- tot_bene_day_srvcs: string (nullable = true)\n",
      " |-- avg_sbmtd_chrg: string (nullable = true)\n",
      " |-- avg_mdcr_alowd_amt: string (nullable = true)\n",
      " |-- avg_mdcr_pymt_amt: string (nullable = true)\n",
      " |-- avg_mdcr_stdzd_amt: string (nullable = true)\n",
      "\n",
      "+----------+-------------------+-------------------------+-----------------+-----------------+-----------------------------------------------------------------------------------+-----------------------------+-----------------+------------------+--------+----------------------------------------------------------------------------------------------------------------------------------+--------------+-------------+---------+---------+------------------+--------------+------------------+-----------------+------------------+\n",
      "|rndrng_npi|rndrng_prvdr_ent_cd|rndrng_prvdr_state_abrvtn|rndrng_prvdr_zip5|rndrng_prvdr_ruca|rndrng_prvdr_ruca_desc                                                             |rndrng_prvdr_mdcr_prtcptg_ind|rndrng_prvdr_type|rndrng_prvdr_cntry|hcpcs_cd|hcpcs_desc                                                                                                                        |hcpcs_drug_ind|place_of_srvc|tot_benes|tot_srvcs|tot_bene_day_srvcs|avg_sbmtd_chrg|avg_mdcr_alowd_amt|avg_mdcr_pymt_amt|avg_mdcr_stdzd_amt|\n",
      "+----------+-------------------+-------------------------+-----------------+-----------------+-----------------------------------------------------------------------------------+-----------------------------+-----------------+------------------+--------+----------------------------------------------------------------------------------------------------------------------------------+--------------+-------------+---------+---------+------------------+--------------+------------------+-----------------+------------------+\n",
      "|1003000126|I                  |MD                       |20817            |1                |Metropolitan area core: primary flow within an urbanized area of 50,000 and greater|Y                            |Hospitalist      |US                |99221   |Initial hospital care with straightforward or low level of medical decision making, per day, if using time, at least 40 minutes   |N             |F            |12       |12       |12                |250.22666667  |89.0625           |60.3125          |54.669166667      |\n",
      "|1003000126|I                  |MD                       |20817            |1                |Metropolitan area core: primary flow within an urbanized area of 50,000 and greater|Y                            |Hospitalist      |US                |99222   |Initial hospital care with straightforward or low-level medical decision making, if using time, at least 55 minutes               |N             |F            |22       |22       |22                |318.58181818  |130.31272727      |99.38            |98.429545455      |\n",
      "|1003000126|I                  |MD                       |20817            |1                |Metropolitan area core: primary flow within an urbanized area of 50,000 and greater|Y                            |Hospitalist      |US                |99231   |Subsequent hospital care with straightforward or low level of medical decision making, per day, if using time, at least 25 minutes|N             |F            |76       |127      |127               |95.732283465  |54.82015748       |43.557322835     |38.748661417      |\n",
      "|1003000126|I                  |MD                       |20817            |1                |Metropolitan area core: primary flow within an urbanized area of 50,000 and greater|Y                            |Hospitalist      |US                |99232   |Subsequent hospital care with moderate levelof medical decision making, if using time, at least 35 minutes                        |N             |F            |180      |341      |341               |194.44152493  |86.840762463      |69.086422287     |61.812258065      |\n",
      "|1003000126|I                  |MD                       |20817            |1                |Metropolitan area core: primary flow within an urbanized area of 50,000 and greater|Y                            |Hospitalist      |US                |99233   |Subsequent hospital care with moderate levelof medical decision making, if using time, at least 50 minutes                        |N             |F            |53       |79       |79                |251.45405063  |127.91518987      |100.94316456     |92.409113924      |\n",
      "+----------+-------------------+-------------------------+-----------------+-----------------+-----------------------------------------------------------------------------------+-----------------------------+-----------------+------------------+--------+----------------------------------------------------------------------------------------------------------------------------------+--------------+-------------+---------+---------+------------------+--------------+------------------+-----------------+------------------+\n",
      "only showing top 5 rows\n"
     ]
    }
   ],
   "source": [
    "# doing a quick sanity check to ensure the new DataFrame has the correct columns\n",
    "normalized_phys_pract_df.printSchema()\n",
    "normalized_phys_pract_df.show(5, truncate=False)"
   ]
  },
  {
   "cell_type": "code",
   "execution_count": 35,
   "id": "e7b2739d",
   "metadata": {},
   "outputs": [],
   "source": [
    "# cleaning the values of the physician practitioner DataFrame\n",
    "\n",
    "clean_phys_pract = (\n",
    "    normalized_phys_pract_df\n",
    "\n",
    "    # trim stray spaces and making sure the NPIs are exactly 10 digits\n",
    "    .withColumn(\"rndrng_npi\", trim(col(\"rndrng_npi\")))\n",
    "    .withColumn(\"npi_valid\",\n",
    "        when(col(\"rndrng_npi\").rlike(r\"^\\d{10}$\"), lit(1))\n",
    "        .otherwise(lit(0))\n",
    "    )\n",
    "\n",
    "    # mapping the provider type: \n",
    "        # “I” → individual (1), everything else → org (0)\n",
    "    .withColumn(\"is_individual\",\n",
    "        when(col(\"rndrng_prvdr_ent_cd\") == \"I\", lit(1))\n",
    "        .otherwise(lit(0))\n",
    "    )\n",
    "\n",
    "    # tidying up geographic strings\n",
    "    .withColumn(\"rndrng_prvdr_state_abrvtn\", trim(col(\"rndrng_prvdr_state_abrvtn\")))\n",
    "    .withColumn(\"rndrng_prvdr_zip5\",          trim(col(\"rndrng_prvdr_zip5\")))\n",
    "\n",
    "    # flagging if the state is missing\n",
    "    .withColumn(\"missing_state\",\n",
    "        when(col(\"rndrng_prvdr_state_abrvtn\").isNull(), lit(1)).otherwise(lit(0))\n",
    "    )\n",
    "\n",
    "    # flagging if the zip code is missing\n",
    "    .withColumn(\"missing_zip\",\n",
    "        when(col(\"rndrng_prvdr_zip5\").isNull(), lit(1)).otherwise(lit(0))\n",
    "    )\n",
    "\n",
    "    # casting RUCA (rural‐urban code) to double type\n",
    "    .withColumn(\"rndrng_prvdr_ruca\", col(\"rndrng_prvdr_ruca\").cast(DoubleType())\n",
    "    )\n",
    "\n",
    "    # medicare‐participation Y/N → 1/0\n",
    "    .withColumn(\"medicare_participation\",\n",
    "        when(col(\"rndrng_prvdr_mdcr_prtcptg_ind\") == \"Y\", lit(1))\n",
    "        .otherwise(lit(0))\n",
    "    )\n",
    "\n",
    "    # clean HCPCS and place‐of‐service keys\n",
    "    .withColumn(\"hcpcs_cd\",     trim(col(\"hcpcs_cd\")))\n",
    "    .withColumn(\"place_of_srvc\", trim(col(\"place_of_srvc\")))\n",
    "\n",
    "\n",
    "    # cast dollar amounts so ratios and averages behave\n",
    "    .withColumn(\"avg_sbmtd_chrg\",    col(\"avg_sbmtd_chrg\").cast(DoubleType()))\n",
    "    .withColumn(\"avg_mdcr_alowd_amt\",col(\"avg_mdcr_alowd_amt\").cast(DoubleType()))\n",
    "    .withColumn(\"avg_mdcr_pymt_amt\", col(\"avg_mdcr_pymt_amt\").cast(DoubleType()))\n",
    "    .withColumn(\"avg_mdcr_stdzd_amt\",col(\"avg_mdcr_stdzd_amt\").cast(DoubleType()))\n",
    "\n",
    "    # drug flag: “Y” → 1, else → 0\n",
    "    .withColumn(\"is_drug\",\n",
    "        when(col(\"hcpcs_drug_ind\") == \"Y\", lit(1)).otherwise(lit(0))\n",
    "    )\n",
    ")"
   ]
  },
  {
   "cell_type": "code",
   "execution_count": null,
   "id": "4f7a6c96",
   "metadata": {},
   "outputs": [],
   "source": [
    "# keeping only United States rows\n",
    "clean_phys_pract = (clean_phys_pract\n",
    "    .withColumn(\"rndrng_prvdr_cntry\", upper(trim(col(\"rndrng_prvdr_cntry\"))))\n",
    "    .filter(col(\"rndrng_prvdr_cntry\").isNull() | col(\"rndrng_prvdr_cntry\").isin(\"US\",\"USA\"))\n",
    ")"
   ]
  },
  {
   "cell_type": "code",
   "execution_count": 36,
   "id": "403e5383",
   "metadata": {},
   "outputs": [
    {
     "name": "stderr",
     "output_type": "stream",
     "text": [
      "[Stage 39:======================================>                 (16 + 7) / 23]\r"
     ]
    },
    {
     "name": "stdout",
     "output_type": "stream",
     "text": [
      "+--------------+-------+\n",
      "|hcpcs_drug_ind|is_drug|\n",
      "+--------------+-------+\n",
      "|             Y|      1|\n",
      "|             N|      0|\n",
      "+--------------+-------+\n",
      "\n"
     ]
    },
    {
     "name": "stderr",
     "output_type": "stream",
     "text": [
      "                                                                                \r"
     ]
    }
   ],
   "source": [
    "# checking to make sure my cleaning worked\n",
    "clean_phys_pract.select(\"hcpcs_drug_ind\", \"is_drug\").distinct().show()"
   ]
  },
  {
   "cell_type": "code",
   "execution_count": 37,
   "id": "dff95fd7",
   "metadata": {},
   "outputs": [
    {
     "name": "stderr",
     "output_type": "stream",
     "text": [
      "                                                                                \r"
     ]
    },
    {
     "name": "stdout",
     "output_type": "stream",
     "text": [
      "+-----------------------+-----------------------+-----------------------+\n",
      "|min(avg_mdcr_alowd_amt)|max(avg_mdcr_alowd_amt)|avg(avg_mdcr_alowd_amt)|\n",
      "+-----------------------+-----------------------+-----------------------+\n",
      "|                    0.0|           52794.040667|     106.10699656654631|\n",
      "+-----------------------+-----------------------+-----------------------+\n",
      "\n"
     ]
    },
    {
     "name": "stderr",
     "output_type": "stream",
     "text": [
      "[Stage 50:=================================================>      (16 + 2) / 18]\r"
     ]
    },
    {
     "name": "stdout",
     "output_type": "stream",
     "text": [
      "+-----------------+\n",
      "|rndrng_prvdr_zip5|\n",
      "+-----------------+\n",
      "+-----------------+\n",
      "\n"
     ]
    },
    {
     "name": "stderr",
     "output_type": "stream",
     "text": [
      "                                                                                \r"
     ]
    }
   ],
   "source": [
    "# few other santity checks\n",
    "\n",
    "# no “bad” NPIs should pass\n",
    "clean_phys_pract.filter(col(\"npi_valid\") == 0).count()\n",
    "\n",
    "# ensuring dollar‐amount columns have no unexpected negatives or huge outliers\n",
    "clean_phys_pract.select(\n",
    "  min(\"avg_mdcr_alowd_amt\"),\n",
    "  max(\"avg_mdcr_alowd_amt\"),\n",
    "  mean(\"avg_mdcr_alowd_amt\")\n",
    ").show()\n",
    "\n",
    "# checking that my “missing” flags line up with nulls\n",
    "clean_phys_pract.filter(col(\"missing_zip\") == 1).select(\"rndrng_prvdr_zip5\").show()\n"
   ]
  },
  {
   "cell_type": "markdown",
   "id": "e10d2850",
   "metadata": {},
   "source": [
    "##### Because of the nature of this dataset, I will not be doing a traditional deduping process\n",
    "##### This dataset is SUPPOSED to have multiple lines per provider\n",
    "##### I will be checking for true duplicates"
   ]
  },
  {
   "cell_type": "code",
   "execution_count": 38,
   "id": "07d8b190",
   "metadata": {},
   "outputs": [
    {
     "name": "stderr",
     "output_type": "stream",
     "text": [
      "[Stage 56:>                                                         (0 + 8) / 9]\r"
     ]
    },
    {
     "name": "stdout",
     "output_type": "stream",
     "text": [
      "Total rows:9,660,647\n",
      "Unique prov×proc×place×drug:9,660,647\n",
      "Exact duplicate rows:0\n"
     ]
    },
    {
     "name": "stderr",
     "output_type": "stream",
     "text": [
      "                                                                                \r"
     ]
    }
   ],
   "source": [
    "# safe-casting to make sure my volume columns are really integers\n",
    "safe_phys = (\n",
    "    clean_phys_pract\n",
    "    .withColumn(\"tot_benes\", expr(\"try_cast(tot_benes AS INT)\")) \n",
    "    .withColumn(\"tot_srvcs\", expr(\"try_cast(tot_srvcs AS INT)\")) \n",
    "    .withColumn(\"tot_bene_day_srvcs\", expr(\"try_cast(tot_bene_day_srvcs AS INT)\"))\n",
    ")\n",
    "\n",
    "# checking for exact duplicates across the key combinations\n",
    "    # (provider + procedure + place + drug flag)\n",
    "total_rows = safe_phys.count()\n",
    "\n",
    "unique_rows = (\n",
    "    safe_phys \n",
    "    .dropDuplicates([\n",
    "        \"rndrng_npi\",\n",
    "        \"hcpcs_cd\",\n",
    "        \"place_of_srvc\",\n",
    "        \"is_drug\"\n",
    "    ]) \n",
    "    .count()\n",
    ")\n",
    "\n",
    "duplicate_rows = total_rows - unique_rows\n",
    "\n",
    "\n",
    "print(f\"Total rows:{total_rows:,}\")\n",
    "print(f\"Unique prov×proc×place×drug:{unique_rows:,}\")\n",
    "print(f\"Exact duplicate rows:{duplicate_rows:,}\")\n"
   ]
  },
  {
   "cell_type": "code",
   "execution_count": null,
   "id": "9c33bad2",
   "metadata": {},
   "outputs": [
    {
     "name": "stderr",
     "output_type": "stream",
     "text": [
      "                                                                                \r"
     ]
    }
   ],
   "source": [
    "# aggregating by provider for modeling purposes\n",
    "# more reasoning -> the GNN model will be using the provider as a node, so I want to aggregate all the features by provider\n",
    "\n",
    "# making sure my per-row volumes are truly DOUBLE\n",
    "clean_for_agg = (\n",
    "    clean_phys_pract\n",
    "    .filter(col(\"npi_valid\") == 1)   # <<< ADD THIS\n",
    "    .withColumn(\"srvcs_d\", col(\"tot_srvcs\").cast(\"double\"))\n",
    "    .withColumn(\"benes_d\", col(\"tot_benes\").cast(\"double\"))\n",
    "    .withColumn(\"bene_days_d\", col(\"tot_bene_day_srvcs\").cast(\"double\"))\n",
    ")\n",
    "\n",
    "clean_for_agg.count()\n",
    "\n",
    "# grouping by NPI and rolling up all the per-procedure metrics into provider totals/averages\n",
    "\n",
    "# aggregate weighted sums\n",
    "agg_w = (\n",
    "    clean_for_agg\n",
    "    .groupBy(\"rndrng_npi\")\n",
    "    .agg(\n",
    "        # volumes\n",
    "        sum_(\"srvcs_d\").alias(\"total_services\"),\n",
    "        sum_(\"benes_d\").alias(\"total_beneficiaries\"),\n",
    "        sum_(\"bene_days_d\").alias(\"total_bene_day_services\"),\n",
    "\n",
    "        # service-weighted sums for charges/allowed/payments\n",
    "        sum_(col(\"avg_sbmtd_chrg\") * col(\"srvcs_d\")).alias(\"sum_submitted_w\"),\n",
    "        sum_(col(\"avg_mdcr_alowd_amt\") * col(\"srvcs_d\")).alias(\"sum_allowed_w\"),\n",
    "        sum_(col(\"avg_mdcr_pymt_amt\") * col(\"srvcs_d\")).alias(\"sum_payment_w\"),\n",
    "\n",
    "        # diversity & quality signals\n",
    "        countDistinct(\"hcpcs_cd\").alias(\"num_unique_procedures\"),\n",
    "        stddev(col(\"avg_sbmtd_chrg\")).alias(\"stddev_submitted_charge\"),\n",
    "        avg(col(\"is_drug\")).alias(\"frac_drug_services\"),\n",
    "        avg(col(\"missing_zip\")).alias(\"frac_missing_zip\")\n",
    "    )\n",
    ")\n",
    "\n",
    "# deriving weighted averages & ratios of totals\n",
    "provider_agg = (\n",
    "    agg_w\n",
    "    .withColumn(\"w_avg_submitted_charge\",\n",
    "                when(col(\"total_services\") > 0, col(\"sum_submitted_w\") / col(\"total_services\")))\n",
    "    .withColumn(\"w_avg_allowed\",\n",
    "                when(col(\"total_services\") > 0, col(\"sum_allowed_w\") / col(\"total_services\")))\n",
    "    .withColumn(\"w_avg_payment\",\n",
    "                when(col(\"total_services\") > 0, col(\"sum_payment_w\") / col(\"total_services\")))\n",
    "    .withColumn(\"charge_allowed_ratio\",\n",
    "                when(col(\"sum_allowed_w\") > 0, col(\"sum_submitted_w\") / col(\"sum_allowed_w\")))\n",
    "    .withColumn(\"payment_allowed_ratio\",\n",
    "                when(col(\"sum_allowed_w\") > 0, col(\"sum_payment_w\") / col(\"sum_allowed_w\")))\n",
    "    .drop(\"sum_submitted_w\", \"sum_allowed_w\", \"sum_payment_w\")\n",
    "    .withColumnRenamed(\"rndrng_npi\", \"npi\")  # unify key name for joins later\n",
    ")\n"
   ]
  },
  {
   "cell_type": "code",
   "execution_count": null,
   "id": "277d0338",
   "metadata": {},
   "outputs": [],
   "source": [
    "# adding some derived features to provider_agg\n",
    "provider_agg = (provider_agg\n",
    "    .withColumn(\"services_per_bene\",\n",
    "        when(col(\"total_beneficiaries\") > 0,\n",
    "             col(\"total_services\") / col(\"total_beneficiaries\")))\n",
    "    .withColumn(\"bene_days_per_bene\",\n",
    "        when(col(\"total_beneficiaries\") > 0,\n",
    "             col(\"total_bene_day_services\") / col(\"total_beneficiaries\")))\n",
    ")"
   ]
  },
  {
   "cell_type": "code",
   "execution_count": 40,
   "id": "179acf6d",
   "metadata": {},
   "outputs": [
    {
     "name": "stdout",
     "output_type": "stream",
     "text": [
      "root\n",
      " |-- npi: string (nullable = true)\n",
      " |-- total_services: double (nullable = true)\n",
      " |-- total_beneficiaries: double (nullable = true)\n",
      " |-- total_bene_day_services: double (nullable = true)\n",
      " |-- num_unique_procedures: long (nullable = false)\n",
      " |-- stddev_submitted_charge: double (nullable = true)\n",
      " |-- frac_drug_services: double (nullable = true)\n",
      " |-- frac_missing_zip: double (nullable = true)\n",
      " |-- w_avg_submitted_charge: double (nullable = true)\n",
      " |-- w_avg_allowed: double (nullable = true)\n",
      " |-- w_avg_payment: double (nullable = true)\n",
      " |-- charge_allowed_ratio: double (nullable = true)\n",
      " |-- payment_allowed_ratio: double (nullable = true)\n",
      "\n"
     ]
    },
    {
     "name": "stderr",
     "output_type": "stream",
     "text": [
      "[Stage 65:===================================================>     (9 + 1) / 10]\r"
     ]
    },
    {
     "name": "stdout",
     "output_type": "stream",
     "text": [
      "+----------+--------------+-------------------+-----------------------+---------------------+-----------------------+-------------------+----------------+----------------------+------------------+------------------+--------------------+---------------------+\n",
      "|npi       |total_services|total_beneficiaries|total_bene_day_services|num_unique_procedures|stddev_submitted_charge|frac_drug_services |frac_missing_zip|w_avg_submitted_charge|w_avg_allowed     |w_avg_payment     |charge_allowed_ratio|payment_allowed_ratio|\n",
      "+----------+--------------+-------------------+-----------------------+---------------------+-----------------------+-------------------+----------------+----------------------+------------------+------------------+--------------------+---------------------+\n",
      "|1003846908|1832.0        |1445.0             |1809.0                 |16                   |474.3959654350813      |0.0                |0.0             |260.098799126607      |86.9379475978571  |63.06741812205404 |2.9917752409998006  |0.7254302622116255   |\n",
      "|1003890302|1543.0        |1360.0             |1508.0                 |7                    |432.7900067612964      |0.0                |0.0             |140.1620220349877     |25.875359688853596|20.30747893709365 |5.416814441244877   |0.7848191940628969   |\n",
      "|1013018555|310.0         |303.0              |310.0                  |3                    |233.84610323886093     |0.0                |0.0             |500.2903225806452     |158.50874193835483|125.69025806640646|3.1562317413080696  |0.7929547388325641   |\n",
      "|1013064831|1314.0        |1017.0             |1314.0                 |14                   |150.70872997218163     |0.0                |0.0             |194.05022831070016    |67.37903348540335 |47.578036529556314|2.8799793982313235  |0.7061252450269025   |\n",
      "|1013914126|1267.0        |591.0              |620.0                  |14                   |123.33240267906379     |0.21428571428571427|0.0             |69.22254143646725     |25.910055248217287|20.159108129228255|2.6716477743222886  |0.7780418812736912   |\n",
      "+----------+--------------+-------------------+-----------------------+---------------------+-----------------------+-------------------+----------------+----------------------+------------------+------------------+--------------------+---------------------+\n",
      "only showing top 5 rows\n"
     ]
    },
    {
     "name": "stderr",
     "output_type": "stream",
     "text": [
      "                                                                                \r"
     ]
    }
   ],
   "source": [
    "# doing a sanity check on the aggregation\n",
    "provider_agg.printSchema()\n",
    "provider_agg.show(5, truncate=False)"
   ]
  },
  {
   "cell_type": "code",
   "execution_count": 41,
   "id": "99fadd9a",
   "metadata": {},
   "outputs": [
    {
     "name": "stderr",
     "output_type": "stream",
     "text": [
      "[Stage 69:=========================================>              (17 + 6) / 23]\r"
     ]
    },
    {
     "name": "stdout",
     "output_type": "stream",
     "text": [
      "Total providers after aggregation: 1,175,281\n"
     ]
    },
    {
     "name": "stderr",
     "output_type": "stream",
     "text": [
      "                                                                                \r"
     ]
    }
   ],
   "source": [
    "# checking the total after the aggregation\n",
    "total_providers = provider_agg.count()\n",
    "print(f\"Total providers after aggregation: {total_providers:,}\")"
   ]
  },
  {
   "cell_type": "code",
   "execution_count": 42,
   "id": "32e00df5",
   "metadata": {},
   "outputs": [
    {
     "name": "stdout",
     "output_type": "stream",
     "text": [
      "=== Range summary ===\n"
     ]
    },
    {
     "name": "stderr",
     "output_type": "stream",
     "text": [
      "                                                                                \r"
     ]
    },
    {
     "name": "stdout",
     "output_type": "stream",
     "text": [
      "+------------+------------+-----------------+-----------------+---------------------+---------------------+------------------+----------------+-----------------+-----------------+\n",
      "|min_services|max_services|min_beneficiaries|max_beneficiaries|min_bene_day_services|max_bene_day_services|min_charge_ratio  |max_charge_ratio|min_payment_ratio|max_payment_ratio|\n",
      "+------------+------------+-----------------+-----------------+---------------------+---------------------+------------------+----------------+-----------------+-----------------+\n",
      "|11.0        |1.6019747E7 |11.0             |1.0403747E7      |11.0                 |1.5177802E7          |0.8987661160749534|10638.461538    |0.0              |1.0              |\n",
      "+------------+------------+-----------------+-----------------+---------------------+---------------------+------------------+----------------+-----------------+-----------------+\n",
      "\n"
     ]
    },
    {
     "name": "stderr",
     "output_type": "stream",
     "text": [
      "                                                                                \r"
     ]
    },
    {
     "name": "stdout",
     "output_type": "stream",
     "text": [
      "+----------+--------------+-------------------+-----------------------+--------------------+---------------------+\n",
      "|npi       |total_services|total_beneficiaries|total_bene_day_services|charge_allowed_ratio|payment_allowed_ratio|\n",
      "+----------+--------------+-------------------+-----------------------+--------------------+---------------------+\n",
      "|1063088466|72.0          |72.0               |72.0                   |116.22288990192418  |0.7967847769030011   |\n",
      "|1083682405|14.0          |14.0               |14.0                   |101.85851588546967  |0.8004288306050098   |\n",
      "|1154792729|109.0         |107.0              |109.0                  |110.06187916211955  |0.7920176326586722   |\n",
      "|1215149265|1464.0        |1080.0             |1091.0                 |112.61769308360151  |0.796413036679571    |\n",
      "|1295876969|92.0          |89.0               |92.0                   |118.12411101282882  |0.7967593545258765   |\n",
      "|1366087421|86.0          |82.0               |86.0                   |125.1544352720373   |0.7790404054590552   |\n",
      "|1568191062|347.0         |312.0              |325.0                  |105.99696556244736  |0.7780193022872323   |\n",
      "|1609530781|21.0          |21.0               |21.0                   |160.85482851726317  |0.7967484345378296   |\n",
      "|1578125506|15.0          |15.0               |15.0                   |136.7793712595167   |0.7994467660758415   |\n",
      "|1639377617|79.0          |79.0               |79.0                   |105.4977551063979   |0.8005073644650156   |\n",
      "+----------+--------------+-------------------+-----------------------+--------------------+---------------------+\n",
      "only showing top 10 rows\n",
      "=== Distinct frac_drug_services values ===\n"
     ]
    },
    {
     "name": "stderr",
     "output_type": "stream",
     "text": [
      "                                                                                \r"
     ]
    },
    {
     "name": "stdout",
     "output_type": "stream",
     "text": [
      "+--------------------+\n",
      "|  frac_drug_services|\n",
      "+--------------------+\n",
      "|                 0.0|\n",
      "|0.007246376811594203|\n",
      "|0.007462686567164179|\n",
      "|0.007692307692307693|\n",
      "|0.007751937984496124|\n",
      "|0.007874015748031496|\n",
      "|0.007936507936507936|\n",
      "|               0.008|\n",
      "|0.008064516129032258|\n",
      "| 0.00819672131147541|\n",
      "|0.008264462809917356|\n",
      "| 0.00847457627118644|\n",
      "|0.008620689655172414|\n",
      "|0.008695652173913044|\n",
      "|0.008771929824561403|\n",
      "|0.008849557522123894|\n",
      "|0.008928571428571428|\n",
      "|0.009009009009009009|\n",
      "| 0.00909090909090909|\n",
      "|0.009259259259259259|\n",
      "+--------------------+\n",
      "only showing top 20 rows\n"
     ]
    },
    {
     "name": "stderr",
     "output_type": "stream",
     "text": [
      "[Stage 90:=========================================>              (17 + 6) / 23]\r"
     ]
    },
    {
     "name": "stdout",
     "output_type": "stream",
     "text": [
      "Providers with frac_drug_services = 0.0: 953,913\n"
     ]
    },
    {
     "name": "stderr",
     "output_type": "stream",
     "text": [
      "                                                                                \r"
     ]
    }
   ],
   "source": [
    "# doing some more sanity checks\n",
    "\n",
    "\n",
    "# checking the ranges\n",
    "print(\"=== Range summary ===\")\n",
    "provider_agg.select(\n",
    "    min(\"total_services\").alias(\"min_services\"),\n",
    "    max(\"total_services\").alias(\"max_services\"),\n",
    "    min(\"total_beneficiaries\").alias(\"min_beneficiaries\"),\n",
    "    max(\"total_beneficiaries\").alias(\"max_beneficiaries\"),\n",
    "    min(\"total_bene_day_services\").alias(\"min_bene_day_services\"),\n",
    "    max(\"total_bene_day_services\").alias(\"max_bene_day_services\"),\n",
    "    min(\"charge_allowed_ratio\").alias(\"min_charge_ratio\"),\n",
    "    max(\"charge_allowed_ratio\").alias(\"max_charge_ratio\"),\n",
    "    min(\"payment_allowed_ratio\").alias(\"min_payment_ratio\"),\n",
    "    max(\"payment_allowed_ratio\").alias(\"max_payment_ratio\")\n",
    ").show(truncate=False)\n",
    "\n",
    "# checking for any negatives or absurd outliers\n",
    "provider_agg.filter(\n",
    "    (col(\"total_services\") < 0) |\n",
    "    (col(\"total_beneficiaries\") < 0) |\n",
    "    (col(\"total_bene_day_services\") < 0) |\n",
    "    (col(\"charge_allowed_ratio\") < 0) |\n",
    "    (col(\"payment_allowed_ratio\") < 0) |\n",
    "    (col(\"charge_allowed_ratio\") > 100) |\n",
    "    (col(\"payment_allowed_ratio\") > 100)\n",
    ").select(\n",
    "    \"npi\",\n",
    "    \"total_services\",\n",
    "    \"total_beneficiaries\",\n",
    "    \"total_bene_day_services\",\n",
    "    \"charge_allowed_ratio\",\n",
    "    \"payment_allowed_ratio\"\n",
    ").show(10, truncate=False)\n",
    "\n",
    "\n",
    "# checking frac_drug_services\n",
    "print(\"=== Distinct frac_drug_services values ===\")\n",
    "provider_agg.select(\"frac_drug_services\").distinct().orderBy(\"frac_drug_services\").show()\n",
    "\n",
    "# checking how many providers have zero drug‐share\n",
    "zero_drug_count = provider_agg.filter(col(\"frac_drug_services\") == 0.0).count()\n",
    "print(f\"Providers with frac_drug_services = 0.0: {zero_drug_count:,}\")\n"
   ]
  },
  {
   "cell_type": "markdown",
   "id": "9afb9cb5",
   "metadata": {},
   "source": [
    "## 'List of Excluded Individuals and Entities' (LEIE) - OIG Dataset"
   ]
  },
  {
   "cell_type": "code",
   "execution_count": 43,
   "id": "2ff0163b",
   "metadata": {},
   "outputs": [],
   "source": [
    "# creating a csv path variable\n",
    "leie_csv_path = \"Office of Inspector General - Excluded Individuals and Entities/20250710 LEIE.csv\""
   ]
  },
  {
   "cell_type": "code",
   "execution_count": 44,
   "id": "85a0ee1d",
   "metadata": {},
   "outputs": [],
   "source": [
    "# reading the CSV file into a DataFrame\n",
    "full_leie_df = (\n",
    "    spark.read\n",
    "    .option(\"header\", \"true\")\n",
    "    .option(\"inferSchema\", \"false\")\n",
    "    .csv(leie_csv_path)\n",
    ")"
   ]
  },
  {
   "cell_type": "code",
   "execution_count": 45,
   "id": "f4b7d7aa",
   "metadata": {},
   "outputs": [
    {
     "name": "stdout",
     "output_type": "stream",
     "text": [
      "Available columns:\n",
      "'LASTNAME'\n",
      "'FIRSTNAME'\n",
      "'MIDNAME'\n",
      "'BUSNAME'\n",
      "'GENERAL'\n",
      "'SPECIALTY'\n",
      "'UPIN'\n",
      "'NPI'\n",
      "'DOB'\n",
      "'ADDRESS'\n",
      "'CITY'\n",
      "'STATE'\n",
      "'ZIP'\n",
      "'EXCLTYPE'\n",
      "'EXCLDATE'\n",
      "'REINDATE'\n",
      "'WAIVERDATE'\n",
      "'WVRSTATE'\n"
     ]
    }
   ],
   "source": [
    "# inspecting the column names\n",
    "print(\"Available columns:\")\n",
    "for c in full_leie_df.columns[:]:\n",
    "    print(repr(c))"
   ]
  },
  {
   "cell_type": "code",
   "execution_count": 46,
   "id": "5a204ad5",
   "metadata": {},
   "outputs": [],
   "source": [
    "# selecting the relevant columns I want to keep\n",
    "keep_cols_leie = [\n",
    "    \"NPI\",        \n",
    "    \"LASTNAME\",   \n",
    "    \"FIRSTNAME\",  \n",
    "    \"MIDNAME\",\n",
    "    \"BUSNAME\",    \n",
    "    \"ADDRESS\",    \n",
    "    \"CITY\",       \n",
    "    \"STATE\",      \n",
    "    \"ZIP\",        \n",
    "    \"SPECIALTY\",  \n",
    "    \"EXCLTYPE\",   \n",
    "    \"EXCLDATE\",   \n",
    "    \"REINDATE\",  \n",
    "    \"DOB\",\n",
    "    \"WAIVERDATE\",\n",
    "    \"WVRSTATE\",\n",
    "    \"UPIN\"\n",
    "]"
   ]
  },
  {
   "cell_type": "code",
   "execution_count": 47,
   "id": "c08c0bbd",
   "metadata": {},
   "outputs": [],
   "source": [
    "# creating a new DataFrame with only the selected columns\n",
    "leie_df = full_leie_df.select(*keep_cols_leie)"
   ]
  },
  {
   "cell_type": "code",
   "execution_count": 48,
   "id": "dd15f8c9",
   "metadata": {},
   "outputs": [
    {
     "name": "stdout",
     "output_type": "stream",
     "text": [
      "Schema:\n",
      "root\n",
      " |-- NPI: string (nullable = true)\n",
      " |-- LASTNAME: string (nullable = true)\n",
      " |-- FIRSTNAME: string (nullable = true)\n",
      " |-- MIDNAME: string (nullable = true)\n",
      " |-- BUSNAME: string (nullable = true)\n",
      " |-- ADDRESS: string (nullable = true)\n",
      " |-- CITY: string (nullable = true)\n",
      " |-- STATE: string (nullable = true)\n",
      " |-- ZIP: string (nullable = true)\n",
      " |-- SPECIALTY: string (nullable = true)\n",
      " |-- EXCLTYPE: string (nullable = true)\n",
      " |-- EXCLDATE: string (nullable = true)\n",
      " |-- REINDATE: string (nullable = true)\n",
      " |-- DOB: string (nullable = true)\n",
      " |-- WAIVERDATE: string (nullable = true)\n",
      " |-- WVRSTATE: string (nullable = true)\n",
      " |-- UPIN: string (nullable = true)\n",
      "\n",
      "Sample:\n",
      "+----------+--------+---------+-------+---------------------------+-----------------------------+----------+-----+-----+------------------+--------+--------+--------+----+----------+--------+----+\n",
      "|NPI       |LASTNAME|FIRSTNAME|MIDNAME|BUSNAME                    |ADDRESS                      |CITY      |STATE|ZIP  |SPECIALTY         |EXCLTYPE|EXCLDATE|REINDATE|DOB |WAIVERDATE|WVRSTATE|UPIN|\n",
      "+----------+--------+---------+-------+---------------------------+-----------------------------+----------+-----+-----+------------------+--------+--------+--------+----+----------+--------+----+\n",
      "|0000000000|NULL    |NULL     |NULL   |#1 MARKETING SERVICE, INC  |239 BRIGHTON BEACH AVENUE    |BROOKLYN  |NY   |11235|SOBER HOME        |1128a1  |20200319|00000000|NULL|00000000  |NULL    |NULL|\n",
      "|0000000000|NULL    |NULL     |NULL   |1 BEST CARE, INC           |2161 UNIVERSITY AVENUE W, STE|SAINT PAUL|MN   |55114|HOME HEALTH AGENCY|1128b5  |20230518|00000000|NULL|00000000  |NULL    |NULL|\n",
      "|1972902351|NULL    |NULL     |NULL   |101 FIRST CARE PHARMACY INC|C/O 609 W 191ST STREET, APT D|NEW YORK  |NY   |10040|PHARMACY          |1128b8  |20220320|00000000|NULL|00000000  |NULL    |NULL|\n",
      "|0000000000|NULL    |NULL     |NULL   |14 LAWRENCE AVE PHARMACY   |14 LAWRENCE AVENUE           |SMITHTOWN |NY   |11787|NULL              |1128a1  |19880830|00000000|NULL|00000000  |NULL    |NULL|\n",
      "|0000000000|NULL    |NULL     |NULL   |143 MEDICAL EQUIPMENT CO   |701 NW 36 AVENUE             |MIAMI     |FL   |33125|DME - OXYGEN      |1128b7  |19970620|00000000|NULL|00000000  |NULL    |NULL|\n",
      "+----------+--------+---------+-------+---------------------------+-----------------------------+----------+-----+-----+------------------+--------+--------+--------+----+----------+--------+----+\n",
      "\n"
     ]
    }
   ],
   "source": [
    "# having a sanity check to ensure I loaded the right columns, the correct types, and the data looks okay\n",
    "print(\"Schema:\")\n",
    "leie_df.printSchema()\n",
    "print(\"Sample:\")\n",
    "leie_df.limit(5).show(truncate=False)"
   ]
  },
  {
   "cell_type": "code",
   "execution_count": 49,
   "id": "9a3479e6",
   "metadata": {},
   "outputs": [
    {
     "name": "stdout",
     "output_type": "stream",
     "text": [
      "Total rows: 81774\n"
     ]
    }
   ],
   "source": [
    "# getting the total number of rows in the DataFrame\n",
    "total_rows_leie = leie_df.count()\n",
    "print(f'Total rows: {total_rows_leie}')"
   ]
  },
  {
   "cell_type": "code",
   "execution_count": 50,
   "id": "cebc099b",
   "metadata": {},
   "outputs": [
    {
     "name": "stdout",
     "output_type": "stream",
     "text": [
      "+---+--------+---------+-------+-------+-------+----+-----+---+---------+--------+--------+--------+----+----------+--------+-----+\n",
      "|NPI|LASTNAME|FIRSTNAME|MIDNAME|BUSNAME|ADDRESS|CITY|STATE|ZIP|SPECIALTY|EXCLTYPE|EXCLDATE|REINDATE| DOB|WAIVERDATE|WVRSTATE| UPIN|\n",
      "+---+--------+---------+-------+-------+-------+----+-----+---+---------+--------+--------+--------+----+----------+--------+-----+\n",
      "|  0|    3358|     3358|  24009|  78416|      4|   0|    0|  0|     4088|       0|       0|       0|4222|         0|   81762|75791|\n",
      "+---+--------+---------+-------+-------+-------+----+-----+---+---------+--------+--------+--------+----+----------+--------+-----+\n",
      "\n"
     ]
    }
   ],
   "source": [
    "# getting the null counts for each column\n",
    "leie_df.select(\n",
    "    *[sum_(col(c).isNull().cast('int')).alias(c) for c in leie_df.columns]\n",
    ").show()"
   ]
  },
  {
   "cell_type": "code",
   "execution_count": 51,
   "id": "5287de3e",
   "metadata": {},
   "outputs": [],
   "source": [
    "# comoputing normalized names and checking for collisions\n",
    "# checking for collisions as I don't want to accidently end up with two originals mapping to the same cleaned name\n",
    "\n",
    "# applying the normalized names to every column I plan to keep\n",
    "normalized_names = []\n",
    "for original_name in keep_cols_leie:\n",
    "    new_name = normalize_col(original_name)\n",
    "    normalized_names.append(new_name)\n",
    "\n",
    "# counting how many times each cleaned name shows up\n",
    "name_counts = Counter(normalized_names)\n",
    "\n",
    "# pulling out any names that show up more than once\n",
    "duplicates = [name for name, count in name_counts.items() if count > 1]\n",
    "\n",
    "# bailing out early, if a coliision is detected\n",
    "if duplicates:\n",
    "    raise RuntimeError(f'Column name conflict after normalization: {duplicates}')"
   ]
  },
  {
   "cell_type": "code",
   "execution_count": 52,
   "id": "1e0698ba",
   "metadata": {},
   "outputs": [],
   "source": [
    "# building a new DataFrame with normalized column names\n",
    "\n",
    "# building a list of expressions to rename the columns in the DataFrame\n",
    "renamed_columns_leie = [\n",
    "    col(old).alias(new)\n",
    "    for old, new in zip(keep_cols_leie, normalized_names)\n",
    "]\n",
    "\n",
    "# applying \n",
    "normalized_leie = leie_df.select(*renamed_columns_leie)"
   ]
  },
  {
   "cell_type": "code",
   "execution_count": 53,
   "id": "670cd570",
   "metadata": {},
   "outputs": [
    {
     "name": "stdout",
     "output_type": "stream",
     "text": [
      "root\n",
      " |-- npi: string (nullable = true)\n",
      " |-- lastname: string (nullable = true)\n",
      " |-- firstname: string (nullable = true)\n",
      " |-- midname: string (nullable = true)\n",
      " |-- busname: string (nullable = true)\n",
      " |-- address: string (nullable = true)\n",
      " |-- city: string (nullable = true)\n",
      " |-- state: string (nullable = true)\n",
      " |-- zip: string (nullable = true)\n",
      " |-- specialty: string (nullable = true)\n",
      " |-- excltype: string (nullable = true)\n",
      " |-- excldate: string (nullable = true)\n",
      " |-- reindate: string (nullable = true)\n",
      " |-- dob: string (nullable = true)\n",
      " |-- waiverdate: string (nullable = true)\n",
      " |-- wvrstate: string (nullable = true)\n",
      " |-- upin: string (nullable = true)\n",
      "\n",
      "+----------+--------+---------+-------+---------------------------+-----------------------------+----------+-----+-----+------------------+--------+--------+--------+----+----------+--------+----+\n",
      "|npi       |lastname|firstname|midname|busname                    |address                      |city      |state|zip  |specialty         |excltype|excldate|reindate|dob |waiverdate|wvrstate|upin|\n",
      "+----------+--------+---------+-------+---------------------------+-----------------------------+----------+-----+-----+------------------+--------+--------+--------+----+----------+--------+----+\n",
      "|0000000000|NULL    |NULL     |NULL   |#1 MARKETING SERVICE, INC  |239 BRIGHTON BEACH AVENUE    |BROOKLYN  |NY   |11235|SOBER HOME        |1128a1  |20200319|00000000|NULL|00000000  |NULL    |NULL|\n",
      "|0000000000|NULL    |NULL     |NULL   |1 BEST CARE, INC           |2161 UNIVERSITY AVENUE W, STE|SAINT PAUL|MN   |55114|HOME HEALTH AGENCY|1128b5  |20230518|00000000|NULL|00000000  |NULL    |NULL|\n",
      "|1972902351|NULL    |NULL     |NULL   |101 FIRST CARE PHARMACY INC|C/O 609 W 191ST STREET, APT D|NEW YORK  |NY   |10040|PHARMACY          |1128b8  |20220320|00000000|NULL|00000000  |NULL    |NULL|\n",
      "|0000000000|NULL    |NULL     |NULL   |14 LAWRENCE AVE PHARMACY   |14 LAWRENCE AVENUE           |SMITHTOWN |NY   |11787|NULL              |1128a1  |19880830|00000000|NULL|00000000  |NULL    |NULL|\n",
      "|0000000000|NULL    |NULL     |NULL   |143 MEDICAL EQUIPMENT CO   |701 NW 36 AVENUE             |MIAMI     |FL   |33125|DME - OXYGEN      |1128b7  |19970620|00000000|NULL|00000000  |NULL    |NULL|\n",
      "+----------+--------+---------+-------+---------------------------+-----------------------------+----------+-----+-----+------------------+--------+--------+--------+----+----------+--------+----+\n",
      "only showing top 5 rows\n"
     ]
    }
   ],
   "source": [
    "# doing a quick sanity check to ensure the new DataFrame has the correct columns\n",
    "normalized_leie.printSchema()\n",
    "normalized_leie.show(5, truncate=False)"
   ]
  },
  {
   "cell_type": "code",
   "execution_count": 54,
   "id": "9f9b14c4",
   "metadata": {},
   "outputs": [],
   "source": [
    "# moving onto the cleaning values step of the LEIE DataFrame\n",
    "\n",
    "leie = normalized_leie\n",
    "\n",
    "\n",
    "# trimming strings and converting empty strings to nulls\n",
    "for c, t in leie.dtypes:\n",
    "    if t == \"string\":\n",
    "        leie = leie.withColumn(c, when(trim(col(c)) == \"\", None).otherwise(trim(col(c))))"
   ]
  },
  {
   "cell_type": "code",
   "execution_count": 55,
   "id": "3c1a5c66",
   "metadata": {},
   "outputs": [],
   "source": [
    "# keeping NPI and ZIP as strings, but normalizing them\n",
    "leie = (leie\n",
    "    .withColumn(\"npi\", regexp_replace(col(\"npi\"), r\"[^0-9]\", \"\"))\n",
    "    .withColumn(\"npi_valid\", when(col(\"npi\").rlike(r\"^(?!0{10})\\d{10}$\"), 1).otherwise(0).cast(IntegerType()))\n",
    "    .withColumn(\"zip5\", substring(regexp_replace(col(\"zip\"), r\"[^0-9]\", \"\"), 1, 5))\n",
    "    .drop(\"zip\")\n",
    ")"
   ]
  },
  {
   "cell_type": "code",
   "execution_count": 56,
   "id": "264f447d",
   "metadata": {},
   "outputs": [],
   "source": [
    "# standardizing codes/geo (UPPER only where it matters)\n",
    "leie = (leie\n",
    "    .withColumn(\"state\", when(col(\"state\").rlike(r\"^[A-Za-z]{2}$\"), upper(col(\"state\"))).otherwise(lit(None)))\n",
    "    .withColumnRenamed(\"wvrstate\", \"waiverstate\")\n",
    "    .withColumn(\"waiverstate\", when(col(\"waiverstate\").rlike(r\"^[A-Za-z]{2}$\"), upper(col(\"waiverstate\"))).otherwise(lit(None)))\n",
    "    .withColumn(\"excltype\", upper(col(\"excltype\")))         # canonicalize code\n",
    "    .withColumn(\"specialty\", upper(col(\"specialty\")))       # optional but helps grouping\n",
    ")"
   ]
  },
  {
   "cell_type": "code",
   "execution_count": 57,
   "id": "0b5f248e",
   "metadata": {},
   "outputs": [],
   "source": [
    "# handling the dates\n",
    "# treating 00000000 as null\n",
    "def parse_date(cname):\n",
    "    digits = regexp_replace(col(cname), r\"[^0-9]\", \"\")\n",
    "    yyyymmdd = when(digits.rlike(r\"^\\d{8}$\") & (digits != lit(\"00000000\")), to_date(digits, \"yyyyMMdd\"))\n",
    "    return coalesce(yyyymmdd, to_date(col(cname), \"MM/dd/yyyy\"),\n",
    "                    to_date(col(cname), \"M/d/yyyy\"), to_date(col(cname), \"yyyy-MM-dd\"))\n",
    "\n",
    "leie = (leie\n",
    "    .withColumn(\"excldate_dt\",   parse_date(\"excldate\").cast(DateType()))\n",
    "    .withColumn(\"reindate_dt\",   parse_date(\"reindate\").cast(DateType()))\n",
    "    .withColumn(\"waiverdate_dt\", parse_date(\"waiverdate\").cast(DateType()))\n",
    "    .withColumn(\"dob_dt\",        parse_date(\"dob\").cast(DateType()))\n",
    "    .drop(\"excldate\",\"reindate\",\"waiverdate\",\"dob\")\n",
    ")"
   ]
  },
  {
   "cell_type": "code",
   "execution_count": 58,
   "id": "86b1f986",
   "metadata": {},
   "outputs": [],
   "source": [
    "# creating a flag for whether the record is an organization or not\n",
    "leie = leie.withColumn(\"is_org\", when(col(\"busname\").isNotNull() & (col(\"busname\") != \"\"), 1).otherwise(0).cast(IntegerType()))\n",
    "as_of = to_date(lit(None))  # if you want \"today\", use current_date()\n",
    "as_of = lit(None)           # or set to a fixed as-of date for reproducibility\n",
    "\n",
    "as_of = current_date()\n",
    "\n",
    "leie = (leie\n",
    "    .withColumn(\"has_excl\", when(col(\"excldate_dt\").isNotNull(), 1).otherwise(0).cast(IntegerType()))\n",
    "    .withColumn(\"is_currently_excluded\",\n",
    "        when(\n",
    "            (col(\"excldate_dt\").isNotNull()) &\n",
    "            (col(\"waiverdate_dt\").isNull()) &\n",
    "            (col(\"reindate_dt\").isNull() | (col(\"reindate_dt\") > as_of)),\n",
    "            1\n",
    "        ).otherwise(0).cast(IntegerType())\n",
    "    )\n",
    "    .withColumn(\"exclusion_start\", col(\"excldate_dt\").cast(DateType()))\n",
    "    .withColumn(\"exclusion_end_effective\", coalesce(col(\"reindate_dt\"), as_of).cast(DateType()))\n",
    "    .withColumn(\"exclusion_duration_days\",\n",
    "        when(col(\"excldate_dt\").isNotNull(), datediff(col(\"exclusion_end_effective\"), col(\"exclusion_start\"))).cast(IntegerType())\n",
    "    )\n",
    ")"
   ]
  },
  {
   "cell_type": "code",
   "execution_count": 59,
   "id": "639fa4ea",
   "metadata": {},
   "outputs": [],
   "source": [
    "# aggregating and making one row per NPI\n",
    "leie_with_npi = leie.filter(col(\"npi_valid\") == 1)\n",
    "\n",
    "leie_by_npi = (leie_with_npi\n",
    "    .groupBy(\"npi\")\n",
    "    .agg(\n",
    "        countDistinct(\"excldate_dt\").cast(IntegerType()).alias(\"exclusion_count\"),\n",
    "        min(\"excldate_dt\").cast(DateType()).alias(\"first_excldate\"),\n",
    "        max(\"excldate_dt\").cast(DateType()).alias(\"most_recent_excldate\"),\n",
    "        max(\"is_currently_excluded\").cast(IntegerType()).alias(\"is_currently_excluded\"),\n",
    "        max(\"waiverdate_dt\").cast(DateType()).alias(\"last_waiverdate\"),\n",
    "        max(\"reindate_dt\").cast(DateType()).alias(\"last_reindate\")\n",
    "    )\n",
    ")"
   ]
  },
  {
   "cell_type": "markdown",
   "id": "54e3d575",
   "metadata": {},
   "source": [
    "### Working on joining the three datasets"
   ]
  },
  {
   "cell_type": "code",
   "execution_count": null,
   "id": "82996867",
   "metadata": {},
   "outputs": [],
   "source": [
    "wrangled_npi_df.write.mode(\"overwrite\").parquet(\"curated/npi_nodes.parquet\")\n",
    "provider_agg.write.mode(\"overwrite\").parquet(\"curated/puf_provider_agg.parquet\")\n",
    "leie_by_npi.write.mode(\"overwrite\").parquet(\"curated/leie_by_npi.parquet\")\n"
   ]
  }
 ],
 "metadata": {
  "kernelspec": {
   "display_name": "ds-env",
   "language": "python",
   "name": "python3"
  },
  "language_info": {
   "codemirror_mode": {
    "name": "ipython",
    "version": 3
   },
   "file_extension": ".py",
   "mimetype": "text/x-python",
   "name": "python",
   "nbconvert_exporter": "python",
   "pygments_lexer": "ipython3",
   "version": "3.11.13"
  }
 },
 "nbformat": 4,
 "nbformat_minor": 5
}
