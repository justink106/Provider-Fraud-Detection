{
 "cells": [
  {
   "cell_type": "markdown",
   "id": "1fa88621",
   "metadata": {},
   "source": [
    "# Provider Fraud Detection - Data Wrangling"
   ]
  },
  {
   "cell_type": "code",
   "execution_count": 1,
   "id": "bf399e47",
   "metadata": {},
   "outputs": [
    {
     "name": "stderr",
     "output_type": "stream",
     "text": [
      "WARNING: Using incubator modules: jdk.incubator.vector\n",
      "Using Spark's default log4j profile: org/apache/spark/log4j2-defaults.properties\n",
      "Setting default log level to \"WARN\".\n",
      "To adjust logging level use sc.setLogLevel(newLevel). For SparkR, use setLogLevel(newLevel).\n",
      "Using Spark's default log4j profile: org/apache/spark/log4j2-defaults.properties\n",
      "Setting default log level to \"WARN\".\n",
      "To adjust logging level use sc.setLogLevel(newLevel). For SparkR, use setLogLevel(newLevel).\n",
      "25/07/25 18:52:40 WARN NativeCodeLoader: Unable to load native-hadoop library for your platform... using builtin-java classes where applicable\n",
      "25/07/25 18:52:40 WARN NativeCodeLoader: Unable to load native-hadoop library for your platform... using builtin-java classes where applicable\n",
      "                                                                                \r"
     ]
    },
    {
     "name": "stdout",
     "output_type": "stream",
     "text": [
      "+-----+---+\n",
      "| Name|Age|\n",
      "+-----+---+\n",
      "|Alice| 34|\n",
      "|  Bob| 45|\n",
      "|Cathy| 29|\n",
      "+-----+---+\n",
      "\n"
     ]
    }
   ],
   "source": [
    "from pyspark.sql import SparkSession\n",
    "\n",
    "# Create a SparkSession\n",
    "spark = SparkSession.builder \\\n",
    "    .appName(\"PySparkTest\") \\\n",
    "    .master(\"local[*]\") \\\n",
    "    .getOrCreate()\n",
    "\n",
    "# Create a simple DataFrame\n",
    "data = [(\"Alice\", 34), (\"Bob\", 45), (\"Cathy\", 29)]\n",
    "columns = [\"Name\", \"Age\"]\n",
    "df = spark.createDataFrame(data, columns)\n",
    "\n",
    "# Show the DataFrame\n",
    "df.show()\n"
   ]
  },
  {
   "cell_type": "code",
   "execution_count": 2,
   "id": "fa4b1d65",
   "metadata": {},
   "outputs": [
    {
     "name": "stdout",
     "output_type": "stream",
     "text": [
      "4.0.0\n"
     ]
    }
   ],
   "source": [
    "print(spark.sparkContext.version)\n"
   ]
  },
  {
   "cell_type": "code",
   "execution_count": null,
   "id": "e5f02ec8",
   "metadata": {},
   "outputs": [
    {
     "name": "stderr",
     "output_type": "stream",
     "text": [
      "[Stage 4:===================================================>       (7 + 1) / 8]\r"
     ]
    },
    {
     "name": "stdout",
     "output_type": "stream",
     "text": [
      "+--------+-------------------------+----------------+-----------+-------------------+------------------+-------------------+------------------------+--------------------------+-------------------------+-----------------------+------------------------+----------------------+--------------------------+--------------------+---------------------+-----------------+--------------+\n",
      "|HCPCS_CD|HCPCS_INITIAL_MODIFIER_CD|PROVIDER_SPEC_CD|CARRIER_NUM|PRICING_LOCALITY_CD|TYPE_OF_SERVICE_CD|PLACE_OF_SERVICE_CD|HCPCS_SECOND_MODIFIER_CD|PSPS_SUBMITTED_SERVICE_CNT|PSPS_SUBMITTED_CHARGE_AMT|PSPS_ALLOWED_CHARGE_AMT|PSPS_DENIED_SERVICES_CNT|PSPS_DENIED_CHARGE_AMT|PSPS_ASSIGNED_SERVICES_CNT|PSPS_NCH_PAYMENT_AMT|PSPS_HCPCS_ASC_IND_CD|PSPS_ERROR_IND_CD|HCPCS_BETOS_CD|\n",
      "+--------+-------------------------+----------------+-----------+-------------------+------------------+-------------------+------------------------+--------------------------+-------------------------+-----------------------+------------------------+----------------------+--------------------------+--------------------+---------------------+-----------------+--------------+\n",
      "|   A6010|                       A6|              23|      10112|                 00|                 S|                 12|                    NULL|                       180|                  17051.4|                      0|                     180|               17051.4|                       180|                 0.0|                    N|                0|           D1A|\n",
      "|   70551|                       26|              94|       8102|                 00|                 4|                 21|                      51|                        24|                     7173|                1553.04|                       *|                     *|                        24|             1161.68|                    N|                0|           I2C|\n",
      "|   64493|                       50|              05|       5302|                 99|                 2|                 22|                    NULL|                       211|                 153023.5|               22464.64|                      35|              26240.74|                       211|            17099.91|                    N|                0|           P6B|\n",
      "|   97530|                       GO|              67|      10212|                 01|                 1|                 13|                      KX|                     13562|                 838726.8|              429432.12|                     150|                9191.1|                     13562|           336590.67|                    N|                0|           P6C|\n",
      "|   73000|                       LT|              50|      14212|                 99|                 4|                 11|                    NULL|                         *|                        *|                      *|                       *|                     *|                         *|               91.96|                    N|                0|           I1B|\n",
      "+--------+-------------------------+----------------+-----------+-------------------+------------------+-------------------+------------------------+--------------------------+-------------------------+-----------------------+------------------------+----------------------+--------------------------+--------------------+---------------------+-----------------+--------------+\n",
      "only showing top 5 rows\n"
     ]
    },
    {
     "name": "stderr",
     "output_type": "stream",
     "text": [
      "                                                                                \r"
     ]
    }
   ],
   "source": [
    "# Load a large dataset from a subfolder and show a few rows\n",
    "df_large = spark.read.csv(\"CMS_Physician_Supplier_Procedure_Summary/Physician_Supplier_Procedure_Summary.csv\", header=True, inferSchema=True)\n",
    "df_large.show(5)  # Show first 5 rows"
   ]
  },
  {
   "cell_type": "code",
   "execution_count": null,
   "id": "514d7cb1",
   "metadata": {},
   "outputs": [],
   "source": []
  }
 ],
 "metadata": {
  "kernelspec": {
   "display_name": "ds-env",
   "language": "python",
   "name": "python3"
  },
  "language_info": {
   "codemirror_mode": {
    "name": "ipython",
    "version": 3
   },
   "file_extension": ".py",
   "mimetype": "text/x-python",
   "name": "python",
   "nbconvert_exporter": "python",
   "pygments_lexer": "ipython3",
   "version": "3.11.13"
  }
 },
 "nbformat": 4,
 "nbformat_minor": 5
}
