{
 "cells": [
  {
   "cell_type": "markdown",
   "id": "7f50821c",
   "metadata": {},
   "source": [
    "# Provider Fraud Detection - Data Wrangling\n",
    "\n",
    "### In this notebook we will focus on collecting, organizing, defining, and cleaning the relevant datasets for the Provider Fraud Detection model"
   ]
  },
  {
   "cell_type": "markdown",
   "id": "a04193c5",
   "metadata": {},
   "source": [
    "#### 1.) Ingest & Inspect Raw Files\n",
    "#### 2.) Standardize Column Names & Types\n",
    "#### 3.) Clean and Dedupe (remove duplications)\n",
    "#### 4.) Normalize & Enrich\n",
    "#### 5.) Merge/Join Tables\n",
    "#### 6.) Aggregate & Snapshot"
   ]
  },
  {
   "cell_type": "code",
   "execution_count": 29,
   "id": "d3af88ed",
   "metadata": {},
   "outputs": [],
   "source": [
    "# loading modules\n",
    "from pyspark.sql import SparkSession\n",
    "from pyspark.sql.types import StructType, StructField, StringType\n",
    "from pyspark.sql.functions import (col, when, sum as sum_, trim, to_date, when, current_date, date_diff, lit)\n",
    "from functools import reduce\n",
    "from pyspark.sql import functions as F\n",
    "import re\n",
    "from collections import Counter\n",
    "\n",
    "from pyspark.sql import Window\n",
    "from pyspark.sql.functions import row_number"
   ]
  },
  {
   "cell_type": "code",
   "execution_count": 2,
   "id": "b926b8f0",
   "metadata": {},
   "outputs": [
    {
     "name": "stderr",
     "output_type": "stream",
     "text": [
      "WARNING: Using incubator modules: jdk.incubator.vector\n",
      "Using Spark's default log4j profile: org/apache/spark/log4j2-defaults.properties\n",
      "Setting default log level to \"WARN\".\n",
      "To adjust logging level use sc.setLogLevel(newLevel). For SparkR, use setLogLevel(newLevel).\n",
      "25/08/01 20:10:07 WARN NativeCodeLoader: Unable to load native-hadoop library for your platform... using builtin-java classes where applicable\n"
     ]
    }
   ],
   "source": [
    "# starting Spark session\n",
    "spark = SparkSession.builder.appName('ProviderFraudDetection').getOrCreate()"
   ]
  },
  {
   "cell_type": "code",
   "execution_count": 3,
   "id": "9ee85951",
   "metadata": {},
   "outputs": [],
   "source": [
    "# creating a csv path variable\n",
    "csv_path = \"NPPES_Data_Dissemination_July_2025_V2/npidata_pfile_20050523-20250713.csv\"\n"
   ]
  },
  {
   "cell_type": "code",
   "execution_count": 4,
   "id": "2154a858",
   "metadata": {},
   "outputs": [],
   "source": [
    "# reading the CSV file into a DataFrame\n",
    "full_npi_df = (\n",
    "    spark.read\n",
    "    .option(\"header\", \"true\")\n",
    "    .option(\"inferSchema\", \"false\")\n",
    "    .csv(csv_path)\n",
    ")"
   ]
  },
  {
   "cell_type": "code",
   "execution_count": 5,
   "id": "82d550f0",
   "metadata": {},
   "outputs": [
    {
     "name": "stdout",
     "output_type": "stream",
     "text": [
      "Available columns (first 50 shown):\n",
      "'NPI'\n",
      "'Entity Type Code'\n",
      "'Replacement NPI'\n",
      "'Employer Identification Number (EIN)'\n",
      "'Provider Organization Name (Legal Business Name)'\n",
      "'Provider Last Name (Legal Name)'\n",
      "'Provider First Name'\n",
      "'Provider Middle Name'\n",
      "'Provider Name Prefix Text'\n",
      "'Provider Name Suffix Text'\n",
      "'Provider Credential Text'\n",
      "'Provider Other Organization Name'\n",
      "'Provider Other Organization Name Type Code'\n",
      "'Provider Other Last Name'\n",
      "'Provider Other First Name'\n",
      "'Provider Other Middle Name'\n",
      "'Provider Other Name Prefix Text'\n",
      "'Provider Other Name Suffix Text'\n",
      "'Provider Other Credential Text'\n",
      "'Provider Other Last Name Type Code'\n",
      "'Provider First Line Business Mailing Address'\n",
      "'Provider Second Line Business Mailing Address'\n",
      "'Provider Business Mailing Address City Name'\n",
      "'Provider Business Mailing Address State Name'\n",
      "'Provider Business Mailing Address Postal Code'\n",
      "'Provider Business Mailing Address Country Code (If outside U.S.)'\n",
      "'Provider Business Mailing Address Telephone Number'\n",
      "'Provider Business Mailing Address Fax Number'\n",
      "'Provider First Line Business Practice Location Address'\n",
      "'Provider Second Line Business Practice Location Address'\n",
      "'Provider Business Practice Location Address City Name'\n",
      "'Provider Business Practice Location Address State Name'\n",
      "'Provider Business Practice Location Address Postal Code'\n",
      "'Provider Business Practice Location Address Country Code (If outside U.S.)'\n",
      "'Provider Business Practice Location Address Telephone Number'\n",
      "'Provider Business Practice Location Address Fax Number'\n",
      "'Provider Enumeration Date'\n",
      "'Last Update Date'\n",
      "'NPI Deactivation Reason Code'\n",
      "'NPI Deactivation Date'\n",
      "'NPI Reactivation Date'\n",
      "'Provider Sex Code'\n",
      "'Authorized Official Last Name'\n",
      "'Authorized Official First Name'\n",
      "'Authorized Official Middle Name'\n",
      "'Authorized Official Title or Position'\n",
      "'Authorized Official Telephone Number'\n",
      "'Healthcare Provider Taxonomy Code_1'\n",
      "'Provider License Number_1'\n",
      "'Provider License Number State Code_1'\n"
     ]
    }
   ],
   "source": [
    "# inspecting the column names\n",
    "print(\"Available columns (first 50 shown):\")\n",
    "for c in full_npi_df.columns[:50]:\n",
    "    print(repr(c))\n",
    "    "
   ]
  },
  {
   "cell_type": "code",
   "execution_count": 9,
   "id": "58adc07d",
   "metadata": {},
   "outputs": [],
   "source": [
    "# selecting the relevant columns I want to keep\n",
    "keep_cols = [\n",
    "    \"NPI\",\n",
    "    \"Entity Type Code\",\n",
    "    \"Provider Business Practice Location Address State Name\",\n",
    "    \"Provider Business Practice Location Address Postal Code\",\n",
    "    \"Is Organization Subpart\",\n",
    "    \"Parent Organization TIN\",\n",
    "    \"Parent Organization LBN\",        \n",
    "    \"Provider Enumeration Date\",\n",
    "    \"Last Update Date\",\n",
    "    \"NPI Deactivation Date\",\n",
    "    \"NPI Reactivation Date\",\n",
    "    \"Is Sole Proprietor\",\n",
    "    \"Healthcare Provider Taxonomy Code_1\",           \n",
    "    \"Healthcare Provider Primary Taxonomy Switch_1\" \n",
    "]"
   ]
  },
  {
   "cell_type": "code",
   "execution_count": 10,
   "id": "2cf02237",
   "metadata": {},
   "outputs": [],
   "source": [
    "# creating a new DataFrame with only the selected columns\n",
    "npi_df = full_npi_df.select(*keep_cols)\n"
   ]
  },
  {
   "cell_type": "code",
   "execution_count": 11,
   "id": "3d3d944e",
   "metadata": {},
   "outputs": [
    {
     "name": "stdout",
     "output_type": "stream",
     "text": [
      "Schema:\n",
      "root\n",
      " |-- NPI: string (nullable = true)\n",
      " |-- Entity Type Code: string (nullable = true)\n",
      " |-- Provider Business Practice Location Address State Name: string (nullable = true)\n",
      " |-- Provider Business Practice Location Address Postal Code: string (nullable = true)\n",
      " |-- Is Organization Subpart: string (nullable = true)\n",
      " |-- Parent Organization TIN: string (nullable = true)\n",
      " |-- Parent Organization LBN: string (nullable = true)\n",
      " |-- Provider Enumeration Date: string (nullable = true)\n",
      " |-- Last Update Date: string (nullable = true)\n",
      " |-- NPI Deactivation Date: string (nullable = true)\n",
      " |-- NPI Reactivation Date: string (nullable = true)\n",
      " |-- Is Sole Proprietor: string (nullable = true)\n",
      " |-- Healthcare Provider Taxonomy Code_1: string (nullable = true)\n",
      " |-- Healthcare Provider Primary Taxonomy Switch_1: string (nullable = true)\n",
      "\n",
      "Sample:\n",
      "+----------+----------------+------------------------------------------------------+-------------------------------------------------------+-----------------------+-----------------------+-----------------------+-------------------------+----------------+---------------------+---------------------+------------------+-----------------------------------+---------------------------------------------+\n",
      "|NPI       |Entity Type Code|Provider Business Practice Location Address State Name|Provider Business Practice Location Address Postal Code|Is Organization Subpart|Parent Organization TIN|Parent Organization LBN|Provider Enumeration Date|Last Update Date|NPI Deactivation Date|NPI Reactivation Date|Is Sole Proprietor|Healthcare Provider Taxonomy Code_1|Healthcare Provider Primary Taxonomy Switch_1|\n",
      "+----------+----------------+------------------------------------------------------+-------------------------------------------------------+-----------------------+-----------------------+-----------------------+-------------------------+----------------+---------------------+---------------------+------------------+-----------------------------------+---------------------------------------------+\n",
      "|1679576722|1               |NE                                                    |688472944                                              |NULL                   |NULL                   |NULL                   |05/23/2005               |07/08/2007      |NULL                 |NULL                 |X                 |207X00000X                         |Y                                            |\n",
      "|1588667638|1               |FL                                                    |322044736                                              |NULL                   |NULL                   |NULL                   |05/23/2005               |05/29/2014      |NULL                 |NULL                 |N                 |207RC0000X                         |Y                                            |\n",
      "|1497758544|2               |NC                                                    |283044552                                              |N                      |NULL                   |NULL                   |05/23/2005               |09/26/2011      |NULL                 |NULL                 |NULL              |251G00000X                         |Y                                            |\n",
      "|1306849450|NULL            |NULL                                                  |NULL                                                   |NULL                   |NULL                   |NULL                   |NULL                     |NULL            |03/03/2021           |NULL                 |NULL              |NULL                               |NULL                                         |\n",
      "|1215930367|1               |TX                                                    |770901243                                              |NULL                   |NULL                   |NULL                   |05/23/2005               |11/25/2014      |NULL                 |NULL                 |N                 |174400000X                         |N                                            |\n",
      "+----------+----------------+------------------------------------------------------+-------------------------------------------------------+-----------------------+-----------------------+-----------------------+-------------------------+----------------+---------------------+---------------------+------------------+-----------------------------------+---------------------------------------------+\n",
      "\n"
     ]
    }
   ],
   "source": [
    "# having a sanity check to ensure I loaded the right columns, the correct types, and the data looks okay\n",
    "print(\"Schema:\")\n",
    "npi_df.printSchema()\n",
    "print(\"Sample:\")\n",
    "npi_df.limit(5).show(truncate=False)"
   ]
  },
  {
   "cell_type": "code",
   "execution_count": 12,
   "id": "cecf6e6b",
   "metadata": {},
   "outputs": [
    {
     "name": "stderr",
     "output_type": "stream",
     "text": [
      "[Stage 2:==================================================>      (72 + 8) / 81]\r"
     ]
    },
    {
     "name": "stdout",
     "output_type": "stream",
     "text": [
      "Total rows: 9026996\n"
     ]
    },
    {
     "name": "stderr",
     "output_type": "stream",
     "text": [
      "                                                                                \r"
     ]
    }
   ],
   "source": [
    "# getting the total number of rows in the DataFrame\n",
    "total_rows = npi_df.count()\n",
    "print(f'Total rows: {total_rows}')"
   ]
  },
  {
   "cell_type": "code",
   "execution_count": 13,
   "id": "1fc4437e",
   "metadata": {},
   "outputs": [
    {
     "name": "stderr",
     "output_type": "stream",
     "text": [
      "[Stage 5:========================================================>(80 + 1) / 81]\r"
     ]
    },
    {
     "name": "stdout",
     "output_type": "stream",
     "text": [
      "+---+----------------+------------------------------------------------------+-------------------------------------------------------+-----------------------+-----------------------+-----------------------+-------------------------+----------------+---------------------+---------------------+------------------+-----------------------------------+---------------------------------------------+\n",
      "|NPI|Entity Type Code|Provider Business Practice Location Address State Name|Provider Business Practice Location Address Postal Code|Is Organization Subpart|Parent Organization TIN|Parent Organization LBN|Provider Enumeration Date|Last Update Date|NPI Deactivation Date|NPI Reactivation Date|Is Sole Proprietor|Healthcare Provider Taxonomy Code_1|Healthcare Provider Primary Taxonomy Switch_1|\n",
      "+---+----------------+------------------------------------------------------+-------------------------------------------------------+-----------------------+-----------------------+-----------------------+-------------------------+----------------+---------------------+---------------------+------------------+-----------------------------------+---------------------------------------------+\n",
      "|  0|          314026|                                                314028|                                                 314034|                7195283|                8876636|                8876741|                   314026|          314026|              8696420|              9010442|           2145739|                             314042|                                       314042|\n",
      "+---+----------------+------------------------------------------------------+-------------------------------------------------------+-----------------------+-----------------------+-----------------------+-------------------------+----------------+---------------------+---------------------+------------------+-----------------------------------+---------------------------------------------+\n",
      "\n"
     ]
    },
    {
     "name": "stderr",
     "output_type": "stream",
     "text": [
      "                                                                                \r"
     ]
    }
   ],
   "source": [
    "# getting the null counts for each column\n",
    "npi_df.select(\n",
    "    *[sum_(col(c).isNull().cast('int')).alias(c) for c in npi_df.columns]\n",
    ").show()"
   ]
  },
  {
   "cell_type": "markdown",
   "id": "5808e2ec",
   "metadata": {},
   "source": [
    "### Up to this point, I've pulled the columns I am wanting from the NPI data and have checked how many total records there are in addition to how many total number of nulls per column"
   ]
  },
  {
   "cell_type": "code",
   "execution_count": 16,
   "id": "70d15ad0",
   "metadata": {},
   "outputs": [],
   "source": [
    "# now I want to normalize my columns names to ensure a smooth workflow\n",
    "def normalize_col(name: str) -> str:\n",
    "    s = name.strip().lower()\n",
    "    s = re.sub(r'\\(.*?\\)', '', s)        \n",
    "    s = re.sub(r'[^0-9a-z]+', '_', s)    \n",
    "    s = re.sub(r'_+', '_', s)             \n",
    "    return s.strip('_')\n"
   ]
  },
  {
   "cell_type": "code",
   "execution_count": 17,
   "id": "df5c390d",
   "metadata": {},
   "outputs": [],
   "source": [
    "# comoputing normalized names and checking for collisions\n",
    "normalized_names = [normalize_col(c) for c in keep_cols]\n",
    "dupes = [n for n, cnt in Counter(normalized_names).items() if cnt > 1]\n",
    "if dupes:\n",
    "    raise RuntimeError(f\"Normalized name collision detected: {dupes}\")"
   ]
  },
  {
   "cell_type": "code",
   "execution_count": 18,
   "id": "e4b3e464",
   "metadata": {},
   "outputs": [],
   "source": [
    "# building a new DataFrame with normalized column names\n",
    "normalized_npi_df = npi_df.select(\n",
    "    *[col(orig).alias(norm) for orig, norm in zip(keep_cols, normalized_names)]\n",
    ")\n"
   ]
  },
  {
   "cell_type": "code",
   "execution_count": 19,
   "id": "9186d04e",
   "metadata": {},
   "outputs": [
    {
     "name": "stdout",
     "output_type": "stream",
     "text": [
      "root\n",
      " |-- npi: string (nullable = true)\n",
      " |-- entity_type_code: string (nullable = true)\n",
      " |-- provider_business_practice_location_address_state_name: string (nullable = true)\n",
      " |-- provider_business_practice_location_address_postal_code: string (nullable = true)\n",
      " |-- is_organization_subpart: string (nullable = true)\n",
      " |-- parent_organization_tin: string (nullable = true)\n",
      " |-- parent_organization_lbn: string (nullable = true)\n",
      " |-- provider_enumeration_date: string (nullable = true)\n",
      " |-- last_update_date: string (nullable = true)\n",
      " |-- npi_deactivation_date: string (nullable = true)\n",
      " |-- npi_reactivation_date: string (nullable = true)\n",
      " |-- is_sole_proprietor: string (nullable = true)\n",
      " |-- healthcare_provider_taxonomy_code_1: string (nullable = true)\n",
      " |-- healthcare_provider_primary_taxonomy_switch_1: string (nullable = true)\n",
      "\n",
      "+----------+----------------+------------------------------------------------------+-------------------------------------------------------+-----------------------+-----------------------+-----------------------+-------------------------+----------------+---------------------+---------------------+------------------+-----------------------------------+---------------------------------------------+\n",
      "|npi       |entity_type_code|provider_business_practice_location_address_state_name|provider_business_practice_location_address_postal_code|is_organization_subpart|parent_organization_tin|parent_organization_lbn|provider_enumeration_date|last_update_date|npi_deactivation_date|npi_reactivation_date|is_sole_proprietor|healthcare_provider_taxonomy_code_1|healthcare_provider_primary_taxonomy_switch_1|\n",
      "+----------+----------------+------------------------------------------------------+-------------------------------------------------------+-----------------------+-----------------------+-----------------------+-------------------------+----------------+---------------------+---------------------+------------------+-----------------------------------+---------------------------------------------+\n",
      "|1679576722|1               |NE                                                    |688472944                                              |NULL                   |NULL                   |NULL                   |05/23/2005               |07/08/2007      |NULL                 |NULL                 |X                 |207X00000X                         |Y                                            |\n",
      "|1588667638|1               |FL                                                    |322044736                                              |NULL                   |NULL                   |NULL                   |05/23/2005               |05/29/2014      |NULL                 |NULL                 |N                 |207RC0000X                         |Y                                            |\n",
      "|1497758544|2               |NC                                                    |283044552                                              |N                      |NULL                   |NULL                   |05/23/2005               |09/26/2011      |NULL                 |NULL                 |NULL              |251G00000X                         |Y                                            |\n",
      "|1306849450|NULL            |NULL                                                  |NULL                                                   |NULL                   |NULL                   |NULL                   |NULL                     |NULL            |03/03/2021           |NULL                 |NULL              |NULL                               |NULL                                         |\n",
      "|1215930367|1               |TX                                                    |770901243                                              |NULL                   |NULL                   |NULL                   |05/23/2005               |11/25/2014      |NULL                 |NULL                 |N                 |174400000X                         |N                                            |\n",
      "+----------+----------------+------------------------------------------------------+-------------------------------------------------------+-----------------------+-----------------------+-----------------------+-------------------------+----------------+---------------------+---------------------+------------------+-----------------------------------+---------------------------------------------+\n",
      "only showing top 5 rows\n"
     ]
    }
   ],
   "source": [
    "# doing a quick sanity check to ensure the new DataFrame has the correct columns\n",
    "normalized_npi_df.printSchema()\n",
    "normalized_npi_df.show(5, truncate=False)"
   ]
  },
  {
   "cell_type": "code",
   "execution_count": 22,
   "id": "8aaf2ccd",
   "metadata": {},
   "outputs": [],
   "source": [
    "# casting and standardizing the data types\n",
    "clean = (normalized_npi_df\n",
    "    # trim whitespace\n",
    "    .withColumn(\"npi\", trim(col(\"npi\")))\n",
    "    .withColumn(\"entity_type_code\", col(\"entity_type_code\").cast(\"int\"))\n",
    "\n",
    "    # flags: decide mapping after inspecting distinct values\n",
    "    .withColumn(\"is_organization_subpart\", when(col(\"is_organization_subpart\") == \"Y\", 1).otherwise(0))\n",
    "    .withColumn(\"is_sole_proprietor\", when(col(\"is_sole_proprietor\").isin(\"Y\",\"X\"), 1).otherwise(0))\n",
    "\n",
    "    # parse dates (adjust format if the data varies)\n",
    "    .withColumn(\"provider_enumeration_date\", to_date(col(\"provider_enumeration_date\"), \"MM/dd/yyyy\"))\n",
    "    .withColumn(\"last_update_date\", to_date(col(\"last_update_date\"), \"MM/dd/yyyy\"))\n",
    "    .withColumn(\"npi_deactivation_date\", to_date(col(\"npi_deactivation_date\"), \"MM/dd/yyyy\"))\n",
    "    .withColumn(\"npi_reactivation_date\", to_date(col(\"npi_reactivation_date\"), \"MM/dd/yyyy\"))\n",
    ")"
   ]
  },
  {
   "cell_type": "code",
   "execution_count": 23,
   "id": "21d4c7fd",
   "metadata": {},
   "outputs": [],
   "source": [
    "# primary taxonomy extraction with nuance\n",
    "clean = clean.withColumn(\n",
    "    \"primary_taxonomy\",\n",
    "    when(col(\"healthcare_provider_primary_taxonomy_switch_1\") == \"Y\", col(\"healthcare_provider_taxonomy_code_1\"))\n",
    "    .when(col(\"healthcare_provider_primary_taxonomy_switch_1\") == \"X\", col(\"healthcare_provider_taxonomy_code_1\"))  # fallback\n",
    "    .otherwise(None)\n",
    ").withColumn(\n",
    "    \"primary_taxonomy_explicit\",\n",
    "    when(col(\"healthcare_provider_primary_taxonomy_switch_1\") == \"Y\", 1).otherwise(0)\n",
    ").withColumn(\n",
    "    \"primary_taxonomy_unknown\",\n",
    "    when(col(\"healthcare_provider_primary_taxonomy_switch_1\") == \"X\", 1).otherwise(0)\n",
    ").withColumn(\n",
    "    \"primary_taxonomy_source\",\n",
    "    when(col(\"healthcare_provider_primary_taxonomy_switch_1\") == \"Y\", lit(\"explicit\"))\n",
    "    .when(col(\"healthcare_provider_primary_taxonomy_switch_1\") == \"X\", lit(\"fallback\"))\n",
    "    .otherwise(lit(None))\n",
    ")\n"
   ]
  },
  {
   "cell_type": "code",
   "execution_count": 25,
   "id": "2ebde0ae",
   "metadata": {},
   "outputs": [],
   "source": [
    "# lifecycle / derived features\n",
    "clean = (\n",
    "    clean\n",
    "    .withColumn(\"npi_age_days\", date_diff(current_date(), col(\"provider_enumeration_date\")))\n",
    "    .withColumn(\n",
    "        \"is_active\",\n",
    "        when(\n",
    "            (col(\"npi_deactivation_date\").isNull()) |\n",
    "            ((col(\"npi_reactivation_date\").isNotNull()) & (col(\"npi_reactivation_date\") >= col(\"npi_deactivation_date\"))),\n",
    "            lit(1)\n",
    "        ).otherwise(lit(0))\n",
    "    )\n",
    "    .withColumn(\"was_reactivated\", when(col(\"npi_reactivation_date\").isNotNull(), 1).otherwise(0))\n",
    "    .withColumn(\n",
    "        \"deactivated_then_reactivated\",\n",
    "        when((col(\"npi_deactivation_date\").isNotNull()) & (col(\"npi_reactivation_date\").isNotNull()), 1).otherwise(0)\n",
    "    )\n",
    "    .withColumn(\n",
    "        \"has_location\",\n",
    "        when(col(\"provider_business_practice_location_address_state_name\").isNotNull(), 1).otherwise(0)\n",
    "    )\n",
    "    .withColumn(\n",
    "        \"missing_entity_type\",\n",
    "        when(col(\"entity_type_code\").isNull(), 1).otherwise(0)\n",
    "    )\n",
    ")\n",
    "\n"
   ]
  },
  {
   "cell_type": "code",
   "execution_count": 26,
   "id": "819ab539",
   "metadata": {},
   "outputs": [],
   "source": [
    "# creating a completeness score for when I'm de-duping\n",
    "clean = clean.withColumn(\n",
    "    \"completeness_score\",\n",
    "    (when(col(\"primary_taxonomy\").isNotNull(), 1).otherwise(0)\n",
    "     + when(col(\"provider_business_practice_location_address_state_name\").isNotNull(), 1).otherwise(0)\n",
    "     + when(col(\"provider_enumeration_date\").isNotNull(), 1).otherwise(0)\n",
    "     + when(col(\"entity_type_code\").isNotNull(), 1).otherwise(0))\n",
    ")"
   ]
  },
  {
   "cell_type": "code",
   "execution_count": 27,
   "id": "7bad361b",
   "metadata": {},
   "outputs": [
    {
     "name": "stderr",
     "output_type": "stream",
     "text": [
      "[Stage 9:========================================================>(80 + 1) / 81]\r"
     ]
    },
    {
     "name": "stdout",
     "output_type": "stream",
     "text": [
      "Malformed / unexpected NPI formats: 0\n"
     ]
    },
    {
     "name": "stderr",
     "output_type": "stream",
     "text": [
      "                                                                                \r"
     ]
    }
   ],
   "source": [
    "# validating the NPIs, they should be 10 digits long\n",
    "bad_npis_count = clean.filter(~col(\"npi\").rlike(r'^\\d{10}$')).count()\n",
    "print(f\"Malformed / unexpected NPI formats: {bad_npis_count}\")"
   ]
  },
  {
   "cell_type": "code",
   "execution_count": 30,
   "id": "f824c3c0",
   "metadata": {},
   "outputs": [],
   "source": [
    "# deduplicating based off of latest \"last_update_date\" and then highest completeness score\n",
    "w = Window.partitionBy(\"npi\").orderBy(col(\"last_update_date\").desc_nulls_last(), col(\"completeness_score\").desc())\n",
    "deduped = (\n",
    "    clean\n",
    "    .withColumn(\"rn\", row_number().over(w))\n",
    "    .filter(col(\"rn\") == 1)\n",
    "    .drop(\"rn\")\n",
    ")"
   ]
  },
  {
   "cell_type": "code",
   "execution_count": 31,
   "id": "b32a8393",
   "metadata": {},
   "outputs": [
    {
     "name": "stdout",
     "output_type": "stream",
     "text": [
      "Distinct is_sole_proprietor values:\n"
     ]
    },
    {
     "name": "stderr",
     "output_type": "stream",
     "text": [
      "                                                                                \r"
     ]
    },
    {
     "name": "stdout",
     "output_type": "stream",
     "text": [
      "+------------------+\n",
      "|is_sole_proprietor|\n",
      "+------------------+\n",
      "|                 1|\n",
      "|                 0|\n",
      "+------------------+\n",
      "\n",
      "Primary taxonomy switch distinct modes:\n"
     ]
    },
    {
     "name": "stderr",
     "output_type": "stream",
     "text": [
      "                                                                                \r"
     ]
    },
    {
     "name": "stdout",
     "output_type": "stream",
     "text": [
      "+---------------------------------------------+\n",
      "|healthcare_provider_primary_taxonomy_switch_1|\n",
      "+---------------------------------------------+\n",
      "|                                            Y|\n",
      "|                                            N|\n",
      "|                                            X|\n",
      "|                                         NULL|\n",
      "+---------------------------------------------+\n",
      "\n",
      "Null counts after transformation:\n"
     ]
    },
    {
     "name": "stderr",
     "output_type": "stream",
     "text": [
      "[Stage 26:===================>                                      (3 + 6) / 9]\r"
     ]
    },
    {
     "name": "stdout",
     "output_type": "stream",
     "text": [
      "+---+----------------+------------------------------------------------------+-------------------------------------------------------+-----------------------+-----------------------+-----------------------+-------------------------+----------------+---------------------+---------------------+------------------+-----------------------------------+---------------------------------------------+----------------+-------------------------+------------------------+-----------------------+------------+---------+---------------+----------------------------+------------+-------------------+------------------+\n",
      "|npi|entity_type_code|provider_business_practice_location_address_state_name|provider_business_practice_location_address_postal_code|is_organization_subpart|parent_organization_tin|parent_organization_lbn|provider_enumeration_date|last_update_date|npi_deactivation_date|npi_reactivation_date|is_sole_proprietor|healthcare_provider_taxonomy_code_1|healthcare_provider_primary_taxonomy_switch_1|primary_taxonomy|primary_taxonomy_explicit|primary_taxonomy_unknown|primary_taxonomy_source|npi_age_days|is_active|was_reactivated|deactivated_then_reactivated|has_location|missing_entity_type|completeness_score|\n",
      "+---+----------------+------------------------------------------------------+-------------------------------------------------------+-----------------------+-----------------------+-----------------------+-------------------------+----------------+---------------------+---------------------+------------------+-----------------------------------+---------------------------------------------+----------------+-------------------------+------------------------+-----------------------+------------+---------+---------------+----------------------------+------------+-------------------+------------------+\n",
      "|0  |314026          |314028                                                |314034                                                 |0                      |8876636                |8876741                |314026                   |314026          |8696420              |9010442              |0                 |314042                             |314042                                       |1718690         |0                        |0                       |1718690                |314026      |0        |0              |0                           |0           |0                  |0                 |\n",
      "+---+----------------+------------------------------------------------------+-------------------------------------------------------+-----------------------+-----------------------+-----------------------+-------------------------+----------------+---------------------+---------------------+------------------+-----------------------------------+---------------------------------------------+----------------+-------------------------+------------------------+-----------------------+------------+---------+---------------+----------------------------+------------+-------------------+------------------+\n",
      "\n"
     ]
    },
    {
     "name": "stderr",
     "output_type": "stream",
     "text": [
      "                                                                                \r"
     ]
    }
   ],
   "source": [
    "# doing sanity checks after cleaning my NPI dataframe values\n",
    "print(\"Distinct is_sole_proprietor values:\")\n",
    "deduped.select(\"is_sole_proprietor\").distinct().show()\n",
    "print(\"Primary taxonomy switch distinct modes:\")\n",
    "deduped.select(\"healthcare_provider_primary_taxonomy_switch_1\").distinct().show()\n",
    "print(\"Null counts after transformation:\")\n",
    "nulls = deduped.select(*[\n",
    "    F.sum(when(col(c).isNull(), 1).otherwise(0)).alias(c)\n",
    "    for c in deduped.columns\n",
    "])\n",
    "nulls.show(truncate=False)"
   ]
  },
  {
   "cell_type": "code",
   "execution_count": null,
   "id": "d9f14ae1",
   "metadata": {},
   "outputs": [],
   "source": []
  }
 ],
 "metadata": {
  "kernelspec": {
   "display_name": "ds-env",
   "language": "python",
   "name": "python3"
  },
  "language_info": {
   "codemirror_mode": {
    "name": "ipython",
    "version": 3
   },
   "file_extension": ".py",
   "mimetype": "text/x-python",
   "name": "python",
   "nbconvert_exporter": "python",
   "pygments_lexer": "ipython3",
   "version": "3.11.13"
  }
 },
 "nbformat": 4,
 "nbformat_minor": 5
}
