{
 "cells": [
  {
   "cell_type": "markdown",
   "id": "7f50821c",
   "metadata": {},
   "source": [
    "# Provider Fraud Detection Model - Data Wrangling\n",
    "### In this notebook we will focus on collecting, organizing, defining, and cleaning the relevant datasets for the Provider Fraud Detection model\n",
    "#### 1.) Ingesting & Inspecting Files\n",
    "#### 2.) Standardizing Column Names & Types\n",
    "#### 3.) Cleaning Values\n",
    "#### 4.) Deduping (Removing Duplicates)\n",
    "#### 5.) Merging/Joining Tables"
   ]
  },
  {
   "cell_type": "code",
   "execution_count": 3,
   "id": "d3af88ed",
   "metadata": {},
   "outputs": [],
   "source": [
    "# core imports\n",
    "import re\n",
    "import builtins as py  # for py.max / py.min in sampling\n",
    "\n",
    "# essential spark imports\n",
    "from pyspark.sql import SparkSession\n",
    "from pyspark.sql.window import Window\n",
    "from pyspark import StorageLevel\n",
    "\n",
    "# type imports\n",
    "from pyspark.sql.types import IntegerType, DoubleType, DateType\n",
    "\n",
    "# column operations imports\n",
    "from pyspark.sql.functions import (\n",
    "    col, lit, trim, upper, substring,\n",
    "    to_date, datediff, coalesce, regexp_replace, length,\n",
    "    when, row_number, min, max, countDistinct, avg,\n",
    "    sum as sum_, pow, sqrt, greatest,\n",
    "    broadcast, desc_nulls_last\n",
    ")\n"
   ]
  },
  {
   "cell_type": "code",
   "execution_count": 4,
   "id": "e5ea939b",
   "metadata": {},
   "outputs": [],
   "source": [
    "# this function will help me normalize my column names to ensure a smooth workflow\n",
    "# this function will...\n",
    "    # lowercase, trim whitespace\n",
    "    # drop parenthetical notes\n",
    "    # replace non-alphanumeric chars with underscores\n",
    "    # collapse runs of underscores\n",
    "    # strip leading/trailing underscores\n",
    "\n",
    "def normalize_col(column_name: str) -> str:\n",
    "    text = column_name.strip().lower()\n",
    "    text = re.sub(r'\\(.*?\\)', '', text)\n",
    "    text = re.sub(r'[^0-9a-z]+', '_', text)\n",
    "    text = re.sub(r'_+', '_', text)\n",
    "    return text.strip('_')"
   ]
  },
  {
   "cell_type": "code",
   "execution_count": 5,
   "id": "b926b8f0",
   "metadata": {},
   "outputs": [
    {
     "name": "stderr",
     "output_type": "stream",
     "text": [
      "WARNING: Using incubator modules: jdk.incubator.vector\n",
      "Using Spark's default log4j profile: org/apache/spark/log4j2-defaults.properties\n",
      "Setting default log level to \"WARN\".\n",
      "To adjust logging level use sc.setLogLevel(newLevel). For SparkR, use setLogLevel(newLevel).\n",
      "25/08/20 18:54:13 WARN NativeCodeLoader: Unable to load native-hadoop library for your platform... using builtin-java classes where applicable\n"
     ]
    }
   ],
   "source": [
    "# starting Spark session\n",
    "spark = (\n",
    "    SparkSession.builder\n",
    "    .appName(\"ProviderFraudDetection-NN\")\n",
    "    .master(\"local[*]\")\n",
    "    .config(\"spark.driver.memory\", \"12g\")\n",
    "    .config(\"spark.sql.shuffle.partitions\", \"16\")\n",
    "    .config(\"spark.sql.adaptive.enabled\", \"true\")\n",
    "    .config(\"spark.memory.fraction\", \"0.6\")\n",
    "    .getOrCreate()\n",
    ")"
   ]
  },
  {
   "cell_type": "code",
   "execution_count": 6,
   "id": "45a635af",
   "metadata": {},
   "outputs": [
    {
     "name": "stdout",
     "output_type": "stream",
     "text": [
      "Training as-of date: 2023-12-31\n"
     ]
    }
   ],
   "source": [
    "# time freeze to prevent leakage (aligns with my Medicare Physician and Practitioners dataset)\n",
    "AS_OF_STR = \"2023-12-31\"\n",
    "print(\"Training as-of date:\", AS_OF_STR)"
   ]
  },
  {
   "cell_type": "markdown",
   "id": "3caa6e6d",
   "metadata": {},
   "source": [
    "## NPPES NPI Registry Dataset"
   ]
  },
  {
   "cell_type": "code",
   "execution_count": 7,
   "id": "9ee85951",
   "metadata": {},
   "outputs": [],
   "source": [
    "# creating a csv path variable\n",
    "npi_csv_path = \"NPPES_Data_Dissemination_July_2025_V2/npidata_pfile_20050523-20250713.csv\"\n"
   ]
  },
  {
   "cell_type": "code",
   "execution_count": 8,
   "id": "2154a858",
   "metadata": {},
   "outputs": [],
   "source": [
    "# reading the CSV file into a DataFrame\n",
    "full_npi_df = (\n",
    "    spark.read\n",
    "    .option(\"header\", \"true\")\n",
    "    .option(\"inferSchema\", \"false\")\n",
    "    .csv(npi_csv_path)\n",
    ")"
   ]
  },
  {
   "cell_type": "code",
   "execution_count": 9,
   "id": "82d550f0",
   "metadata": {},
   "outputs": [
    {
     "name": "stdout",
     "output_type": "stream",
     "text": [
      "Available columns (first 50 shown):\n",
      "'NPI'\n",
      "'Entity Type Code'\n",
      "'Replacement NPI'\n",
      "'Employer Identification Number (EIN)'\n",
      "'Provider Organization Name (Legal Business Name)'\n",
      "'Provider Last Name (Legal Name)'\n",
      "'Provider First Name'\n",
      "'Provider Middle Name'\n",
      "'Provider Name Prefix Text'\n",
      "'Provider Name Suffix Text'\n",
      "'Provider Credential Text'\n",
      "'Provider Other Organization Name'\n",
      "'Provider Other Organization Name Type Code'\n",
      "'Provider Other Last Name'\n",
      "'Provider Other First Name'\n",
      "'Provider Other Middle Name'\n",
      "'Provider Other Name Prefix Text'\n",
      "'Provider Other Name Suffix Text'\n",
      "'Provider Other Credential Text'\n",
      "'Provider Other Last Name Type Code'\n",
      "'Provider First Line Business Mailing Address'\n",
      "'Provider Second Line Business Mailing Address'\n",
      "'Provider Business Mailing Address City Name'\n",
      "'Provider Business Mailing Address State Name'\n",
      "'Provider Business Mailing Address Postal Code'\n",
      "'Provider Business Mailing Address Country Code (If outside U.S.)'\n",
      "'Provider Business Mailing Address Telephone Number'\n",
      "'Provider Business Mailing Address Fax Number'\n",
      "'Provider First Line Business Practice Location Address'\n",
      "'Provider Second Line Business Practice Location Address'\n",
      "'Provider Business Practice Location Address City Name'\n",
      "'Provider Business Practice Location Address State Name'\n",
      "'Provider Business Practice Location Address Postal Code'\n",
      "'Provider Business Practice Location Address Country Code (If outside U.S.)'\n",
      "'Provider Business Practice Location Address Telephone Number'\n",
      "'Provider Business Practice Location Address Fax Number'\n",
      "'Provider Enumeration Date'\n",
      "'Last Update Date'\n",
      "'NPI Deactivation Reason Code'\n",
      "'NPI Deactivation Date'\n",
      "'NPI Reactivation Date'\n",
      "'Provider Sex Code'\n",
      "'Authorized Official Last Name'\n",
      "'Authorized Official First Name'\n",
      "'Authorized Official Middle Name'\n",
      "'Authorized Official Title or Position'\n",
      "'Authorized Official Telephone Number'\n",
      "'Healthcare Provider Taxonomy Code_1'\n",
      "'Provider License Number_1'\n",
      "'Provider License Number State Code_1'\n"
     ]
    }
   ],
   "source": [
    "# inspecting the npi dataset column names\n",
    "print(\"Available columns (first 50 shown):\")\n",
    "for c in full_npi_df.columns[:50]:\n",
    "    print(repr(c))\n",
    "    "
   ]
  },
  {
   "cell_type": "code",
   "execution_count": 10,
   "id": "58adc07d",
   "metadata": {},
   "outputs": [],
   "source": [
    "# selecting the relevant columns I want to keep\n",
    "tax_cols = []\n",
    "\n",
    "for i in range(1, 16):\n",
    "    tax_cols += [f\"Healthcare Provider Taxonomy Code_{i}\",\n",
    "                 f\"Healthcare Provider Primary Taxonomy Switch_{i}\"]\n",
    "\n",
    "keep_cols_npi = [\n",
    "    \"NPI\",\n",
    "    \"Entity Type Code\",\n",
    "\n",
    "    # person/org name columns \n",
    "    \"Provider First Name\",\n",
    "    \"Provider Last Name (Legal Name)\",\n",
    "    \"Provider Middle Name\",                    \n",
    "    \"Provider Organization Name (Legal Business Name)\",\n",
    "\n",
    "    \"Provider Business Practice Location Address State Name\",\n",
    "    \"Provider Business Practice Location Address Postal Code\",\n",
    "    \"Is Organization Subpart\",\n",
    "    \"Parent Organization TIN\",\n",
    "    \"Parent Organization LBN\",\n",
    "    \"Provider Enumeration Date\",\n",
    "    \"Last Update Date\",\n",
    "    \"NPI Deactivation Date\",\n",
    "    \"NPI Reactivation Date\",\n",
    "    \"Is Sole Proprietor\",\n",
    "] + tax_cols\n"
   ]
  },
  {
   "cell_type": "code",
   "execution_count": 11,
   "id": "2cf02237",
   "metadata": {},
   "outputs": [],
   "source": [
    "# creating a new DataFrame with only the selected columns\n",
    "npi_df = full_npi_df.select(*keep_cols_npi)\n"
   ]
  },
  {
   "cell_type": "code",
   "execution_count": 12,
   "id": "3d3d944e",
   "metadata": {},
   "outputs": [
    {
     "name": "stdout",
     "output_type": "stream",
     "text": [
      "Schema:\n",
      "root\n",
      " |-- NPI: string (nullable = true)\n",
      " |-- Entity Type Code: string (nullable = true)\n",
      " |-- Provider First Name: string (nullable = true)\n",
      " |-- Provider Last Name (Legal Name): string (nullable = true)\n",
      " |-- Provider Middle Name: string (nullable = true)\n",
      " |-- Provider Organization Name (Legal Business Name): string (nullable = true)\n",
      " |-- Provider Business Practice Location Address State Name: string (nullable = true)\n",
      " |-- Provider Business Practice Location Address Postal Code: string (nullable = true)\n",
      " |-- Is Organization Subpart: string (nullable = true)\n",
      " |-- Parent Organization TIN: string (nullable = true)\n",
      " |-- Parent Organization LBN: string (nullable = true)\n",
      " |-- Provider Enumeration Date: string (nullable = true)\n",
      " |-- Last Update Date: string (nullable = true)\n",
      " |-- NPI Deactivation Date: string (nullable = true)\n",
      " |-- NPI Reactivation Date: string (nullable = true)\n",
      " |-- Is Sole Proprietor: string (nullable = true)\n",
      " |-- Healthcare Provider Taxonomy Code_1: string (nullable = true)\n",
      " |-- Healthcare Provider Primary Taxonomy Switch_1: string (nullable = true)\n",
      " |-- Healthcare Provider Taxonomy Code_2: string (nullable = true)\n",
      " |-- Healthcare Provider Primary Taxonomy Switch_2: string (nullable = true)\n",
      " |-- Healthcare Provider Taxonomy Code_3: string (nullable = true)\n",
      " |-- Healthcare Provider Primary Taxonomy Switch_3: string (nullable = true)\n",
      " |-- Healthcare Provider Taxonomy Code_4: string (nullable = true)\n",
      " |-- Healthcare Provider Primary Taxonomy Switch_4: string (nullable = true)\n",
      " |-- Healthcare Provider Taxonomy Code_5: string (nullable = true)\n",
      " |-- Healthcare Provider Primary Taxonomy Switch_5: string (nullable = true)\n",
      " |-- Healthcare Provider Taxonomy Code_6: string (nullable = true)\n",
      " |-- Healthcare Provider Primary Taxonomy Switch_6: string (nullable = true)\n",
      " |-- Healthcare Provider Taxonomy Code_7: string (nullable = true)\n",
      " |-- Healthcare Provider Primary Taxonomy Switch_7: string (nullable = true)\n",
      " |-- Healthcare Provider Taxonomy Code_8: string (nullable = true)\n",
      " |-- Healthcare Provider Primary Taxonomy Switch_8: string (nullable = true)\n",
      " |-- Healthcare Provider Taxonomy Code_9: string (nullable = true)\n",
      " |-- Healthcare Provider Primary Taxonomy Switch_9: string (nullable = true)\n",
      " |-- Healthcare Provider Taxonomy Code_10: string (nullable = true)\n",
      " |-- Healthcare Provider Primary Taxonomy Switch_10: string (nullable = true)\n",
      " |-- Healthcare Provider Taxonomy Code_11: string (nullable = true)\n",
      " |-- Healthcare Provider Primary Taxonomy Switch_11: string (nullable = true)\n",
      " |-- Healthcare Provider Taxonomy Code_12: string (nullable = true)\n",
      " |-- Healthcare Provider Primary Taxonomy Switch_12: string (nullable = true)\n",
      " |-- Healthcare Provider Taxonomy Code_13: string (nullable = true)\n",
      " |-- Healthcare Provider Primary Taxonomy Switch_13: string (nullable = true)\n",
      " |-- Healthcare Provider Taxonomy Code_14: string (nullable = true)\n",
      " |-- Healthcare Provider Primary Taxonomy Switch_14: string (nullable = true)\n",
      " |-- Healthcare Provider Taxonomy Code_15: string (nullable = true)\n",
      " |-- Healthcare Provider Primary Taxonomy Switch_15: string (nullable = true)\n",
      "\n",
      "Sample:\n"
     ]
    },
    {
     "name": "stderr",
     "output_type": "stream",
     "text": [
      "25/08/20 18:56:20 WARN SparkStringUtils: Truncated the string representation of a plan since it was too large. This behavior can be adjusted by setting 'spark.sql.debug.maxToStringFields'.\n"
     ]
    },
    {
     "name": "stdout",
     "output_type": "stream",
     "text": [
      "+----------+----------------+-------------------+-------------------------------+--------------------+------------------------------------------------+------------------------------------------------------+-------------------------------------------------------+-----------------------+-----------------------+-----------------------+-------------------------+----------------+---------------------+---------------------+------------------+-----------------------------------+---------------------------------------------+-----------------------------------+---------------------------------------------+-----------------------------------+---------------------------------------------+-----------------------------------+---------------------------------------------+-----------------------------------+---------------------------------------------+-----------------------------------+---------------------------------------------+-----------------------------------+---------------------------------------------+-----------------------------------+---------------------------------------------+-----------------------------------+---------------------------------------------+------------------------------------+----------------------------------------------+------------------------------------+----------------------------------------------+------------------------------------+----------------------------------------------+------------------------------------+----------------------------------------------+------------------------------------+----------------------------------------------+------------------------------------+----------------------------------------------+\n",
      "|NPI       |Entity Type Code|Provider First Name|Provider Last Name (Legal Name)|Provider Middle Name|Provider Organization Name (Legal Business Name)|Provider Business Practice Location Address State Name|Provider Business Practice Location Address Postal Code|Is Organization Subpart|Parent Organization TIN|Parent Organization LBN|Provider Enumeration Date|Last Update Date|NPI Deactivation Date|NPI Reactivation Date|Is Sole Proprietor|Healthcare Provider Taxonomy Code_1|Healthcare Provider Primary Taxonomy Switch_1|Healthcare Provider Taxonomy Code_2|Healthcare Provider Primary Taxonomy Switch_2|Healthcare Provider Taxonomy Code_3|Healthcare Provider Primary Taxonomy Switch_3|Healthcare Provider Taxonomy Code_4|Healthcare Provider Primary Taxonomy Switch_4|Healthcare Provider Taxonomy Code_5|Healthcare Provider Primary Taxonomy Switch_5|Healthcare Provider Taxonomy Code_6|Healthcare Provider Primary Taxonomy Switch_6|Healthcare Provider Taxonomy Code_7|Healthcare Provider Primary Taxonomy Switch_7|Healthcare Provider Taxonomy Code_8|Healthcare Provider Primary Taxonomy Switch_8|Healthcare Provider Taxonomy Code_9|Healthcare Provider Primary Taxonomy Switch_9|Healthcare Provider Taxonomy Code_10|Healthcare Provider Primary Taxonomy Switch_10|Healthcare Provider Taxonomy Code_11|Healthcare Provider Primary Taxonomy Switch_11|Healthcare Provider Taxonomy Code_12|Healthcare Provider Primary Taxonomy Switch_12|Healthcare Provider Taxonomy Code_13|Healthcare Provider Primary Taxonomy Switch_13|Healthcare Provider Taxonomy Code_14|Healthcare Provider Primary Taxonomy Switch_14|Healthcare Provider Taxonomy Code_15|Healthcare Provider Primary Taxonomy Switch_15|\n",
      "+----------+----------------+-------------------+-------------------------------+--------------------+------------------------------------------------+------------------------------------------------------+-------------------------------------------------------+-----------------------+-----------------------+-----------------------+-------------------------+----------------+---------------------+---------------------+------------------+-----------------------------------+---------------------------------------------+-----------------------------------+---------------------------------------------+-----------------------------------+---------------------------------------------+-----------------------------------+---------------------------------------------+-----------------------------------+---------------------------------------------+-----------------------------------+---------------------------------------------+-----------------------------------+---------------------------------------------+-----------------------------------+---------------------------------------------+-----------------------------------+---------------------------------------------+------------------------------------+----------------------------------------------+------------------------------------+----------------------------------------------+------------------------------------+----------------------------------------------+------------------------------------+----------------------------------------------+------------------------------------+----------------------------------------------+------------------------------------+----------------------------------------------+\n",
      "|1679576722|1               |DAVID              |WIEBE                          |A                   |NULL                                            |NE                                                    |688472944                                              |NULL                   |NULL                   |NULL                   |05/23/2005               |07/08/2007      |NULL                 |NULL                 |X                 |207X00000X                         |Y                                            |NULL                               |NULL                                         |NULL                               |NULL                                         |NULL                               |NULL                                         |NULL                               |NULL                                         |NULL                               |NULL                                         |NULL                               |NULL                                         |NULL                               |NULL                                         |NULL                               |NULL                                         |NULL                                |NULL                                          |NULL                                |NULL                                          |NULL                                |NULL                                          |NULL                                |NULL                                          |NULL                                |NULL                                          |NULL                                |NULL                                          |\n",
      "|1588667638|1               |WILLIAM            |PILCHER                        |C                   |NULL                                            |FL                                                    |322044736                                              |NULL                   |NULL                   |NULL                   |05/23/2005               |05/29/2014      |NULL                 |NULL                 |N                 |207RC0000X                         |Y                                            |207RC0000X                         |N                                            |NULL                               |NULL                                         |NULL                               |NULL                                         |NULL                               |NULL                                         |NULL                               |NULL                                         |NULL                               |NULL                                         |NULL                               |NULL                                         |NULL                               |NULL                                         |NULL                                |NULL                                          |NULL                                |NULL                                          |NULL                                |NULL                                          |NULL                                |NULL                                          |NULL                                |NULL                                          |NULL                                |NULL                                          |\n",
      "|1497758544|2               |NULL               |NULL                           |NULL                |CUMBERLAND COUNTY HOSPITAL SYSTEM, INC          |NC                                                    |283044552                                              |N                      |NULL                   |NULL                   |05/23/2005               |09/26/2011      |NULL                 |NULL                 |NULL              |251G00000X                         |Y                                            |NULL                               |NULL                                         |NULL                               |NULL                                         |NULL                               |NULL                                         |NULL                               |NULL                                         |NULL                               |NULL                                         |NULL                               |NULL                                         |NULL                               |NULL                                         |NULL                               |NULL                                         |NULL                                |NULL                                          |NULL                                |NULL                                          |NULL                                |NULL                                          |NULL                                |NULL                                          |NULL                                |NULL                                          |NULL                                |NULL                                          |\n",
      "|1306849450|NULL            |NULL               |NULL                           |NULL                |NULL                                            |NULL                                                  |NULL                                                   |NULL                   |NULL                   |NULL                   |NULL                     |NULL            |03/03/2021           |NULL                 |NULL              |NULL                               |NULL                                         |NULL                               |NULL                                         |NULL                               |NULL                                         |NULL                               |NULL                                         |NULL                               |NULL                                         |NULL                               |NULL                                         |NULL                               |NULL                                         |NULL                               |NULL                                         |NULL                               |NULL                                         |NULL                                |NULL                                          |NULL                                |NULL                                          |NULL                                |NULL                                          |NULL                                |NULL                                          |NULL                                |NULL                                          |NULL                                |NULL                                          |\n",
      "|1215930367|1               |LAURENT            |GRESSOT                        |NULL                |NULL                                            |TX                                                    |770901243                                              |NULL                   |NULL                   |NULL                   |05/23/2005               |11/25/2014      |NULL                 |NULL                 |N                 |174400000X                         |N                                            |207RH0003X                         |Y                                            |NULL                               |NULL                                         |NULL                               |NULL                                         |NULL                               |NULL                                         |NULL                               |NULL                                         |NULL                               |NULL                                         |NULL                               |NULL                                         |NULL                               |NULL                                         |NULL                                |NULL                                          |NULL                                |NULL                                          |NULL                                |NULL                                          |NULL                                |NULL                                          |NULL                                |NULL                                          |NULL                                |NULL                                          |\n",
      "+----------+----------------+-------------------+-------------------------------+--------------------+------------------------------------------------+------------------------------------------------------+-------------------------------------------------------+-----------------------+-----------------------+-----------------------+-------------------------+----------------+---------------------+---------------------+------------------+-----------------------------------+---------------------------------------------+-----------------------------------+---------------------------------------------+-----------------------------------+---------------------------------------------+-----------------------------------+---------------------------------------------+-----------------------------------+---------------------------------------------+-----------------------------------+---------------------------------------------+-----------------------------------+---------------------------------------------+-----------------------------------+---------------------------------------------+-----------------------------------+---------------------------------------------+------------------------------------+----------------------------------------------+------------------------------------+----------------------------------------------+------------------------------------+----------------------------------------------+------------------------------------+----------------------------------------------+------------------------------------+----------------------------------------------+------------------------------------+----------------------------------------------+\n",
      "\n"
     ]
    }
   ],
   "source": [
    "# having a sanity check to ensure I loaded the right columns, the correct types, and the data looks okay\n",
    "print(\"Schema:\")\n",
    "npi_df.printSchema()\n",
    "print(\"Sample:\")\n",
    "npi_df.limit(5).show(truncate=False)"
   ]
  },
  {
   "cell_type": "code",
   "execution_count": 13,
   "id": "cecf6e6b",
   "metadata": {},
   "outputs": [
    {
     "name": "stderr",
     "output_type": "stream",
     "text": [
      "[Stage 2:==================================================>      (72 + 8) / 81]\r"
     ]
    },
    {
     "name": "stdout",
     "output_type": "stream",
     "text": [
      "Total rows: 9026996\n"
     ]
    },
    {
     "name": "stderr",
     "output_type": "stream",
     "text": [
      "                                                                                \r"
     ]
    }
   ],
   "source": [
    "# getting the total number of rows in the DataFrame\n",
    "total_rows = npi_df.count()\n",
    "print(f'Total rows: {total_rows}')"
   ]
  },
  {
   "cell_type": "code",
   "execution_count": 14,
   "id": "1fc4437e",
   "metadata": {},
   "outputs": [
    {
     "name": "stderr",
     "output_type": "stream",
     "text": [
      "[Stage 5:========================================================>(80 + 1) / 81]\r"
     ]
    },
    {
     "name": "stdout",
     "output_type": "stream",
     "text": [
      "+---+----------------+-------------------+-------------------------------+--------------------+------------------------------------------------+------------------------------------------------------+-------------------------------------------------------+-----------------------+-----------------------+-----------------------+-------------------------+----------------+---------------------+---------------------+------------------+-----------------------------------+---------------------------------------------+-----------------------------------+---------------------------------------------+-----------------------------------+---------------------------------------------+-----------------------------------+---------------------------------------------+-----------------------------------+---------------------------------------------+-----------------------------------+---------------------------------------------+-----------------------------------+---------------------------------------------+-----------------------------------+---------------------------------------------+-----------------------------------+---------------------------------------------+------------------------------------+----------------------------------------------+------------------------------------+----------------------------------------------+------------------------------------+----------------------------------------------+------------------------------------+----------------------------------------------+------------------------------------+----------------------------------------------+------------------------------------+----------------------------------------------+\n",
      "|NPI|Entity Type Code|Provider First Name|Provider Last Name (Legal Name)|Provider Middle Name|Provider Organization Name (Legal Business Name)|Provider Business Practice Location Address State Name|Provider Business Practice Location Address Postal Code|Is Organization Subpart|Parent Organization TIN|Parent Organization LBN|Provider Enumeration Date|Last Update Date|NPI Deactivation Date|NPI Reactivation Date|Is Sole Proprietor|Healthcare Provider Taxonomy Code_1|Healthcare Provider Primary Taxonomy Switch_1|Healthcare Provider Taxonomy Code_2|Healthcare Provider Primary Taxonomy Switch_2|Healthcare Provider Taxonomy Code_3|Healthcare Provider Primary Taxonomy Switch_3|Healthcare Provider Taxonomy Code_4|Healthcare Provider Primary Taxonomy Switch_4|Healthcare Provider Taxonomy Code_5|Healthcare Provider Primary Taxonomy Switch_5|Healthcare Provider Taxonomy Code_6|Healthcare Provider Primary Taxonomy Switch_6|Healthcare Provider Taxonomy Code_7|Healthcare Provider Primary Taxonomy Switch_7|Healthcare Provider Taxonomy Code_8|Healthcare Provider Primary Taxonomy Switch_8|Healthcare Provider Taxonomy Code_9|Healthcare Provider Primary Taxonomy Switch_9|Healthcare Provider Taxonomy Code_10|Healthcare Provider Primary Taxonomy Switch_10|Healthcare Provider Taxonomy Code_11|Healthcare Provider Primary Taxonomy Switch_11|Healthcare Provider Taxonomy Code_12|Healthcare Provider Primary Taxonomy Switch_12|Healthcare Provider Taxonomy Code_13|Healthcare Provider Primary Taxonomy Switch_13|Healthcare Provider Taxonomy Code_14|Healthcare Provider Primary Taxonomy Switch_14|Healthcare Provider Taxonomy Code_15|Healthcare Provider Primary Taxonomy Switch_15|\n",
      "+---+----------------+-------------------+-------------------------------+--------------------+------------------------------------------------+------------------------------------------------------+-------------------------------------------------------+-----------------------+-----------------------+-----------------------+-------------------------+----------------+---------------------+---------------------+------------------+-----------------------------------+---------------------------------------------+-----------------------------------+---------------------------------------------+-----------------------------------+---------------------------------------------+-----------------------------------+---------------------------------------------+-----------------------------------+---------------------------------------------+-----------------------------------+---------------------------------------------+-----------------------------------+---------------------------------------------+-----------------------------------+---------------------------------------------+-----------------------------------+---------------------------------------------+------------------------------------+----------------------------------------------+------------------------------------+----------------------------------------------+------------------------------------+----------------------------------------------+------------------------------------+----------------------------------------------+------------------------------------+----------------------------------------------+------------------------------------+----------------------------------------------+\n",
      "|  0|          314026|            2145739|                        2145739|             5257176|                                         7195300|                                                314028|                                                 314034|                7195283|                8876636|                8876741|                   314026|          314026|              8696420|              9010442|           2145739|                             314042|                                       314042|                            7359682|                                      7359682|                            8529876|                                      8529876|                            8847202|                                      8847202|                            8941274|                                      8941274|                            8980653|                                      8980653|                            8996903|                                      8996903|                            9005860|                                      9005860|                            9011666|                                      9011666|                             9015468|                                       9015468|                             9018074|                                       9018074|                             9019893|                                       9019893|                             9021373|                                       9021373|                             9022518|                                       9022518|                             9023815|                                       9023815|\n",
      "+---+----------------+-------------------+-------------------------------+--------------------+------------------------------------------------+------------------------------------------------------+-------------------------------------------------------+-----------------------+-----------------------+-----------------------+-------------------------+----------------+---------------------+---------------------+------------------+-----------------------------------+---------------------------------------------+-----------------------------------+---------------------------------------------+-----------------------------------+---------------------------------------------+-----------------------------------+---------------------------------------------+-----------------------------------+---------------------------------------------+-----------------------------------+---------------------------------------------+-----------------------------------+---------------------------------------------+-----------------------------------+---------------------------------------------+-----------------------------------+---------------------------------------------+------------------------------------+----------------------------------------------+------------------------------------+----------------------------------------------+------------------------------------+----------------------------------------------+------------------------------------+----------------------------------------------+------------------------------------+----------------------------------------------+------------------------------------+----------------------------------------------+\n",
      "\n"
     ]
    },
    {
     "name": "stderr",
     "output_type": "stream",
     "text": [
      "                                                                                \r"
     ]
    }
   ],
   "source": [
    "# getting the null counts for each column\n",
    "npi_df.select(\n",
    "    *[\n",
    "        sum_(col(c).isNull().cast('int')).alias(c) for c in npi_df.columns\n",
    "    ]\n",
    ").show()"
   ]
  },
  {
   "cell_type": "code",
   "execution_count": 15,
   "id": "df5c390d",
   "metadata": {},
   "outputs": [],
   "source": [
    "# comoputing normalized names and checking for collisions\n",
    "# checking for collisions as I don't want to accidently end up with two originals mapping to the same cleaned name\n",
    "\n",
    "new_names = [normalize_col(c) for c in keep_cols_npi]\n",
    "if len(new_names) != len(set(new_names)):\n",
    "    raise RuntimeError(\"Column name conflict after normalization in NPPES.\")\n",
    "\n",
    "normalized_npi_df = npi_df.select(*[col(o).alias(n) for o,n in zip(keep_cols_npi, new_names)])"
   ]
  },
  {
   "cell_type": "code",
   "execution_count": 16,
   "id": "9186d04e",
   "metadata": {},
   "outputs": [
    {
     "name": "stdout",
     "output_type": "stream",
     "text": [
      "root\n",
      " |-- npi: string (nullable = true)\n",
      " |-- entity_type_code: string (nullable = true)\n",
      " |-- provider_first_name: string (nullable = true)\n",
      " |-- provider_last_name: string (nullable = true)\n",
      " |-- provider_middle_name: string (nullable = true)\n",
      " |-- provider_organization_name: string (nullable = true)\n",
      " |-- provider_business_practice_location_address_state_name: string (nullable = true)\n",
      " |-- provider_business_practice_location_address_postal_code: string (nullable = true)\n",
      " |-- is_organization_subpart: string (nullable = true)\n",
      " |-- parent_organization_tin: string (nullable = true)\n",
      " |-- parent_organization_lbn: string (nullable = true)\n",
      " |-- provider_enumeration_date: string (nullable = true)\n",
      " |-- last_update_date: string (nullable = true)\n",
      " |-- npi_deactivation_date: string (nullable = true)\n",
      " |-- npi_reactivation_date: string (nullable = true)\n",
      " |-- is_sole_proprietor: string (nullable = true)\n",
      " |-- healthcare_provider_taxonomy_code_1: string (nullable = true)\n",
      " |-- healthcare_provider_primary_taxonomy_switch_1: string (nullable = true)\n",
      " |-- healthcare_provider_taxonomy_code_2: string (nullable = true)\n",
      " |-- healthcare_provider_primary_taxonomy_switch_2: string (nullable = true)\n",
      " |-- healthcare_provider_taxonomy_code_3: string (nullable = true)\n",
      " |-- healthcare_provider_primary_taxonomy_switch_3: string (nullable = true)\n",
      " |-- healthcare_provider_taxonomy_code_4: string (nullable = true)\n",
      " |-- healthcare_provider_primary_taxonomy_switch_4: string (nullable = true)\n",
      " |-- healthcare_provider_taxonomy_code_5: string (nullable = true)\n",
      " |-- healthcare_provider_primary_taxonomy_switch_5: string (nullable = true)\n",
      " |-- healthcare_provider_taxonomy_code_6: string (nullable = true)\n",
      " |-- healthcare_provider_primary_taxonomy_switch_6: string (nullable = true)\n",
      " |-- healthcare_provider_taxonomy_code_7: string (nullable = true)\n",
      " |-- healthcare_provider_primary_taxonomy_switch_7: string (nullable = true)\n",
      " |-- healthcare_provider_taxonomy_code_8: string (nullable = true)\n",
      " |-- healthcare_provider_primary_taxonomy_switch_8: string (nullable = true)\n",
      " |-- healthcare_provider_taxonomy_code_9: string (nullable = true)\n",
      " |-- healthcare_provider_primary_taxonomy_switch_9: string (nullable = true)\n",
      " |-- healthcare_provider_taxonomy_code_10: string (nullable = true)\n",
      " |-- healthcare_provider_primary_taxonomy_switch_10: string (nullable = true)\n",
      " |-- healthcare_provider_taxonomy_code_11: string (nullable = true)\n",
      " |-- healthcare_provider_primary_taxonomy_switch_11: string (nullable = true)\n",
      " |-- healthcare_provider_taxonomy_code_12: string (nullable = true)\n",
      " |-- healthcare_provider_primary_taxonomy_switch_12: string (nullable = true)\n",
      " |-- healthcare_provider_taxonomy_code_13: string (nullable = true)\n",
      " |-- healthcare_provider_primary_taxonomy_switch_13: string (nullable = true)\n",
      " |-- healthcare_provider_taxonomy_code_14: string (nullable = true)\n",
      " |-- healthcare_provider_primary_taxonomy_switch_14: string (nullable = true)\n",
      " |-- healthcare_provider_taxonomy_code_15: string (nullable = true)\n",
      " |-- healthcare_provider_primary_taxonomy_switch_15: string (nullable = true)\n",
      "\n",
      "+----------+----------------+-------------------+------------------+--------------------+--------------------------------------+------------------------------------------------------+-------------------------------------------------------+-----------------------+-----------------------+-----------------------+-------------------------+----------------+---------------------+---------------------+------------------+-----------------------------------+---------------------------------------------+-----------------------------------+---------------------------------------------+-----------------------------------+---------------------------------------------+-----------------------------------+---------------------------------------------+-----------------------------------+---------------------------------------------+-----------------------------------+---------------------------------------------+-----------------------------------+---------------------------------------------+-----------------------------------+---------------------------------------------+-----------------------------------+---------------------------------------------+------------------------------------+----------------------------------------------+------------------------------------+----------------------------------------------+------------------------------------+----------------------------------------------+------------------------------------+----------------------------------------------+------------------------------------+----------------------------------------------+------------------------------------+----------------------------------------------+\n",
      "|npi       |entity_type_code|provider_first_name|provider_last_name|provider_middle_name|provider_organization_name            |provider_business_practice_location_address_state_name|provider_business_practice_location_address_postal_code|is_organization_subpart|parent_organization_tin|parent_organization_lbn|provider_enumeration_date|last_update_date|npi_deactivation_date|npi_reactivation_date|is_sole_proprietor|healthcare_provider_taxonomy_code_1|healthcare_provider_primary_taxonomy_switch_1|healthcare_provider_taxonomy_code_2|healthcare_provider_primary_taxonomy_switch_2|healthcare_provider_taxonomy_code_3|healthcare_provider_primary_taxonomy_switch_3|healthcare_provider_taxonomy_code_4|healthcare_provider_primary_taxonomy_switch_4|healthcare_provider_taxonomy_code_5|healthcare_provider_primary_taxonomy_switch_5|healthcare_provider_taxonomy_code_6|healthcare_provider_primary_taxonomy_switch_6|healthcare_provider_taxonomy_code_7|healthcare_provider_primary_taxonomy_switch_7|healthcare_provider_taxonomy_code_8|healthcare_provider_primary_taxonomy_switch_8|healthcare_provider_taxonomy_code_9|healthcare_provider_primary_taxonomy_switch_9|healthcare_provider_taxonomy_code_10|healthcare_provider_primary_taxonomy_switch_10|healthcare_provider_taxonomy_code_11|healthcare_provider_primary_taxonomy_switch_11|healthcare_provider_taxonomy_code_12|healthcare_provider_primary_taxonomy_switch_12|healthcare_provider_taxonomy_code_13|healthcare_provider_primary_taxonomy_switch_13|healthcare_provider_taxonomy_code_14|healthcare_provider_primary_taxonomy_switch_14|healthcare_provider_taxonomy_code_15|healthcare_provider_primary_taxonomy_switch_15|\n",
      "+----------+----------------+-------------------+------------------+--------------------+--------------------------------------+------------------------------------------------------+-------------------------------------------------------+-----------------------+-----------------------+-----------------------+-------------------------+----------------+---------------------+---------------------+------------------+-----------------------------------+---------------------------------------------+-----------------------------------+---------------------------------------------+-----------------------------------+---------------------------------------------+-----------------------------------+---------------------------------------------+-----------------------------------+---------------------------------------------+-----------------------------------+---------------------------------------------+-----------------------------------+---------------------------------------------+-----------------------------------+---------------------------------------------+-----------------------------------+---------------------------------------------+------------------------------------+----------------------------------------------+------------------------------------+----------------------------------------------+------------------------------------+----------------------------------------------+------------------------------------+----------------------------------------------+------------------------------------+----------------------------------------------+------------------------------------+----------------------------------------------+\n",
      "|1679576722|1               |DAVID              |WIEBE             |A                   |NULL                                  |NE                                                    |688472944                                              |NULL                   |NULL                   |NULL                   |05/23/2005               |07/08/2007      |NULL                 |NULL                 |X                 |207X00000X                         |Y                                            |NULL                               |NULL                                         |NULL                               |NULL                                         |NULL                               |NULL                                         |NULL                               |NULL                                         |NULL                               |NULL                                         |NULL                               |NULL                                         |NULL                               |NULL                                         |NULL                               |NULL                                         |NULL                                |NULL                                          |NULL                                |NULL                                          |NULL                                |NULL                                          |NULL                                |NULL                                          |NULL                                |NULL                                          |NULL                                |NULL                                          |\n",
      "|1588667638|1               |WILLIAM            |PILCHER           |C                   |NULL                                  |FL                                                    |322044736                                              |NULL                   |NULL                   |NULL                   |05/23/2005               |05/29/2014      |NULL                 |NULL                 |N                 |207RC0000X                         |Y                                            |207RC0000X                         |N                                            |NULL                               |NULL                                         |NULL                               |NULL                                         |NULL                               |NULL                                         |NULL                               |NULL                                         |NULL                               |NULL                                         |NULL                               |NULL                                         |NULL                               |NULL                                         |NULL                                |NULL                                          |NULL                                |NULL                                          |NULL                                |NULL                                          |NULL                                |NULL                                          |NULL                                |NULL                                          |NULL                                |NULL                                          |\n",
      "|1497758544|2               |NULL               |NULL              |NULL                |CUMBERLAND COUNTY HOSPITAL SYSTEM, INC|NC                                                    |283044552                                              |N                      |NULL                   |NULL                   |05/23/2005               |09/26/2011      |NULL                 |NULL                 |NULL              |251G00000X                         |Y                                            |NULL                               |NULL                                         |NULL                               |NULL                                         |NULL                               |NULL                                         |NULL                               |NULL                                         |NULL                               |NULL                                         |NULL                               |NULL                                         |NULL                               |NULL                                         |NULL                               |NULL                                         |NULL                                |NULL                                          |NULL                                |NULL                                          |NULL                                |NULL                                          |NULL                                |NULL                                          |NULL                                |NULL                                          |NULL                                |NULL                                          |\n",
      "|1306849450|NULL            |NULL               |NULL              |NULL                |NULL                                  |NULL                                                  |NULL                                                   |NULL                   |NULL                   |NULL                   |NULL                     |NULL            |03/03/2021           |NULL                 |NULL              |NULL                               |NULL                                         |NULL                               |NULL                                         |NULL                               |NULL                                         |NULL                               |NULL                                         |NULL                               |NULL                                         |NULL                               |NULL                                         |NULL                               |NULL                                         |NULL                               |NULL                                         |NULL                               |NULL                                         |NULL                                |NULL                                          |NULL                                |NULL                                          |NULL                                |NULL                                          |NULL                                |NULL                                          |NULL                                |NULL                                          |NULL                                |NULL                                          |\n",
      "|1215930367|1               |LAURENT            |GRESSOT           |NULL                |NULL                                  |TX                                                    |770901243                                              |NULL                   |NULL                   |NULL                   |05/23/2005               |11/25/2014      |NULL                 |NULL                 |N                 |174400000X                         |N                                            |207RH0003X                         |Y                                            |NULL                               |NULL                                         |NULL                               |NULL                                         |NULL                               |NULL                                         |NULL                               |NULL                                         |NULL                               |NULL                                         |NULL                               |NULL                                         |NULL                               |NULL                                         |NULL                                |NULL                                          |NULL                                |NULL                                          |NULL                                |NULL                                          |NULL                                |NULL                                          |NULL                                |NULL                                          |NULL                                |NULL                                          |\n",
      "+----------+----------------+-------------------+------------------+--------------------+--------------------------------------+------------------------------------------------------+-------------------------------------------------------+-----------------------+-----------------------+-----------------------+-------------------------+----------------+---------------------+---------------------+------------------+-----------------------------------+---------------------------------------------+-----------------------------------+---------------------------------------------+-----------------------------------+---------------------------------------------+-----------------------------------+---------------------------------------------+-----------------------------------+---------------------------------------------+-----------------------------------+---------------------------------------------+-----------------------------------+---------------------------------------------+-----------------------------------+---------------------------------------------+-----------------------------------+---------------------------------------------+------------------------------------+----------------------------------------------+------------------------------------+----------------------------------------------+------------------------------------+----------------------------------------------+------------------------------------+----------------------------------------------+------------------------------------+----------------------------------------------+------------------------------------+----------------------------------------------+\n",
      "only showing top 5 rows\n"
     ]
    }
   ],
   "source": [
    "# doing a quick sanity check to ensure the new DataFrame has the correct columns\n",
    "normalized_npi_df.printSchema()\n",
    "normalized_npi_df.show(5, truncate=False)"
   ]
  },
  {
   "cell_type": "code",
   "execution_count": 17,
   "id": "8aaf2ccd",
   "metadata": {},
   "outputs": [],
   "source": [
    "# casting and standardizing the data types\n",
    "clean_npi = (\n",
    "    normalized_npi_df\n",
    "    .withColumn(\"npi\", regexp_replace(trim(col(\"npi\")), r\"\\D\", \"\"))\n",
    "    .withColumn(\"entity_type_code\", col(\"entity_type_code\").cast(\"int\"))\n",
    "    .withColumn(\n",
    "        \"is_organization_subpart\",\n",
    "        when(upper(trim(col(\"is_organization_subpart\"))) == \"Y\", lit(1))\n",
    "        .when(upper(trim(col(\"is_organization_subpart\"))) == \"N\", lit(0))\n",
    "        .otherwise(lit(None).cast(\"int\"))\n",
    "    )\n",
    "    .withColumn(\"is_sole_proprietor_raw\", upper(trim(col(\"is_sole_proprietor\"))))\n",
    "    .withColumn(\n",
    "        \"is_sole_proprietor\",\n",
    "        when(col(\"entity_type_code\") == 1,\n",
    "             when(col(\"is_sole_proprietor_raw\") == \"Y\", 1)\n",
    "             .when(col(\"is_sole_proprietor_raw\") == \"N\", 0)\n",
    "             .otherwise(None)\n",
    "        ).otherwise(None)\n",
    "    ).drop(\"is_sole_proprietor_raw\")\n",
    "\n",
    "    # parsing dates \n",
    "    .withColumn(\"provider_enumeration_date\",\n",
    "        when(col(\"provider_enumeration_date\").rlike(r\"^\\d{1,2}/\\d{1,2}/\\d{4}$\"),\n",
    "             to_date(col(\"provider_enumeration_date\"), \"M/d/yyyy\"))\n",
    "    )\n",
    "    .withColumn(\"last_update_date\",\n",
    "        when(col(\"last_update_date\").rlike(r\"^\\d{1,2}/\\d{1,2}/\\d{4}$\"),\n",
    "             to_date(col(\"last_update_date\"), \"M/d/yyyy\"))\n",
    "    )\n",
    "    .withColumn(\"npi_deactivation_date\",\n",
    "        when(col(\"npi_deactivation_date\").rlike(r\"^\\d{1,2}/\\d{1,2}/\\d{4}$\"),\n",
    "             to_date(col(\"npi_deactivation_date\"), \"M/d/yyyy\"))\n",
    "    )\n",
    "    .withColumn(\"npi_reactivation_date\",\n",
    "        when(col(\"npi_reactivation_date\").rlike(r\"^\\d{1,2}/\\d{1,2}/\\d{4}$\"),\n",
    "             to_date(col(\"npi_reactivation_date\"), \"M/d/yyyy\"))\n",
    "    )\n",
    "\n",
    "    # zip/state standardization\n",
    "    .withColumn(\"zip5\",\n",
    "        substring(regexp_replace(col(\"provider_business_practice_location_address_postal_code\"), r\"[^0-9]\", \"\"), 1, 5)\n",
    "    )\n",
    "    .withColumn(\"state_abbr\",\n",
    "        when(trim(col(\"provider_business_practice_location_address_state_name\")).rlike(r\"^[A-Za-z]{2}$\"),\n",
    "             upper(trim(col(\"provider_business_practice_location_address_state_name\")))\n",
    "        )\n",
    "    )\n",
    "    .withColumn(\"parent_org_tin_norm\", regexp_replace(col(\"parent_organization_tin\"), r\"\\D\", \"\"))\n",
    ")\n"
   ]
  },
  {
   "cell_type": "code",
   "execution_count": 18,
   "id": "21d4c7fd",
   "metadata": {},
   "outputs": [],
   "source": [
    "# picking the \"best\" taxonomy for each NPI\n",
    "# or if none is marked as primary, the first non-null one\n",
    "cand_exprs = []\n",
    "\n",
    "any_x = None\n",
    "for i in range(1, 16):\n",
    "    sw_u = upper(col(f\"healthcare_provider_primary_taxonomy_switch_{i}\"))\n",
    "    cd   = col(f\"healthcare_provider_taxonomy_code_{i}\")\n",
    "    cand_exprs.append(when((sw_u == \"Y\") & cd.isNotNull(), cd))\n",
    "    any_x = (sw_u == \"X\") if any_x is None else (any_x | (sw_u == \"X\"))\n",
    "\n",
    "explicit_expr = coalesce(*cand_exprs)  # first slot marked Y\n",
    "first_code    = coalesce(*[col(f\"healthcare_provider_taxonomy_code_{i}\") for i in range(1, 16)])\n",
    "\n",
    "\n",
    "clean_npi = (\n",
    "    clean_npi\n",
    "    .withColumn(\n",
    "        \"primary_taxonomy\",\n",
    "        when(explicit_expr.isNotNull(), explicit_expr)     # explicit Y\n",
    "        .when(first_code.isNotNull(), first_code)          # fallback regardless of X\n",
    "        .otherwise(lit(None))\n",
    "    )\n",
    "    \n",
    "    # adding diagnostic flags for QA or feature slicing\n",
    "    .withColumn(\"primary_taxonomy_explicit\", when(explicit_expr.isNotNull(), lit(1)).otherwise(lit(0)))\n",
    "    .withColumn(\"primary_taxonomy_inferred\", when(explicit_expr.isNull() & first_code.isNotNull(), lit(1)).otherwise(lit(0)))\n",
    "    .withColumn(\"primary_taxonomy_from_x\",   when(explicit_expr.isNull() & any_x & first_code.isNotNull(), lit(1)).otherwise(lit(0)))\n",
    ")"
   ]
  },
  {
   "cell_type": "code",
   "execution_count": 19,
   "id": "14e0f1f8",
   "metadata": {},
   "outputs": [],
   "source": [
    "# add two provider lifecycle features (referenced later in npi_feat)\n",
    "# npi_age_days: days since enumeration\n",
    "# is_active: 1 if active, 0 if deactivated or reactivated after deactivation\n",
    "clean_npi = (\n",
    "    clean_npi\n",
    "    .withColumn(\"npi_age_days\", datediff(to_date(lit(AS_OF_STR)), col(\"provider_enumeration_date\")))\n",
    "    .withColumn(\n",
    "        \"is_active\",\n",
    "        when(\n",
    "            (col(\"npi_deactivation_date\").isNull()) |\n",
    "            ((col(\"npi_reactivation_date\").isNotNull()) & (col(\"npi_reactivation_date\") >= col(\"npi_deactivation_date\"))),\n",
    "            1\n",
    "        ).otherwise(0)\n",
    "    )\n",
    ")\n"
   ]
  },
  {
   "cell_type": "code",
   "execution_count": 20,
   "id": "8dac0f2a",
   "metadata": {},
   "outputs": [],
   "source": [
    "# filtering out invalid NPIs (not 10 digits)\n",
    "clean_npi = clean_npi.filter(col(\"npi\").rlike(r\"^\\d{10}$\"))"
   ]
  },
  {
   "cell_type": "code",
   "execution_count": 21,
   "id": "7bad361b",
   "metadata": {},
   "outputs": [
    {
     "name": "stderr",
     "output_type": "stream",
     "text": [
      "[Stage 11:===============>                                         (3 + 8) / 11]\r"
     ]
    },
    {
     "name": "stdout",
     "output_type": "stream",
     "text": [
      "NPPES wrangled rows: 9026996\n"
     ]
    },
    {
     "name": "stderr",
     "output_type": "stream",
     "text": [
      "                                                                                \r"
     ]
    }
   ],
   "source": [
    "# deduplicate to one row per NPI (latest update, then most complete)\n",
    "\n",
    "# scoring how complete each row is\n",
    "comp_score = (\n",
    "    when(coalesce(col(\"primary_taxonomy\"), first_code).isNotNull(), 1).otherwise(0)\n",
    "    + when(col(\"state_abbr\").isNotNull(), 1).otherwise(0)\n",
    "    + when(col(\"provider_enumeration_date\").isNotNull(), 1).otherwise(0)\n",
    "    + when(col(\"entity_type_code\").isNotNull(), 1).otherwise(0)\n",
    ").alias(\"completeness_score\")\n",
    "\n",
    "npi_scored = clean_npi.withColumn(\"completeness_score\", comp_score)\n",
    "\n",
    "from pyspark.sql.functions import desc_nulls_last\n",
    "\n",
    "w = Window.partitionBy(\"npi\").orderBy(\n",
    "    desc_nulls_last(\"last_update_date\"),\n",
    "    col(\"completeness_score\").desc()\n",
    ")\n",
    "\n",
    "# collapsing multiple NPPES rows per NPI down to a single row\n",
    "wrangled_npi_df = (\n",
    "    npi_scored\n",
    "    .withColumn(\"rn\", row_number().over(w))\n",
    "    .filter(col(\"rn\") == 1)\n",
    "    .drop(\"rn\")\n",
    ")\n",
    "\n",
    "print(\"NPPES wrangled rows:\", wrangled_npi_df.count())"
   ]
  },
  {
   "cell_type": "markdown",
   "id": "15451dc5",
   "metadata": {},
   "source": [
    "## Medicare Physician & Other Practitioners - by Provider and Service Dataset"
   ]
  },
  {
   "cell_type": "code",
   "execution_count": 22,
   "id": "c46e85da",
   "metadata": {},
   "outputs": [],
   "source": [
    "# creating a csv path variable\n",
    "phys_pract_csv_path = \"Medicare Physician & Other Practitioners - by Provider and Service/MUP_PHY_R25_P05_V20_D23_Prov_Svc.csv\""
   ]
  },
  {
   "cell_type": "code",
   "execution_count": 23,
   "id": "68f38358",
   "metadata": {},
   "outputs": [],
   "source": [
    "# reading the CSV file into a DataFrame\n",
    "full_physician_practitioner_df = (\n",
    "    spark.read\n",
    "    .option(\"header\", \"true\")\n",
    "    .option(\"inferSchema\", \"false\")\n",
    "    .csv(phys_pract_csv_path)\n",
    ")"
   ]
  },
  {
   "cell_type": "code",
   "execution_count": 24,
   "id": "66a496a3",
   "metadata": {},
   "outputs": [
    {
     "name": "stdout",
     "output_type": "stream",
     "text": [
      "Available columns (first 50 shown):\n",
      "'Rndrng_NPI'\n",
      "'Rndrng_Prvdr_Last_Org_Name'\n",
      "'Rndrng_Prvdr_First_Name'\n",
      "'Rndrng_Prvdr_MI'\n",
      "'Rndrng_Prvdr_Crdntls'\n",
      "'Rndrng_Prvdr_Ent_Cd'\n",
      "'Rndrng_Prvdr_St1'\n",
      "'Rndrng_Prvdr_St2'\n",
      "'Rndrng_Prvdr_City'\n",
      "'Rndrng_Prvdr_State_Abrvtn'\n",
      "'Rndrng_Prvdr_State_FIPS'\n",
      "'Rndrng_Prvdr_Zip5'\n",
      "'Rndrng_Prvdr_RUCA'\n",
      "'Rndrng_Prvdr_RUCA_Desc'\n",
      "'Rndrng_Prvdr_Cntry'\n",
      "'Rndrng_Prvdr_Type'\n",
      "'Rndrng_Prvdr_Mdcr_Prtcptg_Ind'\n",
      "'HCPCS_Cd'\n",
      "'HCPCS_Desc'\n",
      "'HCPCS_Drug_Ind'\n",
      "'Place_Of_Srvc'\n",
      "'Tot_Benes'\n",
      "'Tot_Srvcs'\n",
      "'Tot_Bene_Day_Srvcs'\n",
      "'Avg_Sbmtd_Chrg'\n",
      "'Avg_Mdcr_Alowd_Amt'\n",
      "'Avg_Mdcr_Pymt_Amt'\n",
      "'Avg_Mdcr_Stdzd_Amt'\n"
     ]
    }
   ],
   "source": [
    "# inspecting the column names\n",
    "print(\"Available columns (first 50 shown):\")\n",
    "for c in full_physician_practitioner_df.columns[:50]:\n",
    "    print(repr(c))"
   ]
  },
  {
   "cell_type": "code",
   "execution_count": 25,
   "id": "9e730af8",
   "metadata": {},
   "outputs": [],
   "source": [
    "# selecting the relevant columns I want to keep\n",
    "keep_cols_puf = [\n",
    "    \"Rndrng_NPI\",\"Rndrng_Prvdr_Ent_Cd\",\"Rndrng_Prvdr_State_Abrvtn\",\"Rndrng_Prvdr_Zip5\",\n",
    "    \"Rndrng_Prvdr_RUCA\",\"Rndrng_Prvdr_RUCA_Desc\",\"Rndrng_Prvdr_Mdcr_Prtcptg_Ind\",\n",
    "    \"Rndrng_Prvdr_Type\",\"Rndrng_Prvdr_Cntry\",\n",
    "    \"HCPCS_Cd\",\"HCPCS_Desc\",\"HCPCS_Drug_Ind\",\"Place_Of_Srvc\",\n",
    "    \"Tot_Benes\",\"Tot_Srvcs\",\"Tot_Bene_Day_Srvcs\",\n",
    "    \"Avg_Sbmtd_Chrg\",\"Avg_Mdcr_Alowd_Amt\",\"Avg_Mdcr_Pymt_Amt\",\"Avg_Mdcr_Stdzd_Amt\"\n",
    "]"
   ]
  },
  {
   "cell_type": "code",
   "execution_count": 26,
   "id": "7f9234a6",
   "metadata": {},
   "outputs": [],
   "source": [
    "# creating a new DataFrame with only the selected columns\n",
    "phys = full_physician_practitioner_df.select(*keep_cols_puf)"
   ]
  },
  {
   "cell_type": "code",
   "execution_count": 27,
   "id": "9720795d",
   "metadata": {},
   "outputs": [
    {
     "name": "stderr",
     "output_type": "stream",
     "text": [
      "[Stage 16:======================================>                 (16 + 7) / 23]\r"
     ]
    },
    {
     "name": "stdout",
     "output_type": "stream",
     "text": [
      "Total rows: 9660647\n"
     ]
    },
    {
     "name": "stderr",
     "output_type": "stream",
     "text": [
      "                                                                                \r"
     ]
    }
   ],
   "source": [
    "# getting the total number of rows in the DataFrame\n",
    "total_rows_phys_pract = phys.count()\n",
    "print(f'Total rows: {total_rows_phys_pract}')"
   ]
  },
  {
   "cell_type": "code",
   "execution_count": 28,
   "id": "0e912259",
   "metadata": {},
   "outputs": [
    {
     "name": "stderr",
     "output_type": "stream",
     "text": [
      "[Stage 19:=========================================>              (17 + 6) / 23]\r"
     ]
    },
    {
     "name": "stdout",
     "output_type": "stream",
     "text": [
      "+----------+-------------------+-------------------------+-----------------+-----------------+----------------------+-----------------------------+-----------------+------------------+--------+----------+--------------+-------------+---------+---------+------------------+--------------+------------------+-----------------+------------------+\n",
      "|Rndrng_NPI|Rndrng_Prvdr_Ent_Cd|Rndrng_Prvdr_State_Abrvtn|Rndrng_Prvdr_Zip5|Rndrng_Prvdr_RUCA|Rndrng_Prvdr_RUCA_Desc|Rndrng_Prvdr_Mdcr_Prtcptg_Ind|Rndrng_Prvdr_Type|Rndrng_Prvdr_Cntry|HCPCS_Cd|HCPCS_Desc|HCPCS_Drug_Ind|Place_Of_Srvc|Tot_Benes|Tot_Srvcs|Tot_Bene_Day_Srvcs|Avg_Sbmtd_Chrg|Avg_Mdcr_Alowd_Amt|Avg_Mdcr_Pymt_Amt|Avg_Mdcr_Stdzd_Amt|\n",
      "+----------+-------------------+-------------------------+-----------------+-----------------+----------------------+-----------------------------+-----------------+------------------+--------+----------+--------------+-------------+---------+---------+------------------+--------------+------------------+-----------------+------------------+\n",
      "|         0|                  0|                        0|                0|             7600|                  7600|                            0|                0|                 0|       0|         0|             0|            0|        0|        0|                 0|             0|                 0|                0|                 0|\n",
      "+----------+-------------------+-------------------------+-----------------+-----------------+----------------------+-----------------------------+-----------------+------------------+--------+----------+--------------+-------------+---------+---------+------------------+--------------+------------------+-----------------+------------------+\n",
      "\n"
     ]
    },
    {
     "name": "stderr",
     "output_type": "stream",
     "text": [
      "                                                                                \r"
     ]
    }
   ],
   "source": [
    "# getting the null counts for each column\n",
    "phys.select(\n",
    "    *[\n",
    "        sum_(col(c).isNull().cast('int')).alias(c) for c in phys.columns\n",
    "    ]\n",
    ").show()"
   ]
  },
  {
   "cell_type": "code",
   "execution_count": 29,
   "id": "6050b036",
   "metadata": {},
   "outputs": [],
   "source": [
    "# comoputing normalized names and checking for collisions\n",
    "# checking for collisions as I don't want to accidently end up with two originals mapping to the same cleaned name\n",
    "\n",
    "# applying the normalized names to every column I plan to keep\n",
    "puf_names = [normalize_col(c) for c in keep_cols_puf]\n",
    "if len(puf_names) != len(set(puf_names)):\n",
    "    raise RuntimeError(\"Column name conflict after normalization in PUF.\")"
   ]
  },
  {
   "cell_type": "code",
   "execution_count": 30,
   "id": "c91e1850",
   "metadata": {},
   "outputs": [
    {
     "name": "stdout",
     "output_type": "stream",
     "text": [
      "root\n",
      " |-- rndrng_npi: string (nullable = true)\n",
      " |-- rndrng_prvdr_ent_cd: string (nullable = true)\n",
      " |-- rndrng_prvdr_state_abrvtn: string (nullable = true)\n",
      " |-- rndrng_prvdr_zip5: string (nullable = true)\n",
      " |-- rndrng_prvdr_ruca: string (nullable = true)\n",
      " |-- rndrng_prvdr_ruca_desc: string (nullable = true)\n",
      " |-- rndrng_prvdr_mdcr_prtcptg_ind: string (nullable = true)\n",
      " |-- rndrng_prvdr_type: string (nullable = true)\n",
      " |-- rndrng_prvdr_cntry: string (nullable = true)\n",
      " |-- hcpcs_cd: string (nullable = true)\n",
      " |-- hcpcs_desc: string (nullable = true)\n",
      " |-- hcpcs_drug_ind: string (nullable = true)\n",
      " |-- place_of_srvc: string (nullable = true)\n",
      " |-- tot_benes: string (nullable = true)\n",
      " |-- tot_srvcs: string (nullable = true)\n",
      " |-- tot_bene_day_srvcs: string (nullable = true)\n",
      " |-- avg_sbmtd_chrg: string (nullable = true)\n",
      " |-- avg_mdcr_alowd_amt: string (nullable = true)\n",
      " |-- avg_mdcr_pymt_amt: string (nullable = true)\n",
      " |-- avg_mdcr_stdzd_amt: string (nullable = true)\n",
      "\n",
      "+----------+-------------------+-------------------------+-----------------+-----------------+-----------------------------------------------------------------------------------+-----------------------------+-----------------+------------------+--------+----------------------------------------------------------------------------------------------------------------------------------+--------------+-------------+---------+---------+------------------+--------------+------------------+-----------------+------------------+\n",
      "|rndrng_npi|rndrng_prvdr_ent_cd|rndrng_prvdr_state_abrvtn|rndrng_prvdr_zip5|rndrng_prvdr_ruca|rndrng_prvdr_ruca_desc                                                             |rndrng_prvdr_mdcr_prtcptg_ind|rndrng_prvdr_type|rndrng_prvdr_cntry|hcpcs_cd|hcpcs_desc                                                                                                                        |hcpcs_drug_ind|place_of_srvc|tot_benes|tot_srvcs|tot_bene_day_srvcs|avg_sbmtd_chrg|avg_mdcr_alowd_amt|avg_mdcr_pymt_amt|avg_mdcr_stdzd_amt|\n",
      "+----------+-------------------+-------------------------+-----------------+-----------------+-----------------------------------------------------------------------------------+-----------------------------+-----------------+------------------+--------+----------------------------------------------------------------------------------------------------------------------------------+--------------+-------------+---------+---------+------------------+--------------+------------------+-----------------+------------------+\n",
      "|1003000126|I                  |MD                       |20817            |1                |Metropolitan area core: primary flow within an urbanized area of 50,000 and greater|Y                            |Hospitalist      |US                |99221   |Initial hospital care with straightforward or low level of medical decision making, per day, if using time, at least 40 minutes   |N             |F            |12       |12       |12                |250.22666667  |89.0625           |60.3125          |54.669166667      |\n",
      "|1003000126|I                  |MD                       |20817            |1                |Metropolitan area core: primary flow within an urbanized area of 50,000 and greater|Y                            |Hospitalist      |US                |99222   |Initial hospital care with straightforward or low-level medical decision making, if using time, at least 55 minutes               |N             |F            |22       |22       |22                |318.58181818  |130.31272727      |99.38            |98.429545455      |\n",
      "|1003000126|I                  |MD                       |20817            |1                |Metropolitan area core: primary flow within an urbanized area of 50,000 and greater|Y                            |Hospitalist      |US                |99231   |Subsequent hospital care with straightforward or low level of medical decision making, per day, if using time, at least 25 minutes|N             |F            |76       |127      |127               |95.732283465  |54.82015748       |43.557322835     |38.748661417      |\n",
      "|1003000126|I                  |MD                       |20817            |1                |Metropolitan area core: primary flow within an urbanized area of 50,000 and greater|Y                            |Hospitalist      |US                |99232   |Subsequent hospital care with moderate levelof medical decision making, if using time, at least 35 minutes                        |N             |F            |180      |341      |341               |194.44152493  |86.840762463      |69.086422287     |61.812258065      |\n",
      "|1003000126|I                  |MD                       |20817            |1                |Metropolitan area core: primary flow within an urbanized area of 50,000 and greater|Y                            |Hospitalist      |US                |99233   |Subsequent hospital care with moderate levelof medical decision making, if using time, at least 50 minutes                        |N             |F            |53       |79       |79                |251.45405063  |127.91518987      |100.94316456     |92.409113924      |\n",
      "+----------+-------------------+-------------------------+-----------------+-----------------+-----------------------------------------------------------------------------------+-----------------------------+-----------------+------------------+--------+----------------------------------------------------------------------------------------------------------------------------------+--------------+-------------+---------+---------+------------------+--------------+------------------+-----------------+------------------+\n",
      "only showing top 5 rows\n"
     ]
    }
   ],
   "source": [
    "# doing a quick sanity check to ensure the new DataFrame has the correct columns\n",
    "p = phys.select(*[col(o).alias(n) for o,n in zip(keep_cols_puf, puf_names)])\n",
    "p.printSchema()\n",
    "p.show(5, truncate=False)"
   ]
  },
  {
   "cell_type": "code",
   "execution_count": 31,
   "id": "e7b2739d",
   "metadata": {},
   "outputs": [],
   "source": [
    "# cleaning and casting the data types\n",
    "\n",
    "p = (\n",
    "    p\n",
    "    .withColumn(\"rndrng_npi\", trim(col(\"rndrng_npi\")))\n",
    "    .withColumn(\"npi_valid\", when(col(\"rndrng_npi\").rlike(r\"^\\d{10}$\"), 1).otherwise(0))\n",
    "    .withColumn(\"is_individual\", when(col(\"rndrng_prvdr_ent_cd\") == \"I\", 1).otherwise(0))\n",
    "    .withColumn(\"rndrng_prvdr_state_abrvtn\", trim(col(\"rndrng_prvdr_state_abrvtn\")))\n",
    "    .withColumn(\"rndrng_prvdr_zip5\", trim(col(\"rndrng_prvdr_zip5\")))\n",
    "    .withColumn(\"missing_state\", when(col(\"rndrng_prvdr_state_abrvtn\").isNull(), 1).otherwise(0))\n",
    "    .withColumn(\"missing_zip\", when(col(\"rndrng_prvdr_zip5\").isNull(), 1).otherwise(0))\n",
    "    .withColumn(\"rndrng_prvdr_ruca\", col(\"rndrng_prvdr_ruca\").cast(DoubleType()))\n",
    "    .withColumn(\"medicare_participation\", when(col(\"rndrng_prvdr_mdcr_prtcptg_ind\") == \"Y\", 1).otherwise(0))\n",
    "    .withColumn(\"hcpcs_cd\", trim(col(\"hcpcs_cd\")))\n",
    "    .withColumn(\"place_of_srvc\", trim(col(\"place_of_srvc\")))\n",
    "    .withColumn(\"avg_sbmtd_chrg\", col(\"avg_sbmtd_chrg\").cast(DoubleType()))\n",
    "    .withColumn(\"avg_mdcr_alowd_amt\", col(\"avg_mdcr_alowd_amt\").cast(DoubleType()))\n",
    "    .withColumn(\"avg_mdcr_pymt_amt\", col(\"avg_mdcr_pymt_amt\").cast(DoubleType()))\n",
    "    .withColumn(\"avg_mdcr_stdzd_amt\", col(\"avg_mdcr_stdzd_amt\").cast(DoubleType()))\n",
    "    .withColumn(\"is_drug\", when(col(\"hcpcs_drug_ind\") == \"Y\", 1).otherwise(0))\n",
    "    .withColumn(\"rndrng_prvdr_cntry\", upper(trim(col(\"rndrng_prvdr_cntry\"))))\n",
    "    .filter(col(\"rndrng_prvdr_cntry\").isNull() | col(\"rndrng_prvdr_cntry\").isin(\"US\",\"USA\"))\n",
    ")\n"
   ]
  },
  {
   "cell_type": "code",
   "execution_count": 32,
   "id": "9c33bad2",
   "metadata": {},
   "outputs": [
    {
     "name": "stderr",
     "output_type": "stream",
     "text": [
      "[Stage 23:=========================================>              (17 + 6) / 23]\r"
     ]
    },
    {
     "name": "stdout",
     "output_type": "stream",
     "text": [
      "PUF aggregated providers: 1175213\n"
     ]
    },
    {
     "name": "stderr",
     "output_type": "stream",
     "text": [
      "                                                                                \r"
     ]
    }
   ],
   "source": [
    "# aggregating to provider level (weighted avgs + diversity)\n",
    "\n",
    "# keeping clean rows and casting weights\n",
    "# only aggregating valid NPIs\n",
    "p_agg_in = (\n",
    "    p.filter(col(\"npi_valid\") == 1)\n",
    "     .withColumn(\"srvcs_d\", col(\"tot_srvcs\").cast(\"double\"))\n",
    "     .withColumn(\"benes_d\", col(\"tot_benes\").cast(\"double\"))\n",
    "     .withColumn(\"bene_days_d\", col(\"tot_bene_day_srvcs\").cast(\"double\"))\n",
    ")\n",
    "\n",
    "# grouping to provider and building helper sums\n",
    "agg = (\n",
    "    p_agg_in.groupBy(\"rndrng_npi\").agg(\n",
    "        sum_(\"srvcs_d\").alias(\"total_services\"),\n",
    "        sum_(\"benes_d\").alias(\"total_beneficiaries\"),\n",
    "        sum_(\"bene_days_d\").alias(\"total_bene_day_services\"),\n",
    "\n",
    "        # weighted sums for means\n",
    "        sum_(col(\"avg_sbmtd_chrg\") * col(\"srvcs_d\")).alias(\"sum_submitted_w\"),\n",
    "        sum_(col(\"avg_mdcr_alowd_amt\") * col(\"srvcs_d\")).alias(\"sum_allowed_w\"),\n",
    "        sum_(col(\"avg_mdcr_pymt_amt\") * col(\"srvcs_d\")).alias(\"sum_payment_w\"),\n",
    "\n",
    "        # weighted second moment for variance\n",
    "        sum_(pow(col(\"avg_sbmtd_chrg\"), 2) * col(\"srvcs_d\")).alias(\"sum_submitted_sq_w\"),\n",
    "\n",
    "        # service mix/ data quality signals\n",
    "        countDistinct(\"hcpcs_cd\").alias(\"num_unique_procedures\"),\n",
    "        avg(col(\"is_drug\")).alias(\"frac_drug_services\"),\n",
    "        avg(col(\"missing_zip\")).alias(\"frac_missing_zip\")\n",
    "    )\n",
    ")\n",
    "\n",
    "\n",
    "provider_agg = (\n",
    "    agg\n",
    "    # weighted means (per service)\n",
    "    .withColumn(\"w_avg_submitted_charge\",\n",
    "        when(col(\"total_services\") > 0, col(\"sum_submitted_w\") / col(\"total_services\")))\n",
    "    .withColumn(\"w_avg_allowed\",\n",
    "        when(col(\"total_services\") > 0, col(\"sum_allowed_w\") / col(\"total_services\")))\n",
    "    .withColumn(\"w_avg_payment\",\n",
    "        when(col(\"total_services\") > 0, col(\"sum_payment_w\") / col(\"total_services\")))\n",
    "\n",
    "    # weighted variance/stddev of submitted charge\n",
    "    .withColumn(\"w_var_submitted_charge\",\n",
    "        when(col(\"total_services\") > 0,\n",
    "             (col(\"sum_submitted_sq_w\") / col(\"total_services\")) -\n",
    "             pow(col(\"sum_submitted_w\") / col(\"total_services\"), 2)))\n",
    "    .withColumn(\"w_stddev_submitted_charge\",\n",
    "        when(col(\"w_var_submitted_charge\").isNotNull(),\n",
    "             sqrt(greatest(lit(0.0), col(\"w_var_submitted_charge\")))))\n",
    "\n",
    "    # pricing intensity vs. medicare benchmarks\n",
    "    .withColumn(\"charge_allowed_ratio\",\n",
    "        when(col(\"sum_allowed_w\") > 0, col(\"sum_submitted_w\") / col(\"sum_allowed_w\")))\n",
    "    .withColumn(\"payment_allowed_ratio\",\n",
    "        when(col(\"sum_allowed_w\") > 0, col(\"sum_payment_w\") / col(\"sum_allowed_w\")))\n",
    "\n",
    "    # dropping helper sums now that we’ve derived features\n",
    "    .drop(\"sum_submitted_sq_w\", \"sum_submitted_w\", \"sum_allowed_w\", \"sum_payment_w\")\n",
    "\n",
    "    # tidying up + existing derived rates\n",
    "    .withColumnRenamed(\"rndrng_npi\", \"npi\")\n",
    "    .withColumn(\"services_per_bene\",\n",
    "        when(col(\"total_beneficiaries\") > 0, col(\"total_services\") / col(\"total_beneficiaries\")))\n",
    "    .withColumn(\"bene_days_per_bene\",\n",
    "        when(col(\"total_beneficiaries\") > 0, col(\"total_bene_day_services\") / col(\"total_beneficiaries\")))\n",
    ")\n",
    "\n",
    "\n",
    "\n",
    "\n",
    "print(\"PUF aggregated providers:\", provider_agg.count())"
   ]
  },
  {
   "cell_type": "markdown",
   "id": "9afb9cb5",
   "metadata": {},
   "source": [
    "## 'List of Excluded Individuals and Entities' (LEIE) - OIG Dataset"
   ]
  },
  {
   "cell_type": "code",
   "execution_count": 33,
   "id": "2ff0163b",
   "metadata": {},
   "outputs": [],
   "source": [
    "# creating a csv path variable\n",
    "leie_csv_path = \"Office of Inspector General - Excluded Individuals and Entities/20250710 LEIE.csv\""
   ]
  },
  {
   "cell_type": "code",
   "execution_count": 34,
   "id": "85a0ee1d",
   "metadata": {},
   "outputs": [],
   "source": [
    "# reading the CSV file into a DataFrame\n",
    "full_leie_df = (\n",
    "    spark.read\n",
    "    .option(\"header\", \"true\")\n",
    "    .option(\"inferSchema\", \"false\")\n",
    "    .csv(leie_csv_path)\n",
    ")"
   ]
  },
  {
   "cell_type": "code",
   "execution_count": 35,
   "id": "f4b7d7aa",
   "metadata": {},
   "outputs": [
    {
     "name": "stdout",
     "output_type": "stream",
     "text": [
      "Available columns:\n",
      "'LASTNAME'\n",
      "'FIRSTNAME'\n",
      "'MIDNAME'\n",
      "'BUSNAME'\n",
      "'GENERAL'\n",
      "'SPECIALTY'\n",
      "'UPIN'\n",
      "'NPI'\n",
      "'DOB'\n",
      "'ADDRESS'\n",
      "'CITY'\n",
      "'STATE'\n",
      "'ZIP'\n",
      "'EXCLTYPE'\n",
      "'EXCLDATE'\n",
      "'REINDATE'\n",
      "'WAIVERDATE'\n",
      "'WVRSTATE'\n"
     ]
    }
   ],
   "source": [
    "# inspecting the column names\n",
    "print(\"Available columns:\")\n",
    "for c in full_leie_df.columns[:]:\n",
    "    print(repr(c))"
   ]
  },
  {
   "cell_type": "code",
   "execution_count": 36,
   "id": "5a204ad5",
   "metadata": {},
   "outputs": [],
   "source": [
    "# selecting the relevant columns I want to keep\n",
    "keep_cols_leie = [\"NPI\",\"LASTNAME\",\"FIRSTNAME\",\"MIDNAME\",\"BUSNAME\",\"ADDRESS\",\"CITY\",\"STATE\",\n",
    "                  \"ZIP\",\"SPECIALTY\",\"EXCLTYPE\",\"EXCLDATE\",\"REINDATE\",\"DOB\",\"WAIVERDATE\",\"WVRSTATE\",\"UPIN\"]"
   ]
  },
  {
   "cell_type": "code",
   "execution_count": 37,
   "id": "c08c0bbd",
   "metadata": {},
   "outputs": [],
   "source": [
    "# creating a new DataFrame with only the selected columns\n",
    "leie_df = full_leie_df.select(*keep_cols_leie)"
   ]
  },
  {
   "cell_type": "code",
   "execution_count": 38,
   "id": "dd15f8c9",
   "metadata": {},
   "outputs": [
    {
     "name": "stdout",
     "output_type": "stream",
     "text": [
      "Schema:\n",
      "root\n",
      " |-- NPI: string (nullable = true)\n",
      " |-- LASTNAME: string (nullable = true)\n",
      " |-- FIRSTNAME: string (nullable = true)\n",
      " |-- MIDNAME: string (nullable = true)\n",
      " |-- BUSNAME: string (nullable = true)\n",
      " |-- ADDRESS: string (nullable = true)\n",
      " |-- CITY: string (nullable = true)\n",
      " |-- STATE: string (nullable = true)\n",
      " |-- ZIP: string (nullable = true)\n",
      " |-- SPECIALTY: string (nullable = true)\n",
      " |-- EXCLTYPE: string (nullable = true)\n",
      " |-- EXCLDATE: string (nullable = true)\n",
      " |-- REINDATE: string (nullable = true)\n",
      " |-- DOB: string (nullable = true)\n",
      " |-- WAIVERDATE: string (nullable = true)\n",
      " |-- WVRSTATE: string (nullable = true)\n",
      " |-- UPIN: string (nullable = true)\n",
      "\n",
      "Sample:\n",
      "+----------+--------+---------+-------+---------------------------+-----------------------------+----------+-----+-----+------------------+--------+--------+--------+----+----------+--------+----+\n",
      "|NPI       |LASTNAME|FIRSTNAME|MIDNAME|BUSNAME                    |ADDRESS                      |CITY      |STATE|ZIP  |SPECIALTY         |EXCLTYPE|EXCLDATE|REINDATE|DOB |WAIVERDATE|WVRSTATE|UPIN|\n",
      "+----------+--------+---------+-------+---------------------------+-----------------------------+----------+-----+-----+------------------+--------+--------+--------+----+----------+--------+----+\n",
      "|0000000000|NULL    |NULL     |NULL   |#1 MARKETING SERVICE, INC  |239 BRIGHTON BEACH AVENUE    |BROOKLYN  |NY   |11235|SOBER HOME        |1128a1  |20200319|00000000|NULL|00000000  |NULL    |NULL|\n",
      "|0000000000|NULL    |NULL     |NULL   |1 BEST CARE, INC           |2161 UNIVERSITY AVENUE W, STE|SAINT PAUL|MN   |55114|HOME HEALTH AGENCY|1128b5  |20230518|00000000|NULL|00000000  |NULL    |NULL|\n",
      "|1972902351|NULL    |NULL     |NULL   |101 FIRST CARE PHARMACY INC|C/O 609 W 191ST STREET, APT D|NEW YORK  |NY   |10040|PHARMACY          |1128b8  |20220320|00000000|NULL|00000000  |NULL    |NULL|\n",
      "|0000000000|NULL    |NULL     |NULL   |14 LAWRENCE AVE PHARMACY   |14 LAWRENCE AVENUE           |SMITHTOWN |NY   |11787|NULL              |1128a1  |19880830|00000000|NULL|00000000  |NULL    |NULL|\n",
      "|0000000000|NULL    |NULL     |NULL   |143 MEDICAL EQUIPMENT CO   |701 NW 36 AVENUE             |MIAMI     |FL   |33125|DME - OXYGEN      |1128b7  |19970620|00000000|NULL|00000000  |NULL    |NULL|\n",
      "+----------+--------+---------+-------+---------------------------+-----------------------------+----------+-----+-----+------------------+--------+--------+--------+----+----------+--------+----+\n",
      "\n"
     ]
    }
   ],
   "source": [
    "# having a sanity check to ensure I loaded the right columns, the correct types, and the data looks okay\n",
    "print(\"Schema:\")\n",
    "leie_df.printSchema()\n",
    "print(\"Sample:\")\n",
    "leie_df.limit(5).show(truncate=False)"
   ]
  },
  {
   "cell_type": "code",
   "execution_count": 39,
   "id": "9a3479e6",
   "metadata": {},
   "outputs": [
    {
     "name": "stdout",
     "output_type": "stream",
     "text": [
      "Total rows: 81774\n"
     ]
    }
   ],
   "source": [
    "# getting the total number of rows in the DataFrame\n",
    "total_rows_leie = leie_df.count()\n",
    "print(f'Total rows: {total_rows_leie}')"
   ]
  },
  {
   "cell_type": "code",
   "execution_count": 40,
   "id": "cebc099b",
   "metadata": {},
   "outputs": [
    {
     "name": "stdout",
     "output_type": "stream",
     "text": [
      "+---+--------+---------+-------+-------+-------+----+-----+---+---------+--------+--------+--------+----+----------+--------+-----+\n",
      "|NPI|LASTNAME|FIRSTNAME|MIDNAME|BUSNAME|ADDRESS|CITY|STATE|ZIP|SPECIALTY|EXCLTYPE|EXCLDATE|REINDATE| DOB|WAIVERDATE|WVRSTATE| UPIN|\n",
      "+---+--------+---------+-------+-------+-------+----+-----+---+---------+--------+--------+--------+----+----------+--------+-----+\n",
      "|  0|    3358|     3358|  24009|  78416|      4|   0|    0|  0|     4088|       0|       0|       0|4222|         0|   81762|75791|\n",
      "+---+--------+---------+-------+-------+-------+----+-----+---+---------+--------+--------+--------+----+----------+--------+-----+\n",
      "\n"
     ]
    }
   ],
   "source": [
    "# getting the null counts for each column\n",
    "leie_df.select(\n",
    "    *[sum_(col(c).isNull().cast('int')).alias(c) for c in leie_df.columns]\n",
    ").show()"
   ]
  },
  {
   "cell_type": "code",
   "execution_count": 41,
   "id": "5287de3e",
   "metadata": {},
   "outputs": [],
   "source": [
    "# comoputing normalized names and checking for collisions\n",
    "# checking for collisions as I don't want to accidently end up with two originals mapping to the same cleaned name\n",
    "\n",
    "leie_cols = [normalize_col(c) for c in keep_cols_leie]\n",
    "if len(leie_cols) != len(set(leie_cols)):\n",
    "    raise RuntimeError(\"Column name conflict after normalization in LEIE.\")\n",
    "leie = leie_df.select(*[col(o).alias(n) for o,n in zip(keep_cols_leie, leie_cols)])"
   ]
  },
  {
   "cell_type": "code",
   "execution_count": 42,
   "id": "1e0698ba",
   "metadata": {},
   "outputs": [],
   "source": [
    "# cleaning and casting the data types\n",
    "# trimming, normalizing keys, parsing dates (guarded)\n",
    "\n",
    "# stripping whitespace and turning empty strings into nulls\n",
    "for c_, t_ in leie.dtypes:\n",
    "    if t_ == \"string\":\n",
    "        leie = leie.withColumn(c_, when(trim(col(c_)) == \"\", None).otherwise(trim(col(c_))))\n",
    "\n",
    "# normalizing keys and categorical values\n",
    "leie = (\n",
    "    leie\n",
    "    .withColumn(\"npi\", regexp_replace(col(\"npi\"), r\"[^0-9]\", \"\"))\n",
    "    .withColumn(\"npi_valid\", when(col(\"npi\").rlike(r\"^(?!0{10})\\d{10}$\"), 1).otherwise(0).cast(IntegerType()))\n",
    "    .withColumn(\"zip5\", substring(regexp_replace(col(\"zip\"), r\"[^0-9]\", \"\"), 1, 5))\n",
    "    .drop(\"zip\")\n",
    "    .withColumn(\"state\", when(col(\"state\").rlike(r\"^[A-Za-z]{2}$\"), upper(col(\"state\"))))\n",
    "    .withColumnRenamed(\"wvrstate\", \"waiverstate\")\n",
    "    .withColumn(\"waiverstate\", when(col(\"waiverstate\").rlike(r\"^[A-Za-z]{2}$\"), upper(col(\"waiverstate\"))))\n",
    "    .withColumn(\"excltype\", upper(col(\"excltype\")))\n",
    "    .withColumn(\"specialty\", upper(col(\"specialty\")))\n",
    ")\n",
    "\n",
    "\n",
    "def zeroish(colname):\n",
    "    digits = regexp_replace(col(colname), r\"[^0-9]\", \"\")\n",
    "    return when((digits == \"00000000\") | (length(digits) == 0), lit(None)).otherwise(col(colname))\n",
    "\n",
    "\n",
    "def parse_date_guarded(colname: str):\n",
    "    raw = zeroish(colname)\n",
    "    digits = regexp_replace(raw, r\"[^0-9]\", \"\")\n",
    "    ymd8 = when(digits.rlike(r\"^\\d{8}$\"), to_date(digits, \"yyyyMMdd\"))\n",
    "    mdyyyy = when(raw.rlike(r\"^\\d{1,2}/\\d{1,2}/\\d{4}$\"), to_date(raw, \"M/d/yyyy\"))\n",
    "    ymd_dash = when(raw.rlike(r\"^\\d{4}-\\d{2}-\\d{2}$\"), to_date(raw, \"yyyy-MM-dd\"))\n",
    "    return coalesce(ymd8, mdyyyy, ymd_dash)\n",
    "\n",
    "# producing typed date columns and dropping the original string columns\n",
    "leie = (\n",
    "    leie\n",
    "    .withColumn(\"excldate_dt\",   parse_date_guarded(\"excldate\"))\n",
    "    .withColumn(\"reindate_dt\",   parse_date_guarded(\"reindate\"))\n",
    "    .withColumn(\"waiverdate_dt\", parse_date_guarded(\"waiverdate\"))\n",
    "    .withColumn(\"dob_dt\",        parse_date_guarded(\"dob\"))\n",
    "    .drop(\"excldate\",\"reindate\",\"waiverdate\",\"dob\")\n",
    ")"
   ]
  },
  {
   "cell_type": "code",
   "execution_count": 43,
   "id": "9f9b14c4",
   "metadata": {},
   "outputs": [],
   "source": [
    "# putting a time gate on LEIE so my labels reflect only what was knowable on the training cut-off date\n",
    "# this date was picked because my Medicare Physician and Practitioners dataset was frozen at this date\n",
    "\n",
    "AS_OF = to_date(lit(AS_OF_STR))\n",
    "leie = leie.filter(col(\"excldate_dt\").isNull() | (col(\"excldate_dt\") <= AS_OF))"
   ]
  },
  {
   "cell_type": "code",
   "execution_count": 44,
   "id": "3c1a5c66",
   "metadata": {},
   "outputs": [
    {
     "name": "stderr",
     "output_type": "stream",
     "text": [
      "[Stage 37:>                                                         (0 + 4) / 4]\r"
     ]
    },
    {
     "name": "stdout",
     "output_type": "stream",
     "text": [
      "LEIE status NPIs: 6711\n"
     ]
    },
    {
     "name": "stderr",
     "output_type": "stream",
     "text": [
      "                                                                                \r"
     ]
    }
   ],
   "source": [
    "# keeping only valid NPIs\n",
    "leie_with_npi = leie.filter(col(\"npi_valid\") == 1)\n",
    "\n",
    "\n",
    "# collapsing LEIE rows to one row per NPI\n",
    "leie_status = (\n",
    "    leie_with_npi\n",
    "    .groupBy(\"npi\")\n",
    "    .agg(\n",
    "        max(when(col(\"excldate_dt\") <= AS_OF, col(\"excldate_dt\"))).alias(\"last_excl_pre\"),\n",
    "        max(when(col(\"reindate_dt\") <= AS_OF, col(\"reindate_dt\"))).alias(\"last_rein_pre\"),\n",
    "        sum_(when(col(\"excldate_dt\") <= AS_OF, lit(1)).otherwise(lit(0))).cast(\"int\").alias(\"excl_events_pre\")\n",
    "    )\n",
    "\n",
    "\n",
    "    # buidling two labels\n",
    "    .withColumn(\"ever_excluded_asof\", when(col(\"excl_events_pre\") > 0, lit(1)).otherwise(lit(0)))\n",
    "    .withColumn(\n",
    "        \"excluded_asof\",\n",
    "        when(\n",
    "            col(\"last_excl_pre\").isNotNull() &\n",
    "            (col(\"last_rein_pre\").isNull() | (col(\"last_rein_pre\") < col(\"last_excl_pre\"))),\n",
    "            lit(1)\n",
    "        ).otherwise(lit(0))\n",
    "    )\n",
    "\n",
    "    # keeping only the fields I need for the final join\n",
    "    .select(\"npi\",\"ever_excluded_asof\",\"excluded_asof\")\n",
    ")\n",
    "\n",
    "\n",
    "print(\"LEIE status NPIs:\", leie_status.count())\n"
   ]
  },
  {
   "cell_type": "markdown",
   "id": "5258a6cc",
   "metadata": {},
   "source": [
    "## Joining the datasets together for one consolidated dataset\n",
    "## I will also be downsampling in the code below so that my 'Fraud' consists of around 2-5% of the total data"
   ]
  },
  {
   "cell_type": "code",
   "execution_count": 46,
   "id": "4f8b68d0",
   "metadata": {},
   "outputs": [
    {
     "name": "stdout",
     "output_type": "stream",
     "text": [
      "Merged row sample (NPPES base):\n"
     ]
    },
    {
     "name": "stderr",
     "output_type": "stream",
     "text": [
      "                                                                                \r"
     ]
    },
    {
     "name": "stdout",
     "output_type": "stream",
     "text": [
      "+----------+-------+--------+\n",
      "|npi       |has_puf|is_fraud|\n",
      "+----------+-------+--------+\n",
      "|1003000134|1      |0       |\n",
      "|1003000183|0      |0       |\n",
      "|1003000191|0      |0       |\n",
      "|1003000233|0      |0       |\n",
      "|1003000274|0      |0       |\n",
      "|1003000308|0      |0       |\n",
      "|1003000431|0      |0       |\n",
      "|1003000548|0      |0       |\n",
      "|1003000662|0      |0       |\n",
      "|1003000670|0      |0       |\n",
      "+----------+-------+--------+\n",
      "\n",
      "Class counts BEFORE sampling:\n"
     ]
    },
    {
     "name": "stderr",
     "output_type": "stream",
     "text": [
      "                                                                                \r"
     ]
    },
    {
     "name": "stdout",
     "output_type": "stream",
     "text": [
      "+--------+-------+\n",
      "|is_fraud|  count|\n",
      "+--------+-------+\n",
      "|       1|   6711|\n",
      "|       0|8119224|\n",
      "+--------+-------+\n",
      "\n"
     ]
    },
    {
     "name": "stderr",
     "output_type": "stream",
     "text": [
      "                                                                                \r"
     ]
    },
    {
     "name": "stdout",
     "output_type": "stream",
     "text": [
      "Before sampling — positives: 6,711  negatives: 8,119,224\n",
      "Class counts AFTER sampling:\n"
     ]
    },
    {
     "name": "stderr",
     "output_type": "stream",
     "text": [
      "                                                                                \r"
     ]
    },
    {
     "name": "stdout",
     "output_type": "stream",
     "text": [
      "+--------+------+\n",
      "|is_fraud| count|\n",
      "+--------+------+\n",
      "|       1|  6711|\n",
      "|       0|185442|\n",
      "+--------+------+\n",
      "\n"
     ]
    },
    {
     "name": "stderr",
     "output_type": "stream",
     "text": [
      "[Stage 136:==========================================>             (9 + 3) / 12]\r"
     ]
    },
    {
     "name": "stdout",
     "output_type": "stream",
     "text": [
      "Post-sample prevalence ≈ 3.49%  (6,711/192,153)\n"
     ]
    },
    {
     "name": "stderr",
     "output_type": "stream",
     "text": [
      "                                                                                \r"
     ]
    }
   ],
   "source": [
    "# joining the datasets and using NPPES as the base\n",
    "\n",
    "\n",
    "# time-safe NPPES features (no leakage past AS_OF)\n",
    "AS_OF = to_date(lit(AS_OF_STR))\n",
    "npi_feat = (\n",
    "    wrangled_npi_df\n",
    "    .filter( (col(\"provider_enumeration_date\").isNull()) | (col(\"provider_enumeration_date\") <= AS_OF) )\n",
    "    .select(\n",
    "        \"npi\",\"state_abbr\",\"zip5\",\"entity_type_code\",\"primary_taxonomy\",\n",
    "        \"npi_age_days\",\"is_active\",\"is_organization_subpart\",\"is_sole_proprietor\"\n",
    "    )\n",
    "    .distinct()\n",
    ")\n",
    "\n",
    "\n",
    "\n",
    "\n",
    "\n",
    "\n",
    "\n",
    "# building base row per NPI (NPPES base, optional PUF features)\n",
    "base = (\n",
    "    npi_feat.alias(\"n\")\n",
    "    .join(provider_agg.alias(\"p\"), on=\"npi\", how=\"left\")\n",
    "    .withColumn(\"has_puf\", when(col(\"total_services\").isNotNull(), lit(1)).otherwise(lit(0)))\n",
    ")\n",
    "\n",
    "\n",
    "\n",
    "\n",
    "\n",
    "\n",
    "# joining LEIE status (as-of labels)\n",
    "merged = (\n",
    "    base.join(broadcast(leie_status.alias(\"l\")), on=\"npi\", how=\"left\")\n",
    "        .withColumn(\"is_fraud\",         coalesce(col(\"ever_excluded_asof\"), lit(0)).cast(\"int\"))  # training target\n",
    "        .withColumn(\"is_excluded_asof\", coalesce(col(\"excluded_asof\"),     lit(0)).cast(\"int\"))  # for reporting/slices\n",
    ")\n",
    "\n",
    "\n",
    "\n",
    "\n",
    "\n",
    "\n",
    "# filling numeric PUF (medicare physicians and practitioners data) columns to avoid nulls in the NN\n",
    "num_cols = [\n",
    "    \"total_services\",\"total_beneficiaries\",\"total_bene_day_services\",\n",
    "    \"w_avg_submitted_charge\",\"w_avg_allowed\",\"w_avg_payment\",\n",
    "    \"charge_allowed_ratio\",\"payment_allowed_ratio\",\n",
    "    \"num_unique_procedures\",\"w_stddev_submitted_charge\",\n",
    "    \"frac_drug_services\",\"frac_missing_zip\",\n",
    "    \"services_per_bene\",\"bene_days_per_bene\"\n",
    "]\n",
    "for c in [c for c in num_cols if c in merged.columns]:\n",
    "    merged = merged.withColumn(c, coalesce(col(c), lit(0.0)))\n",
    "\n",
    "\n",
    "print(\"Merged row sample (NPPES base):\")\n",
    "merged.select(\"npi\",\"has_puf\",\"is_fraud\").limit(10).show(truncate=False)\n",
    "print(\"Class counts BEFORE sampling:\")\n",
    "merged.groupBy(\"is_fraud\").count().show()\n",
    "\n",
    "\n",
    "\n",
    "\n",
    "\n",
    "# downsampling negatives to target ~3–4% positives\n",
    "TARGET_POS_RATE = 0.035   \n",
    "SEED = 42\n",
    "\n",
    "pos_ct = merged.filter(col(\"is_fraud\") == 1).count()\n",
    "neg_ct = merged.filter(col(\"is_fraud\") == 0).count()\n",
    "print(f\"Before sampling — positives: {pos_ct:,}  negatives: {neg_ct:,}\")\n",
    "\n",
    "if pos_ct == 0:\n",
    "    # no positives — keeping a modest slice just to avoid huge data (or skip sampling entirely)\n",
    "    final_df = merged.sample(False, 0.1, seed=SEED)\n",
    "else:\n",
    "    # solving for how many negatives to keep so: pos / (pos + neg_kept) = TARGET_POS_RATE\n",
    "    # => neg_kept = pos * (1 - r) / r\n",
    "    neg_keep = int(pos_ct * (1.0 - TARGET_POS_RATE) / TARGET_POS_RATE)\n",
    "    # converting to a sampling fraction over available negatives\n",
    "    neg_frac = py.min(1.0, neg_keep / float(py.max(neg_ct, 1)))\n",
    "    # keeping ALL positives; sample negatives to the fraction\n",
    "    final_df = merged.sampleBy(\"is_fraud\", fractions={1: 1.0, 0: neg_frac}, seed=SEED)\n",
    "\n",
    "print(\"Class counts AFTER sampling:\")\n",
    "final_df.groupBy(\"is_fraud\").count().show()\n",
    "\n",
    "\n",
    "\n",
    "\n",
    "\n",
    "\n",
    "\n",
    "# quick prevalence check\n",
    "total_after = final_df.count()\n",
    "pos_after = final_df.filter(col(\"is_fraud\") == 1).count()\n",
    "if total_after > 0:\n",
    "    print(f\"Post-sample prevalence ≈ {100.0 * pos_after/total_after:.2f}%  \"\n",
    "          f\"({pos_after:,}/{total_after:,})\")\n"
   ]
  },
  {
   "cell_type": "code",
   "execution_count": 47,
   "id": "13229273",
   "metadata": {},
   "outputs": [
    {
     "name": "stderr",
     "output_type": "stream",
     "text": [
      "                                                                                \r"
     ]
    },
    {
     "name": "stdout",
     "output_type": "stream",
     "text": [
      "+-------+-------+\n",
      "|has_puf|  count|\n",
      "+-------+-------+\n",
      "|      1|1175210|\n",
      "|      0|6950725|\n",
      "+-------+-------+\n",
      "\n"
     ]
    },
    {
     "name": "stderr",
     "output_type": "stream",
     "text": [
      "                                                                                \r"
     ]
    },
    {
     "name": "stdout",
     "output_type": "stream",
     "text": [
      "+-------+------+\n",
      "|has_puf| count|\n",
      "+-------+------+\n",
      "|      1| 26944|\n",
      "|      0|165209|\n",
      "+-------+------+\n",
      "\n"
     ]
    },
    {
     "name": "stderr",
     "output_type": "stream",
     "text": [
      "[Stage 166:=====================================>                  (8 + 4) / 12]\r"
     ]
    },
    {
     "name": "stdout",
     "output_type": "stream",
     "text": [
      "+--------+----------------+------+\n",
      "|is_fraud|entity_type_code| count|\n",
      "+--------+----------------+------+\n",
      "|       0|               1|140027|\n",
      "|       1|            NULL|   772|\n",
      "|       1|               2|   443|\n",
      "|       1|               1|  5496|\n",
      "|       0|               2| 38359|\n",
      "|       0|            NULL|  7056|\n",
      "+--------+----------------+------+\n",
      "\n"
     ]
    },
    {
     "name": "stderr",
     "output_type": "stream",
     "text": [
      "                                                                                \r"
     ]
    }
   ],
   "source": [
    "# checking that 'has_puf' distribution isn't wildly different post-sample\n",
    "merged.groupBy(\"has_puf\").count().show()\n",
    "final_df.groupBy(\"has_puf\").count().show()\n",
    "\n",
    "# checking prevalence by entity type didn't skew\n",
    "final_df.groupBy(\"is_fraud\", \"entity_type_code\").count().show()\n"
   ]
  },
  {
   "cell_type": "code",
   "execution_count": 48,
   "id": "c36ce7de",
   "metadata": {},
   "outputs": [
    {
     "name": "stderr",
     "output_type": "stream",
     "text": [
      "                                                                                \r"
     ]
    },
    {
     "name": "stdout",
     "output_type": "stream",
     "text": [
      "+--------+------+\n",
      "|is_fraud| count|\n",
      "+--------+------+\n",
      "|       1|  6711|\n",
      "|       0|185442|\n",
      "+--------+------+\n",
      "\n"
     ]
    },
    {
     "name": "stderr",
     "output_type": "stream",
     "text": [
      "[Stage 189:>                                                        (0 + 4) / 4]\r"
     ]
    },
    {
     "name": "stdout",
     "output_type": "stream",
     "text": [
      "Saved training table to: curated/training/providers_nn_asof_2023-12-31.parquet\n"
     ]
    },
    {
     "name": "stderr",
     "output_type": "stream",
     "text": [
      "                                                                                \r"
     ]
    }
   ],
   "source": [
    "# quick sanity check (no need to persist/repartition at this size)\n",
    "final_df.groupBy(\"is_fraud\").count().show()\n",
    "\n",
    "# writing a small number of Parquet files (snappy is default-friendly)\n",
    "outpath = f\"curated/training/providers_nn_asof_{AS_OF_STR}.parquet\"\n",
    "(final_df.coalesce(4)              # 1–4 files is fine\n",
    "         .write\n",
    "         .mode(\"overwrite\")\n",
    "         .option(\"compression\", \"snappy\")\n",
    "         .parquet(outpath))\n",
    "\n",
    "print(\"Saved training table to:\", outpath)\n"
   ]
  },
  {
   "cell_type": "code",
   "execution_count": 49,
   "id": "2587de6c",
   "metadata": {},
   "outputs": [
    {
     "name": "stdout",
     "output_type": "stream",
     "text": [
      "Spark session stopped.\n"
     ]
    }
   ],
   "source": [
    "# stopping the Spark session\n",
    "spark.stop()\n",
    "print(\"Spark session stopped.\")"
   ]
  },
  {
   "cell_type": "code",
   "execution_count": null,
   "id": "e4d23936",
   "metadata": {},
   "outputs": [],
   "source": []
  }
 ],
 "metadata": {
  "kernelspec": {
   "display_name": "ds-env",
   "language": "python",
   "name": "python3"
  },
  "language_info": {
   "codemirror_mode": {
    "name": "ipython",
    "version": 3
   },
   "file_extension": ".py",
   "mimetype": "text/x-python",
   "name": "python",
   "nbconvert_exporter": "python",
   "pygments_lexer": "ipython3",
   "version": "3.11.13"
  }
 },
 "nbformat": 4,
 "nbformat_minor": 5
}
