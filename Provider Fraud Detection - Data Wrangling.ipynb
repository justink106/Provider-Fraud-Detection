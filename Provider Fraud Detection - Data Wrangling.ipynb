{
 "cells": [
  {
   "cell_type": "markdown",
   "id": "7f50821c",
   "metadata": {},
   "source": [
    "# Provider Fraud Detection - Data Wrangling\n",
    "\n",
    "### In this notebook we will focus on collecting, organizing, defining, and cleaning the relevant datasets for the Provider Fraud Detection model"
   ]
  },
  {
   "cell_type": "markdown",
   "id": "a04193c5",
   "metadata": {},
   "source": [
    "#### 1.) Ingest & Inspect Raw Files\n",
    "#### 2.) Standardize Column Names & Types\n",
    "#### 3.) Clean and Dedupe (remove duplications)\n",
    "#### 4.) Normalize & Enrich\n",
    "#### 5.) Merge/Join Tables\n",
    "#### 6.) Aggregate & Snapshot"
   ]
  },
  {
   "cell_type": "code",
   "execution_count": null,
   "id": "c85cff4f",
   "metadata": {},
   "outputs": [],
   "source": []
  }
 ],
 "metadata": {
  "language_info": {
   "name": "python"
  }
 },
 "nbformat": 4,
 "nbformat_minor": 5
}
